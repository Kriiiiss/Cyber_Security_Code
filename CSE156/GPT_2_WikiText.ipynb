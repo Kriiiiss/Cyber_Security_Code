{
 "cells": [
  {
   "cell_type": "code",
   "execution_count": 10,
   "id": "ae660c84-171a-4633-b8eb-5d9593f4a675",
   "metadata": {},
   "outputs": [
    {
     "ename": "SyntaxError",
     "evalue": "invalid syntax (4129978369.py, line 6)",
     "output_type": "error",
     "traceback": [
      "\u001b[0;36m  Cell \u001b[0;32mIn[10], line 6\u001b[0;36m\u001b[0m\n\u001b[0;31m    python3 -m !pip install ${download_url}/AimetCommon-${AIMET_VARIANT}_${release_tag}-${wheel_file_suffix}\u001b[0m\n\u001b[0m               ^\u001b[0m\n\u001b[0;31mSyntaxError\u001b[0m\u001b[0;31m:\u001b[0m invalid syntax\n"
     ]
    }
   ],
   "source": [
    "!export AIMET_VARIANT=\"torch_gpu\"\n",
    "!export release_tag=\"1.24.0\"\n",
    "!export download_url=\"https://github.com/quic/aimet/releases/download/${release_tag}\"\n",
    "!export wheel_file_suffix=\"cp38-cp38-linux_x86_64.whl\"\n",
    "\n",
    "python3 -m !pip install ${download_url}/AimetCommon-${AIMET_VARIANT}_${release_tag}-${wheel_file_suffix}\n",
    "\n",
    "# Install ONE of the following depending on the variant\n",
    "python3 -m pip install ${download_url}/AimetTorch-${AIMET_VARIANT}_${release_tag}-${wheel_file_suffix} -f https://download.pytorch.org/whl/torch_stable.html\n",
    "# OR\n",
    "python3 -m pip install ${download_url}/AimetTensorflow-${AIMET_VARIANT}_${release_tag}-${wheel_file_suffix}\n",
    "\n",
    "python3 -m pip install ${download_url}/Aimet-${AIMET_VARIANT}_${release_tag}-${wheel_file_suffix}"
   ]
  },
  {
   "cell_type": "code",
   "execution_count": 13,
   "id": "75557f18-4e0f-4dc8-9a3c-da7622f618bc",
   "metadata": {},
   "outputs": [
    {
     "name": "stdout",
     "output_type": "stream",
     "text": [
      "torch_gpu\n",
      "1.24.0\n",
      "https://github.com/quic/aimet/releases/download/1.24.0\n",
      "cp38-cp38-linux_x86_64.whl\n",
      "\u001b[31mERROR: AimetCommon-torch_gpu_1.24.0-cp38-cp38-linux_x86_64.whl is not a supported wheel on this platform.\u001b[0m\u001b[31m\n",
      "\u001b[0mLooking in links: https://download.pytorch.org/whl/torch_stable.html\n",
      "\u001b[31mERROR: AimetTorch-torch_gpu_1.24.0-cp38-cp38-linux_x86_64.whl is not a supported wheel on this platform.\u001b[0m\u001b[31m\n",
      "\u001b[0m\u001b[31mERROR: Aimet-torch_gpu_1.24.0-cp38-cp38-linux_x86_64.whl is not a supported wheel on this platform.\u001b[0m\u001b[31m\n",
      "\u001b[0m"
     ]
    }
   ],
   "source": [
    "# 设置环境变量\n",
    "import os\n",
    "\n",
    "os.environ[\"AIMET_VARIANT\"] = \"torch_gpu\"\n",
    "os.environ[\"release_tag\"] = \"1.24.0\"\n",
    "os.environ[\"download_url\"] = f\"https://github.com/quic/aimet/releases/download/{os.environ['release_tag']}\"\n",
    "os.environ[\"wheel_file_suffix\"] = \"cp38-cp38-linux_x86_64.whl\"\n",
    "\n",
    "# 打印以确保变量设置正确\n",
    "print(os.environ[\"AIMET_VARIANT\"])\n",
    "print(os.environ[\"release_tag\"])\n",
    "print(os.environ[\"download_url\"])\n",
    "print(os.environ[\"wheel_file_suffix\"])\n",
    "\n",
    "# 安装包\n",
    "!pip install {os.environ['download_url']}/AimetCommon-{os.environ['AIMET_VARIANT']}_{os.environ['release_tag']}-{os.environ['wheel_file_suffix']}\n",
    "\n",
    "# 选择一种安装，取决于变体\n",
    "!pip install {os.environ['download_url']}/AimetTorch-{os.environ['AIMET_VARIANT']}_{os.environ['release_tag']}-{os.environ['wheel_file_suffix']} -f https://download.pytorch.org/whl/torch_stable.html\n",
    "# 或者\n",
    "# !pip install {os.environ['download_url']}/AimetTensorflow-{os.environ['AIMET_VARIANT']}_{os.environ['release_tag']}-{os.environ['wheel_file_suffix']}\n",
    "\n",
    "!pip install {os.environ['download_url']}/Aimet-{os.environ['AIMET_VARIANT']}_{os.environ['release_tag']}-{os.environ['wheel_file_suffix']}\n"
   ]
  },
  {
   "cell_type": "code",
   "execution_count": 2,
   "id": "6cdc383c-7cf8-4a2b-bbea-cd50df915bd6",
   "metadata": {},
   "outputs": [
    {
     "name": "stdout",
     "output_type": "stream",
     "text": [
      "  % Total    % Received % Xferd  Average Speed   Time    Time     Time  Current\n",
      "                                 Dload  Upload   Total   Spent    Left  Speed\n",
      "100    14  100    14    0     0     36      0 --:--:-- --:--:-- --:--:--    36\n",
      "E: Could not open lock file /var/lib/dpkg/lock-frontend - open (13: Permission denied)\n",
      "E: Unable to acquire the dpkg frontend lock (/var/lib/dpkg/lock-frontend), are you root?\n",
      "  % Total    % Received % Xferd  Average Speed   Time    Time     Time  Current\n",
      "                                 Dload  Upload   Total   Spent    Left  Speed\n",
      "100    14  100    14    0     0     59      0 --:--:-- --:--:-- --:--:--    59\n",
      "E: Could not open lock file /var/lib/dpkg/lock-frontend - open (13: Permission denied)\n",
      "E: Unable to acquire the dpkg frontend lock (/var/lib/dpkg/lock-frontend), are you root?\n",
      "--2024-06-02 08:08:58--  https://raw.githubusercontent.com/quic/aimet/develop/packaging/requirements.txt\n",
      "Resolving raw.githubusercontent.com (raw.githubusercontent.com)... 185.199.110.133, 185.199.109.133, 185.199.108.133, ...\n",
      "Connecting to raw.githubusercontent.com (raw.githubusercontent.com)|185.199.110.133|:443... connected.\n",
      "HTTP request sent, awaiting response... 404 Not Found\n",
      "2024-06-02 08:08:58 ERROR 404: Not Found.\n",
      "\n",
      "\u001b[31mERROR: Could not open requirements file: [Errno 2] No such file or directory: 'requirements.txt'\u001b[0m\u001b[31m\n",
      "\u001b[0m"
     ]
    }
   ],
   "source": [
    "import os\n",
    "os.environ['SRC_URL'] = 'https://raw.githubusercontent.com/quic/aimet/develop/packaging/'\n",
    "!curl ${SRC_URL}packages_common.txt | xargs apt-get --assume-yes install\n",
    "!curl ${SRC_URL}packages_gpu.txt | xargs apt-get --assume-yes --allow-change-held-packages install \n",
    "!wget ${SRC_URL}requirements.txt\n",
    "!pip3 install -r requirements.txt -f https://download.pytorch.org/whl/torch_stable.html"
   ]
  },
  {
   "cell_type": "code",
   "execution_count": 1,
   "id": "5d7f1666-132d-46f5-ac88-332542ccd603",
   "metadata": {},
   "outputs": [
    {
     "name": "stdout",
     "output_type": "stream",
     "text": [
      "Collecting AimetCommon==1.24.0\n",
      "\u001b[31m  ERROR: HTTP error 404 while getting https://github.com/quic/aimet/releases/download/1.24.0/AimetCommon-1.24.0-py3-none-any.whl\u001b[0m\u001b[31m\n",
      "\u001b[0m\u001b[31mERROR: Could not install requirement AimetCommon==1.24.0 from https://github.com/quic/aimet/releases/download/1.24.0/AimetCommon-1.24.0-py3-none-any.whl because of HTTP error 404 Client Error: Not Found for url: https://github.com/quic/aimet/releases/download/1.24.0/AimetCommon-1.24.0-py3-none-any.whl for URL https://github.com/quic/aimet/releases/download/1.24.0/AimetCommon-1.24.0-py3-none-any.whl\u001b[0m\u001b[31m\n",
      "\u001b[0mCollecting AimetTorch==1.24.0\n",
      "\u001b[31m  ERROR: HTTP error 404 while getting https://github.com/quic/aimet/releases/download/1.24.0/AimetTorch-1.24.0-py3-none-any.whl\u001b[0m\u001b[31m\n",
      "\u001b[0m\u001b[31mERROR: Could not install requirement AimetTorch==1.24.0 from https://github.com/quic/aimet/releases/download/1.24.0/AimetTorch-1.24.0-py3-none-any.whl because of HTTP error 404 Client Error: Not Found for url: https://github.com/quic/aimet/releases/download/1.24.0/AimetTorch-1.24.0-py3-none-any.whl for URL https://github.com/quic/aimet/releases/download/1.24.0/AimetTorch-1.24.0-py3-none-any.whl\u001b[0m\u001b[31m\n",
      "\u001b[0mCollecting AimetTensorflow==1.24.0\n",
      "\u001b[31m  ERROR: HTTP error 404 while getting https://github.com/quic/aimet/releases/download/1.24.0/AimetTensorflow-1.24.0-py3-none-any.whl\u001b[0m\u001b[31m\n",
      "\u001b[0m\u001b[31mERROR: Could not install requirement AimetTensorflow==1.24.0 from https://github.com/quic/aimet/releases/download/1.24.0/AimetTensorflow-1.24.0-py3-none-any.whl because of HTTP error 404 Client Error: Not Found for url: https://github.com/quic/aimet/releases/download/1.24.0/AimetTensorflow-1.24.0-py3-none-any.whl for URL https://github.com/quic/aimet/releases/download/1.24.0/AimetTensorflow-1.24.0-py3-none-any.whl\u001b[0m\u001b[31m\n",
      "\u001b[0m"
     ]
    }
   ],
   "source": [
    "import os\n",
    "os.environ['release_tag']=\"1.24.0\"\n",
    "!pip3 install https://github.com/quic/aimet/releases/download/${release_tag}/AimetCommon-${release_tag}-py3-none-any.whl \n",
    "!pip3 install https://github.com/quic/aimet/releases/download/${release_tag}/AimetTorch-${release_tag}-py3-none-any.whl\n",
    "!pip3 install https://github.com/quic/aimet/releases/download/${release_tag}/AimetTensorflow-${release_tag}-py3-none-any.whl"
   ]
  },
  {
   "cell_type": "code",
   "execution_count": null,
   "id": "ca64612c-61f0-4eff-b8a3-996086b29f7d",
   "metadata": {},
   "outputs": [],
   "source": []
  }
 ],
 "metadata": {
  "kernelspec": {
   "display_name": "Python 3 (ipykernel)",
   "language": "python",
   "name": "python3"
  },
  "language_info": {
   "codemirror_mode": {
    "name": "ipython",
    "version": 3
   },
   "file_extension": ".py",
   "mimetype": "text/x-python",
   "name": "python",
   "nbconvert_exporter": "python",
   "pygments_lexer": "ipython3",
   "version": "3.11.5"
  }
 },
 "nbformat": 4,
 "nbformat_minor": 5
}
