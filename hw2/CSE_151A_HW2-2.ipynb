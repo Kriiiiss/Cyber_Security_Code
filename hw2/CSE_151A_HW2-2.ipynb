{
 "cells": [
  {
   "cell_type": "code",
   "execution_count": 1,
   "id": "Bcb3xKhbdvGR",
   "metadata": {
    "colab": {
     "base_uri": "https://localhost:8080/"
    },
    "id": "Bcb3xKhbdvGR",
    "outputId": "434f0138-1981-4eba-daac-ee25ff0cc9dc"
   },
   "outputs": [],
   "source": [
    "# !pip install scikeras"
   ]
  },
  {
   "cell_type": "markdown",
   "id": "0ceeeb46",
   "metadata": {
    "id": "0ceeeb46"
   },
   "source": [
    "# Homework 2\n",
    "\n",
    "For this assignment, you will be developing an artificial neural network to classify data given in the __[Dry Beans Data Set](https://archive.ics.uci.edu/ml/datasets/Dry+Bean+Dataset#)__. This data set was obtained as a part of a research study by Selcuk University, Turkey, in which a computer vision system was developed to distinguish seven different registered varieties of dry beans with similar features. More details on the study can be found in the following __[research paper](https://www.sciencedirect.com/science/article/pii/S0168169919311573)__. <br>\n",
    "### **Make sure to use the lecture notebook on an introduction to keras and cross validation located [here](https://colab.research.google.com/drive/1ksEGL7SJ_wutCIyPYx7Loe5EPdOij6dJ?usp=sharing) and [here](https://colab.research.google.com/drive/1C9Mwf1J2ril1Q4l6n2BjQMb8YaFySG5_?usp=sharing)**.\n",
    "\n",
    "## About the Data Set\n",
    "Seven different types of dry beans were used in a study in Selcuk University, Turkey, taking into account the features such as form, shape, type, and structure by the market situation. A computer vision system was developed to distinguish seven different registered varieties of dry beans with similar features in order to obtain uniform seed classification. For the classification model, images of 13611 grains of 7 different registered dry beans were taken with a high-resolution camera. Bean images obtained by computer vision system were subjected to segmentation and feature extraction stages, and a total of 16 features - 12 dimensions and 4 shape forms - were obtained from the grains.\n",
    "\n",
    "Number of Instances (records in the data set): __13611__\n",
    "\n",
    "Number of Attributes (fields within each record, including the class): __17__\n",
    "\n",
    "### Data Set Attribute Information:\n",
    "\n",
    "1. __Area (A)__ : The area of a bean zone and the number of pixels within its boundaries.\n",
    "2. __Perimeter (P)__ : Bean circumference is defined as the length of its border.\n",
    "3. __Major axis length (L)__ : The distance between the ends of the longest line that can be drawn from a bean.\n",
    "4. __Minor axis length (l)__ : The longest line that can be drawn from the bean while standing perpendicular to the main axis.\n",
    "5. __Aspect ratio (K)__ : Defines the relationship between L and l.\n",
    "6. __Eccentricity (Ec)__ : Eccentricity of the ellipse having the same moments as the region.\n",
    "7. __Convex area (C)__ : Number of pixels in the smallest convex polygon that can contain the area of a bean seed.\n",
    "8. __Equivalent diameter (Ed)__ : The diameter of a circle having the same area as a bean seed area.\n",
    "9. __Extent (Ex)__ : The ratio of the pixels in the bounding box to the bean area.\n",
    "10. __Solidity (S)__ : Also known as convexity. The ratio of the pixels in the convex shell to those found in beans.\n",
    "11. __Roundness (R)__ : Calculated with the following formula: (4piA)/(P^2)\n",
    "12. __Compactness (CO)__ : Measures the roundness of an object: Ed/L\n",
    "13. __ShapeFactor1 (SF1)__\n",
    "14. __ShapeFactor2 (SF2)__\n",
    "15. __ShapeFactor3 (SF3)__\n",
    "16. __ShapeFactor4 (SF4)__\n",
    "\n",
    "17. __Classes : *Seker, Barbunya, Bombay, Cali, Dermosan, Horoz, Sira*__"
   ]
  },
  {
   "cell_type": "markdown",
   "id": "61beac74",
   "metadata": {
    "id": "61beac74"
   },
   "source": [
    "### Libraries that can be used :\n",
    "- NumPy, SciPy, Pandas, Sci-Kit Learn, TensorFlow, Keras\n",
    "- Any other library used during the lectures and discussion sessions.\n",
    "\n",
    "### Other Notes\n",
    "- Don't worry about not being able to achieve high accuracy, it is neither the goal nor the grading standard of this assignment.\n",
    "- Discussion and Lecture materials should be helpful for doing the assignments.\n",
    "- The homework submission should be a .ipynb file.\n"
   ]
  },
  {
   "cell_type": "code",
   "execution_count": 2,
   "id": "Ns2xaHuc07G4",
   "metadata": {
    "colab": {
     "base_uri": "https://localhost:8080/"
    },
    "id": "Ns2xaHuc07G4",
    "outputId": "5eda0666-8695-47c9-983f-bead07f52582"
   },
   "outputs": [
    {
     "name": "stdout",
     "output_type": "stream",
     "text": [
      "fatal: destination path 'hw2' already exists and is not an empty directory.\n"
     ]
    }
   ],
   "source": [
    "!git clone https://github.com/ucsd-cse151a-w24/hw2.git"
   ]
  },
  {
   "cell_type": "code",
   "execution_count": 3,
   "id": "1St-29dI04l3",
   "metadata": {
    "id": "1St-29dI04l3"
   },
   "outputs": [
    {
     "name": "stderr",
     "output_type": "stream",
     "text": [
      "/tmp/ipykernel_674613/88789289.py:1: DeprecationWarning: \n",
      "Pyarrow will become a required dependency of pandas in the next major release of pandas (pandas 3.0),\n",
      "(to allow more performant data types, such as the Arrow string type, and better interoperability with other libraries)\n",
      "but was not found to be installed on your system.\n",
      "If this would cause problems for you,\n",
      "please provide us feedback at https://github.com/pandas-dev/pandas/issues/54466\n",
      "        \n",
      "  import pandas as pd\n"
     ]
    }
   ],
   "source": [
    "import pandas as pd\n",
    "import numpy as np\n",
    "import matplotlib.pyplot as plt\n",
    "import seaborn as sns\n",
    "from sklearn.model_selection import cross_val_score, train_test_split\n"
   ]
  },
  {
   "cell_type": "markdown",
   "id": "0264c751",
   "metadata": {
    "id": "0264c751"
   },
   "source": [
    "\n",
    "## Exercise 1 : Building a Feed-Forward Neural Network(50 points)\n",
    "\n",
    "### Exercise 1.1 : Data Preprocessing (10 points)\n",
    "\n",
    "- As the classes are categorical, use one-hot encoding to represent the set of classes. You will find this useful when developing the output layer of the neural network.\n",
    "- Normalize each field of the input data using the min-max normalization technique.\n",
    "\n"
   ]
  },
  {
   "cell_type": "code",
   "execution_count": 4,
   "id": "HF_U7y633hR_",
   "metadata": {
    "colab": {
     "base_uri": "https://localhost:8080/"
    },
    "id": "HF_U7y633hR_",
    "outputId": "e4b15d71-4ce9-4542-e821-0964480470c4"
   },
   "outputs": [
    {
     "name": "stdout",
     "output_type": "stream",
     "text": [
      "[[0. 0. 0. ... 0. 0. 1.]\n",
      " [0. 0. 0. ... 0. 0. 0.]\n",
      " [0. 0. 0. ... 0. 0. 0.]\n",
      " ...\n",
      " [0. 0. 0. ... 0. 0. 1.]\n",
      " [0. 0. 0. ... 1. 0. 0.]\n",
      " [0. 0. 0. ... 0. 0. 1.]]\n",
      "[[0.10422894 0.19869385 0.24696724 ... 0.25625262 0.25607398 0.95775147]\n",
      " [0.05574818 0.11439553 0.13549858 ... 0.44060883 0.40014396 0.94114256]\n",
      " [0.02833951 0.05573059 0.0789897  ... 0.55951279 0.45268999 0.953829  ]\n",
      " ...\n",
      " [0.11890041 0.20032671 0.21806318 ... 0.3683878  0.44586352 0.94973786]\n",
      " [0.09760628 0.21793961 0.27496949 ... 0.18508428 0.13632834 0.91152138]\n",
      " [0.11287981 0.1947353  0.21430398 ... 0.36344336 0.42736307 0.93107481]]\n"
     ]
    }
   ],
   "source": [
    "from sklearn.preprocessing import OneHotEncoder\n",
    "from sklearn.preprocessing import MinMaxScaler\n",
    "\n",
    "df = pd.read_csv(\"/home/jovyan/hw2/hw2/Dry_Beans_Dataset.csv\")\n",
    "\n",
    "df_class = df.Class.values\n",
    "df_input = df.drop(\"Class\", axis='columns')\n",
    "\n",
    "encoder = OneHotEncoder()\n",
    "df_class = encoder.fit_transform(df_class.reshape(-1,1)).toarray()\n",
    "\n",
    "scalar = MinMaxScaler()\n",
    "df_input = scalar.fit_transform(df_input)\n",
    "\n",
    "print(df_class)\n",
    "print(df_input)"
   ]
  },
  {
   "cell_type": "markdown",
   "id": "o4QPlcYa0sHN",
   "metadata": {
    "id": "o4QPlcYa0sHN"
   },
   "source": [
    "### Exercise 1.2 : Training and Testing the Neural Network (40 points)\n",
    "\n",
    "Design a 4-layer (4 hidden layers and this does not include the input or output layer) artificial deep neural network, specifically a feed-forward multi-layer perceptron (using the sigmoid activation function), to classify the type of 'Dry Bean' given the other attributes in the data set, similar to the one mentioned in the paper above. Please note that this is a **multi-class classification** problem so select the right number of nodes accordingly for the input and output layers.\n",
    "\n",
    "For training and testing the model, split the data into training and testing set by __90:10__ and use the training set for training the model and the test set to evaluate the model performance.\n",
    "\n",
    "Consider the following hyperparameters while developing your model :\n",
    "\n",
    "- Model type: Keras Sequential\n",
    "- Make sure your input layer matches the size of your X matrix\n",
    "- Number and type of hidden layers: 4 and Dense\n",
    "- Number of nodes in each hidden layer: 12\n",
    "- Learning rate should be 0.3\n",
    "- Number of epochs should be 100\n",
    "- The sigmoid function is to be used as the activation function in each layer\n",
    "- Your output layer has to use a sigmoid function and the number of outputs should match the shape of your y\n",
    "- Stochastic Gradient Descent should be used to minimize the error rate\n",
    "\n",
    "__Requirements once the model has been trained :__\n",
    "\n",
    "- A confusion matrix for all classes, specifying the true positive, true negative, false positive, and false negative cases for each category in the class\n",
    "- Since we do have OHE output (multi-class output) you will need to either reshape or argmax your outputs. Make sure they have already been thresholded as well i.e. look at yhat and do you see 1's and 0's?\n",
    "- The accuracy and mean squared error (MSE) of the model\n",
    "- The precision and recall for each label in the class\n",
    "\n",
    "__Notes :__\n",
    "\n",
    "- Splitting of the dataset should be done __after__ the data preprocessing step.\n",
    "- The mean squared error (MSE) values obtained __should be positive__.\n"
   ]
  },
  {
   "cell_type": "code",
   "execution_count": 5,
   "id": "tWudmwQhzYv9",
   "metadata": {
    "id": "tWudmwQhzYv9",
    "scrolled": true
   },
   "outputs": [
    {
     "name": "stderr",
     "output_type": "stream",
     "text": [
      "2024-02-12 06:52:45.507534: I external/local_tsl/tsl/cuda/cudart_stub.cc:31] Could not find cuda drivers on your machine, GPU will not be used.\n",
      "2024-02-12 06:52:45.545665: E external/local_xla/xla/stream_executor/cuda/cuda_dnn.cc:9261] Unable to register cuDNN factory: Attempting to register factory for plugin cuDNN when one has already been registered\n",
      "2024-02-12 06:52:45.545722: E external/local_xla/xla/stream_executor/cuda/cuda_fft.cc:607] Unable to register cuFFT factory: Attempting to register factory for plugin cuFFT when one has already been registered\n",
      "2024-02-12 06:52:45.546554: E external/local_xla/xla/stream_executor/cuda/cuda_blas.cc:1515] Unable to register cuBLAS factory: Attempting to register factory for plugin cuBLAS when one has already been registered\n",
      "2024-02-12 06:52:45.553585: I external/local_tsl/tsl/cuda/cudart_stub.cc:31] Could not find cuda drivers on your machine, GPU will not be used.\n",
      "2024-02-12 06:52:45.554580: I tensorflow/core/platform/cpu_feature_guard.cc:182] This TensorFlow binary is optimized to use available CPU instructions in performance-critical operations.\n",
      "To enable the following instructions: AVX2 FMA, in other operations, rebuild TensorFlow with the appropriate compiler flags.\n",
      "2024-02-12 06:52:46.574232: W tensorflow/compiler/tf2tensorrt/utils/py_utils.cc:38] TF-TRT Warning: Could not find TensorRT\n"
     ]
    }
   ],
   "source": [
    "from sklearn.model_selection import train_test_split\n",
    "from scikeras.wrappers import KerasClassifier\n",
    "from sklearn.metrics import confusion_matrix, mean_squared_error\n",
    "from keras.models import Sequential\n",
    "from keras.layers import Dense\n",
    "from keras.optimizers import SGD\n",
    "from sklearn.metrics import confusion_matrix, accuracy_score"
   ]
  },
  {
   "cell_type": "code",
   "execution_count": 6,
   "id": "KhW7lew706U8",
   "metadata": {
    "colab": {
     "base_uri": "https://localhost:8080/"
    },
    "id": "KhW7lew706U8",
    "outputId": "5f02de39-363d-4bda-fd0d-d1977996f567"
   },
   "outputs": [
    {
     "name": "stderr",
     "output_type": "stream",
     "text": [
      "2024-02-12 06:52:47.417563: W tensorflow/core/common_runtime/gpu/gpu_device.cc:2256] Cannot dlopen some GPU libraries. Please make sure the missing libraries mentioned above are installed properly if you would like to use GPU. Follow the guide at https://www.tensorflow.org/install/gpu for how to download and setup the required libraries for your platform.\n",
      "Skipping registering GPU devices...\n"
     ]
    },
    {
     "name": "stdout",
     "output_type": "stream",
     "text": [
      "43/43 [==============================] - 0s 631us/step - loss: 0.2339 - accuracy: 0.9214\n",
      "43/43 [==============================] - 0s 518us/step\n"
     ]
    }
   ],
   "source": [
    "x_train, x_test, y_train, y_test = train_test_split(df_input, df_class, test_size=0.1, random_state = 100)\n",
    "\n",
    "def dnnmodel():\n",
    "    model = Sequential([\n",
    "        Dense(12, activation='sigmoid', input_dim=x_train.shape[1]),\n",
    "        Dense(12, activation='sigmoid'),\n",
    "        Dense(12, activation='sigmoid'),\n",
    "        Dense(12, activation='sigmoid'),\n",
    "        Dense(y_train.shape[1], activation='sigmoid')\n",
    "    ])\n",
    "    model.compile(optimizer=SGD(learning_rate=0.3), loss='categorical_crossentropy', metrics=['accuracy'])\n",
    "    return(model)\n",
    "\n",
    "classifier = dnnmodel()\n",
    "\n",
    "history = classifier.fit(x_train, y_train, epochs = 100, verbose = 0)\n",
    "\n",
    "loss, accuracy = classifier.evaluate(x_test, y_test)\n",
    "y_pred = classifier.predict(x_test)\n",
    "\n",
    "y_test = y_test.argmax(axis=1)\n",
    "y_pred = y_pred.argmax(axis=1)\n",
    "\n",
    "# Confusion Matrix\n",
    "conf_matrix = confusion_matrix(y_test, y_pred)\n",
    "cm = conf_matrix\n",
    "fp = cm.sum(axis=0) - np.diag(cm)\n",
    "fn = cm.sum(axis=1) - np.diag(cm)\n",
    "tp = np.diag(cm)\n",
    "tn = cm.sum() - (fp + fn + tp)\n",
    "\n",
    "accuracy = accuracy_score(y_test, y_pred)\n",
    "precision = tp / (tp + fp)\n",
    "recall = tp / (tp + fn)\n",
    "mse = mean_squared_error(y_test, y_pred)"
   ]
  },
  {
   "cell_type": "code",
   "execution_count": 7,
   "id": "NPiBWWGORKws",
   "metadata": {
    "colab": {
     "base_uri": "https://localhost:8080/"
    },
    "id": "NPiBWWGORKws",
    "outputId": "2218d66e-5cd7-4cfd-bf2d-89d37dcc69dc"
   },
   "outputs": [
    {
     "name": "stdout",
     "output_type": "stream",
     "text": [
      "[[118   0   6   0   0   1   6]\n",
      " [  0  58   0   0   0   0   0]\n",
      " [  4   0 151   0   5   0   1]\n",
      " [  0   0   0 350   1   4   2]\n",
      " [  0   0   2   2 169   0   2]\n",
      " [  2   0   0   4   0 197   3]\n",
      " [  0   0   0  47  10   5 212]]\n",
      "BARBUNYA\n",
      "tp: 118, fp: 6, tn: 1225, fn: 13\n",
      "Precision: 0.9516129032258065\n",
      "Recall: 0.9007633587786259\n",
      "\n",
      "BOMBAY\n",
      "tp: 58, fp: 0, tn: 1304, fn: 0\n",
      "Precision: 1.0\n",
      "Recall: 1.0\n",
      "\n",
      "CALI\n",
      "tp: 151, fp: 8, tn: 1193, fn: 10\n",
      "Precision: 0.949685534591195\n",
      "Recall: 0.937888198757764\n",
      "\n",
      "DERMASON\n",
      "tp: 350, fp: 53, tn: 952, fn: 7\n",
      "Precision: 0.8684863523573201\n",
      "Recall: 0.9803921568627451\n",
      "\n",
      "HOROZ\n",
      "tp: 169, fp: 16, tn: 1171, fn: 6\n",
      "Precision: 0.9135135135135135\n",
      "Recall: 0.9657142857142857\n",
      "\n",
      "SEKER\n",
      "tp: 197, fp: 10, tn: 1146, fn: 9\n",
      "Precision: 0.9516908212560387\n",
      "Recall: 0.9563106796116505\n",
      "\n",
      "SIRA\n",
      "tp: 212, fp: 14, tn: 1074, fn: 62\n",
      "Precision: 0.9380530973451328\n",
      "Recall: 0.7737226277372263\n",
      "\n",
      "y_pred: [5 5 4 ... 6 5 3]\n",
      "Accuracy: 0.92143906020558\n",
      "MSE: 0.6659324522760646\n"
     ]
    }
   ],
   "source": [
    "print(cm)\n",
    "i=0\n",
    "for category in encoder.categories_[0]:\n",
    "    print(category)\n",
    "    print(f\"tp: {tp[i]}, fp: {fp[i]}, tn: {tn[i]}, fn: {fn[i]}\")\n",
    "    print(\"Precision:\", precision[i])\n",
    "    print(\"Recall:\", recall[i])\n",
    "    i+=1\n",
    "    print()\n",
    "\n",
    "print(\"y_pred:\", y_pred)\n",
    "print(\"Accuracy:\", accuracy)\n",
    "print(\"MSE:\", mse)"
   ]
  },
  {
   "cell_type": "markdown",
   "id": "083f5188",
   "metadata": {
    "id": "083f5188"
   },
   "source": [
    "## Exercise 2 : k-fold Cross Validation (20 points)\n",
    "\n",
    "In order to avoid **using biased models**, use 10-fold cross validation to generalize the model from Ex1.2 on the given data set. You can choose a n_repeats value of 1-5\n",
    "\n",
    "__Requirements :__\n",
    "- Print the accuracy values during each iteration of the **cross validation** not the iterations per epoch or the epochs\n",
    "- Print the overall average accuracy per each n_fold value, look at the documentation for the scoring parameter\n",
    "\n",
    "__Note :__ This is a classification problem not a regresson problem. Make sure to choose the correct Keras library."
   ]
  },
  {
   "cell_type": "code",
   "execution_count": 8,
   "id": "tu8rIov607s4",
   "metadata": {
    "colab": {
     "base_uri": "https://localhost:8080/"
    },
    "id": "tu8rIov607s4",
    "outputId": "e7f20fce-81d7-4eec-b0d9-4b181849e6a3",
    "scrolled": true
   },
   "outputs": [],
   "source": [
    "from sklearn.model_selection import RepeatedKFold, cross_val_score\n",
    "\n",
    "estimator = KerasClassifier(model=dnnmodel, epochs=100, batch_size=100, verbose=0)\n",
    "kfold = RepeatedKFold(n_splits = 10, n_repeats = 1)\n",
    "results = cross_val_score(estimator, x_train, y_train, cv=kfold, n_jobs = 1, scoring = \"accuracy\")  # 1 cpus\n",
    "\n"
   ]
  },
  {
   "cell_type": "code",
   "execution_count": 9,
   "id": "u5U5wvN6jR-a",
   "metadata": {
    "colab": {
     "base_uri": "https://localhost:8080/"
    },
    "id": "u5U5wvN6jR-a",
    "outputId": "2e515c38-7b61-4e36-beb6-255775ad057e"
   },
   "outputs": [
    {
     "name": "stdout",
     "output_type": "stream",
     "text": [
      "1: 0.9036734693877551\n",
      "2: 0.9069387755102041\n",
      "3: 0.9110204081632653\n",
      "4: 0.8677551020408163\n",
      "5: 0.8710204081632653\n",
      "6: 0.8963265306122449\n",
      "7: 0.9110204081632653\n",
      "8: 0.88\n",
      "9: 0.8906122448979592\n",
      "10: 0.9076797385620915\n",
      "Average accuracy: 0.8946047085500867\n"
     ]
    }
   ],
   "source": [
    "i=1\n",
    "for result in results:\n",
    "  print(f\"{i}: {result}\")\n",
    "  i+=1\n",
    "\n",
    "print(\"Average accuracy:\",results.mean())"
   ]
  },
  {
   "cell_type": "markdown",
   "id": "cef874c5",
   "metadata": {
    "id": "cef874c5"
   },
   "source": [
    "## Exercise 3 : Hyperparameter Tuning (25 points)\n",
    "\n",
    "Use either grid search or random search methodology to find the optimal number of nodes required in each hidden layer, as well as the optimal learning rate and the different activation functions or optimization approaches, [keras_tuner examples](https://keras.io/guides/keras_tuner/getting_started/) such that the accuracy of the model is maximum for the given data set.\n",
    "\n",
    "__Requirements :__\n",
    "- The set of optimal hyperparameters\n",
    "- The maximum accuracy achieved using this set of optimal hyperparameters\n",
    "\n",
    "__Note :__ Hyperparameter tuning takes a lot of time to execute. Make sure that you choose the appropriate number of each hyperparameter (preferably 3 of each), and that you allocate enough time to execute your code."
   ]
  },
  {
   "cell_type": "code",
   "execution_count": 10,
   "id": "5572c87d",
   "metadata": {
    "colab": {
     "base_uri": "https://localhost:8080/"
    },
    "id": "5572c87d",
    "outputId": "3e2390b6-0f73-4edb-8694-69e38d6ebfb8"
   },
   "outputs": [],
   "source": [
    "# !pip install keras_tuner"
   ]
  },
  {
   "cell_type": "code",
   "execution_count": 11,
   "id": "alUyz5Z32-1l",
   "metadata": {
    "colab": {
     "base_uri": "https://localhost:8080/"
    },
    "id": "alUyz5Z32-1l",
    "outputId": "f513f77d-4fec-44d4-e69d-81c5fd89f09a",
    "scrolled": true
   },
   "outputs": [
    {
     "name": "stdout",
     "output_type": "stream",
     "text": [
      "Reloading Tuner from ./untitled_project/tuner0.json\n",
      "Search space summary\n",
      "Default search space size: 10\n",
      "units1 (Int)\n",
      "{'default': None, 'conditions': [], 'min_value': 6, 'max_value': 18, 'step': 6, 'sampling': 'linear'}\n",
      "activation1 (Choice)\n",
      "{'default': 'sigmoid', 'conditions': [], 'values': ['sigmoid', 'relu', 'tanh'], 'ordered': False}\n",
      "units2 (Int)\n",
      "{'default': None, 'conditions': [], 'min_value': 6, 'max_value': 18, 'step': 6, 'sampling': 'linear'}\n",
      "activation2 (Choice)\n",
      "{'default': 'sigmoid', 'conditions': [], 'values': ['sigmoid', 'relu', 'tanh'], 'ordered': False}\n",
      "units3 (Int)\n",
      "{'default': None, 'conditions': [], 'min_value': 6, 'max_value': 18, 'step': 6, 'sampling': 'linear'}\n",
      "activation3 (Choice)\n",
      "{'default': 'sigmoid', 'conditions': [], 'values': ['sigmoid', 'relu', 'tanh'], 'ordered': False}\n",
      "units4 (Int)\n",
      "{'default': None, 'conditions': [], 'min_value': 6, 'max_value': 18, 'step': 6, 'sampling': 'linear'}\n",
      "activation4 (Choice)\n",
      "{'default': 'sigmoid', 'conditions': [], 'values': ['sigmoid', 'relu', 'tanh'], 'ordered': False}\n",
      "activation5 (Choice)\n",
      "{'default': 'sigmoid', 'conditions': [], 'values': ['sigmoid', 'relu', 'tanh'], 'ordered': False}\n",
      "lr (Float)\n",
      "{'default': 0.2, 'conditions': [], 'min_value': 0.2, 'max_value': 0.3, 'step': 0.1, 'sampling': 'linear'}\n",
      "Results summary\n",
      "Results in ./untitled_project\n",
      "Showing 10 best trials\n",
      "Objective(name=\"val_accuracy\", direction=\"max\")\n",
      "\n",
      "Trial 06 summary\n",
      "Hyperparameters:\n",
      "units1: 6\n",
      "activation1: sigmoid\n",
      "units2: 6\n",
      "activation2: sigmoid\n",
      "units3: 6\n",
      "activation3: sigmoid\n",
      "units4: 6\n",
      "activation4: tanh\n",
      "activation5: sigmoid\n",
      "lr: 0.2\n",
      "Score: 0.919294822216034\n",
      "\n",
      "Trial 00 summary\n",
      "Hyperparameters:\n",
      "units1: 6\n",
      "activation1: sigmoid\n",
      "units2: 6\n",
      "activation2: sigmoid\n",
      "units3: 6\n",
      "activation3: sigmoid\n",
      "units4: 6\n",
      "activation4: sigmoid\n",
      "activation5: sigmoid\n",
      "lr: 0.2\n",
      "Score: 0.913222336769104\n",
      "\n",
      "Trial 09 summary\n",
      "Hyperparameters:\n",
      "units1: 6\n",
      "activation1: sigmoid\n",
      "units2: 6\n",
      "activation2: sigmoid\n",
      "units3: 6\n",
      "activation3: sigmoid\n",
      "units4: 12\n",
      "activation4: sigmoid\n",
      "activation5: sigmoid\n",
      "lr: 0.2\n",
      "Score: 0.9065621733665467\n",
      "\n",
      "Trial 03 summary\n",
      "Hyperparameters:\n",
      "units1: 6\n",
      "activation1: sigmoid\n",
      "units2: 6\n",
      "activation2: sigmoid\n",
      "units3: 6\n",
      "activation3: sigmoid\n",
      "units4: 6\n",
      "activation4: relu\n",
      "activation5: sigmoid\n",
      "lr: 0.2\n",
      "Score: 0.7860920608043671\n",
      "\n",
      "Trial 01 summary\n",
      "Hyperparameters:\n",
      "units1: 6\n",
      "activation1: sigmoid\n",
      "units2: 6\n",
      "activation2: sigmoid\n",
      "units3: 6\n",
      "activation3: sigmoid\n",
      "units4: 6\n",
      "activation4: sigmoid\n",
      "activation5: relu\n",
      "lr: 0.2\n",
      "Score: 0.32941560745239257\n",
      "\n",
      "Trial 04 summary\n",
      "Hyperparameters:\n",
      "units1: 6\n",
      "activation1: sigmoid\n",
      "units2: 6\n",
      "activation2: sigmoid\n",
      "units3: 6\n",
      "activation3: sigmoid\n",
      "units4: 6\n",
      "activation4: relu\n",
      "activation5: relu\n",
      "lr: 0.2\n",
      "Score: 0.3021873950958252\n",
      "\n",
      "Trial 07 summary\n",
      "Hyperparameters:\n",
      "units1: 6\n",
      "activation1: sigmoid\n",
      "units2: 6\n",
      "activation2: sigmoid\n",
      "units3: 6\n",
      "activation3: sigmoid\n",
      "units4: 6\n",
      "activation4: tanh\n",
      "activation5: relu\n",
      "lr: 0.2\n",
      "Score: 0.2940907508134842\n",
      "\n",
      "Trial 08 summary\n",
      "Hyperparameters:\n",
      "units1: 6\n",
      "activation1: sigmoid\n",
      "units2: 6\n",
      "activation2: sigmoid\n",
      "units3: 6\n",
      "activation3: sigmoid\n",
      "units4: 6\n",
      "activation4: tanh\n",
      "activation5: tanh\n",
      "lr: 0.2\n",
      "Score: 0.1296114891767502\n",
      "\n",
      "Trial 05 summary\n",
      "Hyperparameters:\n",
      "units1: 6\n",
      "activation1: sigmoid\n",
      "units2: 6\n",
      "activation2: sigmoid\n",
      "units3: 6\n",
      "activation3: sigmoid\n",
      "units4: 6\n",
      "activation4: relu\n",
      "activation5: tanh\n",
      "lr: 0.2\n",
      "Score: 0.10865164995193481\n",
      "\n",
      "Trial 02 summary\n",
      "Hyperparameters:\n",
      "units1: 6\n",
      "activation1: sigmoid\n",
      "units2: 6\n",
      "activation2: sigmoid\n",
      "units3: 6\n",
      "activation3: sigmoid\n",
      "units4: 6\n",
      "activation4: sigmoid\n",
      "activation5: tanh\n",
      "lr: 0.2\n",
      "Score: 0.07652628123760223\n",
      "Model: \"sequential\"\n",
      "_________________________________________________________________\n",
      " Layer (type)                Output Shape              Param #   \n",
      "=================================================================\n",
      " dense (Dense)               (None, 6)                 102       \n",
      "                                                                 \n",
      " dense_1 (Dense)             (None, 6)                 42        \n",
      "                                                                 \n",
      " dense_2 (Dense)             (None, 6)                 42        \n",
      "                                                                 \n",
      " dense_3 (Dense)             (None, 6)                 42        \n",
      "                                                                 \n",
      " dense_4 (Dense)             (None, 7)                 49        \n",
      "                                                                 \n",
      "=================================================================\n",
      "Total params: 277 (1.08 KB)\n",
      "Trainable params: 277 (1.08 KB)\n",
      "Non-trainable params: 0 (0.00 Byte)\n",
      "_________________________________________________________________\n",
      "None\n"
     ]
    }
   ],
   "source": [
    "import keras_tuner\n",
    "\n",
    "x_train, x_val, y_train, y_val = train_test_split(x_train, y_train, random_state = 100)\n",
    "\n",
    "def dnnmodel(hp):\n",
    "    model = Sequential([\n",
    "        Dense(units=hp.Int(\"units1\", min_value=6, max_value=18, step=6),\n",
    "              activation=hp.Choice(\"activation1\", [\"sigmoid\", \"relu\", \"tanh\"]),\n",
    "              input_dim=x_train.shape[1]),\n",
    "        Dense(units=hp.Int(\"units2\", min_value=6, max_value=18, step=6),\n",
    "              activation=hp.Choice(\"activation2\", [\"sigmoid\", \"relu\", \"tanh\"])),\n",
    "        Dense(units=hp.Int(\"units3\", min_value=6, max_value=18, step=6),\n",
    "              activation=hp.Choice(\"activation3\", [\"sigmoid\", \"relu\", \"tanh\"])),\n",
    "        Dense(units=hp.Int(\"units4\", min_value=6, max_value=18, step=6),\n",
    "              activation=hp.Choice(\"activation4\", [\"sigmoid\", \"relu\", \"tanh\"])),\n",
    "        Dense(y_train.shape[1], activation=hp.Choice(\"activation5\", [\"sigmoid\", \"relu\", \"tanh\"]))\n",
    "    ])\n",
    "    learning_rate = hp.Float(\"lr\", min_value=0.2, max_value=0.3, step=0.1)\n",
    "    model.compile(optimizer=SGD(learning_rate=learning_rate), loss='categorical_crossentropy', metrics=['accuracy'])\n",
    "    return(model)\n",
    "\n",
    "hp = keras_tuner.HyperParameters()\n",
    "\n",
    "tuner = keras_tuner.GridSearch(\n",
    "    hypermodel=dnnmodel,\n",
    "    objective=\"val_accuracy\",\n",
    "    max_trials=10,\n",
    "    seed=15,\n",
    "    executions_per_trial=5,\n",
    "    #hyperparameters=None,\n",
    "    tune_new_entries=True,\n",
    "    allow_new_entries=True,\n",
    "    #max_retries_per_trial=0,\n",
    "    max_consecutive_failed_trials=3\n",
    ")\n",
    "\n",
    "tuner.search(x_train, y_train, epochs=100, validation_data=(x_val, y_val))\n",
    "\n",
    "tuner.search_space_summary()\n",
    "\n",
    "tuner.results_summary()\n",
    "\n",
    "models = tuner.get_best_models(num_models=1)\n",
    "print(models[0].summary())"
   ]
  },
  {
   "cell_type": "code",
   "execution_count": 12,
   "id": "4b267031-6090-4f85-b81a-864d08feec18",
   "metadata": {},
   "outputs": [
    {
     "name": "stdout",
     "output_type": "stream",
     "text": [
      "Results summary\n",
      "Results in ./untitled_project\n",
      "Showing 10 best trials\n",
      "Objective(name=\"val_accuracy\", direction=\"max\")\n",
      "\n",
      "Trial 06 summary\n",
      "Hyperparameters:\n",
      "units1: 6\n",
      "activation1: sigmoid\n",
      "units2: 6\n",
      "activation2: sigmoid\n",
      "units3: 6\n",
      "activation3: sigmoid\n",
      "units4: 6\n",
      "activation4: tanh\n",
      "activation5: sigmoid\n",
      "lr: 0.2\n",
      "Score: 0.919294822216034\n",
      "\n",
      "Trial 00 summary\n",
      "Hyperparameters:\n",
      "units1: 6\n",
      "activation1: sigmoid\n",
      "units2: 6\n",
      "activation2: sigmoid\n",
      "units3: 6\n",
      "activation3: sigmoid\n",
      "units4: 6\n",
      "activation4: sigmoid\n",
      "activation5: sigmoid\n",
      "lr: 0.2\n",
      "Score: 0.913222336769104\n",
      "\n",
      "Trial 09 summary\n",
      "Hyperparameters:\n",
      "units1: 6\n",
      "activation1: sigmoid\n",
      "units2: 6\n",
      "activation2: sigmoid\n",
      "units3: 6\n",
      "activation3: sigmoid\n",
      "units4: 12\n",
      "activation4: sigmoid\n",
      "activation5: sigmoid\n",
      "lr: 0.2\n",
      "Score: 0.9065621733665467\n",
      "\n",
      "Trial 03 summary\n",
      "Hyperparameters:\n",
      "units1: 6\n",
      "activation1: sigmoid\n",
      "units2: 6\n",
      "activation2: sigmoid\n",
      "units3: 6\n",
      "activation3: sigmoid\n",
      "units4: 6\n",
      "activation4: relu\n",
      "activation5: sigmoid\n",
      "lr: 0.2\n",
      "Score: 0.7860920608043671\n",
      "\n",
      "Trial 01 summary\n",
      "Hyperparameters:\n",
      "units1: 6\n",
      "activation1: sigmoid\n",
      "units2: 6\n",
      "activation2: sigmoid\n",
      "units3: 6\n",
      "activation3: sigmoid\n",
      "units4: 6\n",
      "activation4: sigmoid\n",
      "activation5: relu\n",
      "lr: 0.2\n",
      "Score: 0.32941560745239257\n",
      "\n",
      "Trial 04 summary\n",
      "Hyperparameters:\n",
      "units1: 6\n",
      "activation1: sigmoid\n",
      "units2: 6\n",
      "activation2: sigmoid\n",
      "units3: 6\n",
      "activation3: sigmoid\n",
      "units4: 6\n",
      "activation4: relu\n",
      "activation5: relu\n",
      "lr: 0.2\n",
      "Score: 0.3021873950958252\n",
      "\n",
      "Trial 07 summary\n",
      "Hyperparameters:\n",
      "units1: 6\n",
      "activation1: sigmoid\n",
      "units2: 6\n",
      "activation2: sigmoid\n",
      "units3: 6\n",
      "activation3: sigmoid\n",
      "units4: 6\n",
      "activation4: tanh\n",
      "activation5: relu\n",
      "lr: 0.2\n",
      "Score: 0.2940907508134842\n",
      "\n",
      "Trial 08 summary\n",
      "Hyperparameters:\n",
      "units1: 6\n",
      "activation1: sigmoid\n",
      "units2: 6\n",
      "activation2: sigmoid\n",
      "units3: 6\n",
      "activation3: sigmoid\n",
      "units4: 6\n",
      "activation4: tanh\n",
      "activation5: tanh\n",
      "lr: 0.2\n",
      "Score: 0.1296114891767502\n",
      "\n",
      "Trial 05 summary\n",
      "Hyperparameters:\n",
      "units1: 6\n",
      "activation1: sigmoid\n",
      "units2: 6\n",
      "activation2: sigmoid\n",
      "units3: 6\n",
      "activation3: sigmoid\n",
      "units4: 6\n",
      "activation4: relu\n",
      "activation5: tanh\n",
      "lr: 0.2\n",
      "Score: 0.10865164995193481\n",
      "\n",
      "Trial 02 summary\n",
      "Hyperparameters:\n",
      "units1: 6\n",
      "activation1: sigmoid\n",
      "units2: 6\n",
      "activation2: sigmoid\n",
      "units3: 6\n",
      "activation3: sigmoid\n",
      "units4: 6\n",
      "activation4: sigmoid\n",
      "activation5: tanh\n",
      "lr: 0.2\n",
      "Score: 0.07652628123760223\n"
     ]
    }
   ],
   "source": [
    "tuner.results_summary()"
   ]
  },
  {
   "cell_type": "code",
   "execution_count": 21,
   "id": "3beae67e-483b-4044-a825-fd2f66525d36",
   "metadata": {},
   "outputs": [
    {
     "name": "stdout",
     "output_type": "stream",
     "text": [
      "Model: \"sequential\"\n",
      "_________________________________________________________________\n",
      " Layer (type)                Output Shape              Param #   \n",
      "=================================================================\n",
      " dense (Dense)               (None, 6)                 102       \n",
      "                                                                 \n",
      " dense_1 (Dense)             (None, 6)                 42        \n",
      "                                                                 \n",
      " dense_2 (Dense)             (None, 6)                 42        \n",
      "                                                                 \n",
      " dense_3 (Dense)             (None, 6)                 42        \n",
      "                                                                 \n",
      " dense_4 (Dense)             (None, 7)                 49        \n",
      "                                                                 \n",
      "=================================================================\n",
      "Total params: 277 (1.08 KB)\n",
      "Trainable params: 277 (1.08 KB)\n",
      "Non-trainable params: 0 (0.00 Byte)\n",
      "_________________________________________________________________\n"
     ]
    }
   ],
   "source": [
    "models = tuner.get_best_models(num_models=1)\n",
    "models[0].summary()"
   ]
  },
  {
   "cell_type": "markdown",
   "id": "nPfZ4mzk09EI",
   "metadata": {
    "id": "nPfZ4mzk09EI"
   },
   "source": [
    "## Exercise 4 - Collaborative Statement (5 points)\n",
    "\n",
    "It is mandatory to include a Statement of Collaboration in each submission, that follows the guidelines below.\n",
    "Include the names of everyone involved in the discussions (especially in-person ones), and what was discussed.\n",
    "All students are required to follow the academic honesty guidelines posted on the course website. For\n",
    "programming assignments in particular, I encourage students to organize (perhaps using Piazza) to discuss the\n",
    "task descriptions, requirements, possible bugs in the support code, and the relevant technical content before they\n",
    "start working on it. However, you should not discuss the specific solutions, and as a guiding principle, you are\n",
    "not allowed to take anything written or drawn away from these discussions (no photographs of the blackboard,\n",
    "written notes, referring to Piazza, etc.). Especially after you have started working on the assignment, try to restrict\n",
    "the discussion to Piazza as much as possible, so that there is no doubt as to the extent of your collaboration."
   ]
  },
  {
   "cell_type": "code",
   "execution_count": 13,
   "id": "5Cawhjqe09Q6",
   "metadata": {
    "id": "5Cawhjqe09Q6"
   },
   "outputs": [],
   "source": [
    "# I use some of the course material(notebook) provide by Prof.\n",
    "# I use the link provided in HW.\n",
    "# Link: https://keras.io/guides/keras_tuner/getting_started/\n",
    "# I use the document Numpy, Pandas"
   ]
  }
 ],
 "metadata": {
  "colab": {
   "provenance": []
  },
  "kernelspec": {
   "display_name": "Python 3 (ipykernel)",
   "language": "python",
   "name": "python3"
  },
  "language_info": {
   "codemirror_mode": {
    "name": "ipython",
    "version": 3
   },
   "file_extension": ".py",
   "mimetype": "text/x-python",
   "name": "python",
   "nbconvert_exporter": "python",
   "pygments_lexer": "ipython3",
   "version": "3.11.5"
  }
 },
 "nbformat": 4,
 "nbformat_minor": 5
}
