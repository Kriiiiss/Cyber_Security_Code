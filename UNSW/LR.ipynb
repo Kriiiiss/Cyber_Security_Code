{
 "cells": [
  {
   "cell_type": "code",
   "execution_count": 6,
   "metadata": {
    "executionInfo": {
     "elapsed": 1974,
     "status": "ok",
     "timestamp": 1705026930485,
     "user": {
      "displayName": "Kris Chen",
      "userId": "14019901183015848448"
     },
     "user_tz": 480
    },
    "id": "MD1vl6zTecMx"
   },
   "outputs": [],
   "source": [
    "from sklearn.linear_model import LogisticRegression\n",
    "from sklearn.experimental import enable_halving_search_cv\n",
    "from sklearn.model_selection import HalvingGridSearchCV\n",
    "from sklearn.metrics import accuracy_score, f1_score as f1_score_rep\n",
    "import numpy as np\n",
    "import pandas as pd\n",
    "from time import time\n",
    "from pathlib import Path\n",
    "import warnings\n",
    "warnings.filterwarnings(\"ignore\")"
   ]
  },
  {
   "cell_type": "code",
   "execution_count": 7,
   "metadata": {
    "executionInfo": {
     "elapsed": 5217,
     "status": "ok",
     "timestamp": 1705026920817,
     "user": {
      "displayName": "Kris Chen",
      "userId": "14019901183015848448"
     },
     "user_tz": 480
    },
    "id": "vAcvrjKnnFkS"
   },
   "outputs": [],
   "source": [
    "import numpy as np\n",
    "\n",
    "x_test = np.load('Wustl_iiot/x_test.npy')\n",
    "x_train = np.load('Wustl_iiot/x_train.npy')\n",
    "x_val = np.load('Wustl_iiot/x_val.npy')\n",
    "y_test = np.load('Wustl_iiot/y_test.npy')\n",
    "y_train = np.load('Wustl_iiot/y_train.npy')\n",
    "y_val = np.load('Wustl_iiot/y_val.npy')"
   ]
  },
  {
   "cell_type": "code",
   "execution_count": 8,
   "metadata": {
    "colab": {
     "base_uri": "https://localhost:8080/"
    },
    "id": "zx8swDvcm8EZ",
    "outputId": "83f6fda2-0594-4ab3-a680-f1202b0b9f66",
    "scrolled": true
   },
   "outputs": [
    {
     "name": "stdout",
     "output_type": "stream",
     "text": [
      "     iter  rank_test_score  mean_test_score  \\\n",
      "200     6                1         0.999966   \n",
      "199     6                2         0.999933   \n",
      "195     5                3         0.999933   \n",
      "198     5                4         0.999933   \n",
      "196     5                5         0.999925   \n",
      "\n",
      "                                                params  \n",
      "200      {'C': 10, 'penalty': 'l2', 'solver': 'lbfgs'}  \n",
      "199   {'C': 1, 'penalty': 'l1', 'solver': 'liblinear'}  \n",
      "195      {'C': 10, 'penalty': 'l2', 'solver': 'lbfgs'}  \n",
      "198   {'C': 1, 'penalty': 'l1', 'solver': 'liblinear'}  \n",
      "196  {'C': 10, 'penalty': 'l2', 'solver': 'newton-cg'}  \n"
     ]
    }
   ],
   "source": [
    "\n",
    "\n",
    "\n",
    "# 定义参数\n",
    "lr_params = {\n",
    "    'C':[ 0.01, 0.1, 1, 10, 100 ],  # 正则化强度\n",
    "    'penalty': ['l1', 'l2', 'elasticnet', 'none'],  # 正则化类型\n",
    "    'solver': ['newton-cg', 'lbfgs', 'liblinear', 'sag', 'saga']  # 求解器\n",
    "}\n",
    "\n",
    "# 确保结果目录存在\n",
    "# result_dir = Path('/content/drive/MyDrive/Data/results')\n",
    "# if not result_dir.exists():\n",
    "#     result_dir.mkdir()\n",
    "\n",
    "def tune_with_halving_grid_search_lr(x_train, y_train, param_grid):\n",
    "    lr = LogisticRegression()\n",
    "\n",
    "    start = time()\n",
    "    halving_lr_results = HalvingGridSearchCV(\n",
    "        lr,\n",
    "        param_grid,\n",
    "        cv=5,\n",
    "        factor=2,\n",
    "        min_resources='exhaust',\n",
    "        scoring='accuracy'\n",
    "    ).fit(x_train, y_train)\n",
    "\n",
    "    duration = time() - start\n",
    "\n",
    "    results = pd.DataFrame(halving_lr_results.cv_results_)\n",
    "    # results.to_csv(result_dir / 'halving_lr_results.csv')\n",
    "\n",
    "    # 格式化和排序结果\n",
    "    results = results.loc[:, ('iter', 'rank_test_score', 'mean_test_score', 'params')]\n",
    "    results.sort_values(by=['iter', 'rank_test_score'], ascending=[False, True], inplace=True)\n",
    "\n",
    "    return results, duration\n",
    "\n",
    "# 使用验证数据集进行参数调整\n",
    "halving_results, halving_duration = tune_with_halving_grid_search_lr(x_val, y_val, lr_params)\n",
    "\n",
    "print(halving_results.head())\n",
    "\n",
    "# 获取最佳参数和分数\n",
    "best_score = halving_results['mean_test_score'].iloc[0]\n",
    "best_params = halving_results['params'].iloc[0]\n",
    "\n"
   ]
  },
  {
   "cell_type": "code",
   "execution_count": 9,
   "metadata": {
    "colab": {
     "base_uri": "https://localhost:8080/"
    },
    "executionInfo": {
     "elapsed": 62047,
     "status": "ok",
     "timestamp": 1699993407803,
     "user": {
      "displayName": "Jing Chen",
      "userId": "06187300512739488624"
     },
     "user_tz": 480
    },
    "id": "QH9wGzotegDW",
    "outputId": "c0080ab0-7b0a-4993-aade-ebf38cca111d"
   },
   "outputs": [],
   "source": [
    "# 使用最佳参数训练逻辑回归模型\n",
    "# best_lr = LogisticRegression(C=10000, penalty='l2', solver='lbfgs')\n",
    "# best_lr.fit(x_train, y_train)\n",
    "\n",
    "# # 在测试集上评估\n",
    "# accuracy = accuracy_score(y_test, best_lr.predict(x_test))\n",
    "# micro_f1 = f1_score_rep(y_test, best_lr.predict(x_test), average=\"micro\")\n",
    "# macro_f1 = f1_score_rep(y_test, best_lr.predict(x_test), average=\"macro\")\n",
    "\n",
    "# # 打印结果\n",
    "# # print(f'Best score for HalvingGridSearchCV is {best_score:.3f}, took {halving_duration:.2f} seconds')\n",
    "# # print(f'Params: {best_params}')\n",
    "# print(f'Corresponding test accuracy: {accuracy * 100:.2f}%')\n",
    "# print(\"Micro F1 Score: \", micro_f1)\n",
    "# print(\"Macro F1 Score: \", macro_f1)"
   ]
  },
  {
   "cell_type": "code",
   "execution_count": 10,
   "metadata": {
    "colab": {
     "base_uri": "https://localhost:8080/"
    },
    "executionInfo": {
     "elapsed": 67748,
     "status": "ok",
     "timestamp": 1705027127556,
     "user": {
      "displayName": "Kris Chen",
      "userId": "14019901183015848448"
     },
     "user_tz": 480
    },
    "id": "KTX6PPT_hyW-",
    "outputId": "6f2c01e1-a541-457f-a0f4-16bc62ede83a",
    "scrolled": true
   },
   "outputs": [
    {
     "name": "stdout",
     "output_type": "stream",
     "text": [
      "FPR: [8.37833196e-06 1.25680244e-05 0.00000000e+00 0.00000000e+00\n",
      " 0.00000000e+00]\n",
      "TPR: [0.97619048 0.96153846 1.         0.99878641 1.        ]\n",
      "FNR: [0.02380952 0.03846154 0.         0.00121359 0.        ]\n",
      "TNR: [0.99999162 0.99998743 1.         1.         1.        ]\n",
      "Precision: 0.9793769197016235\n",
      "Accuracy: 0.9999790578547704\n",
      "F1-score: 0.9832959340384606\n",
      "AUC: 0.9999993974354677\n"
     ]
    }
   ],
   "source": [
    "from sklearn.metrics import confusion_matrix, accuracy_score, precision_score, recall_score, f1_score, roc_auc_score\n",
    "from sklearn.datasets import load_digits\n",
    "\n",
    "best_lr = LogisticRegression(**best_params)\n",
    "best_lr.fit(x_train, y_train)\n",
    "\n",
    "y_pred = best_lr.predict(x_test)\n",
    "\n",
    "conf_matrix = confusion_matrix(y_test, y_pred)\n",
    "# tn, fp, fn, tp = conf_matrix.ravel()\n",
    "cm = conf_matrix\n",
    "fp = cm.sum(axis=0) - np.diag(cm)\n",
    "fn = cm.sum(axis=1) - np.diag(cm)\n",
    "tp = np.diag(cm)\n",
    "tn = cm.sum() - (fp + fn + tp)\n",
    "\n",
    "\n",
    "fpr = fp / (fp + tn)\n",
    "tpr = tp / (tp + fn)\n",
    "fnr = fn / (fn + tp)\n",
    "tnr = tn / (tn + fp)\n",
    "precision = precision_score(y_test, y_pred, average='macro')\n",
    "accuracy = accuracy_score(y_test, y_pred)\n",
    "f1 = f1_score(y_test, y_pred, average='macro')\n",
    "auc = roc_auc_score(y_test, best_lr.predict_proba(x_test), multi_class='ovr')\n",
    "\n",
    "print(f\"FPR: {fpr}\")\n",
    "print(f\"TPR: {tpr}\")\n",
    "print(f\"FNR: {fnr}\")\n",
    "print(f\"TNR: {tnr}\")\n",
    "print(f\"Precision: {precision}\")\n",
    "print(f\"Accuracy: {accuracy}\")\n",
    "print(f\"F1-score: {f1}\")\n",
    "print(f\"AUC: {auc}\")"
   ]
  }
 ],
 "metadata": {
  "colab": {
   "provenance": []
  },
  "kernelspec": {
   "display_name": "Python 3 (ipykernel)",
   "language": "python",
   "name": "python3"
  },
  "language_info": {
   "codemirror_mode": {
    "name": "ipython",
    "version": 3
   },
   "file_extension": ".py",
   "mimetype": "text/x-python",
   "name": "python",
   "nbconvert_exporter": "python",
   "pygments_lexer": "ipython3",
   "version": "3.11.5"
  }
 },
 "nbformat": 4,
 "nbformat_minor": 4
}
