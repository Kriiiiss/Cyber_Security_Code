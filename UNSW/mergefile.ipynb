{
 "cells": [
  {
   "cell_type": "code",
   "execution_count": 1,
   "id": "d923aca5-dbb0-4625-89bf-33b12891f409",
   "metadata": {},
   "outputs": [],
   "source": [
    "import pandas as pd\n",
    "\n",
    "df1 = pd.read_csv('/home/jovyan/UNSW/UNSW-NB15_1.csv',low_memory=False)\n",
    "df2 = pd.read_csv('/home/jovyan/UNSW/UNSW-NB15_2.csv',low_memory=False)\n",
    "# df3 = pd.read_csv('/home/jovyan/UNSW/UNSW-NB15_3.csv',low_memory=False)\n",
    "# df4 = pd.read_csv('/home/jovyan/UNSW/UNSW-NB15_4.csv',low_memory=False)\n",
    "\n",
    "merged_df = pd.concat([df1,df2], axis=0, ignore_index=True)\n",
    "\n",
    "# merged_df.to_csv('/home/jovyan/UNSW/UNSW_NB15_merge.csv', index=False)\n"
   ]
  },
  {
   "cell_type": "code",
   "execution_count": 2,
   "id": "53766336-8aec-433b-8e3d-8b48686b08a2",
   "metadata": {},
   "outputs": [
    {
     "name": "stdout",
     "output_type": "stream",
     "text": [
      "   59.166.0.0   1390  149.171.126.6    53  udp  CON  0.001055    132    164  \\\n",
      "0  59.166.0.0  33661  149.171.126.9  1024  udp  CON  0.036133  528.0  304.0   \n",
      "1  59.166.0.6   1464  149.171.126.7    53  udp  CON  0.001119  146.0  178.0   \n",
      "2  59.166.0.5   3593  149.171.126.5    53  udp  CON  0.001209  132.0  164.0   \n",
      "3  59.166.0.3  49664  149.171.126.0    53  udp  CON  0.001169  146.0  178.0   \n",
      "4  59.166.0.0  32119  149.171.126.9   111  udp  CON  0.078339  568.0  312.0   \n",
      "\n",
      "   31  ...  1421955842.1  1.02269  0.997042 0.002317  0.002173  0.000144  13  \\\n",
      "0  31  ...           NaN      NaN       NaN      NaN       NaN       NaN NaN   \n",
      "1  31  ...           NaN      NaN       NaN      NaN       NaN       NaN NaN   \n",
      "2  31  ...           NaN      NaN       NaN      NaN       NaN       NaN NaN   \n",
      "3  31  ...           NaN      NaN       NaN      NaN       NaN       NaN NaN   \n",
      "4  31  ...           NaN      NaN       NaN      NaN       NaN       NaN NaN   \n",
      "\n",
      "   13.1   6  7.1  \n",
      "0   NaN NaN  NaN  \n",
      "1   NaN NaN  NaN  \n",
      "2   NaN NaN  NaN  \n",
      "3   NaN NaN  NaN  \n",
      "4   NaN NaN  NaN  \n",
      "\n",
      "[5 rows x 82 columns]\n"
     ]
    }
   ],
   "source": [
    "print(merged_df.head())\n"
   ]
  },
  {
   "cell_type": "code",
   "execution_count": 3,
   "id": "80c35953-8d13-4c6a-abf2-a32bc2661ae3",
   "metadata": {},
   "outputs": [
    {
     "name": "stdout",
     "output_type": "stream",
     "text": [
      "   59.166.0.0   1390  149.171.126.6    53  udp  CON  0.001055  132  164  31  \\\n",
      "0  59.166.0.0  33661  149.171.126.9  1024  udp  CON  0.036133  528  304  31   \n",
      "1  59.166.0.6   1464  149.171.126.7    53  udp  CON  0.001119  146  178  31   \n",
      "2  59.166.0.5   3593  149.171.126.5    53  udp  CON  0.001209  132  164  31   \n",
      "3  59.166.0.3  49664  149.171.126.0    53  udp  CON  0.001169  146  178  31   \n",
      "4  59.166.0.0  32119  149.171.126.9   111  udp  CON  0.078339  568  312  31   \n",
      "\n",
      "   ...  0.17   3  7  1  3.1  1.1  1.2  1.3  Unnamed: 47  0.18  \n",
      "0  ...     0   2  4  2    3    1    1    2          NaN     0  \n",
      "1  ...     0  12  8  1    2    2    1    1          NaN     0  \n",
      "2  ...     0   6  9  1    1    1    1    1          NaN     0  \n",
      "3  ...     0   7  9  1    1    1    1    1          NaN     0  \n",
      "4  ...     0   2  4  2    3    1    1    2          NaN     0  \n",
      "\n",
      "[5 rows x 49 columns]\n",
      "   59.166.0.0   6055  149.171.126.5  54145  tcp  FIN  0.072974  4238  60788  \\\n",
      "0  59.166.0.0   7832  149.171.126.3   5607  tcp  FIN  0.144951  5174  91072   \n",
      "1  59.166.0.8  11397  149.171.126.6     21  tcp  FIN  0.116107  2934   3742   \n",
      "2  59.166.0.0   3804  149.171.126.3     53  udp  CON  0.000986   146    178   \n",
      "3  59.166.0.8  14339  149.171.126.6  14724  tcp  FIN  0.038480  8928    320   \n",
      "4  59.166.0.8  39094  149.171.126.3     53  udp  CON  0.001026   130    162   \n",
      "\n",
      "   31  ...  0.6  13  13.1  6  7.1  1  1.1  2  Unnamed: 47  0.7  \n",
      "0  31  ...    0  13    13  6    7  1    1  2          NaN    0  \n",
      "1  31  ...    1   1     2  7    5  1    1  4          NaN    0  \n",
      "2  31  ...    0  13    13  6    7  1    1  2          NaN    0  \n",
      "3  31  ...    0   8    20  7    5  1    1  4          NaN    0  \n",
      "4  31  ...    0   8    13  6    5  1    1  1          NaN    0  \n",
      "\n",
      "[5 rows x 49 columns]\n"
     ]
    }
   ],
   "source": [
    "print(df1.head())\n",
    "print(df2.head())\n",
    "# print(df3.head())\n",
    "# print(df4.head())"
   ]
  },
  {
   "cell_type": "code",
   "execution_count": null,
   "id": "c42d8f29-6f09-4991-bbf2-7388e3b1c212",
   "metadata": {},
   "outputs": [],
   "source": []
  }
 ],
 "metadata": {
  "kernelspec": {
   "display_name": "Python 3 (ipykernel)",
   "language": "python",
   "name": "python3"
  },
  "language_info": {
   "codemirror_mode": {
    "name": "ipython",
    "version": 3
   },
   "file_extension": ".py",
   "mimetype": "text/x-python",
   "name": "python",
   "nbconvert_exporter": "python",
   "pygments_lexer": "ipython3",
   "version": "3.11.5"
  }
 },
 "nbformat": 4,
 "nbformat_minor": 5
}
