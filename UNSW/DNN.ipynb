{
 "cells": [
  {
   "cell_type": "code",
   "execution_count": 9,
   "metadata": {
    "id": "gx_S9x8b8H97"
   },
   "outputs": [],
   "source": [
    "import numpy as np\n",
    "import tensorflow as tf\n",
    "from tensorflow.keras.models import Sequential\n",
    "from tensorflow.keras.layers import Dense, Input\n",
    "from tensorflow.keras.optimizers import SGD\n",
    "from tensorflow.keras.callbacks import EarlyStopping\n",
    "\n",
    "x_test = np.load('/home/jovyan/UNSW/x_test.npy',allow_pickle=True)\n",
    "x_train = np.load('/home/jovyan/UNSW/x_train.npy',allow_pickle=True)\n",
    "x_val = np.load('/home/jovyan/UNSW/x_val.npy',allow_pickle=True)\n",
    "y_test = np.load('/home/jovyan/UNSW/y_test.npy',allow_pickle=True)\n",
    "y_train = np.load('/home/jovyan/UNSW/y_train.npy',allow_pickle=True)\n",
    "y_val = np.load('/home/jovyan/UNSW/y_val.npy',allow_pickle=True)"
   ]
  },
  {
   "cell_type": "code",
   "execution_count": 10,
   "metadata": {},
   "outputs": [],
   "source": [
    "import tensorflow as tf\n",
    "from tensorflow.keras import Model\n",
    "from tensorflow.keras.models import Sequential\n",
    "from tensorflow.keras.layers import Input, Dense, Conv1D, MaxPooling1D\n",
    "from tensorflow.keras.optimizers import SGD"
   ]
  },
  {
   "cell_type": "code",
   "execution_count": 11,
   "metadata": {
    "id": "cncKTHBU7-L1"
   },
   "outputs": [
    {
     "name": "stdout",
     "output_type": "stream",
     "text": [
      "Epoch 1/10\n",
      "1287/1287 [==============================] - 2s 2ms/step - loss: 0.3573 - accuracy: 0.8337 - val_loss: 0.2456 - val_accuracy: 0.8869\n",
      "Epoch 2/10\n",
      "1287/1287 [==============================] - 2s 2ms/step - loss: 0.2147 - accuracy: 0.9022 - val_loss: 0.1945 - val_accuracy: 0.9102\n",
      "Epoch 3/10\n",
      "1287/1287 [==============================] - 2s 1ms/step - loss: 0.1837 - accuracy: 0.9200 - val_loss: 0.1743 - val_accuracy: 0.9255\n",
      "Epoch 4/10\n",
      "1287/1287 [==============================] - 2s 1ms/step - loss: 0.1675 - accuracy: 0.9303 - val_loss: 0.1653 - val_accuracy: 0.9304\n",
      "Epoch 5/10\n",
      "1287/1287 [==============================] - 2s 1ms/step - loss: 0.1573 - accuracy: 0.9374 - val_loss: 0.1522 - val_accuracy: 0.9407\n",
      "Epoch 6/10\n",
      "1287/1287 [==============================] - 2s 1ms/step - loss: 0.1510 - accuracy: 0.9405 - val_loss: 0.1452 - val_accuracy: 0.9458\n",
      "Epoch 7/10\n",
      "1287/1287 [==============================] - 2s 1ms/step - loss: 0.1464 - accuracy: 0.9436 - val_loss: 0.1433 - val_accuracy: 0.9451\n",
      "Epoch 8/10\n",
      "1287/1287 [==============================] - 2s 2ms/step - loss: 0.1426 - accuracy: 0.9447 - val_loss: 0.1441 - val_accuracy: 0.9421\n",
      "Epoch 9/10\n",
      "1287/1287 [==============================] - 2s 1ms/step - loss: 0.1403 - accuracy: 0.9463 - val_loss: 0.1423 - val_accuracy: 0.9417\n",
      "Epoch 10/10\n",
      "1287/1287 [==============================] - 2s 1ms/step - loss: 0.1376 - accuracy: 0.9475 - val_loss: 0.1347 - val_accuracy: 0.9518\n",
      "3562/3562 [==============================] - 3s 765us/step - loss: 0.3887 - accuracy: 0.8660\n",
      "Test accuracy: 0.8659922480583191\n",
      "3562/3562 [==============================] - 2s 619us/step\n"
     ]
    }
   ],
   "source": [
    "input_shape = x_train.shape[1:]\n",
    "num_classes = len(np.unique(y_train))\n",
    "\n",
    "\n",
    "dnn_model = Sequential()\n",
    "dnn_model.add(Input(shape=input_shape))\n",
    "dnn_model.add(Dense(units=30, activation='relu'))\n",
    "dnn_model.add(Dense(units=20, activation='relu'))\n",
    "dnn_model.add(Dense(units=num_classes, activation='softmax'))\n",
    "\n",
    "opt = SGD(learning_rate=0.01)\n",
    "\n",
    "dnn_model.compile(loss=\"sparse_categorical_crossentropy\", optimizer=opt, metrics=['accuracy'])\n",
    "\n",
    "early_stopping = EarlyStopping(monitor='val_loss', min_delta=0, patience=5)\n",
    "hist = dnn_model.fit(x_train, y_train, epochs=10, batch_size=64,\n",
    "                     validation_data=(x_val, y_val),\n",
    "                     callbacks=[early_stopping])\n",
    "\n",
    "test_loss, test_acc = dnn_model.evaluate(x_test, y_test)\n",
    "print('Test accuracy:', test_acc)\n",
    "\n",
    "y_hat = dnn_model.predict(x_test)\n",
    "y_hat = np.argmax(y_hat, axis=-1)"
   ]
  },
  {
   "cell_type": "code",
   "execution_count": 12,
   "metadata": {
    "id": "szJtL6DD8PZa"
   },
   "outputs": [
    {
     "name": "stdout",
     "output_type": "stream",
     "text": [
      "FPR: [0.18338039 0.02879121]\n",
      "TPR: [0.97120879 0.81661961]\n",
      "FNR: [0.02879121 0.18338039]\n",
      "TNR: [0.81661961 0.97120879]\n",
      "Accuracy: 0.8659922260926025\n",
      "Precision(micro,macro,weighted): 0.8659922260926025,0.848398892967267,0.8972843028412758\n",
      "F1(micro,macro,weighted: 0.8659922260926025,0.8573883066504218,0.8700421598816149\n",
      "FPR: 0.10608579789575265\n",
      "tpr: 0.8939142021042474\n",
      "fnr: 0.10608579789575265\n",
      "tnr: 0.8939142021042474\n"
     ]
    },
    {
     "data": {
      "image/png": "[encoded data removed]",
      "text/plain": [
       "<Figure size 640x480 with 2 Axes>"
      ]
     },
     "metadata": {},
     "output_type": "display_data"
    }
   ],
   "source": [
    "from sklearn.metrics import confusion_matrix, precision_score, accuracy_score, f1_score, roc_auc_score\n",
    "\n",
    "\n",
    "\n",
    "# tn, fp, fn, tp = conf_matrix.ravel()\n",
    "y_test_arg = y_test\n",
    "conf_matrix = confusion_matrix(y_test_arg, y_hat)\n",
    "# tn, fp, fn, tp = conf_matrix.ravel()\n",
    "cm = conf_matrix\n",
    "fp = cm.sum(axis=0) - np.diag(cm)\n",
    "fn = cm.sum(axis=1) - np.diag(cm)\n",
    "tp = np.diag(cm)\n",
    "tn = cm.sum() - (fp + fn + tp)\n",
    "\n",
    "fpr = fp / (fp + tn)\n",
    "tpr = tp / (tp + fn)\n",
    "fnr = fn / (fn + tp)\n",
    "tnr = tn / (tn + fp)\n",
    "accuracy = accuracy_score(y_test_arg, y_hat)\n",
    "precision_macro = precision_score(y_test_arg, y_hat, average='macro')\n",
    "precision_micro = precision_score(y_test_arg, y_hat, average='micro')\n",
    "precision_weighted = precision_score(y_test_arg, y_hat, average='weighted')\n",
    "f1_weighted = f1_score(y_test_arg, y_hat, average='weighted')\n",
    "f1_macro = f1_score(y_test_arg, y_hat, average='macro')\n",
    "f1_micro = f1_score(y_test_arg, y_hat, average='micro')\n",
    "# auc = roc_auc_score(y_test_arg, y_hat, multi_class='ovr')\n",
    "print(f\"FPR: {fpr}\")\n",
    "print(f\"TPR: {tpr}\")\n",
    "print(f\"FNR: {fnr}\")\n",
    "print(f\"TNR: {tnr}\")\n",
    "print(f\"Accuracy: {accuracy}\")\n",
    "print(f\"Precision(micro,macro,weighted): {precision_micro},{precision_macro},{precision_weighted}\")\n",
    "print(f\"F1(micro,macro,weighted: {f1_micro},{f1_macro},{f1_weighted}\")\n",
    "# print(f\"AUC: {auc}\")\n",
    "\n",
    "print(f\"FPR: {np.mean(fpr)}\")\n",
    "print(f\"tpr: {np.mean(tpr)}\")\n",
    "print(f\"fnr: {np.mean(fnr)}\")\n",
    "print(f\"tnr: {np.mean(tnr)}\")\n",
    "\n",
    "import matplotlib.pyplot as plt\n",
    "from sklearn.metrics import confusion_matrix, ConfusionMatrixDisplay\n",
    "disp = ConfusionMatrixDisplay(confusion_matrix=conf_matrix)\n",
    "disp.plot()\n",
    "plt.show()\n",
    "\n",
    "import pandas as pd\n",
    "metrics = {\n",
    "        \"model\" : \"dnn\",\n",
    "        \"Accuracy\": accuracy,\n",
    "        \"Precision-micro\": precision_micro,\n",
    "        \"Precision-macro\": precision_macro,\n",
    "        \"Precision-weighted\": precision_weighted,\n",
    "        \"F1-micro\": f1_micro,\n",
    "        \"F1-macro\": f1_macro,\n",
    "        \"F1-weighted\": f1_weighted,\n",
    "        \"FPR\": np.mean(fpr),\n",
    "        \"TPR\": np.mean(tpr),\n",
    "        \"FNR\": np.mean(fnr),\n",
    "        \"TNR\": np.mean(tnr),\n",
    "        # \"AUC\": auc\n",
    "    }\n",
    "metrics_df = pd.DataFrame([metrics])\n",
    "metrics_df.to_csv(\"/home/jovyan/UNSW/modeldnn.csv\", mode='a', index=False)\n"
   ]
  },
  {
   "cell_type": "code",
   "execution_count": null,
   "metadata": {},
   "outputs": [],
   "source": []
  }
 ],
 "metadata": {
  "colab": {
   "provenance": []
  },
  "kernelspec": {
   "display_name": "Python 3 (ipykernel)",
   "language": "python",
   "name": "python3"
  },
  "language_info": {
   "codemirror_mode": {
    "name": "ipython",
    "version": 3
   },
   "file_extension": ".py",
   "mimetype": "text/x-python",
   "name": "python",
   "nbconvert_exporter": "python",
   "pygments_lexer": "ipython3",
   "version": "3.11.5"
  }
 },
 "nbformat": 4,
 "nbformat_minor": 4
}
