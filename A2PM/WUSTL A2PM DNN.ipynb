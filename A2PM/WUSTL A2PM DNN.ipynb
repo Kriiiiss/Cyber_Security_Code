{
 "cells": [
  {
   "cell_type": "markdown",
   "id": "2a758932-affe-4abd-95a5-aa7c98fc6835",
   "metadata": {},
   "source": [
    "# Imports"
   ]
  },
  {
   "cell_type": "code",
   "execution_count": 1,
   "id": "2a0960bd-548a-41f2-b127-50ab73f18dcd",
   "metadata": {},
   "outputs": [
    {
     "name": "stdout",
     "output_type": "stream",
     "text": [
      "Collecting a2pm\n",
      "  Obtaining dependency information for a2pm from https://files.pythonhosted.org/packages/b3/68/75bee5fae78bd4815653b095a50b5c534fd14dd7a9545dea77bb796d840c/a2pm-1.2.0-py3-none-any.whl.metadata\n",
      "  Downloading a2pm-1.2.0-py3-none-any.whl.metadata (6.1 kB)\n",
      "Requirement already satisfied: numpy<2,>=1.17.5 in /opt/conda/lib/python3.11/site-packages (from a2pm) (1.26.1)\n",
      "Requirement already satisfied: scikit-learn<2,>=0.23.2 in /home/jovyan/.local/lib/python3.11/site-packages (from a2pm) (1.1.3)\n",
      "Requirement already satisfied: scipy>=1.3.2 in /opt/conda/lib/python3.11/site-packages (from scikit-learn<2,>=0.23.2->a2pm) (1.11.3)\n",
      "Requirement already satisfied: joblib>=1.0.0 in /opt/conda/lib/python3.11/site-packages (from scikit-learn<2,>=0.23.2->a2pm) (1.3.2)\n",
      "Requirement already satisfied: threadpoolctl>=2.0.0 in /opt/conda/lib/python3.11/site-packages (from scikit-learn<2,>=0.23.2->a2pm) (3.2.0)\n",
      "Downloading a2pm-1.2.0-py3-none-any.whl (25 kB)\n",
      "Installing collected packages: a2pm\n",
      "Successfully installed a2pm-1.2.0\n"
     ]
    }
   ],
   "source": [
    "# !pip install a2pm"
   ]
  },
  {
   "cell_type": "code",
   "execution_count": 1,
   "id": "42decf63-37a0-47fc-b8fe-6a7555a86f8c",
   "metadata": {
    "editable": true,
    "slideshow": {
     "slide_type": ""
    },
    "tags": []
   },
   "outputs": [],
   "source": [
    "import pandas as pd\n",
    "import numpy as np\n",
    "import matplotlib.pyplot as plt\n",
    "import seaborn as sns\n",
    "\n",
    "from sklearn.metrics import accuracy_score, precision_recall_fscore_support, roc_auc_score, confusion_matrix, accuracy_score, precision_score, recall_score, f1_score\n",
    "from sklearn.preprocessing import label_binarize\n",
    "from sklearn.model_selection import train_test_split\n",
    "import torch\n",
    "\n",
    "import time"
   ]
  },
  {
   "cell_type": "code",
   "execution_count": 2,
   "id": "5971907b-5c73-4eb8-a144-ae79c3060d4a",
   "metadata": {
    "editable": true,
    "slideshow": {
     "slide_type": ""
    },
    "tags": []
   },
   "outputs": [],
   "source": [
    "from a2pm import A2PMethod\n",
    "from a2pm.callbacks import BaseCallback, MetricCallback, TimeCallback\n",
    "from a2pm.patterns import BasePattern, CombinationPattern, IntervalPattern\n",
    "from a2pm.wrappers import BaseWrapper, KerasWrapper, SklearnWrapper, TorchWrapper"
   ]
  },
  {
   "cell_type": "code",
   "execution_count": 3,
   "id": "2a845d5e-ffbb-4376-9785-21eb294fb3cd",
   "metadata": {
    "tags": []
   },
   "outputs": [],
   "source": [
    "# X_train = np.load('X-IIoT-pre-processed/X_train.npy')\n",
    "# y_train = np.load('X-IIoT-pre-processed/y_train.npy')\n",
    "# X_val = np.load('X-IIoT-pre-processed/X_val.npy')\n",
    "# y_val = np.load('X-IIoT-pre-processed/y_val.npy')\n",
    "# X_test = np.load('X-IIoT-pre-processed/X_test.npy')\n",
    "# y_test = np.load('X-IIoT-pre-processed/y_test.npy')\n",
    "\n",
    "X_test = np.load('/home/jovyan/Wustl_iiot/x_test.npy')\n",
    "X_train = np.load('/home/jovyan/Wustl_iiot/x_train.npy')\n",
    "X_val = np.load('/home/jovyan/Wustl_iiot/x_val.npy')\n",
    "y_test = np.load('/home/jovyan/Wustl_iiot/y_test.npy')\n",
    "y_train = np.load('/home/jovyan/Wustl_iiot/y_train.npy')\n",
    "y_val = np.load('/home/jovyan/Wustl_iiot/y_val.npy')"
   ]
  },
  {
   "cell_type": "markdown",
   "id": "fb12d935-b951-4c58-84cc-1d97377c2805",
   "metadata": {},
   "source": [
    "# Train"
   ]
  },
  {
   "cell_type": "markdown",
   "id": "115ef31f-88e7-44f6-915d-bb75d9e61b80",
   "metadata": {},
   "source": [
    "We train the baseline model to get an impression of how our model perform on an IDS dataset without any adversarial samples."
   ]
  },
  {
   "cell_type": "code",
   "execution_count": 4,
   "id": "bdfb266e-4e00-4c6e-8efa-c5ef9cb4c5aa",
   "metadata": {
    "tags": []
   },
   "outputs": [
    {
     "name": "stderr",
     "output_type": "stream",
     "text": [
      "2024-07-17 19:52:24.669691: E external/local_xla/xla/stream_executor/cuda/cuda_fft.cc:485] Unable to register cuFFT factory: Attempting to register factory for plugin cuFFT when one has already been registered\n",
      "2024-07-17 19:52:24.688908: E external/local_xla/xla/stream_executor/cuda/cuda_dnn.cc:8454] Unable to register cuDNN factory: Attempting to register factory for plugin cuDNN when one has already been registered\n",
      "2024-07-17 19:52:24.694803: E external/local_xla/xla/stream_executor/cuda/cuda_blas.cc:1452] Unable to register cuBLAS factory: Attempting to register factory for plugin cuBLAS when one has already been registered\n",
      "2024-07-17 19:52:24.711006: I tensorflow/core/platform/cpu_feature_guard.cc:210] This TensorFlow binary is optimized to use available CPU instructions in performance-critical operations.\n",
      "To enable the following instructions: AVX2 FMA, in other operations, rebuild TensorFlow with the appropriate compiler flags.\n",
      "2024-07-17 19:52:25.583487: W tensorflow/compiler/tf2tensorrt/utils/py_utils.cc:38] TF-TRT Warning: Could not find TensorRT\n"
     ]
    }
   ],
   "source": [
    "import tensorflow as tf\n",
    "from tensorflow.keras import Model\n",
    "from tensorflow.keras.models import Sequential\n",
    "from tensorflow.keras.layers import Input, Dense, Conv1D, MaxPooling1D\n",
    "from tensorflow.keras.optimizers import SGD\n",
    "from tensorflow.keras.callbacks import EarlyStopping\n",
    "\n",
    "\n",
    "# from sklearn.model_selection import GridSearchCV"
   ]
  },
  {
   "cell_type": "code",
   "execution_count": null,
   "id": "e716ebda-4c63-48db-8d70-6f55315d0db5",
   "metadata": {
    "tags": []
   },
   "outputs": [
    {
     "name": "stderr",
     "output_type": "stream",
     "text": [
      "2024-07-17 19:52:27.506984: I tensorflow/core/common_runtime/gpu/gpu_device.cc:2021] Created device /job:localhost/replica:0/task:0/device:GPU:0 with 75952 MB memory:  -> device: 0, name: NVIDIA A100-SXM4-80GB, pci bus id: 0000:46:00.0, compute capability: 8.0\n"
     ]
    },
    {
     "name": "stdout",
     "output_type": "stream",
     "text": [
      "Epoch 1/20\n"
     ]
    }
   ],
   "source": [
    "# model_xgb = XGBClassifier()\n",
    "\n",
    "# param_grid = {\n",
    "#     # 'n_estimators': [10, 50, 100],\n",
    "#     # 'max_depth': [None, 50, 100],\n",
    "#     # 'n_estimators': [10],\n",
    "#     # 'max_depth': [None],\n",
    "# }\n",
    "\n",
    "# grid_search_xgb = GridSearchCV(model_xgb, param_grid, cv=3, scoring='accuracy', verbose=3)\n",
    "# grid_search_xgb.fit(X_train, y_train)\n",
    "\n",
    "# print(\"Best parameters found: \", grid_search_xgb.best_params_)\n",
    "\n",
    "input_shape = X_train.shape[1:]\n",
    "num_classes = len(np.unique(y_train))\n",
    "\n",
    "\n",
    "dnn_model = Sequential()\n",
    "dnn_model.add(Input(shape=input_shape))\n",
    "dnn_model.add(Dense(units=30, activation='relu'))\n",
    "dnn_model.add(Dense(units=20, activation='relu'))\n",
    "dnn_model.add(Dense(units=num_classes, activation='softmax'))\n",
    "\n",
    "opt = SGD(learning_rate=0.01)\n",
    "\n",
    "dnn_model.compile(loss=\"sparse_categorical_crossentropy\", optimizer=opt, metrics=['accuracy'])\n",
    "\n",
    "early_stopping = EarlyStopping(monitor='val_loss', min_delta=0, patience=5)\n",
    "hist = dnn_model.fit(X_train, y_train, epochs=20, batch_size=64,\n",
    "                     validation_data=(X_val, y_val),\n",
    "                     callbacks=[early_stopping])\n",
    "\n",
    "# test_loss, test_acc = dnn_model.evaluate(X_test, y_test)\n",
    "# print('Test accuracy:', test_acc)\n",
    "\n",
    "# y_hat = dnn_model.predict(X_test)\n",
    "# y_hat = np.argmax(y_hat, axis=-1)"
   ]
  },
  {
   "cell_type": "markdown",
   "id": "17c32faa-3715-40f3-8ad3-c8337395eb46",
   "metadata": {
    "editable": true,
    "slideshow": {
     "slide_type": ""
    },
    "tags": []
   },
   "source": [
    "# Evaluate"
   ]
  },
  {
   "cell_type": "markdown",
   "id": "ee2a1426-1f35-49ee-bbea-e859ca0de489",
   "metadata": {},
   "source": [
    "Evaluate the RF model on the IDS dataset, once again with no adversarial samples."
   ]
  },
  {
   "cell_type": "markdown",
   "id": "7a62c401-2f51-4b80-9d29-e6c1921c4830",
   "metadata": {
    "tags": []
   },
   "source": [
    "## Helpers"
   ]
  },
  {
   "cell_type": "code",
   "execution_count": 5,
   "id": "5a4532c0-4b7f-44f1-94f0-4b40884ea6c4",
   "metadata": {
    "editable": true,
    "slideshow": {
     "slide_type": ""
    },
    "tags": []
   },
   "outputs": [],
   "source": [
    "\n",
    "\n",
    "def metrics_master(model, X_test, y_test, type):\n",
    "    metrics_weighted(model, X_test, y_test, type)\n",
    "    metrics_macro(model, X_test, y_test, type)\n",
    "\n",
    "def metrics_macro(model, X_test, y_test, type):\n",
    "    y_pred = model.predict(X_test)\n",
    "    y_pred = np.argmax(y_pred, axis=-1)\n",
    "    \n",
    "    accuracy = accuracy_score(y_test, y_pred)\n",
    "    precision = precision_score(y_test, y_pred, average='macro')\n",
    "    recall = recall_score(y_test, y_pred, average='macro')\n",
    "    f1 = f1_score(y_test, y_pred, average='macro')\n",
    "\n",
    "    data = {\n",
    "    \"Metric\": [\"Accuracy\", \"Macro Precision\", \"Macro Recall\", \"Macro F1 Score\"],\n",
    "    type: [accuracy, precision, recall, f1]\n",
    "    }\n",
    "    \n",
    "    # Creating DataFrame\n",
    "    df = pd.DataFrame(data)\n",
    "    \n",
    "    # Saving to CSV\n",
    "    csv_file_path = \"/home/jovyan/A2PM/XGB.csv\"\n",
    "    df.to_csv(csv_file_path, mode='a', index=False)\n",
    "\n",
    "    print(type)\n",
    "    print(f\"Accuracy: {accuracy * 100:.2f}%\")\n",
    "    print(f\"Macro Precision: {precision * 100:.2f}%\")\n",
    "    print(f\"Macro Recall: {recall * 100:.2f}%\")\n",
    "    print(f\"Macro F1 Score: {f1 * 100:.2f}%\")\n",
    "    \n",
    "def metrics_weighted(model, X_test, y_test, type):\n",
    "    y_pred = model.predict(X_test)\n",
    "    y_pred = np.argmax(y_pred, axis=-1)\n",
    "    \n",
    "    accuracy = accuracy_score(y_test, y_pred)\n",
    "    precision = precision_score(y_test, y_pred, average='weighted')\n",
    "    recall = recall_score(y_test, y_pred, average='weighted')\n",
    "    f1 = f1_score(y_test, y_pred, average='weighted')\n",
    "\n",
    "    data = {\n",
    "    \"Metric\": [\"Accuracy\", \"Weighted Precision\", \"Weighted Recall\", \"Weighted F1 Score\"],\n",
    "    type: [accuracy, precision, recall, f1]\n",
    "    }\n",
    "    \n",
    "    # Creating DataFrame\n",
    "    df = pd.DataFrame(data)\n",
    "    \n",
    "    # Saving to CSV\n",
    "    csv_file_path = \"/home/jovyan/A2PM/XGB.csv\"\n",
    "    df.to_csv(csv_file_path, mode='a', index=False)\n",
    "\n",
    "    print(type)\n",
    "    print(f\"Accuracy: {accuracy * 100:.2f}%\")\n",
    "    print(f\"Weighted Precision: {precision * 100:.2f}%\")\n",
    "    print(f\"Weighted Recall: {recall * 100:.2f}%\")\n",
    "    print(f\"Weighted F1 Score: {f1 * 100:.2f}%\")"
   ]
  },
  {
   "cell_type": "markdown",
   "id": "5648d7cd-e011-48fa-9fde-58a60cc2e3c6",
   "metadata": {},
   "source": [
    "## Scores"
   ]
  },
  {
   "cell_type": "code",
   "execution_count": 15,
   "id": "2897bb2d-c061-497a-9685-b7466aea411e",
   "metadata": {
    "editable": true,
    "slideshow": {
     "slide_type": ""
    },
    "tags": []
   },
   "outputs": [
    {
     "name": "stderr",
     "output_type": "stream",
     "text": [
      "/home/jovyan/.local/lib/python3.11/site-packages/sklearn/metrics/_classification.py:1334: UndefinedMetricWarning: Precision is ill-defined and being set to 0.0 in labels with no predicted samples. Use `zero_division` parameter to control this behavior.\n",
      "  _warn_prf(average, modifier, msg_start, len(result))\n",
      "/home/jovyan/.local/lib/python3.11/site-packages/sklearn/metrics/_classification.py:1334: UndefinedMetricWarning: Precision is ill-defined and being set to 0.0 in labels with no predicted samples. Use `zero_division` parameter to control this behavior.\n",
      "  _warn_prf(average, modifier, msg_start, len(result))\n"
     ]
    },
    {
     "name": "stdout",
     "output_type": "stream",
     "text": [
      "original score\n",
      "Accuracy: 92.71%\n",
      "Weighted Precision: 85.95%\n",
      "Weighted Recall: 92.71%\n",
      "Weighted F1 Score: 89.20%\n",
      "original score\n",
      "Accuracy: 92.71%\n",
      "Macro Precision: 18.54%\n",
      "Macro Recall: 20.00%\n",
      "Macro F1 Score: 19.24%\n"
     ]
    }
   ],
   "source": [
    "xgb_model = grid_search_xgb.best_estimator_\n",
    "metrics_master(xgb_model, X_test, y_test, \"original score\")"
   ]
  },
  {
   "cell_type": "markdown",
   "id": "412f5d20-ae5a-461a-9fea-42a75d88b41a",
   "metadata": {},
   "source": [
    "# A2PM Generation"
   ]
  },
  {
   "cell_type": "markdown",
   "id": "7cd8d7c2-e103-47d6-a6a4-d1d0f83654be",
   "metadata": {},
   "source": [
    "Generate A2PM adversarial samples for further experiments"
   ]
  },
  {
   "cell_type": "markdown",
   "id": "3762824f-1f39-4945-944b-0e46c8d3e3b3",
   "metadata": {},
   "source": [
    "Since we know the data is pre-processed, the categorical variables will be binary columns, and conversely the numerical variables will be the others. Let's find these columns."
   ]
  },
  {
   "cell_type": "code",
   "execution_count": 8,
   "id": "940238fc-705c-4ddf-b690-64701ae6a1ae",
   "metadata": {
    "editable": true,
    "slideshow": {
     "slide_type": ""
    },
    "tags": []
   },
   "outputs": [],
   "source": [
    "def find_binary_columns(X_train):\n",
    "    binary_columns = []\n",
    "    for col in range(X_train.shape[1]):\n",
    "        unique_values = np.unique(X_train[:, col])\n",
    "        if set(unique_values).issubset({0, 1}):\n",
    "            binary_columns.append(col)\n",
    "    return binary_columns\n",
    "\n",
    "binary_columns = find_binary_columns(X_train)\n",
    "\n",
    "numerical_columns = []\n",
    "for i in range(0,42):\n",
    "    if i not in binary_columns:\n",
    "        numerical_columns.append(i)"
   ]
  },
  {
   "cell_type": "code",
   "execution_count": 9,
   "id": "a3b889ed-1282-4ec6-9fff-dd542659b438",
   "metadata": {},
   "outputs": [
    {
     "data": {
      "text/plain": [
       "(716256, 42)"
      ]
     },
     "execution_count": 9,
     "metadata": {},
     "output_type": "execute_result"
    }
   ],
   "source": [
    "X_train.shape"
   ]
  },
  {
   "cell_type": "markdown",
   "id": "904946dd-7288-43cb-9165-54d4307b51b4",
   "metadata": {},
   "source": [
    "The following configuration is the boilerplate found on the A2PM github (https://github.com/vitorinojoao/a2pm). The only modifications are that the interval pattern is applied to the numerical columns, and the combination pattern is applied to the categorical (binary) variables. I removed integer features since the numerical columns are float values, and removed locked_features as I wasn't sure which features needed to be kept static (data was given as processed .npy files)"
   ]
  },
  {
   "cell_type": "code",
   "execution_count": 18,
   "id": "eec34ef6-2d1f-4bb3-95b4-caa764b79b05",
   "metadata": {
    "editable": true,
    "slideshow": {
     "slide_type": ""
    },
    "tags": []
   },
   "outputs": [],
   "source": [
    "xgb_base = grid_search_xgb.best_estimator_\n",
    "\n",
    "classifier = SklearnWrapper(xgb_base)\n",
    "\n",
    "\n",
    "# rule of thumb: Interval for numerical, combination for categorical\n",
    "pattern = (\n",
    "    {\n",
    "        \"type\": \"interval\",\n",
    "        \"features\": numerical_columns,\n",
    "        #\"integer_features\": list(range(10, 20)),\n",
    "        \"ratio\": 0.1,\n",
    "        \"max_ratio\": 0.3,\n",
    "        \"missing_value\": 0.0,\n",
    "        \"probability\": 1,\n",
    "    },\n",
    "    # {\n",
    "    #     \"type\": \"combination\",\n",
    "    #     \"features\": binary_columns,\n",
    "    #     #\"locked_features\": list(range(30, 40)), # Locks some features to ensure validity. Not using this because data is .npy and unreadable\n",
    "    #     \"probability\": 0.4,\n",
    "    # },\n",
    ")\n",
    "\n",
    "method = A2PMethod(pattern)"
   ]
  },
  {
   "cell_type": "markdown",
   "id": "b07a9b3a-7fee-430f-8d4f-f203f4cd9851",
   "metadata": {},
   "source": [
    "We will generate attacks based off the entire dataset. We will resplit the train-test sets afterward in our experiments"
   ]
  },
  {
   "cell_type": "code",
   "execution_count": 19,
   "id": "2d25c3a6-fe16-469c-83e2-0a243f3547da",
   "metadata": {
    "editable": true,
    "slideshow": {
     "slide_type": ""
    },
    "tags": []
   },
   "outputs": [],
   "source": [
    "X = np.concatenate((X_train, X_test), axis=0)\n",
    "y = np.concatenate((y_train, y_test), axis=0)"
   ]
  },
  {
   "cell_type": "code",
   "execution_count": 20,
   "id": "9fc2ffa6-b8ae-4bcf-ad24-be1ce5a3cae8",
   "metadata": {
    "editable": true,
    "slideshow": {
     "slide_type": ""
    },
    "tags": []
   },
   "outputs": [
    {
     "name": "stdout",
     "output_type": "stream",
     "text": [
      "Attack Time: 266.8015856742859\n"
     ]
    }
   ],
   "source": [
    "start_time = time.time()\n",
    "\n",
    "X_adversarial = method.fit_generate(classifier, X, y)\n",
    "\n",
    "training_time = time.time() - start_time\n",
    "print(f\"Attack Time: {training_time}\")"
   ]
  },
  {
   "cell_type": "markdown",
   "id": "f7d3fccc-036d-44c1-ac2f-e9b04a215b13",
   "metadata": {},
   "source": [
    "# Scores after A2PM Attack"
   ]
  },
  {
   "cell_type": "markdown",
   "id": "6f99c3a0-89ac-4909-8152-219b16e294ae",
   "metadata": {},
   "source": [
    "Here we are evaluating how our trained (unprotected) RF model performs on the full A2PM dataset. Each sample is now perturbed, but should still correspond to the original target classes y"
   ]
  },
  {
   "cell_type": "code",
   "execution_count": 22,
   "id": "bec0b69d-c7d7-48ca-88b2-cfa71f04c64d",
   "metadata": {
    "editable": true,
    "slideshow": {
     "slide_type": ""
    },
    "tags": []
   },
   "outputs": [
    {
     "name": "stderr",
     "output_type": "stream",
     "text": [
      "/home/jovyan/.local/lib/python3.11/site-packages/sklearn/metrics/_classification.py:1334: UndefinedMetricWarning: Precision is ill-defined and being set to 0.0 in labels with no predicted samples. Use `zero_division` parameter to control this behavior.\n",
      "  _warn_prf(average, modifier, msg_start, len(result))\n"
     ]
    },
    {
     "name": "stdout",
     "output_type": "stream",
     "text": [
      "full A2PM Attack\n",
      "Accuracy: 92.71%\n",
      "Weighted Precision: 85.95%\n",
      "Weighted Recall: 92.71%\n",
      "Weighted F1 Score: 89.20%\n"
     ]
    },
    {
     "name": "stderr",
     "output_type": "stream",
     "text": [
      "/home/jovyan/.local/lib/python3.11/site-packages/sklearn/metrics/_classification.py:1334: UndefinedMetricWarning: Precision is ill-defined and being set to 0.0 in labels with no predicted samples. Use `zero_division` parameter to control this behavior.\n",
      "  _warn_prf(average, modifier, msg_start, len(result))\n"
     ]
    },
    {
     "name": "stdout",
     "output_type": "stream",
     "text": [
      "full A2PM Attack\n",
      "Accuracy: 92.71%\n",
      "Macro Precision: 18.54%\n",
      "Macro Recall: 20.00%\n",
      "Macro F1 Score: 19.24%\n"
     ]
    }
   ],
   "source": [
    "metrics_master(xgb_model, X_adversarial, y, \"full A2PM Attack\")"
   ]
  },
  {
   "cell_type": "markdown",
   "id": "c3b211a0-f964-4611-b571-f6f4d52511e7",
   "metadata": {},
   "source": [
    "# Adversarial Training Preprocess"
   ]
  },
  {
   "cell_type": "markdown",
   "id": "82f59c3d-519a-447e-9879-da9746481320",
   "metadata": {},
   "source": [
    "As per many adversarial defense papers, adversarial training has been cited as one of the best ways to improve resilience. We will retrain our model with the original data, in addition to an added 10% of the data being adversarial samples with an \"adversarial\" class (class 19)."
   ]
  },
  {
   "cell_type": "code",
   "execution_count": 10,
   "id": "84f55f7d-0331-473d-a029-0fef77263df5",
   "metadata": {},
   "outputs": [
    {
     "data": {
      "text/plain": [
       "955009"
      ]
     },
     "execution_count": 10,
     "metadata": {},
     "output_type": "execute_result"
    }
   ],
   "source": [
    "X_train.shape[0]+X_test.shape[0]"
   ]
  },
  {
   "cell_type": "code",
   "execution_count": 11,
   "id": "31306cb1-f744-4878-bbf5-985a18c6b94e",
   "metadata": {
    "editable": true,
    "slideshow": {
     "slide_type": ""
    },
    "tags": []
   },
   "outputs": [
    {
     "data": {
      "text/plain": [
       "106112"
      ]
     },
     "execution_count": 11,
     "metadata": {},
     "output_type": "execute_result"
    }
   ],
   "source": [
    "\n",
    "adv_samples_num = int(955009*0.10/0.9) \n",
    "adv_samples_num # 10%"
   ]
  },
  {
   "cell_type": "code",
   "execution_count": 12,
   "id": "3842817b-f323-408e-b49f-8dc8f1f4e9f0",
   "metadata": {
    "editable": true,
    "slideshow": {
     "slide_type": ""
    },
    "tags": []
   },
   "outputs": [
    {
     "ename": "NameError",
     "evalue": "name 'X_adversarial' is not defined",
     "output_type": "error",
     "traceback": [
      "\u001b[0;31m---------------------------------------------------------------------------\u001b[0m",
      "\u001b[0;31mNameError\u001b[0m                                 Traceback (most recent call last)",
      "Cell \u001b[0;32mIn[12], line 1\u001b[0m\n\u001b[0;32m----> 1\u001b[0m X_adversarial_indices \u001b[38;5;241m=\u001b[39m np\u001b[38;5;241m.\u001b[39mrandom\u001b[38;5;241m.\u001b[39mchoice(\u001b[43mX_adversarial\u001b[49m\u001b[38;5;241m.\u001b[39mshape[\u001b[38;5;241m0\u001b[39m], size\u001b[38;5;241m=\u001b[39madv_samples_num, replace\u001b[38;5;241m=\u001b[39m\u001b[38;5;28;01mFalse\u001b[39;00m)\n\u001b[1;32m      2\u001b[0m X_adversarial_sampled \u001b[38;5;241m=\u001b[39m X_adversarial[X_adversarial_indices]\n\u001b[1;32m      4\u001b[0m y_adv \u001b[38;5;241m=\u001b[39m np\u001b[38;5;241m.\u001b[39mfull(adv_samples_num, \u001b[38;5;241m5\u001b[39m)\n",
      "\u001b[0;31mNameError\u001b[0m: name 'X_adversarial' is not defined"
     ]
    }
   ],
   "source": [
    "X_adversarial_indices = np.random.choice(X_adversarial.shape[0], size=adv_samples_num, replace=False)\n",
    "X_adversarial_sampled = X_adversarial[X_adversarial_indices]\n",
    "\n",
    "y_adv = np.full(adv_samples_num, 5)\n",
    "y_adv"
   ]
  },
  {
   "cell_type": "code",
   "execution_count": 26,
   "id": "e0e596d3-8333-49cd-b1ac-97c225235aaf",
   "metadata": {},
   "outputs": [
    {
     "data": {
      "text/plain": [
       "array([0, 1, 2, 3, 4])"
      ]
     },
     "execution_count": 26,
     "metadata": {},
     "output_type": "execute_result"
    }
   ],
   "source": [
    "np.unique(y_train)"
   ]
  },
  {
   "cell_type": "code",
   "execution_count": 27,
   "id": "fb98ffbc-e375-4389-bbc8-eca5679ed301",
   "metadata": {
    "editable": true,
    "slideshow": {
     "slide_type": ""
    },
    "tags": []
   },
   "outputs": [],
   "source": [
    "X_new = X.copy()\n",
    "y_new = y.copy()\n",
    "\n",
    "X_combined = np.vstack((X_new, X_adversarial_sampled))\n",
    "y_combined = np.concatenate((y_new, y_adv))"
   ]
  },
  {
   "cell_type": "markdown",
   "id": "8adccfc1-e6d3-47fe-96f6-d0197431741d",
   "metadata": {},
   "source": [
    "# Adversarial Training"
   ]
  },
  {
   "cell_type": "markdown",
   "id": "b0e6c50d-feb1-406b-b2dd-77ee502b476a",
   "metadata": {},
   "source": [
    "Our whole data now contains 10% A2PM samples. Assuming a uniformly random 80/20 split, our training data will be expected to contain 8% A2PM samples, while the testing data is expected to contain 2% A2PM samples. "
   ]
  },
  {
   "cell_type": "code",
   "execution_count": 28,
   "id": "839cbade-edcc-4fc8-9569-bbb216265908",
   "metadata": {
    "editable": true,
    "slideshow": {
     "slide_type": ""
    },
    "tags": []
   },
   "outputs": [],
   "source": [
    "X_train_adv, X_test_adv, y_train_adv, y_test_adv = train_test_split(X_combined, y_combined, test_size=0.2, random_state=42)"
   ]
  },
  {
   "cell_type": "code",
   "execution_count": 30,
   "id": "415da861-6c92-4654-bb8c-a7b2673ee139",
   "metadata": {
    "editable": true,
    "slideshow": {
     "slide_type": ""
    },
    "tags": []
   },
   "outputs": [
    {
     "name": "stdout",
     "output_type": "stream",
     "text": [
      "Fitting 3 folds for each of 1 candidates, totalling 3 fits\n",
      "[CV 1/3] END ..................................., score=1.000 total time=   4.2s\n",
      "[CV 2/3] END ..................................., score=1.000 total time=   4.1s\n",
      "[CV 3/3] END ..................................., score=1.000 total time=   4.1s\n",
      "Best parameters found:  {}\n"
     ]
    }
   ],
   "source": [
    "model_xgb_protected = XGBClassifier()\n",
    "\n",
    "param_grid = {\n",
    "    # 'n_estimators': [10, 50, 100],\n",
    "    # 'max_depth': [None, 50, 100],\n",
    "    # 'n_estimators': [10],\n",
    "    # 'max_depth': [None],\n",
    "}\n",
    "\n",
    "grid_search_xgb_protected = GridSearchCV(model_xgb_protected, param_grid, cv=3, scoring='accuracy', verbose=3)\n",
    "grid_search_xgb_protected.fit(X_train_adv, y_train_adv)\n",
    "\n",
    "print(\"Best parameters found: \", grid_search_xgb.best_params_)"
   ]
  },
  {
   "cell_type": "code",
   "execution_count": 31,
   "id": "4d84d374-d885-4a8b-ad55-1b8e5bc3cec6",
   "metadata": {
    "editable": true,
    "slideshow": {
     "slide_type": ""
    },
    "tags": []
   },
   "outputs": [],
   "source": [
    "xgb_model_protected = grid_search_xgb_protected.best_estimator_"
   ]
  },
  {
   "cell_type": "markdown",
   "id": "b6569179-22e7-4b6a-a497-c1e3aa54c9f0",
   "metadata": {
    "tags": []
   },
   "source": [
    "# Scores (Binary A2PM Detection after Adversarial Training)"
   ]
  },
  {
   "cell_type": "markdown",
   "id": "45fd0a2a-9dae-4863-9e48-cb5fbe5f0185",
   "metadata": {},
   "source": [
    "We want to see how well our protected model can detect A2PM samples. We run it against the unseen A2PM set"
   ]
  },
  {
   "cell_type": "code",
   "execution_count": 32,
   "id": "2049dbf9-daab-4651-8843-c38c8198098e",
   "metadata": {
    "editable": true,
    "slideshow": {
     "slide_type": ""
    },
    "tags": []
   },
   "outputs": [
    {
     "data": {
      "text/plain": [
       "848897"
      ]
     },
     "execution_count": 32,
     "metadata": {},
     "output_type": "execute_result"
    }
   ],
   "source": [
    "X_adversarial_unseen = X_adversarial[np.logical_not(np.isin(np.arange(X_adversarial.shape[0]), X_adversarial_indices))]\n",
    "len(X_adversarial_unseen)"
   ]
  },
  {
   "cell_type": "code",
   "execution_count": 33,
   "id": "6d1103c5-a5d4-4857-84e8-128e1bf46ef3",
   "metadata": {
    "editable": true,
    "slideshow": {
     "slide_type": ""
    },
    "tags": []
   },
   "outputs": [],
   "source": [
    "protected_adversarial_preds = xgb_model_protected.predict(X_adversarial_unseen)"
   ]
  },
  {
   "cell_type": "markdown",
   "id": "91d1b084-2c90-4013-817e-bbb9c361132e",
   "metadata": {},
   "source": [
    "All we need to know is if the model correctly predicts every sample as class 19 (A2PM), and as such we will treat this as a binary classification problem."
   ]
  },
  {
   "cell_type": "code",
   "execution_count": 34,
   "id": "d9f7c856-bb8f-4dfe-808a-8b0ce0c74415",
   "metadata": {
    "editable": true,
    "slideshow": {
     "slide_type": ""
    },
    "tags": []
   },
   "outputs": [],
   "source": [
    "y_adv_full = np.full(len(X_adversarial_unseen), 5)\n",
    "\n",
    "positive_class = 5\n",
    "y_test_binary = (y_adv_full == positive_class).astype(int)\n",
    "adversarial_preds_binary = (protected_adversarial_preds == positive_class).astype(int)"
   ]
  },
  {
   "cell_type": "code",
   "execution_count": 35,
   "id": "6bf1f262-4ced-46e6-94ae-4c6931fd861a",
   "metadata": {
    "editable": true,
    "slideshow": {
     "slide_type": ""
    },
    "tags": []
   },
   "outputs": [
    {
     "name": "stdout",
     "output_type": "stream",
     "text": [
      "Adversarial Accuracy: 100.00%\n",
      "Adversarial Precision: 100.00%\n",
      "Adversarial Recall: 100.00%\n",
      "Adversarial F1 Score: 100.00%\n"
     ]
    }
   ],
   "source": [
    "adversarial_accuracy = accuracy_score(y_test_binary, adversarial_preds_binary)\n",
    "adversarial_precision = precision_score(y_test_binary, adversarial_preds_binary, average='binary')\n",
    "adversarial_recall = recall_score(y_test_binary, adversarial_preds_binary, average='binary')\n",
    "adversarial_f1 = f1_score(y_test_binary, adversarial_preds_binary, average='binary')\n",
    "\n",
    "print(f\"Adversarial Accuracy: {adversarial_accuracy * 100:.2f}%\")\n",
    "print(f\"Adversarial Precision: {adversarial_precision * 100:.2f}%\")\n",
    "print(f\"Adversarial Recall: {adversarial_recall * 100:.2f}%\")\n",
    "print(f\"Adversarial F1 Score: {adversarial_f1 * 100:.2f}%\")"
   ]
  },
  {
   "cell_type": "markdown",
   "id": "2cd26b6a-ba06-4639-9bce-8d9c1b1dc1be",
   "metadata": {},
   "source": [
    "# Scores (10% A2PM Samples, no Adv Training)"
   ]
  },
  {
   "cell_type": "markdown",
   "id": "e65fa0da-e2de-420f-9131-4adde7f33702",
   "metadata": {},
   "source": [
    "Here we benchmark how well our unprotected model performs on a test set with 10% A2PM samples and 90% real samples"
   ]
  },
  {
   "cell_type": "code",
   "execution_count": 36,
   "id": "a45bb41a-9901-4c62-82a6-bc3da1c5fb19",
   "metadata": {
    "editable": true,
    "slideshow": {
     "slide_type": ""
    },
    "tags": []
   },
   "outputs": [
    {
     "name": "stderr",
     "output_type": "stream",
     "text": [
      "/home/jovyan/.local/lib/python3.11/site-packages/sklearn/metrics/_classification.py:1334: UndefinedMetricWarning: Precision is ill-defined and being set to 0.0 in labels with no predicted samples. Use `zero_division` parameter to control this behavior.\n",
      "  _warn_prf(average, modifier, msg_start, len(result))\n",
      "/home/jovyan/.local/lib/python3.11/site-packages/sklearn/metrics/_classification.py:1334: UndefinedMetricWarning: Precision is ill-defined and being set to 0.0 in labels with no predicted samples. Use `zero_division` parameter to control this behavior.\n",
      "  _warn_prf(average, modifier, msg_start, len(result))\n"
     ]
    },
    {
     "name": "stdout",
     "output_type": "stream",
     "text": [
      "no Adv Training\n",
      "Accuracy: 88.28%\n",
      "Weighted Precision: 79.68%\n",
      "Weighted Recall: 88.28%\n",
      "Weighted F1 Score: 83.52%\n",
      "no Adv Training\n",
      "Accuracy: 88.28%\n",
      "Macro Precision: 81.28%\n",
      "Macro Recall: 65.63%\n",
      "Macro F1 Score: 72.03%\n"
     ]
    }
   ],
   "source": [
    "metrics_master(xgb_model, X_test_adv, y_test_adv, \"no Adv Training\")"
   ]
  },
  {
   "cell_type": "markdown",
   "id": "061a6c18-df52-4024-8ead-d2d146a4de59",
   "metadata": {},
   "source": [
    "# Scores (10% A2PM Samples w/ Adv Training)"
   ]
  },
  {
   "cell_type": "markdown",
   "id": "b73906d5-2d03-456f-bcda-7be73472b4dd",
   "metadata": {
    "tags": []
   },
   "source": [
    "Here we benchmark how well our protected model performs on a test set with 10% A2PM samples and 90% real samples"
   ]
  },
  {
   "cell_type": "code",
   "execution_count": 38,
   "id": "3140fb5c-fb54-4370-9bcb-db17bbcb6f19",
   "metadata": {
    "editable": true,
    "slideshow": {
     "slide_type": ""
    },
    "tags": []
   },
   "outputs": [
    {
     "name": "stdout",
     "output_type": "stream",
     "text": [
      "w/ Adv Training\n",
      "Accuracy: 100.00%\n",
      "Weighted Precision: 100.00%\n",
      "Weighted Recall: 100.00%\n",
      "Weighted F1 Score: 100.00%\n",
      "w/ Adv Training\n",
      "Accuracy: 100.00%\n",
      "Macro Precision: 100.00%\n",
      "Macro Recall: 100.00%\n",
      "Macro F1 Score: 100.00%\n"
     ]
    }
   ],
   "source": [
    "metrics_master(xgb_model_protected, X_test_adv, y_test_adv, \"w/ Adv Training\")"
   ]
  },
  {
   "cell_type": "code",
   "execution_count": 39,
   "id": "1d43cbb8-6661-408d-a911-11423250bfb6",
   "metadata": {},
   "outputs": [
    {
     "name": "stdout",
     "output_type": "stream",
     "text": [
      "Attack Time: 265.255330324173\n"
     ]
    },
    {
     "name": "stderr",
     "output_type": "stream",
     "text": [
      "/home/jovyan/.local/lib/python3.11/site-packages/sklearn/metrics/_classification.py:1334: UndefinedMetricWarning: Precision is ill-defined and being set to 0.0 in labels with no predicted samples. Use `zero_division` parameter to control this behavior.\n",
      "  _warn_prf(average, modifier, msg_start, len(result))\n"
     ]
    },
    {
     "name": "stdout",
     "output_type": "stream",
     "text": [
      "0.01:full A2PM Attack\n",
      "Accuracy: 92.71%\n",
      "Weighted Precision: 85.95%\n",
      "Weighted Recall: 92.71%\n",
      "Weighted F1 Score: 89.20%\n"
     ]
    },
    {
     "name": "stderr",
     "output_type": "stream",
     "text": [
      "/home/jovyan/.local/lib/python3.11/site-packages/sklearn/metrics/_classification.py:1334: UndefinedMetricWarning: Precision is ill-defined and being set to 0.0 in labels with no predicted samples. Use `zero_division` parameter to control this behavior.\n",
      "  _warn_prf(average, modifier, msg_start, len(result))\n"
     ]
    },
    {
     "name": "stdout",
     "output_type": "stream",
     "text": [
      "0.01:full A2PM Attack\n",
      "Accuracy: 92.71%\n",
      "Macro Precision: 18.54%\n",
      "Macro Recall: 20.00%\n",
      "Macro F1 Score: 19.24%\n",
      "Fitting 3 folds for each of 1 candidates, totalling 3 fits\n",
      "[CV 1/3] END ..................................., score=1.000 total time=   4.3s\n",
      "[CV 2/3] END ..................................., score=1.000 total time=   4.2s\n",
      "[CV 3/3] END ..................................., score=1.000 total time=   4.2s\n",
      "Best parameters found:  {}\n",
      "0.01:no Adv Training\n",
      "Accuracy: 88.28%\n",
      "Weighted Precision: 79.68%\n",
      "Weighted Recall: 88.28%\n",
      "Weighted F1 Score: 83.52%\n"
     ]
    },
    {
     "name": "stderr",
     "output_type": "stream",
     "text": [
      "/home/jovyan/.local/lib/python3.11/site-packages/sklearn/metrics/_classification.py:1334: UndefinedMetricWarning: Precision is ill-defined and being set to 0.0 in labels with no predicted samples. Use `zero_division` parameter to control this behavior.\n",
      "  _warn_prf(average, modifier, msg_start, len(result))\n",
      "/home/jovyan/.local/lib/python3.11/site-packages/sklearn/metrics/_classification.py:1334: UndefinedMetricWarning: Precision is ill-defined and being set to 0.0 in labels with no predicted samples. Use `zero_division` parameter to control this behavior.\n",
      "  _warn_prf(average, modifier, msg_start, len(result))\n"
     ]
    },
    {
     "name": "stdout",
     "output_type": "stream",
     "text": [
      "0.01:no Adv Training\n",
      "Accuracy: 88.28%\n",
      "Macro Precision: 81.28%\n",
      "Macro Recall: 65.63%\n",
      "Macro F1 Score: 72.03%\n",
      "0.01:w/ Adv Training\n",
      "Accuracy: 100.00%\n",
      "Weighted Precision: 100.00%\n",
      "Weighted Recall: 100.00%\n",
      "Weighted F1 Score: 100.00%\n",
      "0.01:w/ Adv Training\n",
      "Accuracy: 100.00%\n",
      "Macro Precision: 100.00%\n",
      "Macro Recall: 100.00%\n",
      "Macro F1 Score: 100.00%\n",
      "Attack Time: 266.1160683631897\n"
     ]
    },
    {
     "name": "stderr",
     "output_type": "stream",
     "text": [
      "/home/jovyan/.local/lib/python3.11/site-packages/sklearn/metrics/_classification.py:1334: UndefinedMetricWarning: Precision is ill-defined and being set to 0.0 in labels with no predicted samples. Use `zero_division` parameter to control this behavior.\n",
      "  _warn_prf(average, modifier, msg_start, len(result))\n"
     ]
    },
    {
     "name": "stdout",
     "output_type": "stream",
     "text": [
      "0.05:full A2PM Attack\n",
      "Accuracy: 92.71%\n",
      "Weighted Precision: 85.95%\n",
      "Weighted Recall: 92.71%\n",
      "Weighted F1 Score: 89.20%\n"
     ]
    },
    {
     "name": "stderr",
     "output_type": "stream",
     "text": [
      "/home/jovyan/.local/lib/python3.11/site-packages/sklearn/metrics/_classification.py:1334: UndefinedMetricWarning: Precision is ill-defined and being set to 0.0 in labels with no predicted samples. Use `zero_division` parameter to control this behavior.\n",
      "  _warn_prf(average, modifier, msg_start, len(result))\n"
     ]
    },
    {
     "name": "stdout",
     "output_type": "stream",
     "text": [
      "0.05:full A2PM Attack\n",
      "Accuracy: 92.71%\n",
      "Macro Precision: 18.54%\n",
      "Macro Recall: 20.00%\n",
      "Macro F1 Score: 19.24%\n",
      "Fitting 3 folds for each of 1 candidates, totalling 3 fits\n",
      "[CV 1/3] END ..................................., score=1.000 total time=   4.1s\n",
      "[CV 2/3] END ..................................., score=1.000 total time=   4.1s\n",
      "[CV 3/3] END ..................................., score=1.000 total time=   3.9s\n",
      "Best parameters found:  {}\n",
      "0.05:no Adv Training\n",
      "Accuracy: 88.28%\n",
      "Weighted Precision: 79.68%\n",
      "Weighted Recall: 88.28%\n",
      "Weighted F1 Score: 83.52%\n"
     ]
    },
    {
     "name": "stderr",
     "output_type": "stream",
     "text": [
      "/home/jovyan/.local/lib/python3.11/site-packages/sklearn/metrics/_classification.py:1334: UndefinedMetricWarning: Precision is ill-defined and being set to 0.0 in labels with no predicted samples. Use `zero_division` parameter to control this behavior.\n",
      "  _warn_prf(average, modifier, msg_start, len(result))\n",
      "/home/jovyan/.local/lib/python3.11/site-packages/sklearn/metrics/_classification.py:1334: UndefinedMetricWarning: Precision is ill-defined and being set to 0.0 in labels with no predicted samples. Use `zero_division` parameter to control this behavior.\n",
      "  _warn_prf(average, modifier, msg_start, len(result))\n"
     ]
    },
    {
     "name": "stdout",
     "output_type": "stream",
     "text": [
      "0.05:no Adv Training\n",
      "Accuracy: 88.28%\n",
      "Macro Precision: 81.28%\n",
      "Macro Recall: 65.63%\n",
      "Macro F1 Score: 72.03%\n",
      "0.05:w/ Adv Training\n",
      "Accuracy: 100.00%\n",
      "Weighted Precision: 100.00%\n",
      "Weighted Recall: 100.00%\n",
      "Weighted F1 Score: 100.00%\n",
      "0.05:w/ Adv Training\n",
      "Accuracy: 100.00%\n",
      "Macro Precision: 99.57%\n",
      "Macro Recall: 100.00%\n",
      "Macro F1 Score: 99.78%\n",
      "Attack Time: 266.12304735183716\n"
     ]
    },
    {
     "name": "stderr",
     "output_type": "stream",
     "text": [
      "/home/jovyan/.local/lib/python3.11/site-packages/sklearn/metrics/_classification.py:1334: UndefinedMetricWarning: Precision is ill-defined and being set to 0.0 in labels with no predicted samples. Use `zero_division` parameter to control this behavior.\n",
      "  _warn_prf(average, modifier, msg_start, len(result))\n"
     ]
    },
    {
     "name": "stdout",
     "output_type": "stream",
     "text": [
      "0.1:full A2PM Attack\n",
      "Accuracy: 92.71%\n",
      "Weighted Precision: 85.95%\n",
      "Weighted Recall: 92.71%\n",
      "Weighted F1 Score: 89.20%\n"
     ]
    },
    {
     "name": "stderr",
     "output_type": "stream",
     "text": [
      "/home/jovyan/.local/lib/python3.11/site-packages/sklearn/metrics/_classification.py:1334: UndefinedMetricWarning: Precision is ill-defined and being set to 0.0 in labels with no predicted samples. Use `zero_division` parameter to control this behavior.\n",
      "  _warn_prf(average, modifier, msg_start, len(result))\n"
     ]
    },
    {
     "name": "stdout",
     "output_type": "stream",
     "text": [
      "0.1:full A2PM Attack\n",
      "Accuracy: 92.71%\n",
      "Macro Precision: 18.54%\n",
      "Macro Recall: 20.00%\n",
      "Macro F1 Score: 19.24%\n",
      "Fitting 3 folds for each of 1 candidates, totalling 3 fits\n",
      "[CV 1/3] END ..................................., score=1.000 total time=   4.2s\n",
      "[CV 2/3] END ..................................., score=1.000 total time=   4.1s\n",
      "[CV 3/3] END ..................................., score=1.000 total time=   4.2s\n",
      "Best parameters found:  {}\n",
      "0.1:no Adv Training\n",
      "Accuracy: 88.28%\n",
      "Weighted Precision: 79.68%\n",
      "Weighted Recall: 88.28%\n",
      "Weighted F1 Score: 83.52%\n"
     ]
    },
    {
     "name": "stderr",
     "output_type": "stream",
     "text": [
      "/home/jovyan/.local/lib/python3.11/site-packages/sklearn/metrics/_classification.py:1334: UndefinedMetricWarning: Precision is ill-defined and being set to 0.0 in labels with no predicted samples. Use `zero_division` parameter to control this behavior.\n",
      "  _warn_prf(average, modifier, msg_start, len(result))\n",
      "/home/jovyan/.local/lib/python3.11/site-packages/sklearn/metrics/_classification.py:1334: UndefinedMetricWarning: Precision is ill-defined and being set to 0.0 in labels with no predicted samples. Use `zero_division` parameter to control this behavior.\n",
      "  _warn_prf(average, modifier, msg_start, len(result))\n"
     ]
    },
    {
     "name": "stdout",
     "output_type": "stream",
     "text": [
      "0.1:no Adv Training\n",
      "Accuracy: 88.28%\n",
      "Macro Precision: 81.28%\n",
      "Macro Recall: 65.63%\n",
      "Macro F1 Score: 72.03%\n",
      "0.1:w/ Adv Training\n",
      "Accuracy: 100.00%\n",
      "Weighted Precision: 100.00%\n",
      "Weighted Recall: 100.00%\n",
      "Weighted F1 Score: 100.00%\n",
      "0.1:w/ Adv Training\n",
      "Accuracy: 100.00%\n",
      "Macro Precision: 100.00%\n",
      "Macro Recall: 100.00%\n",
      "Macro F1 Score: 100.00%\n",
      "Attack Time: 263.5304346084595\n"
     ]
    },
    {
     "name": "stderr",
     "output_type": "stream",
     "text": [
      "/home/jovyan/.local/lib/python3.11/site-packages/sklearn/metrics/_classification.py:1334: UndefinedMetricWarning: Precision is ill-defined and being set to 0.0 in labels with no predicted samples. Use `zero_division` parameter to control this behavior.\n",
      "  _warn_prf(average, modifier, msg_start, len(result))\n"
     ]
    },
    {
     "name": "stdout",
     "output_type": "stream",
     "text": [
      "0.2:full A2PM Attack\n",
      "Accuracy: 92.71%\n",
      "Weighted Precision: 85.95%\n",
      "Weighted Recall: 92.71%\n",
      "Weighted F1 Score: 89.20%\n"
     ]
    },
    {
     "name": "stderr",
     "output_type": "stream",
     "text": [
      "/home/jovyan/.local/lib/python3.11/site-packages/sklearn/metrics/_classification.py:1334: UndefinedMetricWarning: Precision is ill-defined and being set to 0.0 in labels with no predicted samples. Use `zero_division` parameter to control this behavior.\n",
      "  _warn_prf(average, modifier, msg_start, len(result))\n"
     ]
    },
    {
     "name": "stdout",
     "output_type": "stream",
     "text": [
      "0.2:full A2PM Attack\n",
      "Accuracy: 92.71%\n",
      "Macro Precision: 18.54%\n",
      "Macro Recall: 20.00%\n",
      "Macro F1 Score: 19.24%\n",
      "Fitting 3 folds for each of 1 candidates, totalling 3 fits\n",
      "[CV 1/3] END ..................................., score=1.000 total time=   4.2s\n",
      "[CV 2/3] END ..................................., score=1.000 total time=   4.2s\n",
      "[CV 3/3] END ..................................., score=1.000 total time=   4.2s\n",
      "Best parameters found:  {}\n",
      "0.2:no Adv Training\n",
      "Accuracy: 88.28%\n",
      "Weighted Precision: 79.68%\n",
      "Weighted Recall: 88.28%\n",
      "Weighted F1 Score: 83.52%\n"
     ]
    },
    {
     "name": "stderr",
     "output_type": "stream",
     "text": [
      "/home/jovyan/.local/lib/python3.11/site-packages/sklearn/metrics/_classification.py:1334: UndefinedMetricWarning: Precision is ill-defined and being set to 0.0 in labels with no predicted samples. Use `zero_division` parameter to control this behavior.\n",
      "  _warn_prf(average, modifier, msg_start, len(result))\n",
      "/home/jovyan/.local/lib/python3.11/site-packages/sklearn/metrics/_classification.py:1334: UndefinedMetricWarning: Precision is ill-defined and being set to 0.0 in labels with no predicted samples. Use `zero_division` parameter to control this behavior.\n",
      "  _warn_prf(average, modifier, msg_start, len(result))\n"
     ]
    },
    {
     "name": "stdout",
     "output_type": "stream",
     "text": [
      "0.2:no Adv Training\n",
      "Accuracy: 88.28%\n",
      "Macro Precision: 81.28%\n",
      "Macro Recall: 65.63%\n",
      "Macro F1 Score: 72.03%\n",
      "0.2:w/ Adv Training\n",
      "Accuracy: 100.00%\n",
      "Weighted Precision: 100.00%\n",
      "Weighted Recall: 100.00%\n",
      "Weighted F1 Score: 100.00%\n",
      "0.2:w/ Adv Training\n",
      "Accuracy: 100.00%\n",
      "Macro Precision: 100.00%\n",
      "Macro Recall: 100.00%\n",
      "Macro F1 Score: 100.00%\n",
      "Attack Time: 211.37066793441772\n"
     ]
    },
    {
     "name": "stderr",
     "output_type": "stream",
     "text": [
      "/home/jovyan/.local/lib/python3.11/site-packages/sklearn/metrics/_classification.py:1334: UndefinedMetricWarning: Precision is ill-defined and being set to 0.0 in labels with no predicted samples. Use `zero_division` parameter to control this behavior.\n",
      "  _warn_prf(average, modifier, msg_start, len(result))\n"
     ]
    },
    {
     "name": "stdout",
     "output_type": "stream",
     "text": [
      "0.3:full A2PM Attack\n",
      "Accuracy: 92.71%\n",
      "Weighted Precision: 85.95%\n",
      "Weighted Recall: 92.71%\n",
      "Weighted F1 Score: 89.20%\n"
     ]
    },
    {
     "name": "stderr",
     "output_type": "stream",
     "text": [
      "/home/jovyan/.local/lib/python3.11/site-packages/sklearn/metrics/_classification.py:1334: UndefinedMetricWarning: Precision is ill-defined and being set to 0.0 in labels with no predicted samples. Use `zero_division` parameter to control this behavior.\n",
      "  _warn_prf(average, modifier, msg_start, len(result))\n"
     ]
    },
    {
     "name": "stdout",
     "output_type": "stream",
     "text": [
      "0.3:full A2PM Attack\n",
      "Accuracy: 92.71%\n",
      "Macro Precision: 18.54%\n",
      "Macro Recall: 20.00%\n",
      "Macro F1 Score: 19.24%\n",
      "Fitting 3 folds for each of 1 candidates, totalling 3 fits\n",
      "[CV 1/3] END ..................................., score=1.000 total time=   4.1s\n",
      "[CV 2/3] END ..................................., score=1.000 total time=   4.1s\n",
      "[CV 3/3] END ..................................., score=1.000 total time=   4.2s\n",
      "Best parameters found:  {}\n",
      "0.3:no Adv Training\n",
      "Accuracy: 88.28%\n",
      "Weighted Precision: 79.68%\n",
      "Weighted Recall: 88.28%\n",
      "Weighted F1 Score: 83.52%\n"
     ]
    },
    {
     "name": "stderr",
     "output_type": "stream",
     "text": [
      "/home/jovyan/.local/lib/python3.11/site-packages/sklearn/metrics/_classification.py:1334: UndefinedMetricWarning: Precision is ill-defined and being set to 0.0 in labels with no predicted samples. Use `zero_division` parameter to control this behavior.\n",
      "  _warn_prf(average, modifier, msg_start, len(result))\n",
      "/home/jovyan/.local/lib/python3.11/site-packages/sklearn/metrics/_classification.py:1334: UndefinedMetricWarning: Precision is ill-defined and being set to 0.0 in labels with no predicted samples. Use `zero_division` parameter to control this behavior.\n",
      "  _warn_prf(average, modifier, msg_start, len(result))\n"
     ]
    },
    {
     "name": "stdout",
     "output_type": "stream",
     "text": [
      "0.3:no Adv Training\n",
      "Accuracy: 88.28%\n",
      "Macro Precision: 81.28%\n",
      "Macro Recall: 65.63%\n",
      "Macro F1 Score: 72.03%\n",
      "0.3:w/ Adv Training\n",
      "Accuracy: 100.00%\n",
      "Weighted Precision: 100.00%\n",
      "Weighted Recall: 100.00%\n",
      "Weighted F1 Score: 100.00%\n",
      "0.3:w/ Adv Training\n",
      "Accuracy: 100.00%\n",
      "Macro Precision: 99.99%\n",
      "Macro Recall: 100.00%\n",
      "Macro F1 Score: 99.99%\n"
     ]
    }
   ],
   "source": [
    "def find_binary_columns(X_train):\n",
    "    binary_columns = []\n",
    "    for col in range(X_train.shape[1]):\n",
    "        unique_values = np.unique(X_train[:, col])\n",
    "        if set(unique_values).issubset({0, 1}):\n",
    "            binary_columns.append(col)\n",
    "    return binary_columns\n",
    "\n",
    "binary_columns = find_binary_columns(X_train)\n",
    "\n",
    "numerical_columns = []\n",
    "for i in range(0,42):\n",
    "    if i not in binary_columns:\n",
    "        numerical_columns.append(i)\n",
    "\n",
    "xgb_base = grid_search_xgb.best_estimator_\n",
    "\n",
    "classifier = SklearnWrapper(xgb_base)\n",
    "\n",
    "\n",
    "ratio_values = [0.01, 0.05, 0.1, 0.2, 0.3]\n",
    "# rule of thumb: Interval for numerical, combination for categorical\n",
    "for ratio in ratio_values:\n",
    "    pattern = (\n",
    "        {\n",
    "            \"type\": \"interval\",\n",
    "            \"features\": numerical_columns,\n",
    "            #\"integer_features\": list(range(10, 20)),\n",
    "            \"ratio\": ratio,\n",
    "            \"max_ratio\": 0.3,\n",
    "            \"missing_value\": 0.0,\n",
    "            \"probability\": 1,\n",
    "        },\n",
    "        # {\n",
    "        #     \"type\": \"combination\",\n",
    "        #     \"features\": binary_columns,\n",
    "        #     #\"locked_features\": list(range(30, 40)), # Locks some features to ensure validity. Not using this because data is .npy and unreadable\n",
    "        #     \"probability\": 0.4,\n",
    "        # },\n",
    "    )\n",
    "    \n",
    "    method = A2PMethod(pattern)\n",
    "    \n",
    "    X = np.concatenate((X_train, X_test), axis=0)\n",
    "    y = np.concatenate((y_train, y_test), axis=0)\n",
    "    \n",
    "    start_time = time.time()\n",
    "    \n",
    "    X_adversarial = method.fit_generate(classifier, X, y)\n",
    "    \n",
    "    training_time = time.time() - start_time\n",
    "    print(f\"Attack Time: {training_time}\")\n",
    "\n",
    "    text = f\"{ratio}:full A2PM Attack\"\n",
    "    metrics_master(xgb_model, X_adversarial, y, text)\n",
    "    \n",
    "    \n",
    "    adv_samples_num = int(955009*0.10/0.9) \n",
    "    \n",
    "    X_adversarial_indices = np.random.choice(X_adversarial.shape[0], size=adv_samples_num, replace=False)\n",
    "    X_adversarial_sampled = X_adversarial[X_adversarial_indices]\n",
    "    \n",
    "    y_adv = np.full(adv_samples_num, 5)\n",
    "    \n",
    "    X_new = X.copy()\n",
    "    y_new = y.copy()\n",
    "    \n",
    "    X_combined = np.vstack((X_new, X_adversarial_sampled))\n",
    "    y_combined = np.concatenate((y_new, y_adv))\n",
    "    \n",
    "    X_train_adv, X_test_adv, y_train_adv, y_test_adv = train_test_split(X_combined, y_combined, test_size=0.2, random_state=42)\n",
    "    \n",
    "    model_xgb_protected = XGBClassifier()\n",
    "    \n",
    "    param_grid = {\n",
    "        # 'n_estimators': [10, 50, 100],\n",
    "        # 'max_depth': [None, 50, 100],\n",
    "        # 'n_estimators': [10],\n",
    "        # 'max_depth': [None],\n",
    "    }\n",
    "    \n",
    "    grid_search_xgb_protected = GridSearchCV(model_xgb_protected, param_grid, cv=3, scoring='accuracy', verbose=3)\n",
    "    grid_search_xgb_protected.fit(X_train_adv, y_train_adv)\n",
    "    \n",
    "    print(\"Best parameters found: \", grid_search_xgb.best_params_)\n",
    "    \n",
    "    xgb_model_protected = grid_search_xgb_protected.best_estimator_\n",
    "\n",
    "    text = f\"{ratio}:no Adv Training\"\n",
    "    metrics_master(xgb_model, X_test_adv, y_test_adv, text)\n",
    "    text = f\"{ratio}:w/ Adv Training\"\n",
    "    metrics_master(xgb_model_protected, X_test_adv, y_test_adv, text)"
   ]
  },
  {
   "cell_type": "code",
   "execution_count": 14,
   "id": "6442e776-0e0e-46ba-95b1-ba4ba029d29f",
   "metadata": {},
   "outputs": [
    {
     "name": "stdout",
     "output_type": "stream",
     "text": [
      "Attack Time: 80.18626546859741\n",
      "Attack Time: 80.38876819610596\n",
      "Attack Time: 80.09422469139099\n",
      "Attack Time: 79.98427414894104\n",
      "Attack Time: 64.89600849151611\n"
     ]
    }
   ],
   "source": [
    "# generate a2pm sample\n",
    "\n",
    "ratio_values = [0.01, 0.05, 0.1, 0.2, 0.3]\n",
    "# rule of thumb: Interval for numerical, combination for categorical\n",
    "for ratio in ratio_values:\n",
    "    pattern = (\n",
    "        {\n",
    "            \"type\": \"interval\",\n",
    "            \"features\": numerical_columns,\n",
    "            #\"integer_features\": list(range(10, 20)),\n",
    "            \"ratio\": ratio,\n",
    "            \"max_ratio\": 0.3,\n",
    "            \"missing_value\": 0.0,\n",
    "            \"probability\": 1,\n",
    "        },\n",
    "        # {\n",
    "        #     \"type\": \"combination\",\n",
    "        #     \"features\": binary_columns,\n",
    "        #     #\"locked_features\": list(range(30, 40)), # Locks some features to ensure validity. Not using this because data is .npy and unreadable\n",
    "        #     \"probability\": 0.4,\n",
    "        # },\n",
    "    )\n",
    "    \n",
    "    method = A2PMethod(pattern)\n",
    "    \n",
    "    X = np.concatenate((X_train, X_test), axis=0)\n",
    "    y = np.concatenate((y_train, y_test), axis=0)\n",
    "    \n",
    "    start_time = time.time()\n",
    "    \n",
    "    X_adversarial = method.fit_transform(X, y)\n",
    "    \n",
    "    training_time = time.time() - start_time\n",
    "    print(f\"Attack Time: {training_time}\")\n",
    "\n",
    "    # text = f\"{ratio}:full A2PM Attack\"\n",
    "    # metrics_master(xgb_model, X_adversarial, y, text)\n",
    "    text = f\"/home/jovyan/A2PM/A2PM_adv_sample/A2PM_{ratio}_fullattack_X\"\n",
    "    np.save(text, X_adversarial)\n",
    "    text = f\"/home/jovyan/A2PM/A2PM_adv_sample/A2PM_{ratio}_fullattack_y\"\n",
    "    np.save(text, y)\n",
    "    \n",
    "    \n",
    "    adv_samples_num = int(955009*0.10/0.9) \n",
    "    \n",
    "    X_adversarial_indices = np.random.choice(X_adversarial.shape[0], size=adv_samples_num, replace=False)\n",
    "    X_adversarial_sampled = X_adversarial[X_adversarial_indices]\n",
    "    \n",
    "    y_adv = np.full(adv_samples_num, 5)\n",
    "    \n",
    "    X_new = X.copy()\n",
    "    y_new = y.copy()\n",
    "    \n",
    "    X_combined = np.vstack((X_new, X_adversarial_sampled))\n",
    "    y_combined = np.concatenate((y_new, y_adv))\n",
    "\n",
    "    text = f\"/home/jovyan/A2PM/A2PM_adv_sample/A2PM_{ratio}_10%attack_X\"\n",
    "    np.save(text, X_combined)\n",
    "    text = f\"/home/jovyan/A2PM/A2PM_adv_sample/A2PM_{ratio}_10%attack_y\"\n",
    "    np.save(text, y_combined)\n",
    "    \n",
    "    # X_train_adv, X_test_adv, y_train_adv, y_test_adv = train_test_split(X_combined, y_combined, test_size=0.2, random_state=42)\n",
    "    "
   ]
  },
  {
   "cell_type": "code",
   "execution_count": 6,
   "id": "deeaa839-4fe7-41dd-a9d5-ca8bd27b19c0",
   "metadata": {},
   "outputs": [
    {
     "name": "stdout",
     "output_type": "stream",
     "text": [
      "Epoch 1/10\n"
     ]
    },
    {
     "name": "stderr",
     "output_type": "stream",
     "text": [
      "2024-07-10 19:08:10.628845: E external/local_xla/xla/stream_executor/cuda/cuda_driver.cc:282] failed call to cuInit: CUDA_ERROR_SYSTEM_NOT_READY: system not yet initialized\n",
      "2024-07-10 19:08:10.628883: I external/local_xla/xla/stream_executor/cuda/cuda_diagnostics.cc:134] retrieving CUDA diagnostic information for host: jupyter-jic128-40ucsd-2eedu\n",
      "2024-07-10 19:08:10.628889: I external/local_xla/xla/stream_executor/cuda/cuda_diagnostics.cc:141] hostname: jupyter-jic128-40ucsd-2eedu\n",
      "2024-07-10 19:08:10.629004: I external/local_xla/xla/stream_executor/cuda/cuda_diagnostics.cc:165] libcuda reported version is: 550.90.7\n",
      "2024-07-10 19:08:10.629021: I external/local_xla/xla/stream_executor/cuda/cuda_diagnostics.cc:169] kernel reported version is: 550.90.7\n",
      "2024-07-10 19:08:10.629026: I external/local_xla/xla/stream_executor/cuda/cuda_diagnostics.cc:248] kernel version seems to match DSO: 550.90.7\n"
     ]
    },
    {
     "name": "stdout",
     "output_type": "stream",
     "text": [
      "\u001b[1m11192/11192\u001b[0m \u001b[32m━━━━━━━━━━━━━━━━━━━━\u001b[0m\u001b[37m\u001b[0m \u001b[1m7s\u001b[0m 575us/step - accuracy: 0.9786 - loss: 0.1000 - val_accuracy: 0.9934 - val_loss: 0.0154\n",
      "Epoch 2/10\n",
      "\u001b[1m11192/11192\u001b[0m \u001b[32m━━━━━━━━━━━━━━━━━━━━\u001b[0m\u001b[37m\u001b[0m \u001b[1m6s\u001b[0m 559us/step - accuracy: 0.9955 - loss: 0.0122 - val_accuracy: 0.9984 - val_loss: 0.0061\n",
      "Epoch 3/10\n",
      "\u001b[1m11192/11192\u001b[0m \u001b[32m━━━━━━━━━━━━━━━━━━━━\u001b[0m\u001b[37m\u001b[0m \u001b[1m6s\u001b[0m 569us/step - accuracy: 0.9989 - loss: 0.0051 - val_accuracy: 0.9994 - val_loss: 0.0036\n",
      "Epoch 4/10\n",
      "\u001b[1m11192/11192\u001b[0m \u001b[32m━━━━━━━━━━━━━━━━━━━━\u001b[0m\u001b[37m\u001b[0m \u001b[1m6s\u001b[0m 565us/step - accuracy: 0.9994 - loss: 0.0033 - val_accuracy: 0.9995 - val_loss: 0.0027\n",
      "Epoch 5/10\n",
      "\u001b[1m11192/11192\u001b[0m \u001b[32m━━━━━━━━━━━━━━━━━━━━\u001b[0m\u001b[37m\u001b[0m \u001b[1m6s\u001b[0m 563us/step - accuracy: 0.9995 - loss: 0.0027 - val_accuracy: 0.9996 - val_loss: 0.0022\n",
      "Epoch 6/10\n",
      "\u001b[1m11192/11192\u001b[0m \u001b[32m━━━━━━━━━━━━━━━━━━━━\u001b[0m\u001b[37m\u001b[0m \u001b[1m6s\u001b[0m 563us/step - accuracy: 0.9996 - loss: 0.0021 - val_accuracy: 0.9996 - val_loss: 0.0019\n",
      "Epoch 7/10\n",
      "\u001b[1m11192/11192\u001b[0m \u001b[32m━━━━━━━━━━━━━━━━━━━━\u001b[0m\u001b[37m\u001b[0m \u001b[1m6s\u001b[0m 553us/step - accuracy: 0.9996 - loss: 0.0018 - val_accuracy: 0.9996 - val_loss: 0.0017\n",
      "Epoch 8/10\n",
      "\u001b[1m11192/11192\u001b[0m \u001b[32m━━━━━━━━━━━━━━━━━━━━\u001b[0m\u001b[37m\u001b[0m \u001b[1m6s\u001b[0m 574us/step - accuracy: 0.9995 - loss: 0.0018 - val_accuracy: 0.9998 - val_loss: 0.0015\n",
      "Epoch 9/10\n",
      "\u001b[1m11192/11192\u001b[0m \u001b[32m━━━━━━━━━━━━━━━━━━━━\u001b[0m\u001b[37m\u001b[0m \u001b[1m6s\u001b[0m 568us/step - accuracy: 0.9997 - loss: 0.0016 - val_accuracy: 0.9998 - val_loss: 0.0014\n",
      "Epoch 10/10\n",
      "\u001b[1m11192/11192\u001b[0m \u001b[32m━━━━━━━━━━━━━━━━━━━━\u001b[0m\u001b[37m\u001b[0m \u001b[1m6s\u001b[0m 563us/step - accuracy: 0.9998 - loss: 0.0014 - val_accuracy: 0.9998 - val_loss: 0.0013\n",
      "\u001b[1m7462/7462\u001b[0m \u001b[32m━━━━━━━━━━━━━━━━━━━━\u001b[0m\u001b[37m\u001b[0m \u001b[1m3s\u001b[0m 404us/step\n",
      "0.01_origin\n",
      "Accuracy: 99.98%\n",
      "Weighted Precision: 99.98%\n",
      "Weighted Recall: 99.98%\n",
      "Weighted F1 Score: 99.98%\n",
      "\u001b[1m7462/7462\u001b[0m \u001b[32m━━━━━━━━━━━━━━━━━━━━\u001b[0m\u001b[37m\u001b[0m \u001b[1m3s\u001b[0m 401us/step\n",
      "0.01_origin\n",
      "Accuracy: 99.98%\n",
      "Macro Precision: 97.88%\n",
      "Macro Recall: 81.16%\n",
      "Macro F1 Score: 86.55%\n",
      "\u001b[1m5969/5969\u001b[0m \u001b[32m━━━━━━━━━━━━━━━━━━━━\u001b[0m\u001b[37m\u001b[0m \u001b[1m2s\u001b[0m 398us/step\n",
      "0.01_test attack dataset\n",
      "Accuracy: 99.96%\n",
      "Weighted Precision: 99.96%\n",
      "Weighted Recall: 99.96%\n",
      "Weighted F1 Score: 99.95%\n",
      "\u001b[1m5969/5969\u001b[0m \u001b[32m━━━━━━━━━━━━━━━━━━━━\u001b[0m\u001b[37m\u001b[0m \u001b[1m2s\u001b[0m 399us/step\n",
      "0.01_test attack dataset\n",
      "Accuracy: 99.96%\n",
      "Macro Precision: 95.36%\n",
      "Macro Recall: 71.91%\n",
      "Macro F1 Score: 74.71%\n",
      "Epoch 1/10\n",
      "\u001b[1m11938/11938\u001b[0m \u001b[32m━━━━━━━━━━━━━━━━━━━━\u001b[0m\u001b[37m\u001b[0m \u001b[1m10s\u001b[0m 834us/step - accuracy: 0.9734 - loss: 0.1204 - val_accuracy: 0.9955 - val_loss: 0.0123\n",
      "Epoch 2/10\n",
      "\u001b[1m11938/11938\u001b[0m \u001b[32m━━━━━━━━━━━━━━━━━━━━\u001b[0m\u001b[37m\u001b[0m \u001b[1m10s\u001b[0m 803us/step - accuracy: 0.9972 - loss: 0.0094 - val_accuracy: 0.9989 - val_loss: 0.0053\n",
      "Epoch 3/10\n",
      "\u001b[1m11938/11938\u001b[0m \u001b[32m━━━━━━━━━━━━━━━━━━━━\u001b[0m\u001b[37m\u001b[0m \u001b[1m10s\u001b[0m 820us/step - accuracy: 0.9990 - loss: 0.0049 - val_accuracy: 0.9993 - val_loss: 0.0038\n",
      "Epoch 4/10\n",
      "\u001b[1m11938/11938\u001b[0m \u001b[32m━━━━━━━━━━━━━━━━━━━━\u001b[0m\u001b[37m\u001b[0m \u001b[1m10s\u001b[0m 801us/step - accuracy: 0.9993 - loss: 0.0036 - val_accuracy: 0.9994 - val_loss: 0.0031\n",
      "Epoch 5/10\n",
      "\u001b[1m11938/11938\u001b[0m \u001b[32m━━━━━━━━━━━━━━━━━━━━\u001b[0m\u001b[37m\u001b[0m \u001b[1m10s\u001b[0m 821us/step - accuracy: 0.9994 - loss: 0.0030 - val_accuracy: 0.9994 - val_loss: 0.0027\n",
      "Epoch 6/10\n",
      "\u001b[1m11938/11938\u001b[0m \u001b[32m━━━━━━━━━━━━━━━━━━━━\u001b[0m\u001b[37m\u001b[0m \u001b[1m10s\u001b[0m 822us/step - accuracy: 0.9994 - loss: 0.0027 - val_accuracy: 0.9995 - val_loss: 0.0024\n",
      "Epoch 7/10\n",
      "\u001b[1m11938/11938\u001b[0m \u001b[32m━━━━━━━━━━━━━━━━━━━━\u001b[0m\u001b[37m\u001b[0m \u001b[1m10s\u001b[0m 807us/step - accuracy: 0.9995 - loss: 0.0024 - val_accuracy: 0.9995 - val_loss: 0.0022\n",
      "Epoch 8/10\n",
      "\u001b[1m11938/11938\u001b[0m \u001b[32m━━━━━━━━━━━━━━━━━━━━\u001b[0m\u001b[37m\u001b[0m \u001b[1m10s\u001b[0m 807us/step - accuracy: 0.9994 - loss: 0.0023 - val_accuracy: 0.9995 - val_loss: 0.0021\n",
      "Epoch 9/10\n",
      "\u001b[1m11938/11938\u001b[0m \u001b[32m━━━━━━━━━━━━━━━━━━━━\u001b[0m\u001b[37m\u001b[0m \u001b[1m10s\u001b[0m 823us/step - accuracy: 0.9995 - loss: 0.0019 - val_accuracy: 0.9995 - val_loss: 0.0020\n",
      "Epoch 10/10\n",
      "\u001b[1m11938/11938\u001b[0m \u001b[32m━━━━━━━━━━━━━━━━━━━━\u001b[0m\u001b[37m\u001b[0m \u001b[1m10s\u001b[0m 805us/step - accuracy: 0.9995 - loss: 0.0019 - val_accuracy: 0.9995 - val_loss: 0.0019\n",
      "\u001b[1m5969/5969\u001b[0m \u001b[32m━━━━━━━━━━━━━━━━━━━━\u001b[0m\u001b[37m\u001b[0m \u001b[1m2s\u001b[0m 408us/step\n",
      "0.01_defensed model\n",
      "Accuracy: 99.95%\n",
      "Weighted Precision: 99.92%\n",
      "Weighted Recall: 99.95%\n",
      "Weighted F1 Score: 99.93%\n",
      "\u001b[1m 126/5969\u001b[0m \u001b[37m━━━━━━━━━━━━━━━━━━━━\u001b[0m \u001b[1m2s\u001b[0m 401us/step "
     ]
    },
    {
     "name": "stderr",
     "output_type": "stream",
     "text": [
      "/home/jovyan/.local/lib/python3.11/site-packages/sklearn/metrics/_classification.py:1334: UndefinedMetricWarning: Precision is ill-defined and being set to 0.0 in labels with no predicted samples. Use `zero_division` parameter to control this behavior.\n",
      "  _warn_prf(average, modifier, msg_start, len(result))\n"
     ]
    },
    {
     "name": "stdout",
     "output_type": "stream",
     "text": [
      "\u001b[1m5969/5969\u001b[0m \u001b[32m━━━━━━━━━━━━━━━━━━━━\u001b[0m\u001b[37m\u001b[0m \u001b[1m2s\u001b[0m 399us/step\n"
     ]
    },
    {
     "name": "stderr",
     "output_type": "stream",
     "text": [
      "/home/jovyan/.local/lib/python3.11/site-packages/sklearn/metrics/_classification.py:1334: UndefinedMetricWarning: Precision is ill-defined and being set to 0.0 in labels with no predicted samples. Use `zero_division` parameter to control this behavior.\n",
      "  _warn_prf(average, modifier, msg_start, len(result))\n"
     ]
    },
    {
     "name": "stdout",
     "output_type": "stream",
     "text": [
      "0.01_defensed model\n",
      "Accuracy: 99.95%\n",
      "Macro Precision: 79.25%\n",
      "Macro Recall: 62.11%\n",
      "Macro F1 Score: 63.63%\n",
      "\u001b[1m7462/7462\u001b[0m \u001b[32m━━━━━━━━━━━━━━━━━━━━\u001b[0m\u001b[37m\u001b[0m \u001b[1m3s\u001b[0m 403us/step\n",
      "0.05_origin\n",
      "Accuracy: 99.98%\n",
      "Weighted Precision: 99.98%\n",
      "Weighted Recall: 99.98%\n",
      "Weighted F1 Score: 99.98%\n",
      "\u001b[1m7462/7462\u001b[0m \u001b[32m━━━━━━━━━━━━━━━━━━━━\u001b[0m\u001b[37m\u001b[0m \u001b[1m3s\u001b[0m 405us/step\n",
      "0.05_origin\n",
      "Accuracy: 99.98%\n",
      "Macro Precision: 97.88%\n",
      "Macro Recall: 81.16%\n",
      "Macro F1 Score: 86.55%\n",
      "\u001b[1m5969/5969\u001b[0m \u001b[32m━━━━━━━━━━━━━━━━━━━━\u001b[0m\u001b[37m\u001b[0m \u001b[1m2s\u001b[0m 405us/step\n",
      "0.05_test attack dataset\n",
      "Accuracy: 99.96%\n",
      "Weighted Precision: 99.94%\n",
      "Weighted Recall: 99.96%\n",
      "Weighted F1 Score: 99.95%\n",
      "\u001b[1m 122/5969\u001b[0m \u001b[37m━━━━━━━━━━━━━━━━━━━━\u001b[0m \u001b[1m2s\u001b[0m 415us/step "
     ]
    },
    {
     "name": "stderr",
     "output_type": "stream",
     "text": [
      "/home/jovyan/.local/lib/python3.11/site-packages/sklearn/metrics/_classification.py:1334: UndefinedMetricWarning: Precision is ill-defined and being set to 0.0 in labels with no predicted samples. Use `zero_division` parameter to control this behavior.\n",
      "  _warn_prf(average, modifier, msg_start, len(result))\n"
     ]
    },
    {
     "name": "stdout",
     "output_type": "stream",
     "text": [
      "\u001b[1m5969/5969\u001b[0m \u001b[32m━━━━━━━━━━━━━━━━━━━━\u001b[0m\u001b[37m\u001b[0m \u001b[1m2s\u001b[0m 404us/step\n"
     ]
    },
    {
     "name": "stderr",
     "output_type": "stream",
     "text": [
      "/home/jovyan/.local/lib/python3.11/site-packages/sklearn/metrics/_classification.py:1334: UndefinedMetricWarning: Precision is ill-defined and being set to 0.0 in labels with no predicted samples. Use `zero_division` parameter to control this behavior.\n",
      "  _warn_prf(average, modifier, msg_start, len(result))\n"
     ]
    },
    {
     "name": "stdout",
     "output_type": "stream",
     "text": [
      "0.05_test attack dataset\n",
      "Accuracy: 99.96%\n",
      "Macro Precision: 75.59%\n",
      "Macro Recall: 71.59%\n",
      "Macro F1 Score: 73.21%\n",
      "Epoch 1/10\n",
      "\u001b[1m11938/11938\u001b[0m \u001b[32m━━━━━━━━━━━━━━━━━━━━\u001b[0m\u001b[37m\u001b[0m \u001b[1m10s\u001b[0m 826us/step - accuracy: 0.9768 - loss: 0.0941 - val_accuracy: 0.9958 - val_loss: 0.0124\n",
      "Epoch 2/10\n",
      "\u001b[1m11938/11938\u001b[0m \u001b[32m━━━━━━━━━━━━━━━━━━━━\u001b[0m\u001b[37m\u001b[0m \u001b[1m10s\u001b[0m 815us/step - accuracy: 0.9972 - loss: 0.0100 - val_accuracy: 0.9987 - val_loss: 0.0057\n",
      "Epoch 3/10\n",
      "\u001b[1m11938/11938\u001b[0m \u001b[32m━━━━━━━━━━━━━━━━━━━━\u001b[0m\u001b[37m\u001b[0m \u001b[1m10s\u001b[0m 804us/step - accuracy: 0.9989 - loss: 0.0052 - val_accuracy: 0.9992 - val_loss: 0.0039\n",
      "Epoch 4/10\n",
      "\u001b[1m11938/11938\u001b[0m \u001b[32m━━━━━━━━━━━━━━━━━━━━\u001b[0m\u001b[37m\u001b[0m \u001b[1m10s\u001b[0m 823us/step - accuracy: 0.9992 - loss: 0.0035 - val_accuracy: 0.9993 - val_loss: 0.0031\n",
      "Epoch 5/10\n",
      "\u001b[1m11938/11938\u001b[0m \u001b[32m━━━━━━━━━━━━━━━━━━━━\u001b[0m\u001b[37m\u001b[0m \u001b[1m10s\u001b[0m 808us/step - accuracy: 0.9993 - loss: 0.0030 - val_accuracy: 0.9994 - val_loss: 0.0026\n",
      "Epoch 6/10\n",
      "\u001b[1m11938/11938\u001b[0m \u001b[32m━━━━━━━━━━━━━━━━━━━━\u001b[0m\u001b[37m\u001b[0m \u001b[1m10s\u001b[0m 800us/step - accuracy: 0.9993 - loss: 0.0026 - val_accuracy: 0.9994 - val_loss: 0.0023\n",
      "Epoch 7/10\n",
      "\u001b[1m11938/11938\u001b[0m \u001b[32m━━━━━━━━━━━━━━━━━━━━\u001b[0m\u001b[37m\u001b[0m \u001b[1m10s\u001b[0m 827us/step - accuracy: 0.9994 - loss: 0.0023 - val_accuracy: 0.9994 - val_loss: 0.0021\n",
      "Epoch 8/10\n",
      "\u001b[1m11938/11938\u001b[0m \u001b[32m━━━━━━━━━━━━━━━━━━━━\u001b[0m\u001b[37m\u001b[0m \u001b[1m10s\u001b[0m 815us/step - accuracy: 0.9994 - loss: 0.0020 - val_accuracy: 0.9995 - val_loss: 0.0019\n",
      "Epoch 9/10\n",
      "\u001b[1m11938/11938\u001b[0m \u001b[32m━━━━━━━━━━━━━━━━━━━━\u001b[0m\u001b[37m\u001b[0m \u001b[1m10s\u001b[0m 804us/step - accuracy: 0.9995 - loss: 0.0019 - val_accuracy: 0.9996 - val_loss: 0.0018\n",
      "Epoch 10/10\n",
      "\u001b[1m11938/11938\u001b[0m \u001b[32m━━━━━━━━━━━━━━━━━━━━\u001b[0m\u001b[37m\u001b[0m \u001b[1m10s\u001b[0m 823us/step - accuracy: 0.9996 - loss: 0.0018 - val_accuracy: 0.9996 - val_loss: 0.0017\n",
      "\u001b[1m5969/5969\u001b[0m \u001b[32m━━━━━━━━━━━━━━━━━━━━\u001b[0m\u001b[37m\u001b[0m \u001b[1m2s\u001b[0m 389us/step\n",
      "0.05_defensed model\n",
      "Accuracy: 99.95%\n",
      "Weighted Precision: 99.94%\n",
      "Weighted Recall: 99.95%\n",
      "Weighted F1 Score: 99.95%\n",
      "\u001b[1m 129/5969\u001b[0m \u001b[37m━━━━━━━━━━━━━━━━━━━━\u001b[0m \u001b[1m2s\u001b[0m 393us/step "
     ]
    },
    {
     "name": "stderr",
     "output_type": "stream",
     "text": [
      "/home/jovyan/.local/lib/python3.11/site-packages/sklearn/metrics/_classification.py:1334: UndefinedMetricWarning: Precision is ill-defined and being set to 0.0 in labels with no predicted samples. Use `zero_division` parameter to control this behavior.\n",
      "  _warn_prf(average, modifier, msg_start, len(result))\n"
     ]
    },
    {
     "name": "stdout",
     "output_type": "stream",
     "text": [
      "\u001b[1m5969/5969\u001b[0m \u001b[32m━━━━━━━━━━━━━━━━━━━━\u001b[0m\u001b[37m\u001b[0m \u001b[1m2s\u001b[0m 390us/step\n"
     ]
    },
    {
     "name": "stderr",
     "output_type": "stream",
     "text": [
      "/home/jovyan/.local/lib/python3.11/site-packages/sklearn/metrics/_classification.py:1334: UndefinedMetricWarning: Precision is ill-defined and being set to 0.0 in labels with no predicted samples. Use `zero_division` parameter to control this behavior.\n",
      "  _warn_prf(average, modifier, msg_start, len(result))\n"
     ]
    },
    {
     "name": "stdout",
     "output_type": "stream",
     "text": [
      "0.05_defensed model\n",
      "Accuracy: 99.95%\n",
      "Macro Precision: 71.80%\n",
      "Macro Recall: 70.10%\n",
      "Macro F1 Score: 70.87%\n",
      "\u001b[1m7462/7462\u001b[0m \u001b[32m━━━━━━━━━━━━━━━━━━━━\u001b[0m\u001b[37m\u001b[0m \u001b[1m3s\u001b[0m 397us/step\n",
      "0.1_origin\n",
      "Accuracy: 99.98%\n",
      "Weighted Precision: 99.98%\n",
      "Weighted Recall: 99.98%\n",
      "Weighted F1 Score: 99.98%\n",
      "\u001b[1m7462/7462\u001b[0m \u001b[32m━━━━━━━━━━━━━━━━━━━━\u001b[0m\u001b[37m\u001b[0m \u001b[1m3s\u001b[0m 389us/step\n",
      "0.1_origin\n",
      "Accuracy: 99.98%\n",
      "Macro Precision: 97.88%\n",
      "Macro Recall: 81.16%\n",
      "Macro F1 Score: 86.55%\n",
      "\u001b[1m5969/5969\u001b[0m \u001b[32m━━━━━━━━━━━━━━━━━━━━\u001b[0m\u001b[37m\u001b[0m \u001b[1m2s\u001b[0m 401us/step\n",
      "0.1_test attack dataset\n",
      "Accuracy: 99.96%\n",
      "Weighted Precision: 99.94%\n",
      "Weighted Recall: 99.96%\n",
      "Weighted F1 Score: 99.94%\n",
      "\u001b[1m 123/5969\u001b[0m \u001b[37m━━━━━━━━━━━━━━━━━━━━\u001b[0m \u001b[1m2s\u001b[0m 413us/step "
     ]
    },
    {
     "name": "stderr",
     "output_type": "stream",
     "text": [
      "/home/jovyan/.local/lib/python3.11/site-packages/sklearn/metrics/_classification.py:1334: UndefinedMetricWarning: Precision is ill-defined and being set to 0.0 in labels with no predicted samples. Use `zero_division` parameter to control this behavior.\n",
      "  _warn_prf(average, modifier, msg_start, len(result))\n"
     ]
    },
    {
     "name": "stdout",
     "output_type": "stream",
     "text": [
      "\u001b[1m5969/5969\u001b[0m \u001b[32m━━━━━━━━━━━━━━━━━━━━\u001b[0m\u001b[37m\u001b[0m \u001b[1m2s\u001b[0m 399us/step\n"
     ]
    },
    {
     "name": "stderr",
     "output_type": "stream",
     "text": [
      "/home/jovyan/.local/lib/python3.11/site-packages/sklearn/metrics/_classification.py:1334: UndefinedMetricWarning: Precision is ill-defined and being set to 0.0 in labels with no predicted samples. Use `zero_division` parameter to control this behavior.\n",
      "  _warn_prf(average, modifier, msg_start, len(result))\n"
     ]
    },
    {
     "name": "stdout",
     "output_type": "stream",
     "text": [
      "0.1_test attack dataset\n",
      "Accuracy: 99.96%\n",
      "Macro Precision: 74.63%\n",
      "Macro Recall: 68.59%\n",
      "Macro F1 Score: 70.67%\n",
      "Epoch 1/10\n",
      "\u001b[1m11938/11938\u001b[0m \u001b[32m━━━━━━━━━━━━━━━━━━━━\u001b[0m\u001b[37m\u001b[0m \u001b[1m10s\u001b[0m 843us/step - accuracy: 0.9771 - loss: 0.1178 - val_accuracy: 0.9968 - val_loss: 0.0114\n",
      "Epoch 2/10\n",
      "\u001b[1m11938/11938\u001b[0m \u001b[32m━━━━━━━━━━━━━━━━━━━━\u001b[0m\u001b[37m\u001b[0m \u001b[1m10s\u001b[0m 828us/step - accuracy: 0.9975 - loss: 0.0094 - val_accuracy: 0.9988 - val_loss: 0.0057\n",
      "Epoch 3/10\n",
      "\u001b[1m11938/11938\u001b[0m \u001b[32m━━━━━━━━━━━━━━━━━━━━\u001b[0m\u001b[37m\u001b[0m \u001b[1m10s\u001b[0m 824us/step - accuracy: 0.9989 - loss: 0.0053 - val_accuracy: 0.9992 - val_loss: 0.0041\n",
      "Epoch 4/10\n",
      "\u001b[1m11938/11938\u001b[0m \u001b[32m━━━━━━━━━━━━━━━━━━━━\u001b[0m\u001b[37m\u001b[0m \u001b[1m10s\u001b[0m 802us/step - accuracy: 0.9991 - loss: 0.0042 - val_accuracy: 0.9993 - val_loss: 0.0034\n",
      "Epoch 5/10\n",
      "\u001b[1m11938/11938\u001b[0m \u001b[32m━━━━━━━━━━━━━━━━━━━━\u001b[0m\u001b[37m\u001b[0m \u001b[1m10s\u001b[0m 818us/step - accuracy: 0.9993 - loss: 0.0033 - val_accuracy: 0.9994 - val_loss: 0.0030\n",
      "Epoch 6/10\n",
      "\u001b[1m11938/11938\u001b[0m \u001b[32m━━━━━━━━━━━━━━━━━━━━\u001b[0m\u001b[37m\u001b[0m \u001b[1m9s\u001b[0m 789us/step - accuracy: 0.9993 - loss: 0.0030 - val_accuracy: 0.9994 - val_loss: 0.0027\n",
      "Epoch 7/10\n",
      "\u001b[1m11938/11938\u001b[0m \u001b[32m━━━━━━━━━━━━━━━━━━━━\u001b[0m\u001b[37m\u001b[0m \u001b[1m10s\u001b[0m 797us/step - accuracy: 0.9994 - loss: 0.0026 - val_accuracy: 0.9994 - val_loss: 0.0025\n",
      "Epoch 8/10\n",
      "\u001b[1m11938/11938\u001b[0m \u001b[32m━━━━━━━━━━━━━━━━━━━━\u001b[0m\u001b[37m\u001b[0m \u001b[1m10s\u001b[0m 820us/step - accuracy: 0.9994 - loss: 0.0025 - val_accuracy: 0.9995 - val_loss: 0.0024\n",
      "Epoch 9/10\n",
      "\u001b[1m11938/11938\u001b[0m \u001b[32m━━━━━━━━━━━━━━━━━━━━\u001b[0m\u001b[37m\u001b[0m \u001b[1m10s\u001b[0m 819us/step - accuracy: 0.9994 - loss: 0.0023 - val_accuracy: 0.9995 - val_loss: 0.0022\n",
      "Epoch 10/10\n",
      "\u001b[1m11938/11938\u001b[0m \u001b[32m━━━━━━━━━━━━━━━━━━━━\u001b[0m\u001b[37m\u001b[0m \u001b[1m10s\u001b[0m 813us/step - accuracy: 0.9994 - loss: 0.0023 - val_accuracy: 0.9994 - val_loss: 0.0021\n",
      "\u001b[1m5969/5969\u001b[0m \u001b[32m━━━━━━━━━━━━━━━━━━━━\u001b[0m\u001b[37m\u001b[0m \u001b[1m3s\u001b[0m 413us/step\n",
      "0.1_defensed model\n",
      "Accuracy: 99.94%\n",
      "Weighted Precision: 99.90%\n",
      "Weighted Recall: 99.94%\n",
      "Weighted F1 Score: 99.92%\n",
      "\u001b[1m 123/5969\u001b[0m \u001b[37m━━━━━━━━━━━━━━━━━━━━\u001b[0m \u001b[1m2s\u001b[0m 410us/step "
     ]
    },
    {
     "name": "stderr",
     "output_type": "stream",
     "text": [
      "/home/jovyan/.local/lib/python3.11/site-packages/sklearn/metrics/_classification.py:1334: UndefinedMetricWarning: Precision is ill-defined and being set to 0.0 in labels with no predicted samples. Use `zero_division` parameter to control this behavior.\n",
      "  _warn_prf(average, modifier, msg_start, len(result))\n"
     ]
    },
    {
     "name": "stdout",
     "output_type": "stream",
     "text": [
      "\u001b[1m5969/5969\u001b[0m \u001b[32m━━━━━━━━━━━━━━━━━━━━\u001b[0m\u001b[37m\u001b[0m \u001b[1m2s\u001b[0m 410us/step\n"
     ]
    },
    {
     "name": "stderr",
     "output_type": "stream",
     "text": [
      "/home/jovyan/.local/lib/python3.11/site-packages/sklearn/metrics/_classification.py:1334: UndefinedMetricWarning: Precision is ill-defined and being set to 0.0 in labels with no predicted samples. Use `zero_division` parameter to control this behavior.\n",
      "  _warn_prf(average, modifier, msg_start, len(result))\n"
     ]
    },
    {
     "name": "stdout",
     "output_type": "stream",
     "text": [
      "0.1_defensed model\n",
      "Accuracy: 99.94%\n",
      "Macro Precision: 59.42%\n",
      "Macro Recall: 59.63%\n",
      "Macro F1 Score: 59.52%\n",
      "\u001b[1m7462/7462\u001b[0m \u001b[32m━━━━━━━━━━━━━━━━━━━━\u001b[0m\u001b[37m\u001b[0m \u001b[1m3s\u001b[0m 407us/step\n",
      "0.2_origin\n",
      "Accuracy: 99.98%\n",
      "Weighted Precision: 99.98%\n",
      "Weighted Recall: 99.98%\n",
      "Weighted F1 Score: 99.98%\n",
      "\u001b[1m7462/7462\u001b[0m \u001b[32m━━━━━━━━━━━━━━━━━━━━\u001b[0m\u001b[37m\u001b[0m \u001b[1m3s\u001b[0m 396us/step\n",
      "0.2_origin\n",
      "Accuracy: 99.98%\n",
      "Macro Precision: 97.88%\n",
      "Macro Recall: 81.16%\n",
      "Macro F1 Score: 86.55%\n",
      "\u001b[1m5969/5969\u001b[0m \u001b[32m━━━━━━━━━━━━━━━━━━━━\u001b[0m\u001b[37m\u001b[0m \u001b[1m2s\u001b[0m 408us/step\n",
      "0.2_test attack dataset\n",
      "Accuracy: 99.94%\n",
      "Weighted Precision: 99.92%\n",
      "Weighted Recall: 99.94%\n",
      "Weighted F1 Score: 99.93%\n",
      "\u001b[1m 123/5969\u001b[0m \u001b[37m━━━━━━━━━━━━━━━━━━━━\u001b[0m \u001b[1m2s\u001b[0m 410us/step "
     ]
    },
    {
     "name": "stderr",
     "output_type": "stream",
     "text": [
      "/home/jovyan/.local/lib/python3.11/site-packages/sklearn/metrics/_classification.py:1334: UndefinedMetricWarning: Precision is ill-defined and being set to 0.0 in labels with no predicted samples. Use `zero_division` parameter to control this behavior.\n",
      "  _warn_prf(average, modifier, msg_start, len(result))\n"
     ]
    },
    {
     "name": "stdout",
     "output_type": "stream",
     "text": [
      "\u001b[1m5969/5969\u001b[0m \u001b[32m━━━━━━━━━━━━━━━━━━━━\u001b[0m\u001b[37m\u001b[0m \u001b[1m2s\u001b[0m 399us/step\n"
     ]
    },
    {
     "name": "stderr",
     "output_type": "stream",
     "text": [
      "/home/jovyan/.local/lib/python3.11/site-packages/sklearn/metrics/_classification.py:1334: UndefinedMetricWarning: Precision is ill-defined and being set to 0.0 in labels with no predicted samples. Use `zero_division` parameter to control this behavior.\n",
      "  _warn_prf(average, modifier, msg_start, len(result))\n"
     ]
    },
    {
     "name": "stdout",
     "output_type": "stream",
     "text": [
      "0.2_test attack dataset\n",
      "Accuracy: 99.94%\n",
      "Macro Precision: 71.81%\n",
      "Macro Recall: 63.71%\n",
      "Macro F1 Score: 65.36%\n",
      "Epoch 1/10\n",
      "\u001b[1m11938/11938\u001b[0m \u001b[32m━━━━━━━━━━━━━━━━━━━━\u001b[0m\u001b[37m\u001b[0m \u001b[1m10s\u001b[0m 828us/step - accuracy: 0.9707 - loss: 0.1467 - val_accuracy: 0.9972 - val_loss: 0.0105\n",
      "Epoch 2/10\n",
      "\u001b[1m11938/11938\u001b[0m \u001b[32m━━━━━━━━━━━━━━━━━━━━\u001b[0m\u001b[37m\u001b[0m \u001b[1m10s\u001b[0m 815us/step - accuracy: 0.9979 - loss: 0.0086 - val_accuracy: 0.9987 - val_loss: 0.0056\n",
      "Epoch 3/10\n",
      "\u001b[1m11938/11938\u001b[0m \u001b[32m━━━━━━━━━━━━━━━━━━━━\u001b[0m\u001b[37m\u001b[0m \u001b[1m10s\u001b[0m 809us/step - accuracy: 0.9988 - loss: 0.0052 - val_accuracy: 0.9992 - val_loss: 0.0041\n",
      "Epoch 4/10\n",
      "\u001b[1m11938/11938\u001b[0m \u001b[32m━━━━━━━━━━━━━━━━━━━━\u001b[0m\u001b[37m\u001b[0m \u001b[1m10s\u001b[0m 804us/step - accuracy: 0.9992 - loss: 0.0037 - val_accuracy: 0.9993 - val_loss: 0.0034\n",
      "Epoch 5/10\n",
      "\u001b[1m11938/11938\u001b[0m \u001b[32m━━━━━━━━━━━━━━━━━━━━\u001b[0m\u001b[37m\u001b[0m \u001b[1m10s\u001b[0m 795us/step - accuracy: 0.9992 - loss: 0.0033 - val_accuracy: 0.9993 - val_loss: 0.0030\n",
      "Epoch 6/10\n",
      "\u001b[1m11938/11938\u001b[0m \u001b[32m━━━━━━━━━━━━━━━━━━━━\u001b[0m\u001b[37m\u001b[0m \u001b[1m10s\u001b[0m 804us/step - accuracy: 0.9993 - loss: 0.0028 - val_accuracy: 0.9994 - val_loss: 0.0027\n",
      "Epoch 7/10\n",
      "\u001b[1m11938/11938\u001b[0m \u001b[32m━━━━━━━━━━━━━━━━━━━━\u001b[0m\u001b[37m\u001b[0m \u001b[1m10s\u001b[0m 803us/step - accuracy: 0.9993 - loss: 0.0027 - val_accuracy: 0.9993 - val_loss: 0.0025\n",
      "Epoch 8/10\n",
      "\u001b[1m11938/11938\u001b[0m \u001b[32m━━━━━━━━━━━━━━━━━━━━\u001b[0m\u001b[37m\u001b[0m \u001b[1m10s\u001b[0m 822us/step - accuracy: 0.9994 - loss: 0.0024 - val_accuracy: 0.9994 - val_loss: 0.0024\n",
      "Epoch 9/10\n",
      "\u001b[1m11938/11938\u001b[0m \u001b[32m━━━━━━━━━━━━━━━━━━━━\u001b[0m\u001b[37m\u001b[0m \u001b[1m10s\u001b[0m 804us/step - accuracy: 0.9994 - loss: 0.0022 - val_accuracy: 0.9994 - val_loss: 0.0022\n",
      "Epoch 10/10\n",
      "\u001b[1m11938/11938\u001b[0m \u001b[32m━━━━━━━━━━━━━━━━━━━━\u001b[0m\u001b[37m\u001b[0m \u001b[1m10s\u001b[0m 804us/step - accuracy: 0.9994 - loss: 0.0022 - val_accuracy: 0.9994 - val_loss: 0.0021\n",
      "\u001b[1m5969/5969\u001b[0m \u001b[32m━━━━━━━━━━━━━━━━━━━━\u001b[0m\u001b[37m\u001b[0m \u001b[1m2s\u001b[0m 410us/step\n",
      "0.2_defensed model\n",
      "Accuracy: 99.94%\n",
      "Weighted Precision: 99.90%\n",
      "Weighted Recall: 99.94%\n",
      "Weighted F1 Score: 99.92%\n",
      "\u001b[1m 125/5969\u001b[0m \u001b[37m━━━━━━━━━━━━━━━━━━━━\u001b[0m \u001b[1m2s\u001b[0m 405us/step "
     ]
    },
    {
     "name": "stderr",
     "output_type": "stream",
     "text": [
      "/home/jovyan/.local/lib/python3.11/site-packages/sklearn/metrics/_classification.py:1334: UndefinedMetricWarning: Precision is ill-defined and being set to 0.0 in labels with no predicted samples. Use `zero_division` parameter to control this behavior.\n",
      "  _warn_prf(average, modifier, msg_start, len(result))\n"
     ]
    },
    {
     "name": "stdout",
     "output_type": "stream",
     "text": [
      "\u001b[1m5969/5969\u001b[0m \u001b[32m━━━━━━━━━━━━━━━━━━━━\u001b[0m\u001b[37m\u001b[0m \u001b[1m2s\u001b[0m 400us/step\n"
     ]
    },
    {
     "name": "stderr",
     "output_type": "stream",
     "text": [
      "/home/jovyan/.local/lib/python3.11/site-packages/sklearn/metrics/_classification.py:1334: UndefinedMetricWarning: Precision is ill-defined and being set to 0.0 in labels with no predicted samples. Use `zero_division` parameter to control this behavior.\n",
      "  _warn_prf(average, modifier, msg_start, len(result))\n"
     ]
    },
    {
     "name": "stdout",
     "output_type": "stream",
     "text": [
      "0.2_defensed model\n",
      "Accuracy: 99.94%\n",
      "Macro Precision: 59.47%\n",
      "Macro Recall: 59.54%\n",
      "Macro F1 Score: 59.51%\n",
      "\u001b[1m7462/7462\u001b[0m \u001b[32m━━━━━━━━━━━━━━━━━━━━\u001b[0m\u001b[37m\u001b[0m \u001b[1m3s\u001b[0m 398us/step\n",
      "0.3_origin\n",
      "Accuracy: 99.98%\n",
      "Weighted Precision: 99.98%\n",
      "Weighted Recall: 99.98%\n",
      "Weighted F1 Score: 99.98%\n",
      "\u001b[1m7462/7462\u001b[0m \u001b[32m━━━━━━━━━━━━━━━━━━━━\u001b[0m\u001b[37m\u001b[0m \u001b[1m3s\u001b[0m 399us/step\n",
      "0.3_origin\n",
      "Accuracy: 99.98%\n",
      "Macro Precision: 97.88%\n",
      "Macro Recall: 81.16%\n",
      "Macro F1 Score: 86.55%\n",
      "\u001b[1m5969/5969\u001b[0m \u001b[32m━━━━━━━━━━━━━━━━━━━━\u001b[0m\u001b[37m\u001b[0m \u001b[1m2s\u001b[0m 386us/step\n",
      "0.3_test attack dataset\n",
      "Accuracy: 99.88%\n",
      "Weighted Precision: 99.87%\n",
      "Weighted Recall: 99.88%\n",
      "Weighted F1 Score: 99.87%\n",
      "\u001b[1m 124/5969\u001b[0m \u001b[37m━━━━━━━━━━━━━━━━━━━━\u001b[0m \u001b[1m2s\u001b[0m 407us/step "
     ]
    },
    {
     "name": "stderr",
     "output_type": "stream",
     "text": [
      "/home/jovyan/.local/lib/python3.11/site-packages/sklearn/metrics/_classification.py:1334: UndefinedMetricWarning: Precision is ill-defined and being set to 0.0 in labels with no predicted samples. Use `zero_division` parameter to control this behavior.\n",
      "  _warn_prf(average, modifier, msg_start, len(result))\n"
     ]
    },
    {
     "name": "stdout",
     "output_type": "stream",
     "text": [
      "\u001b[1m5969/5969\u001b[0m \u001b[32m━━━━━━━━━━━━━━━━━━━━\u001b[0m\u001b[37m\u001b[0m \u001b[1m2s\u001b[0m 404us/step\n"
     ]
    },
    {
     "name": "stderr",
     "output_type": "stream",
     "text": [
      "/home/jovyan/.local/lib/python3.11/site-packages/sklearn/metrics/_classification.py:1334: UndefinedMetricWarning: Precision is ill-defined and being set to 0.0 in labels with no predicted samples. Use `zero_division` parameter to control this behavior.\n",
      "  _warn_prf(average, modifier, msg_start, len(result))\n"
     ]
    },
    {
     "name": "stdout",
     "output_type": "stream",
     "text": [
      "0.3_test attack dataset\n",
      "Accuracy: 99.88%\n",
      "Macro Precision: 68.54%\n",
      "Macro Recall: 62.16%\n",
      "Macro F1 Score: 62.74%\n",
      "Epoch 1/10\n",
      "\u001b[1m11938/11938\u001b[0m \u001b[32m━━━━━━━━━━━━━━━━━━━━\u001b[0m\u001b[37m\u001b[0m \u001b[1m10s\u001b[0m 828us/step - accuracy: 0.9748 - loss: 0.1082 - val_accuracy: 0.9931 - val_loss: 0.0142\n",
      "Epoch 2/10\n",
      "\u001b[1m11938/11938\u001b[0m \u001b[32m━━━━━━━━━━━━━━━━━━━━\u001b[0m\u001b[37m\u001b[0m \u001b[1m10s\u001b[0m 814us/step - accuracy: 0.9952 - loss: 0.0122 - val_accuracy: 0.9981 - val_loss: 0.0082\n",
      "Epoch 3/10\n",
      "\u001b[1m11938/11938\u001b[0m \u001b[32m━━━━━━━━━━━━━━━━━━━━\u001b[0m\u001b[37m\u001b[0m \u001b[1m10s\u001b[0m 811us/step - accuracy: 0.9984 - loss: 0.0075 - val_accuracy: 0.9989 - val_loss: 0.0056\n",
      "Epoch 4/10\n",
      "\u001b[1m11938/11938\u001b[0m \u001b[32m━━━━━━━━━━━━━━━━━━━━\u001b[0m\u001b[37m\u001b[0m \u001b[1m10s\u001b[0m 810us/step - accuracy: 0.9990 - loss: 0.0053 - val_accuracy: 0.9991 - val_loss: 0.0044\n",
      "Epoch 5/10\n",
      "\u001b[1m11938/11938\u001b[0m \u001b[32m━━━━━━━━━━━━━━━━━━━━\u001b[0m\u001b[37m\u001b[0m \u001b[1m10s\u001b[0m 803us/step - accuracy: 0.9991 - loss: 0.0043 - val_accuracy: 0.9991 - val_loss: 0.0037\n",
      "Epoch 6/10\n",
      "\u001b[1m11938/11938\u001b[0m \u001b[32m━━━━━━━━━━━━━━━━━━━━\u001b[0m\u001b[37m\u001b[0m \u001b[1m10s\u001b[0m 794us/step - accuracy: 0.9991 - loss: 0.0038 - val_accuracy: 0.9991 - val_loss: 0.0033\n",
      "Epoch 7/10\n",
      "\u001b[1m11938/11938\u001b[0m \u001b[32m━━━━━━━━━━━━━━━━━━━━\u001b[0m\u001b[37m\u001b[0m \u001b[1m10s\u001b[0m 799us/step - accuracy: 0.9992 - loss: 0.0031 - val_accuracy: 0.9994 - val_loss: 0.0029\n",
      "Epoch 8/10\n",
      "\u001b[1m11938/11938\u001b[0m \u001b[32m━━━━━━━━━━━━━━━━━━━━\u001b[0m\u001b[37m\u001b[0m \u001b[1m9s\u001b[0m 790us/step - accuracy: 0.9993 - loss: 0.0028 - val_accuracy: 0.9994 - val_loss: 0.0027\n",
      "Epoch 9/10\n",
      "\u001b[1m11938/11938\u001b[0m \u001b[32m━━━━━━━━━━━━━━━━━━━━\u001b[0m\u001b[37m\u001b[0m \u001b[1m10s\u001b[0m 809us/step - accuracy: 0.9994 - loss: 0.0025 - val_accuracy: 0.9994 - val_loss: 0.0025\n",
      "Epoch 10/10\n",
      "\u001b[1m11938/11938\u001b[0m \u001b[32m━━━━━━━━━━━━━━━━━━━━\u001b[0m\u001b[37m\u001b[0m \u001b[1m10s\u001b[0m 804us/step - accuracy: 0.9993 - loss: 0.0024 - val_accuracy: 0.9994 - val_loss: 0.0023\n",
      "\u001b[1m5969/5969\u001b[0m \u001b[32m━━━━━━━━━━━━━━━━━━━━\u001b[0m\u001b[37m\u001b[0m \u001b[1m2s\u001b[0m 400us/step\n",
      "0.3_defensed model\n",
      "Accuracy: 99.94%\n",
      "Weighted Precision: 99.90%\n",
      "Weighted Recall: 99.94%\n",
      "Weighted F1 Score: 99.92%\n",
      "\u001b[1m 126/5969\u001b[0m \u001b[37m━━━━━━━━━━━━━━━━━━━━\u001b[0m \u001b[1m2s\u001b[0m 400us/step "
     ]
    },
    {
     "name": "stderr",
     "output_type": "stream",
     "text": [
      "/home/jovyan/.local/lib/python3.11/site-packages/sklearn/metrics/_classification.py:1334: UndefinedMetricWarning: Precision is ill-defined and being set to 0.0 in labels with no predicted samples. Use `zero_division` parameter to control this behavior.\n",
      "  _warn_prf(average, modifier, msg_start, len(result))\n"
     ]
    },
    {
     "name": "stdout",
     "output_type": "stream",
     "text": [
      "\u001b[1m5969/5969\u001b[0m \u001b[32m━━━━━━━━━━━━━━━━━━━━\u001b[0m\u001b[37m\u001b[0m \u001b[1m2s\u001b[0m 399us/step\n",
      "0.3_defensed model\n",
      "Accuracy: 99.94%\n",
      "Macro Precision: 59.36%\n",
      "Macro Recall: 59.59%\n",
      "Macro F1 Score: 59.48%\n"
     ]
    },
    {
     "name": "stderr",
     "output_type": "stream",
     "text": [
      "/home/jovyan/.local/lib/python3.11/site-packages/sklearn/metrics/_classification.py:1334: UndefinedMetricWarning: Precision is ill-defined and being set to 0.0 in labels with no predicted samples. Use `zero_division` parameter to control this behavior.\n",
      "  _warn_prf(average, modifier, msg_start, len(result))\n"
     ]
    }
   ],
   "source": [
    "X_test = np.load('/home/jovyan/Wustl_iiot/x_test.npy')\n",
    "X_train = np.load('/home/jovyan/Wustl_iiot/x_train.npy')\n",
    "X_val = np.load('/home/jovyan/Wustl_iiot/x_val.npy')\n",
    "y_test = np.load('/home/jovyan/Wustl_iiot/y_test.npy')\n",
    "y_train = np.load('/home/jovyan/Wustl_iiot/y_train.npy')\n",
    "y_val = np.load('/home/jovyan/Wustl_iiot/y_val.npy')\n",
    "\n",
    "input_shape = X_train.shape[1:]\n",
    "num_classes = len(np.unique(y_train))\n",
    "\n",
    "dnn_model = Sequential()\n",
    "dnn_model.add(Input(shape=input_shape))\n",
    "dnn_model.add(Dense(units=30, activation='relu'))\n",
    "dnn_model.add(Dense(units=20, activation='relu'))\n",
    "dnn_model.add(Dense(units=num_classes, activation='softmax'))\n",
    "\n",
    "opt = SGD(learning_rate=0.01)\n",
    "\n",
    "dnn_model.compile(loss=\"sparse_categorical_crossentropy\", optimizer=opt, metrics=['accuracy'])\n",
    "\n",
    "early_stopping = EarlyStopping(monitor='val_loss', min_delta=0, patience=5)\n",
    "hist = dnn_model.fit(X_train, y_train, epochs=10, batch_size=64,\n",
    "                     validation_data=(X_val, y_val),\n",
    "                     callbacks=[early_stopping])\n",
    "\n",
    "ratio_values = [0.01, 0.05, 0.1, 0.2, 0.3]\n",
    "# rule of thumb: Interval for numerical, combination for categorical\n",
    "for ratio in ratio_values:\n",
    "    xtext = f\"/home/jovyan/A2PM/A2PM_adv_sample/A2PM_{ratio}_fullattack_X.npy\"\n",
    "    X_adv = np.load(xtext)\n",
    "    ytext = f\"/home/jovyan/A2PM/A2PM_adv_sample/A2PM_{ratio}_fullattack_y.npy\"\n",
    "    y_adv = np.load(ytext)\n",
    "    \n",
    "    X_train_adv, X_test_adv, y_train_adv, y_test_adv = train_test_split(X_adv, y_adv, test_size=0.2, random_state=42)\n",
    "    \n",
    "\n",
    "    text=f\"{ratio}_origin\"\n",
    "    metrics_master(dnn_model, X_test, y_test, text)\n",
    "\n",
    "    text=f\"{ratio}_test attack dataset\"\n",
    "    metrics_master(dnn_model, X_test_adv, y_test_adv, text)\n",
    "\n",
    "    \n",
    "    input_shape = X_train_adv.shape[1:]\n",
    "    num_classes = len(np.unique(y_train_adv))\n",
    "    \n",
    "    dnn_model_def = Sequential()\n",
    "    dnn_model_def.add(Input(shape=input_shape))\n",
    "    dnn_model_def.add(Dense(units=30, activation='relu'))\n",
    "    dnn_model_def.add(Dense(units=20, activation='relu'))\n",
    "    dnn_model_def.add(Dense(units=num_classes, activation='softmax'))\n",
    "    \n",
    "    opt = SGD(learning_rate=0.01)\n",
    "    \n",
    "    dnn_model_def.compile(loss=\"sparse_categorical_crossentropy\", optimizer=opt, metrics=['accuracy'])\n",
    "    \n",
    "    early_stopping = EarlyStopping(monitor='val_loss', min_delta=0, patience=5)\n",
    "    hist = dnn_model_def.fit(X_train_adv, y_train_adv, epochs=10, batch_size=64,\n",
    "                         validation_data=(X_train_adv, y_train_adv),\n",
    "                         callbacks=[early_stopping])\n",
    "\n",
    "\n",
    "    text=f\"{ratio}_defensed model\"\n",
    "    metrics_master(dnn_model_def, X_test_adv, y_test_adv, text)"
   ]
  },
  {
   "cell_type": "code",
   "execution_count": null,
   "id": "aa60f0fb-0072-49d9-aa18-ae5ea86a0c3a",
   "metadata": {},
   "outputs": [],
   "source": []
  }
 ],
 "metadata": {
  "kernelspec": {
   "display_name": "Python 3 (ipykernel)",
   "language": "python",
   "name": "python3"
  },
  "language_info": {
   "codemirror_mode": {
    "name": "ipython",
    "version": 3
   },
   "file_extension": ".py",
   "mimetype": "text/x-python",
   "name": "python",
   "nbconvert_exporter": "python",
   "pygments_lexer": "ipython3",
   "version": "3.11.5"
  }
 },
 "nbformat": 4,
 "nbformat_minor": 5
}
