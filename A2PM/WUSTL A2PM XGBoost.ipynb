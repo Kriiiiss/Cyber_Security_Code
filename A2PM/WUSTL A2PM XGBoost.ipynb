{
 "cells": [
  {
   "cell_type": "markdown",
   "id": "2a758932-affe-4abd-95a5-aa7c98fc6835",
   "metadata": {},
   "source": [
    "# Imports"
   ]
  },
  {
   "cell_type": "code",
   "execution_count": 4,
   "id": "2a0960bd-548a-41f2-b127-50ab73f18dcd",
   "metadata": {},
   "outputs": [
    {
     "name": "stdout",
     "output_type": "stream",
     "text": [
      "Collecting a2pm\n",
      "  Downloading a2pm-1.2.0-py3-none-any.whl.metadata (6.1 kB)\n",
      "Requirement already satisfied: numpy<2,>=1.17.5 in /opt/conda/lib/python3.11/site-packages (from a2pm) (1.26.1)\n",
      "Requirement already satisfied: scikit-learn<2,>=0.23.2 in /home/jovyan/.local/lib/python3.11/site-packages (from a2pm) (1.1.3)\n",
      "Requirement already satisfied: scipy>=1.3.2 in /opt/conda/lib/python3.11/site-packages (from scikit-learn<2,>=0.23.2->a2pm) (1.11.3)\n",
      "Requirement already satisfied: joblib>=1.0.0 in /opt/conda/lib/python3.11/site-packages (from scikit-learn<2,>=0.23.2->a2pm) (1.3.2)\n",
      "Requirement already satisfied: threadpoolctl>=2.0.0 in /opt/conda/lib/python3.11/site-packages (from scikit-learn<2,>=0.23.2->a2pm) (3.2.0)\n",
      "Downloading a2pm-1.2.0-py3-none-any.whl (25 kB)\n",
      "Installing collected packages: a2pm\n",
      "Successfully installed a2pm-1.2.0\n"
     ]
    }
   ],
   "source": [
    "# !pip install a2pm"
   ]
  },
  {
   "cell_type": "code",
   "execution_count": 1,
   "id": "42decf63-37a0-47fc-b8fe-6a7555a86f8c",
   "metadata": {
    "tags": []
   },
   "outputs": [],
   "source": [
    "import pandas as pd\n",
    "import numpy as np\n",
    "import matplotlib.pyplot as plt\n",
    "import seaborn as sns\n",
    "\n",
    "from sklearn.metrics import accuracy_score, precision_recall_fscore_support, roc_auc_score, confusion_matrix, accuracy_score, precision_score, recall_score, f1_score\n",
    "from sklearn.preprocessing import label_binarize\n",
    "from sklearn.model_selection import train_test_split\n",
    "import torch\n",
    "\n",
    "import time"
   ]
  },
  {
   "cell_type": "code",
   "execution_count": 2,
   "id": "5971907b-5c73-4eb8-a144-ae79c3060d4a",
   "metadata": {
    "tags": []
   },
   "outputs": [],
   "source": [
    "from a2pm import A2PMethod\n",
    "from a2pm.callbacks import BaseCallback, MetricCallback, TimeCallback\n",
    "from a2pm.patterns import BasePattern, CombinationPattern, IntervalPattern\n",
    "from a2pm.wrappers import BaseWrapper, KerasWrapper, SklearnWrapper, TorchWrapper"
   ]
  },
  {
   "cell_type": "code",
   "execution_count": 3,
   "id": "2a845d5e-ffbb-4376-9785-21eb294fb3cd",
   "metadata": {
    "tags": []
   },
   "outputs": [],
   "source": [
    "# X_train = np.load('X-IIoT-pre-processed/x_train.npy')\n",
    "# y_train = np.load('X-IIoT-pre-processed/y_train.npy')\n",
    "# X_val = np.load('X-IIoT-pre-processed/x_val.npy')\n",
    "# y_val = np.load('X-IIoT-pre-processed/y_val.npy')\n",
    "# X_test = np.load('X-IIoT-pre-processed/x_test.npy')\n",
    "# y_test = np.load('X-IIoT-pre-processed/y_test.npy')\n",
    "\n",
    "X_test = np.load('/home/jovyan/Wustl_iiot/x_test.npy')\n",
    "X_train = np.load('/home/jovyan/Wustl_iiot/x_train.npy')\n",
    "X_val = np.load('/home/jovyan/Wustl_iiot/x_val.npy')\n",
    "y_test = np.load('/home/jovyan/Wustl_iiot/y_test.npy')\n",
    "y_train = np.load('/home/jovyan/Wustl_iiot/y_train.npy')\n",
    "y_val = np.load('/home/jovyan/Wustl_iiot/y_val.npy')"
   ]
  },
  {
   "cell_type": "markdown",
   "id": "fb12d935-b951-4c58-84cc-1d97377c2805",
   "metadata": {},
   "source": [
    "# Train"
   ]
  },
  {
   "cell_type": "markdown",
   "id": "115ef31f-88e7-44f6-915d-bb75d9e61b80",
   "metadata": {},
   "source": [
    "We train the baseline model to get an impression of how our model perform on an IDS dataset without any adversarial samples."
   ]
  },
  {
   "cell_type": "code",
   "execution_count": 4,
   "id": "bdfb266e-4e00-4c6e-8efa-c5ef9cb4c5aa",
   "metadata": {
    "tags": []
   },
   "outputs": [],
   "source": [
    "import xgboost as xgb\n",
    "from xgboost import XGBClassifier\n",
    "\n",
    "from sklearn.model_selection import GridSearchCV"
   ]
  },
  {
   "cell_type": "code",
   "execution_count": 5,
   "id": "e716ebda-4c63-48db-8d70-6f55315d0db5",
   "metadata": {
    "tags": []
   },
   "outputs": [
    {
     "name": "stdout",
     "output_type": "stream",
     "text": [
      "Fitting 3 folds for each of 1 candidates, totalling 3 fits\n",
      "[CV 1/3] END ..................................., score=1.000 total time=   2.6s\n",
      "[CV 2/3] END ..................................., score=1.000 total time=   2.6s\n",
      "[CV 3/3] END ..................................., score=1.000 total time=   2.4s\n",
      "Best parameters found:  {}\n"
     ]
    }
   ],
   "source": [
    "model_xgb = XGBClassifier()\n",
    "\n",
    "param_grid = {\n",
    "    # 'n_estimators': [10, 50, 100],\n",
    "    # 'max_depth': [None, 50, 100],\n",
    "    # 'n_estimators': [10],\n",
    "    # 'max_depth': [None],\n",
    "}\n",
    "\n",
    "grid_search_xgb = GridSearchCV(model_xgb, param_grid, cv=3, scoring='accuracy', verbose=3)\n",
    "grid_search_xgb.fit(X_train, y_train)\n",
    "\n",
    "print(\"Best parameters found: \", grid_search_xgb.best_params_)"
   ]
  },
  {
   "cell_type": "markdown",
   "id": "17c32faa-3715-40f3-8ad3-c8337395eb46",
   "metadata": {
    "editable": true,
    "slideshow": {
     "slide_type": ""
    },
    "tags": []
   },
   "source": [
    "# Evaluate"
   ]
  },
  {
   "cell_type": "markdown",
   "id": "ee2a1426-1f35-49ee-bbea-e859ca0de489",
   "metadata": {},
   "source": [
    "Evaluate the RF model on the IDS dataset, once again with no adversarial samples."
   ]
  },
  {
   "cell_type": "markdown",
   "id": "7a62c401-2f51-4b80-9d29-e6c1921c4830",
   "metadata": {
    "tags": []
   },
   "source": [
    "## Helpers"
   ]
  },
  {
   "cell_type": "code",
   "execution_count": 6,
   "id": "5a4532c0-4b7f-44f1-94f0-4b40884ea6c4",
   "metadata": {
    "tags": []
   },
   "outputs": [],
   "source": [
    "\n",
    "\n",
    "def metrics_master(model, X_test, y_test, type):\n",
    "    metrics_weighted(model, X_test, y_test, type)\n",
    "    metrics_macro(model, X_test, y_test, type)\n",
    "\n",
    "def metrics_macro(model, X_test, y_test, type):\n",
    "    y_pred = model.predict(X_test)\n",
    "    \n",
    "    accuracy = accuracy_score(y_test, y_pred)\n",
    "    precision = precision_score(y_test, y_pred, average='macro')\n",
    "    recall = recall_score(y_test, y_pred, average='macro')\n",
    "    f1 = f1_score(y_test, y_pred, average='macro')\n",
    "\n",
    "    data = {\n",
    "    \"Metric\": [\"Accuracy\", \"Macro Precision\", \"Macro Recall\", \"Macro F1 Score\"],\n",
    "    type: [accuracy, precision, recall, f1]\n",
    "    }\n",
    "    \n",
    "    # Creating DataFrame\n",
    "    df = pd.DataFrame(data)\n",
    "    \n",
    "    # Saving to CSV\n",
    "    csv_file_path = \"/home/jovyan/A2PM/XGB.csv\"\n",
    "    df.to_csv(csv_file_path, mode='a', index=False)\n",
    "\n",
    "    print(type)\n",
    "    print(f\"Accuracy: {accuracy * 100:.2f}%\")\n",
    "    print(f\"Macro Precision: {precision * 100:.2f}%\")\n",
    "    print(f\"Macro Recall: {recall * 100:.2f}%\")\n",
    "    print(f\"Macro F1 Score: {f1 * 100:.2f}%\")\n",
    "    \n",
    "def metrics_weighted(model, X_test, y_test, type):\n",
    "    y_pred = model.predict(X_test)\n",
    "    \n",
    "    accuracy = accuracy_score(y_test, y_pred)\n",
    "    precision = precision_score(y_test, y_pred, average='weighted')\n",
    "    recall = recall_score(y_test, y_pred, average='weighted')\n",
    "    f1 = f1_score(y_test, y_pred, average='weighted')\n",
    "\n",
    "    data = {\n",
    "    \"Metric\": [\"Accuracy\", \"Weighted Precision\", \"Weighted Recall\", \"Weighted F1 Score\"],\n",
    "    type: [accuracy, precision, recall, f1]\n",
    "    }\n",
    "    \n",
    "    # Creating DataFrame\n",
    "    df = pd.DataFrame(data)\n",
    "    \n",
    "    # Saving to CSV\n",
    "    csv_file_path = \"/home/jovyan/A2PM/XGB.csv\"\n",
    "    df.to_csv(csv_file_path, mode='a', index=False)\n",
    "\n",
    "    print(type)\n",
    "    print(f\"Accuracy: {accuracy * 100:.2f}%\")\n",
    "    print(f\"Weighted Precision: {precision * 100:.2f}%\")\n",
    "    print(f\"Weighted Recall: {recall * 100:.2f}%\")\n",
    "    print(f\"Weighted F1 Score: {f1 * 100:.2f}%\")"
   ]
  },
  {
   "cell_type": "markdown",
   "id": "5648d7cd-e011-48fa-9fde-58a60cc2e3c6",
   "metadata": {},
   "source": [
    "## Scores"
   ]
  },
  {
   "cell_type": "code",
   "execution_count": 7,
   "id": "2897bb2d-c061-497a-9685-b7466aea411e",
   "metadata": {
    "tags": []
   },
   "outputs": [
    {
     "name": "stdout",
     "output_type": "stream",
     "text": [
      "original score\n",
      "Accuracy: 100.00%\n",
      "Weighted Precision: 100.00%\n",
      "Weighted Recall: 100.00%\n",
      "Weighted F1 Score: 100.00%\n",
      "original score\n",
      "Accuracy: 100.00%\n",
      "Macro Precision: 100.00%\n",
      "Macro Recall: 100.00%\n",
      "Macro F1 Score: 100.00%\n"
     ]
    }
   ],
   "source": [
    "xgb_model = grid_search_xgb.best_estimator_\n",
    "metrics_master(xgb_model, X_test, y_test, \"original score\")"
   ]
  },
  {
   "cell_type": "markdown",
   "id": "412f5d20-ae5a-461a-9fea-42a75d88b41a",
   "metadata": {},
   "source": [
    "# A2PM Generation"
   ]
  },
  {
   "cell_type": "markdown",
   "id": "7cd8d7c2-e103-47d6-a6a4-d1d0f83654be",
   "metadata": {},
   "source": [
    "Generate A2PM adversarial samples for further experiments"
   ]
  },
  {
   "cell_type": "markdown",
   "id": "3762824f-1f39-4945-944b-0e46c8d3e3b3",
   "metadata": {},
   "source": [
    "Since we know the data is pre-processed, the categorical variables will be binary columns, and conversely the numerical variables will be the others. Let's find these columns."
   ]
  },
  {
   "cell_type": "code",
   "execution_count": 8,
   "id": "940238fc-705c-4ddf-b690-64701ae6a1ae",
   "metadata": {
    "tags": []
   },
   "outputs": [],
   "source": [
    "def find_binary_columns(X_train):\n",
    "    binary_columns = []\n",
    "    for col in range(X_train.shape[1]):\n",
    "        unique_values = np.unique(X_train[:, col])\n",
    "        if set(unique_values).issubset({0, 1}):\n",
    "            binary_columns.append(col)\n",
    "    return binary_columns\n",
    "\n",
    "binary_columns = find_binary_columns(X_train)\n",
    "\n",
    "numerical_columns = []\n",
    "for i in range(0,42):\n",
    "    if i not in binary_columns:\n",
    "        numerical_columns.append(i)"
   ]
  },
  {
   "cell_type": "code",
   "execution_count": 9,
   "id": "a3b889ed-1282-4ec6-9fff-dd542659b438",
   "metadata": {},
   "outputs": [
    {
     "data": {
      "text/plain": [
       "(716256, 42)"
      ]
     },
     "execution_count": 9,
     "metadata": {},
     "output_type": "execute_result"
    }
   ],
   "source": [
    "X_train.shape"
   ]
  },
  {
   "cell_type": "markdown",
   "id": "904946dd-7288-43cb-9165-54d4307b51b4",
   "metadata": {},
   "source": [
    "The following configuration is the boilerplate found on the A2PM github (https://github.com/vitorinojoao/a2pm). The only modifications are that the interval pattern is applied to the numerical columns, and the combination pattern is applied to the categorical (binary) variables. I removed integer features since the numerical columns are float values, and removed locked_features as I wasn't sure which features needed to be kept static (data was given as processed .npy files)"
   ]
  },
  {
   "cell_type": "code",
   "execution_count": 10,
   "id": "eec34ef6-2d1f-4bb3-95b4-caa764b79b05",
   "metadata": {
    "tags": []
   },
   "outputs": [],
   "source": [
    "xgb_base = grid_search_xgb.best_estimator_\n",
    "\n",
    "classifier = SklearnWrapper(xgb_base)\n",
    "\n",
    "\n",
    "# rule of thumb: Interval for numerical, combination for categorical\n",
    "pattern = (\n",
    "    {\n",
    "        \"type\": \"interval\",\n",
    "        \"features\": numerical_columns,\n",
    "        #\"integer_features\": list(range(10, 20)),\n",
    "        \"ratio\": 0.1,\n",
    "        \"max_ratio\": 0.3,\n",
    "        \"missing_value\": 0.0,\n",
    "        \"probability\": 1,\n",
    "    },\n",
    "    # {\n",
    "    #     \"type\": \"combination\",\n",
    "    #     \"features\": binary_columns,\n",
    "    #     #\"locked_features\": list(range(30, 40)), # Locks some features to ensure validity. Not using this because data is .npy and unreadable\n",
    "    #     \"probability\": 0.4,\n",
    "    # },\n",
    ")\n",
    "\n",
    "method = A2PMethod(pattern)"
   ]
  },
  {
   "cell_type": "markdown",
   "id": "b07a9b3a-7fee-430f-8d4f-f203f4cd9851",
   "metadata": {},
   "source": [
    "We will generate attacks based off the entire dataset. We will resplit the train-test sets afterward in our experiments"
   ]
  },
  {
   "cell_type": "code",
   "execution_count": 11,
   "id": "2d25c3a6-fe16-469c-83e2-0a243f3547da",
   "metadata": {
    "tags": []
   },
   "outputs": [],
   "source": [
    "X = np.concatenate((X_train, X_test), axis=0)\n",
    "y = np.concatenate((y_train, y_test), axis=0)"
   ]
  },
  {
   "cell_type": "code",
   "execution_count": 12,
   "id": "9fc2ffa6-b8ae-4bcf-ad24-be1ce5a3cae8",
   "metadata": {
    "tags": []
   },
   "outputs": [
    {
     "name": "stdout",
     "output_type": "stream",
     "text": [
      "Attack Time: 541.8455910682678\n"
     ]
    }
   ],
   "source": [
    "start_time = time.time()\n",
    "\n",
    "X_adversarial = method.fit_generate(classifier, X, y)\n",
    "\n",
    "training_time = time.time() - start_time\n",
    "print(f\"Attack Time: {training_time}\")"
   ]
  },
  {
   "cell_type": "markdown",
   "id": "f7d3fccc-036d-44c1-ac2f-e9b04a215b13",
   "metadata": {},
   "source": [
    "# Scores after A2PM Attack"
   ]
  },
  {
   "cell_type": "markdown",
   "id": "6f99c3a0-89ac-4909-8152-219b16e294ae",
   "metadata": {},
   "source": [
    "Here we are evaluating how our trained (unprotected) RF model performs on the full A2PM dataset. Each sample is now perturbed, but should still correspond to the original target classes y"
   ]
  },
  {
   "cell_type": "code",
   "execution_count": 13,
   "id": "bec0b69d-c7d7-48ca-88b2-cfa71f04c64d",
   "metadata": {
    "tags": []
   },
   "outputs": [
    {
     "name": "stdout",
     "output_type": "stream",
     "text": [
      "full A2PM Attack\n",
      "Accuracy: 99.99%\n",
      "Weighted Precision: 99.99%\n",
      "Weighted Recall: 99.99%\n",
      "Weighted F1 Score: 99.99%\n",
      "full A2PM Attack\n",
      "Accuracy: 99.99%\n",
      "Macro Precision: 98.04%\n",
      "Macro Recall: 92.18%\n",
      "Macro F1 Score: 94.63%\n"
     ]
    }
   ],
   "source": [
    "metrics_master(xgb_model, X_adversarial, y, \"full A2PM Attack\")"
   ]
  },
  {
   "cell_type": "markdown",
   "id": "c3b211a0-f964-4611-b571-f6f4d52511e7",
   "metadata": {},
   "source": [
    "# Adversarial Training Preprocess"
   ]
  },
  {
   "cell_type": "markdown",
   "id": "82f59c3d-519a-447e-9879-da9746481320",
   "metadata": {},
   "source": [
    "As per many adversarial defense papers, adversarial training has been cited as one of the best ways to improve resilience. We will retrain our model with the original data, in addition to an added 10% of the data being adversarial samples with an \"adversarial\" class (class 19)."
   ]
  },
  {
   "cell_type": "code",
   "execution_count": 14,
   "id": "84f55f7d-0331-473d-a029-0fef77263df5",
   "metadata": {},
   "outputs": [
    {
     "data": {
      "text/plain": [
       "955009"
      ]
     },
     "execution_count": 14,
     "metadata": {},
     "output_type": "execute_result"
    }
   ],
   "source": [
    "X_train.shape[0]+X_test.shape[0]"
   ]
  },
  {
   "cell_type": "code",
   "execution_count": 15,
   "id": "31306cb1-f744-4878-bbf5-985a18c6b94e",
   "metadata": {
    "tags": []
   },
   "outputs": [
    {
     "data": {
      "text/plain": [
       "106112"
      ]
     },
     "execution_count": 15,
     "metadata": {},
     "output_type": "execute_result"
    }
   ],
   "source": [
    "\n",
    "adv_samples_num = int(955009*0.10/0.9) \n",
    "adv_samples_num # 10%"
   ]
  },
  {
   "cell_type": "code",
   "execution_count": 16,
   "id": "3842817b-f323-408e-b49f-8dc8f1f4e9f0",
   "metadata": {
    "tags": []
   },
   "outputs": [
    {
     "data": {
      "text/plain": [
       "array([5, 5, 5, ..., 5, 5, 5])"
      ]
     },
     "execution_count": 16,
     "metadata": {},
     "output_type": "execute_result"
    }
   ],
   "source": [
    "X_adversarial_indices = np.random.choice(X_adversarial.shape[0], size=adv_samples_num, replace=False)\n",
    "X_adversarial_sampled = X_adversarial[X_adversarial_indices]\n",
    "\n",
    "y_adv = np.full(adv_samples_num, 5)\n",
    "y_adv"
   ]
  },
  {
   "cell_type": "code",
   "execution_count": 17,
   "id": "e0e596d3-8333-49cd-b1ac-97c225235aaf",
   "metadata": {},
   "outputs": [
    {
     "data": {
      "text/plain": [
       "array([0, 1, 2, 3, 4])"
      ]
     },
     "execution_count": 17,
     "metadata": {},
     "output_type": "execute_result"
    }
   ],
   "source": [
    "np.unique(y_train)"
   ]
  },
  {
   "cell_type": "code",
   "execution_count": 18,
   "id": "fb98ffbc-e375-4389-bbc8-eca5679ed301",
   "metadata": {
    "tags": []
   },
   "outputs": [],
   "source": [
    "X_new = X.copy()\n",
    "y_new = y.copy()\n",
    "\n",
    "X_combined = np.vstack((X_new, X_adversarial_sampled))\n",
    "y_combined = np.concatenate((y_new, y_adv))"
   ]
  },
  {
   "cell_type": "markdown",
   "id": "8adccfc1-e6d3-47fe-96f6-d0197431741d",
   "metadata": {},
   "source": [
    "# Adversarial Training"
   ]
  },
  {
   "cell_type": "markdown",
   "id": "b0e6c50d-feb1-406b-b2dd-77ee502b476a",
   "metadata": {},
   "source": [
    "Our whole data now contains 10% A2PM samples. Assuming a uniformly random 80/20 split, our training data will be expected to contain 8% A2PM samples, while the testing data is expected to contain 2% A2PM samples. "
   ]
  },
  {
   "cell_type": "code",
   "execution_count": 19,
   "id": "839cbade-edcc-4fc8-9569-bbb216265908",
   "metadata": {
    "tags": []
   },
   "outputs": [],
   "source": [
    "X_train_adv, X_test_adv, y_train_adv, y_test_adv = train_test_split(X_combined, y_combined, test_size=0.2, random_state=42)"
   ]
  },
  {
   "cell_type": "code",
   "execution_count": 20,
   "id": "415da861-6c92-4654-bb8c-a7b2673ee139",
   "metadata": {
    "tags": []
   },
   "outputs": [
    {
     "name": "stdout",
     "output_type": "stream",
     "text": [
      "Fitting 3 folds for each of 1 candidates, totalling 3 fits\n",
      "[CV 1/3] END ..................................., score=1.000 total time=   4.0s\n",
      "[CV 2/3] END ..................................., score=1.000 total time=   4.0s\n",
      "[CV 3/3] END ..................................., score=1.000 total time=   4.2s\n",
      "Best parameters found:  {}\n"
     ]
    }
   ],
   "source": [
    "model_xgb_protected = XGBClassifier()\n",
    "\n",
    "param_grid = {\n",
    "    # 'n_estimators': [10, 50, 100],\n",
    "    # 'max_depth': [None, 50, 100],\n",
    "    # 'n_estimators': [10],\n",
    "    # 'max_depth': [None],\n",
    "}\n",
    "\n",
    "grid_search_xgb_protected = GridSearchCV(model_xgb_protected, param_grid, cv=3, scoring='accuracy', verbose=3)\n",
    "grid_search_xgb_protected.fit(X_train_adv, y_train_adv)\n",
    "\n",
    "print(\"Best parameters found: \", grid_search_xgb.best_params_)"
   ]
  },
  {
   "cell_type": "code",
   "execution_count": 21,
   "id": "4d84d374-d885-4a8b-ad55-1b8e5bc3cec6",
   "metadata": {
    "tags": []
   },
   "outputs": [],
   "source": [
    "xgb_model_protected = grid_search_xgb_protected.best_estimator_"
   ]
  },
  {
   "cell_type": "markdown",
   "id": "b6569179-22e7-4b6a-a497-c1e3aa54c9f0",
   "metadata": {
    "tags": []
   },
   "source": [
    "# Scores (Binary A2PM Detection after Adversarial Training)"
   ]
  },
  {
   "cell_type": "markdown",
   "id": "45fd0a2a-9dae-4863-9e48-cb5fbe5f0185",
   "metadata": {},
   "source": [
    "We want to see how well our protected model can detect A2PM samples. We run it against the unseen A2PM set"
   ]
  },
  {
   "cell_type": "code",
   "execution_count": 32,
   "id": "2049dbf9-daab-4651-8843-c38c8198098e",
   "metadata": {
    "tags": []
   },
   "outputs": [
    {
     "data": {
      "text/plain": [
       "848897"
      ]
     },
     "execution_count": 32,
     "metadata": {},
     "output_type": "execute_result"
    }
   ],
   "source": [
    "X_adversarial_unseen = X_adversarial[np.logical_not(np.isin(np.arange(X_adversarial.shape[0]), X_adversarial_indices))]\n",
    "len(X_adversarial_unseen)"
   ]
  },
  {
   "cell_type": "code",
   "execution_count": 33,
   "id": "6d1103c5-a5d4-4857-84e8-128e1bf46ef3",
   "metadata": {
    "tags": []
   },
   "outputs": [],
   "source": [
    "protected_adversarial_preds = xgb_model_protected.predict(X_adversarial_unseen)"
   ]
  },
  {
   "cell_type": "markdown",
   "id": "91d1b084-2c90-4013-817e-bbb9c361132e",
   "metadata": {},
   "source": [
    "All we need to know is if the model correctly predicts every sample as class 19 (A2PM), and as such we will treat this as a binary classification problem."
   ]
  },
  {
   "cell_type": "code",
   "execution_count": 34,
   "id": "d9f7c856-bb8f-4dfe-808a-8b0ce0c74415",
   "metadata": {
    "tags": []
   },
   "outputs": [],
   "source": [
    "y_adv_full = np.full(len(X_adversarial_unseen), 5)\n",
    "\n",
    "positive_class = 5\n",
    "y_test_binary = (y_adv_full == positive_class).astype(int)\n",
    "adversarial_preds_binary = (protected_adversarial_preds == positive_class).astype(int)"
   ]
  },
  {
   "cell_type": "code",
   "execution_count": 35,
   "id": "6bf1f262-4ced-46e6-94ae-4c6931fd861a",
   "metadata": {
    "tags": []
   },
   "outputs": [
    {
     "name": "stdout",
     "output_type": "stream",
     "text": [
      "Adversarial Accuracy: 100.00%\n",
      "Adversarial Precision: 100.00%\n",
      "Adversarial Recall: 100.00%\n",
      "Adversarial F1 Score: 100.00%\n"
     ]
    }
   ],
   "source": [
    "adversarial_accuracy = accuracy_score(y_test_binary, adversarial_preds_binary)\n",
    "adversarial_precision = precision_score(y_test_binary, adversarial_preds_binary, average='binary')\n",
    "adversarial_recall = recall_score(y_test_binary, adversarial_preds_binary, average='binary')\n",
    "adversarial_f1 = f1_score(y_test_binary, adversarial_preds_binary, average='binary')\n",
    "\n",
    "print(f\"Adversarial Accuracy: {adversarial_accuracy * 100:.2f}%\")\n",
    "print(f\"Adversarial Precision: {adversarial_precision * 100:.2f}%\")\n",
    "print(f\"Adversarial Recall: {adversarial_recall * 100:.2f}%\")\n",
    "print(f\"Adversarial F1 Score: {adversarial_f1 * 100:.2f}%\")"
   ]
  },
  {
   "cell_type": "markdown",
   "id": "2cd26b6a-ba06-4639-9bce-8d9c1b1dc1be",
   "metadata": {},
   "source": [
    "# Scores (10% A2PM Samples, no Adv Training)"
   ]
  },
  {
   "cell_type": "markdown",
   "id": "e65fa0da-e2de-420f-9131-4adde7f33702",
   "metadata": {},
   "source": [
    "Here we benchmark how well our unprotected model performs on a test set with 10% A2PM samples and 90% real samples"
   ]
  },
  {
   "cell_type": "code",
   "execution_count": 22,
   "id": "a45bb41a-9901-4c62-82a6-bc3da1c5fb19",
   "metadata": {
    "tags": []
   },
   "outputs": [
    {
     "name": "stderr",
     "output_type": "stream",
     "text": [
      "/home/jovyan/.local/lib/python3.11/site-packages/sklearn/metrics/_classification.py:1334: UndefinedMetricWarning: Precision is ill-defined and being set to 0.0 in labels with no predicted samples. Use `zero_division` parameter to control this behavior.\n",
      "  _warn_prf(average, modifier, msg_start, len(result))\n",
      "/home/jovyan/.local/lib/python3.11/site-packages/sklearn/metrics/_classification.py:1334: UndefinedMetricWarning: Precision is ill-defined and being set to 0.0 in labels with no predicted samples. Use `zero_division` parameter to control this behavior.\n",
      "  _warn_prf(average, modifier, msg_start, len(result))\n"
     ]
    },
    {
     "name": "stdout",
     "output_type": "stream",
     "text": [
      "no Adv Training\n",
      "Accuracy: 89.95%\n",
      "Weighted Precision: 80.91%\n",
      "Weighted Recall: 89.95%\n",
      "Weighted F1 Score: 85.19%\n",
      "no Adv Training\n",
      "Accuracy: 89.95%\n",
      "Macro Precision: 75.38%\n",
      "Macro Recall: 83.33%\n",
      "Macro F1 Score: 79.12%\n"
     ]
    }
   ],
   "source": [
    "metrics_master(xgb_model, X_test_adv, y_test_adv, \"no Adv Training\")"
   ]
  },
  {
   "cell_type": "markdown",
   "id": "061a6c18-df52-4024-8ead-d2d146a4de59",
   "metadata": {},
   "source": [
    "# Scores (10% A2PM Samples w/ Adv Training)"
   ]
  },
  {
   "cell_type": "markdown",
   "id": "b73906d5-2d03-456f-bcda-7be73472b4dd",
   "metadata": {
    "tags": []
   },
   "source": [
    "Here we benchmark how well our protected model performs on a test set with 10% A2PM samples and 90% real samples"
   ]
  },
  {
   "cell_type": "code",
   "execution_count": 23,
   "id": "3140fb5c-fb54-4370-9bcb-db17bbcb6f19",
   "metadata": {
    "tags": []
   },
   "outputs": [
    {
     "name": "stdout",
     "output_type": "stream",
     "text": [
      "w/ Adv Training\n",
      "Accuracy: 100.00%\n",
      "Weighted Precision: 100.00%\n",
      "Weighted Recall: 100.00%\n",
      "Weighted F1 Score: 100.00%\n",
      "w/ Adv Training\n",
      "Accuracy: 100.00%\n",
      "Macro Precision: 100.00%\n",
      "Macro Recall: 100.00%\n",
      "Macro F1 Score: 100.00%\n"
     ]
    }
   ],
   "source": [
    "metrics_master(xgb_model_protected, X_test_adv, y_test_adv, \"w/ Adv Training\")"
   ]
  },
  {
   "cell_type": "code",
   "execution_count": 54,
   "id": "1d43cbb8-6661-408d-a911-11423250bfb6",
   "metadata": {},
   "outputs": [
    {
     "name": "stdout",
     "output_type": "stream",
     "text": [
      "Attack Time: 556.8508467674255\n",
      "0.01:full A2PM Attack\n",
      "Accuracy: 99.99%\n",
      "Weighted Precision: 99.99%\n",
      "Weighted Recall: 99.99%\n",
      "Weighted F1 Score: 99.99%\n",
      "0.01:full A2PM Attack\n",
      "Accuracy: 99.99%\n",
      "Macro Precision: 98.47%\n",
      "Macro Recall: 93.15%\n",
      "Macro F1 Score: 95.36%\n",
      "Fitting 3 folds for each of 1 candidates, totalling 3 fits\n",
      "[CV 1/3] END ..................................., score=1.000 total time=   3.9s\n",
      "[CV 2/3] END ..................................., score=1.000 total time=   4.0s\n",
      "[CV 3/3] END ..................................., score=1.000 total time=   4.5s\n",
      "Best parameters found:  {}\n",
      "0.01:no Adv Training\n",
      "Accuracy: 89.95%\n",
      "Weighted Precision: 80.91%\n",
      "Weighted Recall: 89.95%\n",
      "Weighted F1 Score: 85.19%\n"
     ]
    },
    {
     "name": "stderr",
     "output_type": "stream",
     "text": [
      "/home/jovyan/.local/lib/python3.11/site-packages/sklearn/metrics/_classification.py:1334: UndefinedMetricWarning: Precision is ill-defined and being set to 0.0 in labels with no predicted samples. Use `zero_division` parameter to control this behavior.\n",
      "  _warn_prf(average, modifier, msg_start, len(result))\n",
      "/home/jovyan/.local/lib/python3.11/site-packages/sklearn/metrics/_classification.py:1334: UndefinedMetricWarning: Precision is ill-defined and being set to 0.0 in labels with no predicted samples. Use `zero_division` parameter to control this behavior.\n",
      "  _warn_prf(average, modifier, msg_start, len(result))\n"
     ]
    },
    {
     "name": "stdout",
     "output_type": "stream",
     "text": [
      "0.01:no Adv Training\n",
      "Accuracy: 89.95%\n",
      "Macro Precision: 74.13%\n",
      "Macro Recall: 83.33%\n",
      "Macro F1 Score: 78.46%\n",
      "0.01:w/ Adv Training\n",
      "Accuracy: 100.00%\n",
      "Weighted Precision: 100.00%\n",
      "Weighted Recall: 100.00%\n",
      "Weighted F1 Score: 100.00%\n",
      "0.01:w/ Adv Training\n",
      "Accuracy: 100.00%\n",
      "Macro Precision: 100.00%\n",
      "Macro Recall: 100.00%\n",
      "Macro F1 Score: 100.00%\n",
      "Attack Time: 551.7298600673676\n",
      "0.05:full A2PM Attack\n",
      "Accuracy: 99.99%\n",
      "Weighted Precision: 99.99%\n",
      "Weighted Recall: 99.99%\n",
      "Weighted F1 Score: 99.99%\n",
      "0.05:full A2PM Attack\n",
      "Accuracy: 99.99%\n",
      "Macro Precision: 98.77%\n",
      "Macro Recall: 92.05%\n",
      "Macro F1 Score: 94.82%\n",
      "Fitting 3 folds for each of 1 candidates, totalling 3 fits\n",
      "[CV 1/3] END ..................................., score=1.000 total time=   4.3s\n",
      "[CV 2/3] END ..................................., score=1.000 total time=   4.1s\n",
      "[CV 3/3] END ..................................., score=1.000 total time=   4.3s\n",
      "Best parameters found:  {}\n",
      "0.05:no Adv Training\n",
      "Accuracy: 89.95%\n",
      "Weighted Precision: 80.91%\n",
      "Weighted Recall: 89.95%\n",
      "Weighted F1 Score: 85.19%\n"
     ]
    },
    {
     "name": "stderr",
     "output_type": "stream",
     "text": [
      "/home/jovyan/.local/lib/python3.11/site-packages/sklearn/metrics/_classification.py:1334: UndefinedMetricWarning: Precision is ill-defined and being set to 0.0 in labels with no predicted samples. Use `zero_division` parameter to control this behavior.\n",
      "  _warn_prf(average, modifier, msg_start, len(result))\n",
      "/home/jovyan/.local/lib/python3.11/site-packages/sklearn/metrics/_classification.py:1334: UndefinedMetricWarning: Precision is ill-defined and being set to 0.0 in labels with no predicted samples. Use `zero_division` parameter to control this behavior.\n",
      "  _warn_prf(average, modifier, msg_start, len(result))\n"
     ]
    },
    {
     "name": "stdout",
     "output_type": "stream",
     "text": [
      "0.05:no Adv Training\n",
      "Accuracy: 89.95%\n",
      "Macro Precision: 73.49%\n",
      "Macro Recall: 83.33%\n",
      "Macro F1 Score: 78.10%\n",
      "0.05:w/ Adv Training\n",
      "Accuracy: 100.00%\n",
      "Weighted Precision: 100.00%\n",
      "Weighted Recall: 100.00%\n",
      "Weighted F1 Score: 100.00%\n",
      "0.05:w/ Adv Training\n",
      "Accuracy: 100.00%\n",
      "Macro Precision: 100.00%\n",
      "Macro Recall: 100.00%\n",
      "Macro F1 Score: 100.00%\n",
      "Attack Time: 549.7241389751434\n",
      "0.1:full A2PM Attack\n",
      "Accuracy: 99.99%\n",
      "Weighted Precision: 99.99%\n",
      "Weighted Recall: 99.99%\n",
      "Weighted F1 Score: 99.99%\n",
      "0.1:full A2PM Attack\n",
      "Accuracy: 99.99%\n",
      "Macro Precision: 98.86%\n",
      "Macro Recall: 93.10%\n",
      "Macro F1 Score: 95.51%\n",
      "Fitting 3 folds for each of 1 candidates, totalling 3 fits\n",
      "[CV 1/3] END ..................................., score=1.000 total time=   4.0s\n",
      "[CV 2/3] END ..................................., score=1.000 total time=   4.2s\n",
      "[CV 3/3] END ..................................., score=1.000 total time=   4.2s\n",
      "Best parameters found:  {}\n",
      "0.1:no Adv Training\n",
      "Accuracy: 89.95%\n",
      "Weighted Precision: 80.91%\n",
      "Weighted Recall: 89.95%\n",
      "Weighted F1 Score: 85.19%\n"
     ]
    },
    {
     "name": "stderr",
     "output_type": "stream",
     "text": [
      "/home/jovyan/.local/lib/python3.11/site-packages/sklearn/metrics/_classification.py:1334: UndefinedMetricWarning: Precision is ill-defined and being set to 0.0 in labels with no predicted samples. Use `zero_division` parameter to control this behavior.\n",
      "  _warn_prf(average, modifier, msg_start, len(result))\n",
      "/home/jovyan/.local/lib/python3.11/site-packages/sklearn/metrics/_classification.py:1334: UndefinedMetricWarning: Precision is ill-defined and being set to 0.0 in labels with no predicted samples. Use `zero_division` parameter to control this behavior.\n",
      "  _warn_prf(average, modifier, msg_start, len(result))\n"
     ]
    },
    {
     "name": "stdout",
     "output_type": "stream",
     "text": [
      "0.1:no Adv Training\n",
      "Accuracy: 89.95%\n",
      "Macro Precision: 75.56%\n",
      "Macro Recall: 83.33%\n",
      "Macro F1 Score: 79.24%\n",
      "0.1:w/ Adv Training\n",
      "Accuracy: 100.00%\n",
      "Weighted Precision: 100.00%\n",
      "Weighted Recall: 100.00%\n",
      "Weighted F1 Score: 100.00%\n",
      "0.1:w/ Adv Training\n",
      "Accuracy: 100.00%\n",
      "Macro Precision: 99.56%\n",
      "Macro Recall: 100.00%\n",
      "Macro F1 Score: 99.78%\n",
      "Attack Time: 543.1949362754822\n",
      "0.2:full A2PM Attack\n",
      "Accuracy: 99.99%\n",
      "Weighted Precision: 99.99%\n",
      "Weighted Recall: 99.99%\n",
      "Weighted F1 Score: 99.99%\n",
      "0.2:full A2PM Attack\n",
      "Accuracy: 99.99%\n",
      "Macro Precision: 99.19%\n",
      "Macro Recall: 90.48%\n",
      "Macro F1 Score: 93.92%\n",
      "Fitting 3 folds for each of 1 candidates, totalling 3 fits\n",
      "[CV 1/3] END ..................................., score=1.000 total time=   3.9s\n",
      "[CV 2/3] END ..................................., score=1.000 total time=   4.1s\n",
      "[CV 3/3] END ..................................., score=1.000 total time=   4.2s\n",
      "Best parameters found:  {}\n",
      "0.2:no Adv Training\n",
      "Accuracy: 89.95%\n",
      "Weighted Precision: 80.91%\n",
      "Weighted Recall: 89.95%\n",
      "Weighted F1 Score: 85.19%\n"
     ]
    },
    {
     "name": "stderr",
     "output_type": "stream",
     "text": [
      "/home/jovyan/.local/lib/python3.11/site-packages/sklearn/metrics/_classification.py:1334: UndefinedMetricWarning: Precision is ill-defined and being set to 0.0 in labels with no predicted samples. Use `zero_division` parameter to control this behavior.\n",
      "  _warn_prf(average, modifier, msg_start, len(result))\n",
      "/home/jovyan/.local/lib/python3.11/site-packages/sklearn/metrics/_classification.py:1334: UndefinedMetricWarning: Precision is ill-defined and being set to 0.0 in labels with no predicted samples. Use `zero_division` parameter to control this behavior.\n",
      "  _warn_prf(average, modifier, msg_start, len(result))\n"
     ]
    },
    {
     "name": "stdout",
     "output_type": "stream",
     "text": [
      "0.2:no Adv Training\n",
      "Accuracy: 89.95%\n",
      "Macro Precision: 72.53%\n",
      "Macro Recall: 83.33%\n",
      "Macro F1 Score: 77.51%\n",
      "0.2:w/ Adv Training\n",
      "Accuracy: 100.00%\n",
      "Weighted Precision: 100.00%\n",
      "Weighted Recall: 100.00%\n",
      "Weighted F1 Score: 100.00%\n",
      "0.2:w/ Adv Training\n",
      "Accuracy: 100.00%\n",
      "Macro Precision: 99.17%\n",
      "Macro Recall: 100.00%\n",
      "Macro F1 Score: 99.57%\n",
      "Attack Time: 497.4636039733887\n",
      "0.3:full A2PM Attack\n",
      "Accuracy: 99.99%\n",
      "Weighted Precision: 99.99%\n",
      "Weighted Recall: 99.99%\n",
      "Weighted F1 Score: 99.99%\n",
      "0.3:full A2PM Attack\n",
      "Accuracy: 99.99%\n",
      "Macro Precision: 97.64%\n",
      "Macro Recall: 87.97%\n",
      "Macro F1 Score: 91.76%\n",
      "Fitting 3 folds for each of 1 candidates, totalling 3 fits\n",
      "[CV 1/3] END ..................................., score=1.000 total time=   5.9s\n",
      "[CV 2/3] END ..................................., score=1.000 total time=   4.4s\n",
      "[CV 3/3] END ..................................., score=1.000 total time=   4.2s\n",
      "Best parameters found:  {}\n",
      "0.3:no Adv Training\n",
      "Accuracy: 89.95%\n",
      "Weighted Precision: 80.91%\n",
      "Weighted Recall: 89.95%\n",
      "Weighted F1 Score: 85.19%\n"
     ]
    },
    {
     "name": "stderr",
     "output_type": "stream",
     "text": [
      "/home/jovyan/.local/lib/python3.11/site-packages/sklearn/metrics/_classification.py:1334: UndefinedMetricWarning: Precision is ill-defined and being set to 0.0 in labels with no predicted samples. Use `zero_division` parameter to control this behavior.\n",
      "  _warn_prf(average, modifier, msg_start, len(result))\n",
      "/home/jovyan/.local/lib/python3.11/site-packages/sklearn/metrics/_classification.py:1334: UndefinedMetricWarning: Precision is ill-defined and being set to 0.0 in labels with no predicted samples. Use `zero_division` parameter to control this behavior.\n",
      "  _warn_prf(average, modifier, msg_start, len(result))\n"
     ]
    },
    {
     "name": "stdout",
     "output_type": "stream",
     "text": [
      "0.3:no Adv Training\n",
      "Accuracy: 89.95%\n",
      "Macro Precision: 73.69%\n",
      "Macro Recall: 83.33%\n",
      "Macro F1 Score: 78.18%\n",
      "0.3:w/ Adv Training\n",
      "Accuracy: 100.00%\n",
      "Weighted Precision: 100.00%\n",
      "Weighted Recall: 100.00%\n",
      "Weighted F1 Score: 100.00%\n",
      "0.3:w/ Adv Training\n",
      "Accuracy: 100.00%\n",
      "Macro Precision: 99.57%\n",
      "Macro Recall: 100.00%\n",
      "Macro F1 Score: 99.78%\n"
     ]
    }
   ],
   "source": [
    "def find_binary_columns(X_train):\n",
    "    binary_columns = []\n",
    "    for col in range(X_train.shape[1]):\n",
    "        unique_values = np.unique(X_train[:, col])\n",
    "        if set(unique_values).issubset({0, 1}):\n",
    "            binary_columns.append(col)\n",
    "    return binary_columns\n",
    "\n",
    "binary_columns = find_binary_columns(X_train)\n",
    "\n",
    "numerical_columns = []\n",
    "for i in range(0,42):\n",
    "    if i not in binary_columns:\n",
    "        numerical_columns.append(i)\n",
    "\n",
    "xgb_base = grid_search_xgb.best_estimator_\n",
    "\n",
    "classifier = SklearnWrapper(xgb_base)\n",
    "\n",
    "\n",
    "ratio_values = [0.01, 0.05, 0.1, 0.2, 0.3]\n",
    "# rule of thumb: Interval for numerical, combination for categorical\n",
    "for ratio in ratio_values:\n",
    "    pattern = (\n",
    "        {\n",
    "            \"type\": \"interval\",\n",
    "            \"features\": numerical_columns,\n",
    "            #\"integer_features\": list(range(10, 20)),\n",
    "            \"ratio\": ratio,\n",
    "            \"max_ratio\": 0.3,\n",
    "            \"missing_value\": 0.0,\n",
    "            \"probability\": 1,\n",
    "        },\n",
    "        # {\n",
    "        #     \"type\": \"combination\",\n",
    "        #     \"features\": binary_columns,\n",
    "        #     #\"locked_features\": list(range(30, 40)), # Locks some features to ensure validity. Not using this because data is .npy and unreadable\n",
    "        #     \"probability\": 0.4,\n",
    "        # },\n",
    "    )\n",
    "    \n",
    "    method = A2PMethod(pattern)\n",
    "    \n",
    "    X = np.concatenate((X_train, X_test), axis=0)\n",
    "    y = np.concatenate((y_train, y_test), axis=0)\n",
    "    \n",
    "    start_time = time.time()\n",
    "    \n",
    "    X_adversarial = method.fit_generate(classifier, X, y)\n",
    "    \n",
    "    training_time = time.time() - start_time\n",
    "    print(f\"Attack Time: {training_time}\")\n",
    "\n",
    "    text = f\"{ratio}:full A2PM Attack\"\n",
    "    metrics_master(xgb_model, X_adversarial, y, text)\n",
    "    \n",
    "    \n",
    "    adv_samples_num = int(955009*0.10/0.9) \n",
    "    \n",
    "    X_adversarial_indices = np.random.choice(X_adversarial.shape[0], size=adv_samples_num, replace=False)\n",
    "    X_adversarial_sampled = X_adversarial[X_adversarial_indices]\n",
    "    \n",
    "    y_adv = np.full(adv_samples_num, 5)\n",
    "    \n",
    "    X_new = X.copy()\n",
    "    y_new = y.copy()\n",
    "    \n",
    "    X_combined = np.vstack((X_new, X_adversarial_sampled))\n",
    "    y_combined = np.concatenate((y_new, y_adv))\n",
    "    \n",
    "    X_train_adv, X_test_adv, y_train_adv, y_test_adv = train_test_split(X_combined, y_combined, test_size=0.2, random_state=42)\n",
    "    \n",
    "    model_xgb_protected = XGBClassifier()\n",
    "    \n",
    "    param_grid = {\n",
    "        # 'n_estimators': [10, 50, 100],\n",
    "        # 'max_depth': [None, 50, 100],\n",
    "        # 'n_estimators': [10],\n",
    "        # 'max_depth': [None],\n",
    "    }\n",
    "    \n",
    "    grid_search_xgb_protected = GridSearchCV(model_xgb_protected, param_grid, cv=3, scoring='accuracy', verbose=3)\n",
    "    grid_search_xgb_protected.fit(X_train_adv, y_train_adv)\n",
    "    \n",
    "    print(\"Best parameters found: \", grid_search_xgb.best_params_)\n",
    "    \n",
    "    xgb_model_protected = grid_search_xgb_protected.best_estimator_\n",
    "\n",
    "    text = f\"{ratio}:no Adv Training\"\n",
    "    metrics_master(xgb_model, X_test_adv, y_test_adv, text)\n",
    "    text = f\"{ratio}:w/ Adv Training\"\n",
    "    metrics_master(xgb_model_protected, X_test_adv, y_test_adv, text)"
   ]
  },
  {
   "cell_type": "code",
   "execution_count": 32,
   "id": "30ca34de-19cc-4883-a165-bece742115e4",
   "metadata": {},
   "outputs": [],
   "source": [
    "xgb = XGBClassifier()\n",
    "xgb = xgb.fit(X_train, y_train)\n"
   ]
  },
  {
   "cell_type": "code",
   "execution_count": 33,
   "id": "6442e776-0e0e-46ba-95b1-ba4ba029d29f",
   "metadata": {},
   "outputs": [
    {
     "name": "stdout",
     "output_type": "stream",
     "text": [
      "0.1:full A2PM Attack\n",
      "Accuracy: 99.99%\n",
      "Weighted Precision: 99.99%\n",
      "Weighted Recall: 99.99%\n",
      "Weighted F1 Score: 99.99%\n",
      "0.1:full A2PM Attack\n",
      "Accuracy: 99.99%\n",
      "Macro Precision: 98.91%\n",
      "Macro Recall: 94.52%\n",
      "Macro F1 Score: 96.46%\n"
     ]
    }
   ],
   "source": [
    "X = np.load(\"/home/jovyan/A2PM/A2PM_adv_sample/A2PM_0.3_fullattack_X.npy\")\n",
    "y = np.load(\"/home/jovyan/A2PM/A2PM_adv_sample/A2PM_0.3_fullattack_y.npy\")\n",
    "text = f\"{0.1}:full A2PM Attack\"\n",
    "metrics_master(xgb, X, y, text)"
   ]
  },
  {
   "cell_type": "code",
   "execution_count": 35,
   "id": "e8ca33ab-0c4d-4f3b-b893-1416e5e5cb36",
   "metadata": {},
   "outputs": [
    {
     "name": "stderr",
     "output_type": "stream",
     "text": [
      "/home/jovyan/.local/lib/python3.11/site-packages/sklearn/metrics/_classification.py:1334: UndefinedMetricWarning: Precision is ill-defined and being set to 0.0 in labels with no predicted samples. Use `zero_division` parameter to control this behavior.\n",
      "  _warn_prf(average, modifier, msg_start, len(result))\n"
     ]
    },
    {
     "name": "stdout",
     "output_type": "stream",
     "text": [
      "0.1:10% A2PM Attack\n",
      "Accuracy: 90.00%\n",
      "Weighted Precision: 81.00%\n",
      "Weighted Recall: 90.00%\n",
      "Weighted F1 Score: 85.26%\n"
     ]
    },
    {
     "name": "stderr",
     "output_type": "stream",
     "text": [
      "/home/jovyan/.local/lib/python3.11/site-packages/sklearn/metrics/_classification.py:1334: UndefinedMetricWarning: Precision is ill-defined and being set to 0.0 in labels with no predicted samples. Use `zero_division` parameter to control this behavior.\n",
      "  _warn_prf(average, modifier, msg_start, len(result))\n"
     ]
    },
    {
     "name": "stdout",
     "output_type": "stream",
     "text": [
      "0.1:10% A2PM Attack\n",
      "Accuracy: 90.00%\n",
      "Macro Precision: 75.08%\n",
      "Macro Recall: 83.33%\n",
      "Macro F1 Score: 78.99%\n"
     ]
    }
   ],
   "source": [
    "X = np.load(\"/home/jovyan/A2PM/A2PM_adv_sample/A2PM_0.3_10%attack_X.npy\")\n",
    "y = np.load(\"/home/jovyan/A2PM/A2PM_adv_sample/A2PM_0.3_10%attack_y.npy\")\n",
    "text = f\"{0.1}:10% A2PM Attack\"\n",
    "metrics_master(xgb, X, y, text)"
   ]
  },
  {
   "cell_type": "code",
   "execution_count": 39,
   "id": "3592027b-f581-421b-aef0-faaa827dda89",
   "metadata": {},
   "outputs": [
    {
     "data": {
      "text/plain": [
       "array([0, 1, 2, 3, 4, 5])"
      ]
     },
     "execution_count": 39,
     "metadata": {},
     "output_type": "execute_result"
    }
   ],
   "source": [
    "np.unique(y)"
   ]
  },
  {
   "cell_type": "code",
   "execution_count": 41,
   "id": "be42100e-c7e7-4b09-8da6-df161637cce6",
   "metadata": {},
   "outputs": [
    {
     "name": "stdout",
     "output_type": "stream",
     "text": [
      "0.1:10% A2PM Attack\n",
      "Accuracy: 100.00%\n",
      "Weighted Precision: 100.00%\n",
      "Weighted Recall: 100.00%\n",
      "Weighted F1 Score: 100.00%\n",
      "0.1:10% A2PM Attack\n",
      "Accuracy: 100.00%\n",
      "Macro Precision: 99.99%\n",
      "Macro Recall: 99.68%\n",
      "Macro F1 Score: 99.83%\n"
     ]
    }
   ],
   "source": [
    "X = np.concatenate((X_train, X_test), axis=0)\n",
    "y = np.concatenate((y_train, y_test), axis=0)\n",
    "\n",
    "adv_samples_num = int(955009*0.10/0.9) \n",
    "\n",
    "X_adversarial = np.load(\"/home/jovyan/A2PM/A2PM_adv_sample/A2PM_0.3_fullattack_X.npy\")\n",
    "\n",
    "X_adversarial_indices = np.random.choice(X_adversarial.shape[0], size=adv_samples_num, replace=False)\n",
    "X_adversarial_sampled = X_adversarial[X_adversarial_indices]\n",
    "\n",
    "y_adv = y[X_adversarial_indices]\n",
    "\n",
    "X_new = X.copy()\n",
    "y_new = y.copy()\n",
    "\n",
    "X_combined = np.vstack((X_new, X_adversarial_sampled))\n",
    "y_combined = np.concatenate((y_new, y_adv))\n",
    "\n",
    "metrics_master(xgb, X_combined, y_combined, text)"
   ]
  },
  {
   "cell_type": "code",
   "execution_count": 43,
   "id": "11ae7c48-96f2-45de-a3fe-2fd20a6440e3",
   "metadata": {},
   "outputs": [
    {
     "name": "stdout",
     "output_type": "stream",
     "text": [
      "0.01_origin\n",
      "Accuracy: 100.00%\n",
      "Weighted Precision: 100.00%\n",
      "Weighted Recall: 100.00%\n",
      "Weighted F1 Score: 100.00%\n",
      "0.01_origin\n",
      "Accuracy: 100.00%\n",
      "Macro Precision: 100.00%\n",
      "Macro Recall: 100.00%\n",
      "Macro F1 Score: 100.00%\n",
      "0.01_test attack dataset\n",
      "Accuracy: 99.99%\n",
      "Weighted Precision: 99.99%\n",
      "Weighted Recall: 99.99%\n",
      "Weighted F1 Score: 99.99%\n",
      "0.01_test attack dataset\n",
      "Accuracy: 99.99%\n",
      "Macro Precision: 99.46%\n",
      "Macro Recall: 95.25%\n",
      "Macro F1 Score: 97.19%\n",
      "0.01_defensed model\n",
      "Accuracy: 100.00%\n",
      "Weighted Precision: 100.00%\n",
      "Weighted Recall: 100.00%\n",
      "Weighted F1 Score: 100.00%\n",
      "0.01_defensed model\n",
      "Accuracy: 100.00%\n",
      "Macro Precision: 100.00%\n",
      "Macro Recall: 100.00%\n",
      "Macro F1 Score: 100.00%\n",
      "0.05_origin\n",
      "Accuracy: 100.00%\n",
      "Weighted Precision: 100.00%\n",
      "Weighted Recall: 100.00%\n",
      "Weighted F1 Score: 100.00%\n",
      "0.05_origin\n",
      "Accuracy: 100.00%\n",
      "Macro Precision: 100.00%\n",
      "Macro Recall: 100.00%\n",
      "Macro F1 Score: 100.00%\n",
      "0.05_test attack dataset\n",
      "Accuracy: 100.00%\n",
      "Weighted Precision: 100.00%\n",
      "Weighted Recall: 100.00%\n",
      "Weighted F1 Score: 100.00%\n",
      "0.05_test attack dataset\n",
      "Accuracy: 100.00%\n",
      "Macro Precision: 99.05%\n",
      "Macro Recall: 96.95%\n",
      "Macro F1 Score: 97.96%\n",
      "0.05_defensed model\n",
      "Accuracy: 100.00%\n",
      "Weighted Precision: 100.00%\n",
      "Weighted Recall: 100.00%\n",
      "Weighted F1 Score: 100.00%\n",
      "0.05_defensed model\n",
      "Accuracy: 100.00%\n",
      "Macro Precision: 100.00%\n",
      "Macro Recall: 100.00%\n",
      "Macro F1 Score: 100.00%\n",
      "0.1_origin\n",
      "Accuracy: 100.00%\n",
      "Weighted Precision: 100.00%\n",
      "Weighted Recall: 100.00%\n",
      "Weighted F1 Score: 100.00%\n",
      "0.1_origin\n",
      "Accuracy: 100.00%\n",
      "Macro Precision: 100.00%\n",
      "Macro Recall: 100.00%\n",
      "Macro F1 Score: 100.00%\n",
      "0.1_test attack dataset\n",
      "Accuracy: 100.00%\n",
      "Weighted Precision: 100.00%\n",
      "Weighted Recall: 100.00%\n",
      "Weighted F1 Score: 100.00%\n",
      "0.1_test attack dataset\n",
      "Accuracy: 100.00%\n",
      "Macro Precision: 99.97%\n",
      "Macro Recall: 98.42%\n",
      "Macro F1 Score: 99.18%\n",
      "0.1_defensed model\n",
      "Accuracy: 100.00%\n",
      "Weighted Precision: 100.00%\n",
      "Weighted Recall: 100.00%\n",
      "Weighted F1 Score: 100.00%\n",
      "0.1_defensed model\n",
      "Accuracy: 100.00%\n",
      "Macro Precision: 100.00%\n",
      "Macro Recall: 100.00%\n",
      "Macro F1 Score: 100.00%\n",
      "0.2_origin\n",
      "Accuracy: 100.00%\n",
      "Weighted Precision: 100.00%\n",
      "Weighted Recall: 100.00%\n",
      "Weighted F1 Score: 100.00%\n",
      "0.2_origin\n",
      "Accuracy: 100.00%\n",
      "Macro Precision: 100.00%\n",
      "Macro Recall: 100.00%\n",
      "Macro F1 Score: 100.00%\n",
      "0.2_test attack dataset\n",
      "Accuracy: 100.00%\n",
      "Weighted Precision: 100.00%\n",
      "Weighted Recall: 100.00%\n",
      "Weighted F1 Score: 100.00%\n",
      "0.2_test attack dataset\n",
      "Accuracy: 100.00%\n",
      "Macro Precision: 99.10%\n",
      "Macro Recall: 96.11%\n",
      "Macro F1 Score: 97.44%\n",
      "0.2_defensed model\n",
      "Accuracy: 100.00%\n",
      "Weighted Precision: 100.00%\n",
      "Weighted Recall: 100.00%\n",
      "Weighted F1 Score: 100.00%\n",
      "0.2_defensed model\n",
      "Accuracy: 100.00%\n",
      "Macro Precision: 100.00%\n",
      "Macro Recall: 100.00%\n",
      "Macro F1 Score: 100.00%\n",
      "0.3_origin\n",
      "Accuracy: 100.00%\n",
      "Weighted Precision: 100.00%\n",
      "Weighted Recall: 100.00%\n",
      "Weighted F1 Score: 100.00%\n",
      "0.3_origin\n",
      "Accuracy: 100.00%\n",
      "Macro Precision: 100.00%\n",
      "Macro Recall: 100.00%\n",
      "Macro F1 Score: 100.00%\n",
      "0.3_test attack dataset\n",
      "Accuracy: 100.00%\n",
      "Weighted Precision: 100.00%\n",
      "Weighted Recall: 100.00%\n",
      "Weighted F1 Score: 100.00%\n",
      "0.3_test attack dataset\n",
      "Accuracy: 100.00%\n",
      "Macro Precision: 99.52%\n",
      "Macro Recall: 98.41%\n",
      "Macro F1 Score: 98.95%\n",
      "0.3_defensed model\n",
      "Accuracy: 100.00%\n",
      "Weighted Precision: 100.00%\n",
      "Weighted Recall: 100.00%\n",
      "Weighted F1 Score: 100.00%\n",
      "0.3_defensed model\n",
      "Accuracy: 100.00%\n",
      "Macro Precision: 100.00%\n",
      "Macro Recall: 100.00%\n",
      "Macro F1 Score: 100.00%\n"
     ]
    }
   ],
   "source": [
    "X_test = np.load('/home/jovyan/Wustl_iiot/x_test.npy')\n",
    "X_train = np.load('/home/jovyan/Wustl_iiot/x_train.npy')\n",
    "X_val = np.load('/home/jovyan/Wustl_iiot/x_val.npy')\n",
    "y_test = np.load('/home/jovyan/Wustl_iiot/y_test.npy')\n",
    "y_train = np.load('/home/jovyan/Wustl_iiot/y_train.npy')\n",
    "y_val = np.load('/home/jovyan/Wustl_iiot/y_val.npy')\n",
    "\n",
    "\n",
    "ratio_values = [0.01, 0.05, 0.1, 0.2, 0.3]\n",
    "# rule of thumb: Interval for numerical, combination for categorical\n",
    "for ratio in ratio_values:\n",
    "    xtext = f\"/home/jovyan/A2PM/A2PM_adv_sample/A2PM_{ratio}_fullattack_X.npy\"\n",
    "    X_adv = np.load(xtext)\n",
    "    ytext = f\"/home/jovyan/A2PM/A2PM_adv_sample/A2PM_{ratio}_fullattack_y.npy\"\n",
    "    y_adv = np.load(ytext)\n",
    "    \n",
    "    X_train_adv, X_test_adv, y_train_adv, y_test_adv = train_test_split(X_adv, y_adv, test_size=0.2, random_state=42)\n",
    "    \n",
    "    \n",
    "    xgb = XGBClassifier()\n",
    "    xgb = xgb.fit(X_train, y_train)\n",
    "    \n",
    "    text=f\"{ratio}_origin\"\n",
    "    metrics_master(xgb, X_test, y_test, text)\n",
    "    \n",
    "    text=f\"{ratio}_test attack dataset\"\n",
    "    metrics_master(xgb, X_test_adv, y_test_adv, text)\n",
    "    \n",
    "    xgb_def = XGBClassifier()\n",
    "    xgb_def = xgb_def.fit(X_train_adv, y_train_adv)\n",
    "    text=f\"{ratio}_defensed model\"\n",
    "    metrics_master(xgb_def, X_test_adv, y_test_adv, text)"
   ]
  },
  {
   "cell_type": "code",
   "execution_count": null,
   "id": "20d00b16-7eca-4582-85b7-05977d93847c",
   "metadata": {},
   "outputs": [],
   "source": []
  }
 ],
 "metadata": {
  "kernelspec": {
   "display_name": "Python 3 (ipykernel)",
   "language": "python",
   "name": "python3"
  },
  "language_info": {
   "codemirror_mode": {
    "name": "ipython",
    "version": 3
   },
   "file_extension": ".py",
   "mimetype": "text/x-python",
   "name": "python",
   "nbconvert_exporter": "python",
   "pygments_lexer": "ipython3",
   "version": "3.11.5"
  }
 },
 "nbformat": 4,
 "nbformat_minor": 5
}
