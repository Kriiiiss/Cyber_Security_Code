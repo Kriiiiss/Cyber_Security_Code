{
 "cells": [
  {
   "cell_type": "markdown",
   "metadata": {
    "id": "SgNZTjrhcHa0"
   },
   "source": [
    "# CSE 156:  NLP UCSD, Programming Assignment 3\n",
    "## Text Decoding From GPT-2 using Beam Search (40 points)\n",
    "### <font color='blue'> Due: Friday, May 31, at  10pm </font>\n",
    "\n",
    "###### IMPORTANT: After copying this notebook to your Google Drive, paste a link to it below. To get a publicly-accessible link, click the *Share* button at the top right, then click \"Get shareable link\" and copy the link.\n",
    "#### <font color=\"red\">Link: paste your link here:  </font>\n",
    "\n",
    "https://colab.research.google.com/drive/1H2jY9eRW8cVEHGACHLxxKw4Ew6BUAE99?usp=sharing\n",
    "\n",
    "---\n",
    "**Notes:**\n",
    "\n",
    "Make sure to save the notebook as you go along.\n",
    "\n",
    "Submission instructions are located at the bottom of the notebook."
   ]
  },
  {
   "cell_type": "markdown",
   "metadata": {
    "id": "d23zfO_ALKeB"
   },
   "source": [
    "# Part 0: Setup"
   ]
  },
  {
   "cell_type": "markdown",
   "metadata": {
    "id": "N25dvF4jvYoy"
   },
   "source": [
    "## Adding a hardware accelerator\n",
    "Go to the menu and add a GPU as follows:\n",
    "\n",
    "`Edit > Notebook Settings > Hardware accelerator > (GPU)`\n",
    "\n",
    "Run the following cell to confirm that the GPU is detected."
   ]
  },
  {
   "cell_type": "code",
   "execution_count": 1,
   "metadata": {
    "colab": {
     "base_uri": "https://localhost:8080/",
     "height": 207
    },
    "id": "edOh9ooiIW1B",
    "outputId": "2f14d490-0e8b-47ef-fc53-c1262b23f742"
   },
   "outputs": [
    {
     "name": "stdout",
     "output_type": "stream",
     "text": [
      "Found device: NVIDIA A100-SXM4-80GB, n_gpu: 1\n"
     ]
    }
   ],
   "source": [
    "import torch\n",
    "\n",
    "# Confirm that the GPU is detected\n",
    "assert torch.cuda.is_available()\n",
    "\n",
    "# Get the GPU device name.\n",
    "device_name = torch.cuda.get_device_name()\n",
    "n_gpu = torch.cuda.device_count()\n",
    "print(f\"Found device: {device_name}, n_gpu: {n_gpu}\")"
   ]
  },
  {
   "cell_type": "markdown",
   "metadata": {
    "id": "xrvH7xx9LnMC"
   },
   "source": [
    "## Installing Hugging Face's Transformers and Additional Libraries\n",
    "We will use Hugging Face's Transformers (https://github.com/huggingface/transformers).\n",
    "\n",
    "Run the following cell to install Hugging Face's Transformers library and some other useful tools."
   ]
  },
  {
   "cell_type": "code",
   "execution_count": 2,
   "metadata": {
    "colab": {
     "base_uri": "https://localhost:8080/"
    },
    "id": "gtqS2e5fxpqa",
    "outputId": "93a1e7f6-2062-41cc-b49d-0dadb2c62394"
   },
   "outputs": [],
   "source": [
    "!pip install -q transformers==4.17.0  rich[jupyter]"
   ]
  },
  {
   "cell_type": "markdown",
   "metadata": {
    "id": "sa5Q_y4huAUm"
   },
   "source": [
    "# Part 1. Beam Search\n",
    "We are going to explore decoding from a pretrained GPT-2 model using beam search. Run the below cell to set up some beam search utilities."
   ]
  },
  {
   "cell_type": "code",
   "execution_count": 3,
   "metadata": {
    "colab": {
     "base_uri": "https://localhost:8080/",
     "height": 321,
     "referenced_widgets": [
      "6c2399f5655b4a1883aa79cb7b402fe5",
      "dbe20833a0ca41c9808dd90cff198982",
      "25337f549b5247cda2e4867c62f628aa",
      "8e6b4643609e46cfbd8f266c461e1f2e",
      "7e58a2cad02743d0a7c8d10545014fbe",
      "f66098d207954797884d7bfdac421fed",
      "67e2d46198f34d2d92e66a2eaaa10ab8",
      "52917b1b1fd14437bbba85a4a52e42c0",
      "85f6d2f4d749492fbc724e7515d78a6f",
      "dfccede9ad234e528d6e5bb1929ef010",
      "981bdab1ee9b4011909966db287aedc2",
      "e592242d55e442298f4a58aa6d6e60b0",
      "4bbdabbb1b2c433d8f32e2e7c7bdc75d",
      "5e22b1f83f5944d3b5b56f9e8e7f40c7",
      "783cdefaba1f409680349ffdba07ccf5",
      "81adc01e64c748e080617837f615f292",
      "d2a9af4979ad4b8fbc5bc05ddd12fd55",
      "0edb4b60511a44ec941229d9d3297911",
      "54800e6686264be6bba8071fd304d456",
      "999792296761407480dff4a005a711f7",
      "7a6e2969b7924fab90152ddb9da74a45",
      "6bac0d78e9d646fd84e1f80b476b1204",
      "136b617a58fc4ea8948ca80bbbecd5a9",
      "74dde453bd8a4accb4a5f115f4cd7c12",
      "1449a19f79654085b34a78cd4733e871",
      "21e49ccf2ff64b17952b68b243e15b2d",
      "e8034997ed2a460da7ad159995d1a362",
      "c82d35b9a6714126a07f2f7889d32f4f",
      "72e3d0e5d2444035aa26c1bdd0321067",
      "c99d236562454afd9f4b343b4d68f11f",
      "b56d1525748549cfaa1d9c3ccad08ce5",
      "2439f24ef1f742fb9143a3dd9af70700",
      "5f34290ca0c64f4f9d64638db8c17110",
      "278e38801f2e429c9b725744ed43bc63",
      "b9174646e0f643979871fd93ec00fb35",
      "5170c12cd13543d395aeb654e0dff2eb",
      "4e41547b2dd344b1bc8d18356a70cf73",
      "38652a198fa549ee9f0a3fe7d141b994",
      "cf5ee2e8f9f143cc904dee7fed00f6b6",
      "0997e67f75ea450e840a91624e42a8bc",
      "365400da51874685ae576ea7cab1a9fb",
      "c54197024b0147d29ca3c7a83b789714",
      "c23f125666ae45a7b20179971fc1b26f",
      "a7132c25b46e4a43861b526bca6fdf4b",
      "aa93dc9842844ded8d533480de8b9b50",
      "d4b1a752893f4817a5f8bba68407718a",
      "a7bee72925c64202a0180c2cce25f001",
      "183dddadfefc4d6389fcc9b1384749d4",
      "76fd166a20f54cd5a4dddf2a8e87979e",
      "ee275512fbe6492084ac1168addc0789",
      "5e33f46b2f884faab77119f386b1cb90",
      "cc34e4bdc9474d5187a5edd04a57f3e4",
      "9794e4a7245f417e82f82d2ea9fbcf24",
      "d4a22a25a39c4fe590c2a430dae5ebe5",
      "0ef71ad6be4647e6b3d1a43eb7564024"
     ]
    },
    "id": "bgUbrB6ht_ch",
    "outputId": "b224eb74-d1d8-4439-e441-af17f6d50fed"
   },
   "outputs": [
    {
     "data": {
      "text/html": [
       "<pre style=\"white-space:pre;overflow-x:auto;line-height:normal;font-family:Menlo,'DejaVu Sans Mono',consolas,'Courier New',monospace\"><span style=\"color: #000000; text-decoration-color: #000000; background-color: #d73127; font-weight: bold\">hello world rgb(</span><span style=\"color: #000000; text-decoration-color: #000000; background-color: #d73127; font-weight: bold\">215</span><span style=\"color: #000000; text-decoration-color: #000000; background-color: #d73127; font-weight: bold\">,</span><span style=\"color: #000000; text-decoration-color: #000000; background-color: #d73127; font-weight: bold\">49</span><span style=\"color: #000000; text-decoration-color: #000000; background-color: #d73127; font-weight: bold\">,</span><span style=\"color: #000000; text-decoration-color: #000000; background-color: #d73127; font-weight: bold\">39</span><span style=\"color: #000000; text-decoration-color: #000000; background-color: #d73127; font-weight: bold\">)</span>\n",
       "</pre>\n"
      ],
      "text/plain": [
       "\u001b[1;38;2;0;0;0;48;2;215;49;39mhello world \u001b[0m\u001b[1;38;2;0;0;0;48;2;215;49;39mrgb\u001b[0m\u001b[1;38;2;0;0;0;48;2;215;49;39m(\u001b[0m\u001b[1;38;2;0;0;0;48;2;215;49;39m215\u001b[0m\u001b[1;38;2;0;0;0;48;2;215;49;39m,\u001b[0m\u001b[1;38;2;0;0;0;48;2;215;49;39m49\u001b[0m\u001b[1;38;2;0;0;0;48;2;215;49;39m,\u001b[0m\u001b[1;38;2;0;0;0;48;2;215;49;39m39\u001b[0m\u001b[1;38;2;0;0;0;48;2;215;49;39m)\u001b[0m\n"
      ]
     },
     "metadata": {},
     "output_type": "display_data"
    },
    {
     "data": {
      "text/html": [
       "<pre style=\"white-space:pre;overflow-x:auto;line-height:normal;font-family:Menlo,'DejaVu Sans Mono',consolas,'Courier New',monospace\"><span style=\"color: #000000; text-decoration-color: #000000; background-color: #f46f44; font-weight: bold\">hello world rgb(</span><span style=\"color: #000000; text-decoration-color: #000000; background-color: #f46f44; font-weight: bold\">244</span><span style=\"color: #000000; text-decoration-color: #000000; background-color: #f46f44; font-weight: bold\">,</span><span style=\"color: #000000; text-decoration-color: #000000; background-color: #f46f44; font-weight: bold\">111</span><span style=\"color: #000000; text-decoration-color: #000000; background-color: #f46f44; font-weight: bold\">,</span><span style=\"color: #000000; text-decoration-color: #000000; background-color: #f46f44; font-weight: bold\">68</span><span style=\"color: #000000; text-decoration-color: #000000; background-color: #f46f44; font-weight: bold\">)</span>\n",
       "</pre>\n"
      ],
      "text/plain": [
       "\u001b[1;38;2;0;0;0;48;2;244;111;68mhello world \u001b[0m\u001b[1;38;2;0;0;0;48;2;244;111;68mrgb\u001b[0m\u001b[1;38;2;0;0;0;48;2;244;111;68m(\u001b[0m\u001b[1;38;2;0;0;0;48;2;244;111;68m244\u001b[0m\u001b[1;38;2;0;0;0;48;2;244;111;68m,\u001b[0m\u001b[1;38;2;0;0;0;48;2;244;111;68m111\u001b[0m\u001b[1;38;2;0;0;0;48;2;244;111;68m,\u001b[0m\u001b[1;38;2;0;0;0;48;2;244;111;68m68\u001b[0m\u001b[1;38;2;0;0;0;48;2;244;111;68m)\u001b[0m\n"
      ]
     },
     "metadata": {},
     "output_type": "display_data"
    },
    {
     "data": {
      "text/html": [
       "<pre style=\"white-space:pre;overflow-x:auto;line-height:normal;font-family:Menlo,'DejaVu Sans Mono',consolas,'Courier New',monospace\"><span style=\"color: #000000; text-decoration-color: #000000; background-color: #fdb063; font-weight: bold\">hello world rgb(</span><span style=\"color: #000000; text-decoration-color: #000000; background-color: #fdb063; font-weight: bold\">253</span><span style=\"color: #000000; text-decoration-color: #000000; background-color: #fdb063; font-weight: bold\">,</span><span style=\"color: #000000; text-decoration-color: #000000; background-color: #fdb063; font-weight: bold\">176</span><span style=\"color: #000000; text-decoration-color: #000000; background-color: #fdb063; font-weight: bold\">,</span><span style=\"color: #000000; text-decoration-color: #000000; background-color: #fdb063; font-weight: bold\">99</span><span style=\"color: #000000; text-decoration-color: #000000; background-color: #fdb063; font-weight: bold\">)</span>\n",
       "</pre>\n"
      ],
      "text/plain": [
       "\u001b[1;38;2;0;0;0;48;2;253;176;99mhello world \u001b[0m\u001b[1;38;2;0;0;0;48;2;253;176;99mrgb\u001b[0m\u001b[1;38;2;0;0;0;48;2;253;176;99m(\u001b[0m\u001b[1;38;2;0;0;0;48;2;253;176;99m253\u001b[0m\u001b[1;38;2;0;0;0;48;2;253;176;99m,\u001b[0m\u001b[1;38;2;0;0;0;48;2;253;176;99m176\u001b[0m\u001b[1;38;2;0;0;0;48;2;253;176;99m,\u001b[0m\u001b[1;38;2;0;0;0;48;2;253;176;99m99\u001b[0m\u001b[1;38;2;0;0;0;48;2;253;176;99m)\u001b[0m\n"
      ]
     },
     "metadata": {},
     "output_type": "display_data"
    },
    {
     "data": {
      "text/html": [
       "<pre style=\"white-space:pre;overflow-x:auto;line-height:normal;font-family:Menlo,'DejaVu Sans Mono',consolas,'Courier New',monospace\"><span style=\"color: #000000; text-decoration-color: #000000; background-color: #fee293; font-weight: bold\">hello world rgb(</span><span style=\"color: #000000; text-decoration-color: #000000; background-color: #fee293; font-weight: bold\">254</span><span style=\"color: #000000; text-decoration-color: #000000; background-color: #fee293; font-weight: bold\">,</span><span style=\"color: #000000; text-decoration-color: #000000; background-color: #fee293; font-weight: bold\">226</span><span style=\"color: #000000; text-decoration-color: #000000; background-color: #fee293; font-weight: bold\">,</span><span style=\"color: #000000; text-decoration-color: #000000; background-color: #fee293; font-weight: bold\">147</span><span style=\"color: #000000; text-decoration-color: #000000; background-color: #fee293; font-weight: bold\">)</span>\n",
       "</pre>\n"
      ],
      "text/plain": [
       "\u001b[1;38;2;0;0;0;48;2;254;226;147mhello world \u001b[0m\u001b[1;38;2;0;0;0;48;2;254;226;147mrgb\u001b[0m\u001b[1;38;2;0;0;0;48;2;254;226;147m(\u001b[0m\u001b[1;38;2;0;0;0;48;2;254;226;147m254\u001b[0m\u001b[1;38;2;0;0;0;48;2;254;226;147m,\u001b[0m\u001b[1;38;2;0;0;0;48;2;254;226;147m226\u001b[0m\u001b[1;38;2;0;0;0;48;2;254;226;147m,\u001b[0m\u001b[1;38;2;0;0;0;48;2;254;226;147m147\u001b[0m\u001b[1;38;2;0;0;0;48;2;254;226;147m)\u001b[0m\n"
      ]
     },
     "metadata": {},
     "output_type": "display_data"
    },
    {
     "data": {
      "text/html": [
       "<pre style=\"white-space:pre;overflow-x:auto;line-height:normal;font-family:Menlo,'DejaVu Sans Mono',consolas,'Courier New',monospace\"><span style=\"color: #000000; text-decoration-color: #000000; background-color: #fbfdc4; font-weight: bold\">hello world rgb(</span><span style=\"color: #000000; text-decoration-color: #000000; background-color: #fbfdc4; font-weight: bold\">251</span><span style=\"color: #000000; text-decoration-color: #000000; background-color: #fbfdc4; font-weight: bold\">,</span><span style=\"color: #000000; text-decoration-color: #000000; background-color: #fbfdc4; font-weight: bold\">253</span><span style=\"color: #000000; text-decoration-color: #000000; background-color: #fbfdc4; font-weight: bold\">,</span><span style=\"color: #000000; text-decoration-color: #000000; background-color: #fbfdc4; font-weight: bold\">196</span><span style=\"color: #000000; text-decoration-color: #000000; background-color: #fbfdc4; font-weight: bold\">)</span>\n",
       "</pre>\n"
      ],
      "text/plain": [
       "\u001b[1;38;2;0;0;0;48;2;251;253;196mhello world \u001b[0m\u001b[1;38;2;0;0;0;48;2;251;253;196mrgb\u001b[0m\u001b[1;38;2;0;0;0;48;2;251;253;196m(\u001b[0m\u001b[1;38;2;0;0;0;48;2;251;253;196m251\u001b[0m\u001b[1;38;2;0;0;0;48;2;251;253;196m,\u001b[0m\u001b[1;38;2;0;0;0;48;2;251;253;196m253\u001b[0m\u001b[1;38;2;0;0;0;48;2;251;253;196m,\u001b[0m\u001b[1;38;2;0;0;0;48;2;251;253;196m196\u001b[0m\u001b[1;38;2;0;0;0;48;2;251;253;196m)\u001b[0m\n"
      ]
     },
     "metadata": {},
     "output_type": "display_data"
    },
    {
     "data": {
      "text/html": [
       "<pre style=\"white-space:pre;overflow-x:auto;line-height:normal;font-family:Menlo,'DejaVu Sans Mono',consolas,'Courier New',monospace\"><span style=\"color: #000000; text-decoration-color: #000000; background-color: #d9eff6; font-weight: bold\">hello world rgb(</span><span style=\"color: #000000; text-decoration-color: #000000; background-color: #d9eff6; font-weight: bold\">217</span><span style=\"color: #000000; text-decoration-color: #000000; background-color: #d9eff6; font-weight: bold\">,</span><span style=\"color: #000000; text-decoration-color: #000000; background-color: #d9eff6; font-weight: bold\">239</span><span style=\"color: #000000; text-decoration-color: #000000; background-color: #d9eff6; font-weight: bold\">,</span><span style=\"color: #000000; text-decoration-color: #000000; background-color: #d9eff6; font-weight: bold\">246</span><span style=\"color: #000000; text-decoration-color: #000000; background-color: #d9eff6; font-weight: bold\">)</span>\n",
       "</pre>\n"
      ],
      "text/plain": [
       "\u001b[1;38;2;0;0;0;48;2;217;239;246mhello world \u001b[0m\u001b[1;38;2;0;0;0;48;2;217;239;246mrgb\u001b[0m\u001b[1;38;2;0;0;0;48;2;217;239;246m(\u001b[0m\u001b[1;38;2;0;0;0;48;2;217;239;246m217\u001b[0m\u001b[1;38;2;0;0;0;48;2;217;239;246m,\u001b[0m\u001b[1;38;2;0;0;0;48;2;217;239;246m239\u001b[0m\u001b[1;38;2;0;0;0;48;2;217;239;246m,\u001b[0m\u001b[1;38;2;0;0;0;48;2;217;239;246m246\u001b[0m\u001b[1;38;2;0;0;0;48;2;217;239;246m)\u001b[0m\n"
      ]
     },
     "metadata": {},
     "output_type": "display_data"
    },
    {
     "data": {
      "text/html": [
       "<pre style=\"white-space:pre;overflow-x:auto;line-height:normal;font-family:Menlo,'DejaVu Sans Mono',consolas,'Courier New',monospace\"><span style=\"color: #000000; text-decoration-color: #000000; background-color: #a3d2e5; font-weight: bold\">hello world rgb(</span><span style=\"color: #000000; text-decoration-color: #000000; background-color: #a3d2e5; font-weight: bold\">163</span><span style=\"color: #000000; text-decoration-color: #000000; background-color: #a3d2e5; font-weight: bold\">,</span><span style=\"color: #000000; text-decoration-color: #000000; background-color: #a3d2e5; font-weight: bold\">210</span><span style=\"color: #000000; text-decoration-color: #000000; background-color: #a3d2e5; font-weight: bold\">,</span><span style=\"color: #000000; text-decoration-color: #000000; background-color: #a3d2e5; font-weight: bold\">229</span><span style=\"color: #000000; text-decoration-color: #000000; background-color: #a3d2e5; font-weight: bold\">)</span>\n",
       "</pre>\n"
      ],
      "text/plain": [
       "\u001b[1;38;2;0;0;0;48;2;163;210;229mhello world \u001b[0m\u001b[1;38;2;0;0;0;48;2;163;210;229mrgb\u001b[0m\u001b[1;38;2;0;0;0;48;2;163;210;229m(\u001b[0m\u001b[1;38;2;0;0;0;48;2;163;210;229m163\u001b[0m\u001b[1;38;2;0;0;0;48;2;163;210;229m,\u001b[0m\u001b[1;38;2;0;0;0;48;2;163;210;229m210\u001b[0m\u001b[1;38;2;0;0;0;48;2;163;210;229m,\u001b[0m\u001b[1;38;2;0;0;0;48;2;163;210;229m229\u001b[0m\u001b[1;38;2;0;0;0;48;2;163;210;229m)\u001b[0m\n"
      ]
     },
     "metadata": {},
     "output_type": "display_data"
    },
    {
     "data": {
      "text/html": [
       "<pre style=\"white-space:pre;overflow-x:auto;line-height:normal;font-family:Menlo,'DejaVu Sans Mono',consolas,'Courier New',monospace\"><span style=\"color: #000000; text-decoration-color: #000000; background-color: #6ca4cc; font-weight: bold\">hello world rgb(</span><span style=\"color: #000000; text-decoration-color: #000000; background-color: #6ca4cc; font-weight: bold\">108</span><span style=\"color: #000000; text-decoration-color: #000000; background-color: #6ca4cc; font-weight: bold\">,</span><span style=\"color: #000000; text-decoration-color: #000000; background-color: #6ca4cc; font-weight: bold\">164</span><span style=\"color: #000000; text-decoration-color: #000000; background-color: #6ca4cc; font-weight: bold\">,</span><span style=\"color: #000000; text-decoration-color: #000000; background-color: #6ca4cc; font-weight: bold\">204</span><span style=\"color: #000000; text-decoration-color: #000000; background-color: #6ca4cc; font-weight: bold\">)</span>\n",
       "</pre>\n"
      ],
      "text/plain": [
       "\u001b[1;38;2;0;0;0;48;2;108;164;204mhello world \u001b[0m\u001b[1;38;2;0;0;0;48;2;108;164;204mrgb\u001b[0m\u001b[1;38;2;0;0;0;48;2;108;164;204m(\u001b[0m\u001b[1;38;2;0;0;0;48;2;108;164;204m108\u001b[0m\u001b[1;38;2;0;0;0;48;2;108;164;204m,\u001b[0m\u001b[1;38;2;0;0;0;48;2;108;164;204m164\u001b[0m\u001b[1;38;2;0;0;0;48;2;108;164;204m,\u001b[0m\u001b[1;38;2;0;0;0;48;2;108;164;204m204\u001b[0m\u001b[1;38;2;0;0;0;48;2;108;164;204m)\u001b[0m\n"
      ]
     },
     "metadata": {},
     "output_type": "display_data"
    },
    {
     "data": {
      "text/html": [
       "<pre style=\"white-space:pre;overflow-x:auto;line-height:normal;font-family:Menlo,'DejaVu Sans Mono',consolas,'Courier New',monospace\"><span style=\"color: #000000; text-decoration-color: #000000; background-color: #f46f44; font-weight: bold\">the</span><span style=\"color: #000000; text-decoration-color: #000000; background-color: #a3d2e5; font-weight: bold\"> brown</span><span style=\"color: #000000; text-decoration-color: #000000; background-color: #fbfdc4; font-weight: bold\"> fox</span>\n",
       "</pre>\n"
      ],
      "text/plain": [
       "\u001b[1;38;2;0;0;0;48;2;244;111;68mthe\u001b[0m\u001b[1;38;2;0;0;0;48;2;163;210;229m brown\u001b[0m\u001b[1;38;2;0;0;0;48;2;251;253;196m fox\u001b[0m\n"
      ]
     },
     "metadata": {},
     "output_type": "display_data"
    }
   ],
   "source": [
    "from transformers import GPT2LMHeadModel, GPT2Tokenizer\n",
    "\n",
    "tokenizer = GPT2Tokenizer.from_pretrained(\"gpt2\")\n",
    "model = GPT2LMHeadModel.from_pretrained(\"gpt2\", pad_token_id=tokenizer.eos_token_id)\n",
    "\n",
    "# Beam Search\n",
    "\n",
    "def init_beam_search(model, input_ids, num_beams):\n",
    "    assert len(input_ids.shape) == 2\n",
    "    beam_scores = torch.zeros(num_beams, dtype=torch.float32, device=model.device)\n",
    "    beam_scores[1:] = -1e9 # Break ties in first round.\n",
    "    new_input_ids = input_ids.repeat_interleave(num_beams, dim=0).to(model.device)\n",
    "    return new_input_ids, beam_scores\n",
    "\n",
    "\n",
    "def run_beam_search_(model, tokenizer, input_text, num_beams=5, num_decode_steps=10, score_processors=[], to_cpu=True):\n",
    "\n",
    "    input_ids = tokenizer.encode(input_text, return_tensors='pt')\n",
    "\n",
    "    input_ids, beam_scores = init_beam_search(model, input_ids, num_beams)\n",
    "\n",
    "    token_scores = beam_scores.clone().view(num_beams, 1)\n",
    "\n",
    "    model_kwargs = {}\n",
    "    for i in range(num_decode_steps):\n",
    "        model_inputs = model.prepare_inputs_for_generation(input_ids, **model_kwargs)\n",
    "        outputs = model(**model_inputs, return_dict=True)\n",
    "        next_token_logits = outputs.logits[:, -1, :]\n",
    "        vocab_size = next_token_logits.shape[-1]\n",
    "        this_token_scores = torch.log_softmax(next_token_logits, -1)\n",
    "\n",
    "        # Process token scores.\n",
    "        processed_token_scores = this_token_scores\n",
    "        for processor in score_processors:\n",
    "            processed_token_scores = processor(input_ids, processed_token_scores)\n",
    "\n",
    "        # Update beam scores.\n",
    "        next_token_scores = processed_token_scores + beam_scores.unsqueeze(-1)\n",
    "\n",
    "        # Reshape for beam-search.\n",
    "        next_token_scores = next_token_scores.view(num_beams * vocab_size)\n",
    "\n",
    "        # Find top-scoring beams.\n",
    "        next_token_scores, next_tokens = torch.topk(\n",
    "            next_token_scores, num_beams, dim=0, largest=True, sorted=True\n",
    "        )\n",
    "\n",
    "        # Transform tokens since we reshaped earlier.\n",
    "        next_indices = torch.div(next_tokens, vocab_size, rounding_mode=\"floor\") # This is equivalent to `next_tokens // vocab_size`\n",
    "        next_tokens = next_tokens % vocab_size\n",
    "\n",
    "        # Update tokens.\n",
    "        input_ids = torch.cat([input_ids[next_indices, :], next_tokens.unsqueeze(-1)], dim=-1)\n",
    "\n",
    "        # Update beam scores.\n",
    "        beam_scores = next_token_scores\n",
    "\n",
    "        # Update token scores.\n",
    "\n",
    "        # UNCOMMENT: To use original scores instead.\n",
    "        # token_scores = torch.cat([token_scores[next_indices, :], this_token_scores[next_indices, next_tokens].unsqueeze(-1)], dim=-1)\n",
    "        token_scores = torch.cat([token_scores[next_indices, :], processed_token_scores[next_indices, next_tokens].unsqueeze(-1)], dim=-1)\n",
    "\n",
    "        # Update hidden state.\n",
    "        model_kwargs = model._update_model_kwargs_for_generation(outputs, model_kwargs, is_encoder_decoder=False)\n",
    "        model_kwargs[\"past\"] = model._reorder_cache(model_kwargs[\"past\"], next_indices)\n",
    "\n",
    "    def transfer(x):\n",
    "      return x.cpu() if to_cpu else x\n",
    "\n",
    "    return {\n",
    "        \"output_ids\": transfer(input_ids),\n",
    "        \"beam_scores\": transfer(beam_scores),\n",
    "        \"token_scores\": transfer(token_scores)\n",
    "    }\n",
    "\n",
    "\n",
    "def run_beam_search(*args, **kwargs):\n",
    "    with torch.inference_mode():\n",
    "        return run_beam_search_(*args, **kwargs)\n",
    "\n",
    "\n",
    "# Add support for colored printing and plotting.\n",
    "\n",
    "from rich import print as rich_print\n",
    "\n",
    "import numpy as np\n",
    "\n",
    "import matplotlib\n",
    "from matplotlib import pyplot as plt\n",
    "from matplotlib import cm\n",
    "\n",
    "RICH_x = np.linspace(0.0, 1.0, 50)\n",
    "RICH_rgb = (matplotlib.colormaps.get_cmap(plt.get_cmap('RdYlBu'))(RICH_x)[:, :3] * 255).astype(np.int32)[range(5, 45, 5)]\n",
    "\n",
    "\n",
    "def print_with_probs(words, probs, prefix=None):\n",
    "  def fmt(x, p, is_first=False):\n",
    "    ix = int(p * RICH_rgb.shape[0])\n",
    "    r, g, b = RICH_rgb[ix]\n",
    "    if is_first:\n",
    "      return f'[bold rgb(0,0,0) on rgb({r},{g},{b})]{x}'\n",
    "    else:\n",
    "      return f'[bold rgb(0,0,0) on rgb({r},{g},{b})] {x}'\n",
    "  output = []\n",
    "  if prefix is not None:\n",
    "    output.append(prefix)\n",
    "  for i, (x, p) in enumerate(zip(words, probs)):\n",
    "    output.append(fmt(x, p, is_first=i == 0))\n",
    "  rich_print(''.join(output))\n",
    "\n",
    "# DEMO\n",
    "\n",
    "# Show range of colors.\n",
    "\n",
    "for i in range(RICH_rgb.shape[0]):\n",
    "  r, g, b = RICH_rgb[i]\n",
    "  rich_print(f'[bold rgb(0,0,0) on rgb({r},{g},{b})]hello world rgb({r},{g},{b})')\n",
    "\n",
    "# Example with words and probabilities.\n",
    "\n",
    "words = ['the', 'brown', 'fox']\n",
    "probs = [0.14, 0.83, 0.5]\n",
    "print_with_probs(words, probs)"
   ]
  },
  {
   "cell_type": "markdown",
   "metadata": {
    "id": "lbieUEZViMJy"
   },
   "source": [
    "## Question 1.1 (5 points)\n",
    "\n",
    "Run the cell below. It produces a sequence of tokens using beam search and the provided prefix."
   ]
  },
  {
   "cell_type": "code",
   "execution_count": 4,
   "metadata": {
    "colab": {
     "base_uri": "https://localhost:8080/"
    },
    "id": "WccupVHjymFv",
    "outputId": "23ab3c5d-84dd-4f9f-be02-6398ced8a9fa"
   },
   "outputs": [
    {
     "name": "stdout",
     "output_type": "stream",
     "text": [
      "0 -1.106 The brown fox jumps out of the fox's mouth, and the fox\n",
      "1 -1.168 The brown fox jumps out of the fox's cage, and the fox\n",
      "2 -1.182 The brown fox jumps out of the fox's mouth and starts to run\n",
      "3 -1.192 The brown fox jumps out of the fox's mouth and begins to lick\n",
      "4 -1.199 The brown fox jumps out of the fox's mouth and begins to bite\n"
     ]
    }
   ],
   "source": [
    "num_beams = 5\n",
    "num_decode_steps = 10\n",
    "input_text = 'The brown fox jumps'\n",
    "\n",
    "beam_output = run_beam_search(model, tokenizer, input_text, num_beams=num_beams, num_decode_steps=num_decode_steps)\n",
    "for i, tokens in enumerate(beam_output['output_ids']):\n",
    "    score = beam_output['beam_scores'][i]\n",
    "    print(i, round(score.item() / tokens.shape[-1], 3), tokenizer.decode(tokens, skip_special_tokens=True))\n"
   ]
  },
  {
   "cell_type": "markdown",
   "metadata": {
    "id": "t6zN9dbNLBl8"
   },
   "source": [
    "To get you more acquainted with the code, let's do a simple exercise first. Write your own code in the cell below to generate 3 tokens with a beam size of 4, and then print out the **third most probable** output sequence found during the search. Use the same prefix as above."
   ]
  },
  {
   "cell_type": "code",
   "execution_count": 5,
   "metadata": {
    "colab": {
     "base_uri": "https://localhost:8080/"
    },
    "id": "STizG6yiLqIS",
    "outputId": "bc636d94-d4cf-47ec-992e-dd13b17a1077"
   },
   "outputs": [
    {
     "name": "stdout",
     "output_type": "stream",
     "text": [
      "0 -0.424 The brown fox jumps out of the\n",
      "1 -0.579 The brown fox jumps out of his\n",
      "2 -0.627 The brown fox jumps up and down\n",
      "3 -0.744 The brown fox jumps out of her\n",
      "\n",
      "Third most probable output sequence:\n",
      "2 -0.627 The brown fox jumps up and down\n"
     ]
    }
   ],
   "source": [
    "input_text = 'The brown fox jumps'\n",
    "\n",
    "num_beams = 4\n",
    "num_decode_steps = 3\n",
    "\n",
    "beam_output = run_beam_search(model, tokenizer, input_text, num_beams=num_beams, num_decode_steps=num_decode_steps)\n",
    "for i, tokens in enumerate(beam_output['output_ids']):\n",
    "    score = beam_output['beam_scores'][i]\n",
    "    print(i, round(score.item() / tokens.shape[-1], 3), tokenizer.decode(tokens, skip_special_tokens=True))\n",
    "\n",
    "\n",
    "# third most probable\n",
    "tokens = beam_output['output_ids'][2]\n",
    "score = beam_output['beam_scores'][2]\n",
    "print(f\"\\nThird most probable output sequence:\")\n",
    "print(2, round(score.item() / tokens.shape[-1], 3), tokenizer.decode(tokens, skip_special_tokens=True))\n"
   ]
  },
  {
   "cell_type": "markdown",
   "metadata": {
    "id": "15aHJGr8p0mD"
   },
   "source": [
    "## Question 1.2 (5 points)\n",
    "\n",
    "Run the cell below to visualize the probabilities the model assigns for each generated word when using beam search with beam size 1 (i.e., greedy decoding)."
   ]
  },
  {
   "cell_type": "code",
   "execution_count": 6,
   "metadata": {
    "colab": {
     "base_uri": "https://localhost:8080/",
     "height": 565
    },
    "id": "lDXNNlktqIUW",
    "outputId": "28c67086-a5ba-4e50-82ae-252e45ab18bd"
   },
   "outputs": [
    {
     "name": "stdout",
     "output_type": "stream",
     "text": [
      "Visualizeation with plot:\n"
     ]
    },
    {
     "data": {
      "image/png": "[encoded data removed]",
      "text/plain": [
       "<Figure size 640x480 with 1 Axes>"
      ]
     },
     "metadata": {},
     "output_type": "display_data"
    },
    {
     "name": "stdout",
     "output_type": "stream",
     "text": [
      "Visualization with colored text (red for lower probability, and blue for higher):\n"
     ]
    },
    {
     "data": {
      "text/html": [
       "<pre style=\"white-space:pre;overflow-x:auto;line-height:normal;font-family:Menlo,'DejaVu Sans Mono',consolas,'Courier New',monospace\">The  brown  fox  jumps<span style=\"color: #000000; text-decoration-color: #000000; background-color: #f46f44; font-weight: bold\"> up</span><span style=\"color: #000000; text-decoration-color: #000000; background-color: #fee293; font-weight: bold\">  and</span><span style=\"color: #000000; text-decoration-color: #000000; background-color: #f46f44; font-weight: bold\">  down  on</span><span style=\"color: #000000; text-decoration-color: #000000; background-color: #fee293; font-weight: bold\">  the</span><span style=\"color: #000000; text-decoration-color: #000000; background-color: #f46f44; font-weight: bold\">  ground ,</span><span style=\"color: #000000; text-decoration-color: #000000; background-color: #d73127; font-weight: bold\">  and  then  he  jumps</span><span style=\"color: #000000; text-decoration-color: #000000; background-color: #fdb063; font-weight: bold\">  up</span><span style=\"color: #000000; text-decoration-color: #000000; background-color: #fbfdc4; font-weight: bold\">  and</span><span style=\"color: #000000; text-decoration-color: #000000; background-color: #a3d2e5; font-weight: bold\">  down</span><span style=\"color: #000000; text-decoration-color: #000000; background-color: #fdb063; font-weight: bold\">  on</span><span style=\"color: #000000; text-decoration-color: #000000; background-color: #d9eff6; font-weight: bold\">  the</span><span style=\"color: #000000; text-decoration-color: #000000; background-color: #fbfdc4; font-weight: bold\">  ground</span><span style=\"color: #000000; text-decoration-color: #000000; background-color: #fdb063; font-weight: bold\">  </span>\n",
       "<span style=\"color: #000000; text-decoration-color: #000000; background-color: #fdb063; font-weight: bold\">again</span><span style=\"color: #000000; text-decoration-color: #000000; background-color: #fbfdc4; font-weight: bold\"> .</span><span style=\"color: #000000; text-decoration-color: #000000; background-color: #f46f44; font-weight: bold\"> </span>\n",
       "\n",
       "</pre>\n"
      ],
      "text/plain": [
       "The  brown  fox  jumps\u001b[1;38;2;0;0;0;48;2;244;111;68m up\u001b[0m\u001b[1;38;2;0;0;0;48;2;254;226;147m  and\u001b[0m\u001b[1;38;2;0;0;0;48;2;244;111;68m  down\u001b[0m\u001b[1;38;2;0;0;0;48;2;244;111;68m  on\u001b[0m\u001b[1;38;2;0;0;0;48;2;254;226;147m  the\u001b[0m\u001b[1;38;2;0;0;0;48;2;244;111;68m  ground\u001b[0m\u001b[1;38;2;0;0;0;48;2;244;111;68m ,\u001b[0m\u001b[1;38;2;0;0;0;48;2;215;49;39m  and\u001b[0m\u001b[1;38;2;0;0;0;48;2;215;49;39m  then\u001b[0m\u001b[1;38;2;0;0;0;48;2;215;49;39m  he\u001b[0m\u001b[1;38;2;0;0;0;48;2;215;49;39m  jumps\u001b[0m\u001b[1;38;2;0;0;0;48;2;253;176;99m  up\u001b[0m\u001b[1;38;2;0;0;0;48;2;251;253;196m  and\u001b[0m\u001b[1;38;2;0;0;0;48;2;163;210;229m  down\u001b[0m\u001b[1;38;2;0;0;0;48;2;253;176;99m  on\u001b[0m\u001b[1;38;2;0;0;0;48;2;217;239;246m  the\u001b[0m\u001b[1;38;2;0;0;0;48;2;251;253;196m  ground\u001b[0m\u001b[1;38;2;0;0;0;48;2;253;176;99m  \u001b[0m\n",
       "\u001b[1;38;2;0;0;0;48;2;253;176;99magain\u001b[0m\u001b[1;38;2;0;0;0;48;2;251;253;196m .\u001b[0m\u001b[1;38;2;0;0;0;48;2;244;111;68m \u001b[0m\n",
       "\n"
      ]
     },
     "metadata": {},
     "output_type": "display_data"
    }
   ],
   "source": [
    "input_text = 'The brown fox jumps'\n",
    "beam_output = run_beam_search(model, tokenizer, input_text, num_beams=1, num_decode_steps=20)\n",
    "probs = beam_output['token_scores'][0, 1:].exp()\n",
    "output_subwords = [tokenizer.decode(tok, skip_special_tokens=True) for tok in beam_output['output_ids'][0]]\n",
    "\n",
    "print('Visualizeation with plot:')\n",
    "\n",
    "fig, ax = plt.subplots()\n",
    "plt.plot(range(len(probs)), probs)\n",
    "ax.set_xticks(range(len(probs)))\n",
    "ax.set_xticklabels(output_subwords[-len(probs):], rotation = 45)\n",
    "plt.xlabel('word')\n",
    "plt.ylabel('prob')\n",
    "plt.show()\n",
    "\n",
    "print('Visualization with colored text (red for lower probability, and blue for higher):')\n",
    "\n",
    "print_with_probs(output_subwords[-len(probs):], probs, ' '.join(output_subwords[:-len(probs)]))"
   ]
  },
  {
   "cell_type": "markdown",
   "metadata": {
    "id": "KZq6Zhw0MKuo"
   },
   "source": [
    "Why does the model assign higher probability to tokens generated later than to tokens generated earlier?\n",
    "\n",
    "\n"
   ]
  },
  {
   "cell_type": "markdown",
   "metadata": {
    "id": "lY8G4tJMMGl4"
   },
   "source": [
    "<font color=\"red\">Write your answer here: </font>\n",
    "It is because as the model generates more tokens, it accumulates more context, allowing it to make more accurate predictions. Early tokens are generated with less context, leading to more uncertainty and lower probabilities. Additionally, it need depend on the input context and the first few tokens it generates at begining. Then, it can adjust and calibrate its predictions based on the sequences generated so far.\n",
    "\n"
   ]
  },
  {
   "cell_type": "markdown",
   "metadata": {
    "id": "Boog4GEBsBCo"
   },
   "source": [
    "\n",
    "\n",
    "Run the cell below to visualize the word probabilities when using different beam sizes."
   ]
  },
  {
   "cell_type": "code",
   "execution_count": 7,
   "metadata": {
    "colab": {
     "base_uri": "https://localhost:8080/",
     "height": 568
    },
    "id": "heX5mLxe-s-K",
    "outputId": "8df7ae42-aaf8-4b9e-bc00-6b37eaba9dcd"
   },
   "outputs": [
    {
     "name": "stdout",
     "output_type": "stream",
     "text": [
      "Visualization with plot:\n"
     ]
    },
    {
     "data": {
      "image/png": "[encoded data removed]",
      "text/plain": [
       "<Figure size 640x480 with 1 Axes>"
      ]
     },
     "metadata": {},
     "output_type": "display_data"
    },
    {
     "name": "stdout",
     "output_type": "stream",
     "text": [
      "Model predictions:\n",
      "1 -0.9706203576290247 Once upon a time, in a barn near a farm house, a young boy was playing with a stick. He was playing with a stick, and the boy was\n",
      "2 -0.9286176508123224 Once upon a time, in a barn near a farm house, a young boy was playing with a stick. The boy was playing with a stick, and the boy\n",
      "3 -0.9597578337698272 Once upon a time, in a barn near a farm house, a young boy was playing with a stick. The boy, who had been playing with a stick,\n",
      "4 -0.9205141934481534 Once upon a time, in a barn near a farm house, there was a young girl who had been brought up by her mother. She had been brought up by\n",
      "5 -0.9058728651566939 Once upon a time, in a barn near a farm house, there was a man who had been living in the house for a long time. He was a man\n"
     ]
    }
   ],
   "source": [
    "input_text = 'Once upon a time, in a barn near a farm house,'\n",
    "num_decode_steps = 20\n",
    "model.cuda()\n",
    "\n",
    "beam_size_list = [1, 2, 3, 4, 5]\n",
    "output_list = []\n",
    "probs_list = []\n",
    "for bm in beam_size_list:\n",
    "  beam_output = run_beam_search(model, tokenizer, input_text, num_beams=bm, num_decode_steps=num_decode_steps)\n",
    "  output_list.append(beam_output)\n",
    "  probs = beam_output['token_scores'][0, 1:].exp()\n",
    "  probs_list.append((bm, probs))\n",
    "\n",
    "print('Visualization with plot:')\n",
    "fig, ax = plt.subplots()\n",
    "for bm, probs in probs_list:\n",
    "  plt.plot(range(len(probs)), probs, label=f'beam size = {bm}')\n",
    "plt.xlabel('decode step')\n",
    "plt.ylabel('prob')\n",
    "plt.legend(loc='best')\n",
    "plt.show()\n",
    "\n",
    "print('Model predictions:')\n",
    "for bm, beam_output in zip(beam_size_list, output_list):\n",
    "  tokens = beam_output['output_ids'][0]\n",
    "  print(bm, beam_output['beam_scores'][0].item() / tokens.shape[-1], tokenizer.decode(tokens, skip_special_tokens=True))"
   ]
  },
  {
   "cell_type": "markdown",
   "metadata": {
    "id": "uX4P6tTmtJ3Q"
   },
   "source": [
    "## Question 1.3 (10 points)\n",
    "\n",
    "Beam search often results in repetition in the predicted tokens. In the following cell we pass a score processor called `WordBlock` to `run_beam_search`. At each time step, it reduces the probability for any previously seen word so that it is not generated again.\n",
    "\n",
    "Run the cell to see how the output of beam search changes with and without using `WordBlock`."
   ]
  },
  {
   "cell_type": "code",
   "execution_count": 10,
   "metadata": {
    "colab": {
     "base_uri": "https://localhost:8080/"
    },
    "id": "yTu_HemeLquc",
    "outputId": "dd0dccc7-6ad5-4cd6-e067-3b4059d01398"
   },
   "outputs": [
    {
     "name": "stdout",
     "output_type": "stream",
     "text": [
      "Beam Search\n",
      "Once upon a time, in a barn near a farm house, a young boy was playing with a stick. He was playing with a stick, and the boy was playing with a stick. The boy was playing with a stick, and the boy was playing with a\n",
      "Beam Search w/ Word Block\n",
      "Once upon a time, in a barn near a farm house, the young girl was playing with her father's dog. She had been told that she would be given to him by his wife and he could take care of it for herself if needed; but when they\n"
     ]
    }
   ],
   "source": [
    "import collections\n",
    "\n",
    "class WordBlock:\n",
    "    def __call__(self, input_ids, scores):\n",
    "        # print(\"start\")\n",
    "        for batch_idx in range(input_ids.shape[0]):\n",
    "            # print(f\"range(input_ids.shape[0]):{range(input_ids.shape[0])}\")\n",
    "            # print(scores)\n",
    "            # print(\"input_ids[batch_idx].tolist()\",input_ids[batch_idx].tolist())\n",
    "            for x in input_ids[batch_idx].tolist():\n",
    "                scores[batch_idx, x] = -1e9\n",
    "        \n",
    "        return scores\n",
    "\n",
    "input_text = 'Once upon a time, in a barn near a farm house,'\n",
    "num_beams = 1\n",
    "\n",
    "print('Beam Search')\n",
    "beam_output = run_beam_search(model, tokenizer, input_text, num_beams=num_beams, num_decode_steps=40, score_processors=[])\n",
    "print(tokenizer.decode(beam_output['output_ids'][0], skip_special_tokens=True))\n",
    "\n",
    "print('Beam Search w/ Word Block')\n",
    "beam_output = run_beam_search(model, tokenizer, input_text, num_beams=num_beams, num_decode_steps=40, score_processors=[WordBlock()])\n",
    "print(tokenizer.decode(beam_output['output_ids'][0], skip_special_tokens=True))\n"
   ]
  },
  {
   "cell_type": "markdown",
   "metadata": {
    "id": "BMJ8KVrZSTQz"
   },
   "source": [
    "Is `WordBlock` a practical way to prevent repetition in beam search? What (if anything) could go wrong when using `WordBlock`?"
   ]
  },
  {
   "cell_type": "markdown",
   "metadata": {
    "id": "WT0Jv2SBTinm"
   },
   "source": [
    "<font color=\"red\">Write your answer here: </font>\n",
    "The WordBlock is a practical way to prevent repetition in beam search because the output above shows the duplicate for the first sentence and no repeat for the second sentence. However, this would be missing very common words in this sentence. Blocking previously seen words can result in unnatural or grammatically incorrect sequences. Also, the model will select less appropriate words to avoid repetition, which can reduce the overall coherence and fluency of the generated text.\n"
   ]
  },
  {
   "cell_type": "markdown",
   "metadata": {
    "id": "U4937n1-t6l3"
   },
   "source": [
    "## Question 1.4 (20 points)\n",
    "\n",
    "Use the previous `WordBlock` example to write a new score processor called `BeamBlock`. Instead of uni-grams, your implementation should prevent tri-grams from appearing more than once in the sequence.\n",
    "\n",
    "Note: This technique is called \"beam blocking\" and is described [here](https://arxiv.org/pdf/1705.04304.pdf) (section 2.5). Also, for this assignment you do not need to re-normalize your output distribution after masking values, although typically re-normalization is done.\n",
    "\n",
    "Write your code in the indicated section in the below cell."
   ]
  },
  {
   "cell_type": "code",
   "execution_count": 11,
   "metadata": {
    "id": "PTQUGTWgtuBN"
   },
   "outputs": [
    {
     "name": "stdout",
     "output_type": "stream",
     "text": [
      "Beam Search\n",
      "Once upon a time, in a barn near a farm house, a young boy was playing with a stick. He was playing with a stick, and the boy was playing with a stick. The boy was playing with a stick, and the boy was playing with a\n",
      "Beam Search w/ Beam Block\n",
      "Once upon a time, in a barn near a farm house, a young boy was playing with a stick. He was playing on the stick, and the boy was trying to get a ball. The boy was holding the stick in his hand, and he was trying\n"
     ]
    }
   ],
   "source": [
    "import collections\n",
    "\n",
    "class BeamBlock:\n",
    "    def __call__(self, input_ids, scores):\n",
    "        for batch_idx in range(input_ids.shape[0]):\n",
    "            # WRITE YOUR CODE HERE!\n",
    "            seen_ngrams = set()\n",
    "            for i in range(2,len(input_ids[batch_idx])):\n",
    "                ngram = tuple(input_ids[batch_idx, i-2:i+1].tolist())\n",
    "                seen_ngrams.add(ngram)\n",
    "\n",
    "            ngram = tuple(input_ids[batch_idx, len(input_ids[batch_idx])-2:len(input_ids[batch_idx])].tolist())\n",
    "            for next_token in input_ids[batch_idx].tolist():\n",
    "                extended_ngram = ngram + (next_token,)\n",
    "                if extended_ngram in seen_ngrams:\n",
    "                    scores[batch_idx, next_token] = -1e9\n",
    "\n",
    "\n",
    "            # pass\n",
    "        return scores\n",
    "\n",
    "input_text = 'Once upon a time, in a barn near a farm house,'\n",
    "num_beams = 1\n",
    "\n",
    "print('Beam Search')\n",
    "beam_output = run_beam_search(model, tokenizer, input_text, num_beams=num_beams, num_decode_steps=40, score_processors=[])\n",
    "print(tokenizer.decode(beam_output['output_ids'][0], skip_special_tokens=True))\n",
    "\n",
    "print('Beam Search w/ Beam Block')\n",
    "beam_output = run_beam_search(model, tokenizer, input_text, num_beams=num_beams, num_decode_steps=40, score_processors=[BeamBlock()])\n",
    "print(tokenizer.decode(beam_output['output_ids'][0], skip_special_tokens=True))\n"
   ]
  },
  {
   "cell_type": "markdown",
   "metadata": {
    "id": "72bCEqcNQWyw"
   },
   "source": [
    "\n",
    "\n",
    "# <font color=\"blue\"> Submission Instructions</font>\n",
    "\n",
    "1. Click the Save button at the top of the Jupyter Notebook.\n",
    "2. Select Edit -> Clear All Outputs. This will clear all the outputs from all cells (but will keep the content of all cells).\n",
    "3. Select Runtime -> Run All. This will run all the cells in order, and will take several minutes.\n",
    "4. Once you've rerun everything, save a PDF version of your notebook. <font color='blue'> Make sure all your solutions especially the coding parts are displayed in the pdf</font>, it's okay if the provided codes get cut off because lines are not wrapped in code cells).\n",
    "5. Look at the PDF file and make sure all your solutions are there, displayed correctly. The PDF is the only thing your graders will see!\n",
    "6. Submit your PDF on Gradescope.\n",
    "\n",
    "\n",
    "\n",
    "#### <font color=\"blue\"> Acknowledgements</font>\n",
    "This assignment is based on an assignment developed by Mohit Iyyer"
   ]
  }
 ],
 "metadata": {
  "accelerator": "GPU",
  "colab": {
   "collapsed_sections": [
    "SgNZTjrhcHa0"
   ],
   "gpuType": "T4",
   "provenance": []
  },
  "kernelspec": {
   "display_name": "Python 3 (ipykernel)",
   "language": "python",
   "name": "python3"
  },
  "language_info": {
   "codemirror_mode": {
    "name": "ipython",
    "version": 3
   },
   "file_extension": ".py",
   "mimetype": "text/x-python",
   "name": "python",
   "nbconvert_exporter": "python",
   "pygments_lexer": "ipython3",
   "version": "3.11.5"
  },
  "widgets": {
   "application/vnd.jupyter.widget-state+json": {
    "0997e67f75ea450e840a91624e42a8bc": {
     "model_module": "@jupyter-widgets/controls",
     "model_module_version": "1.5.0",
     "model_name": "DescriptionStyleModel",
     "state": {
      "_model_module": "@jupyter-widgets/controls",
      "_model_module_version": "1.5.0",
      "_model_name": "DescriptionStyleModel",
      "_view_count": null,
      "_view_module": "@jupyter-widgets/base",
      "_view_module_version": "1.2.0",
      "_view_name": "StyleView",
      "description_width": ""
     }
    },
    "0edb4b60511a44ec941229d9d3297911": {
     "model_module": "@jupyter-widgets/controls",
     "model_module_version": "1.5.0",
     "model_name": "DescriptionStyleModel",
     "state": {
      "_model_module": "@jupyter-widgets/controls",
      "_model_module_version": "1.5.0",
      "_model_name": "DescriptionStyleModel",
      "_view_count": null,
      "_view_module": "@jupyter-widgets/base",
      "_view_module_version": "1.2.0",
      "_view_name": "StyleView",
      "description_width": ""
     }
    },
    "0ef71ad6be4647e6b3d1a43eb7564024": {
     "model_module": "@jupyter-widgets/controls",
     "model_module_version": "1.5.0",
     "model_name": "DescriptionStyleModel",
     "state": {
      "_model_module": "@jupyter-widgets/controls",
      "_model_module_version": "1.5.0",
      "_model_name": "DescriptionStyleModel",
      "_view_count": null,
      "_view_module": "@jupyter-widgets/base",
      "_view_module_version": "1.2.0",
      "_view_name": "StyleView",
      "description_width": ""
     }
    },
    "136b617a58fc4ea8948ca80bbbecd5a9": {
     "model_module": "@jupyter-widgets/controls",
     "model_module_version": "1.5.0",
     "model_name": "HBoxModel",
     "state": {
      "_dom_classes": [],
      "_model_module": "@jupyter-widgets/controls",
      "_model_module_version": "1.5.0",
      "_model_name": "HBoxModel",
      "_view_count": null,
      "_view_module": "@jupyter-widgets/controls",
      "_view_module_version": "1.5.0",
      "_view_name": "HBoxView",
      "box_style": "",
      "children": [
       "IPY_MODEL_74dde453bd8a4accb4a5f115f4cd7c12",
       "IPY_MODEL_1449a19f79654085b34a78cd4733e871",
       "IPY_MODEL_21e49ccf2ff64b17952b68b243e15b2d"
      ],
      "layout": "IPY_MODEL_e8034997ed2a460da7ad159995d1a362"
     }
    },
    "1449a19f79654085b34a78cd4733e871": {
     "model_module": "@jupyter-widgets/controls",
     "model_module_version": "1.5.0",
     "model_name": "FloatProgressModel",
     "state": {
      "_dom_classes": [],
      "_model_module": "@jupyter-widgets/controls",
      "_model_module_version": "1.5.0",
      "_model_name": "FloatProgressModel",
      "_view_count": null,
      "_view_module": "@jupyter-widgets/controls",
      "_view_module_version": "1.5.0",
      "_view_name": "ProgressView",
      "bar_style": "success",
      "description": "",
      "description_tooltip": null,
      "layout": "IPY_MODEL_c99d236562454afd9f4b343b4d68f11f",
      "max": 26,
      "min": 0,
      "orientation": "horizontal",
      "style": "IPY_MODEL_b56d1525748549cfaa1d9c3ccad08ce5",
      "value": 26
     }
    },
    "183dddadfefc4d6389fcc9b1384749d4": {
     "model_module": "@jupyter-widgets/controls",
     "model_module_version": "1.5.0",
     "model_name": "HTMLModel",
     "state": {
      "_dom_classes": [],
      "_model_module": "@jupyter-widgets/controls",
      "_model_module_version": "1.5.0",
      "_model_name": "HTMLModel",
      "_view_count": null,
      "_view_module": "@jupyter-widgets/controls",
      "_view_module_version": "1.5.0",
      "_view_name": "HTMLView",
      "description": "",
      "description_tooltip": null,
      "layout": "IPY_MODEL_d4a22a25a39c4fe590c2a430dae5ebe5",
      "placeholder": "​",
      "style": "IPY_MODEL_0ef71ad6be4647e6b3d1a43eb7564024",
      "value": " 523M/523M [00:08&lt;00:00, 74.9MB/s]"
     }
    },
    "21e49ccf2ff64b17952b68b243e15b2d": {
     "model_module": "@jupyter-widgets/controls",
     "model_module_version": "1.5.0",
     "model_name": "HTMLModel",
     "state": {
      "_dom_classes": [],
      "_model_module": "@jupyter-widgets/controls",
      "_model_module_version": "1.5.0",
      "_model_name": "HTMLModel",
      "_view_count": null,
      "_view_module": "@jupyter-widgets/controls",
      "_view_module_version": "1.5.0",
      "_view_name": "HTMLView",
      "description": "",
      "description_tooltip": null,
      "layout": "IPY_MODEL_2439f24ef1f742fb9143a3dd9af70700",
      "placeholder": "​",
      "style": "IPY_MODEL_5f34290ca0c64f4f9d64638db8c17110",
      "value": " 26.0/26.0 [00:00&lt;00:00, 1.09kB/s]"
     }
    },
    "2439f24ef1f742fb9143a3dd9af70700": {
     "model_module": "@jupyter-widgets/base",
     "model_module_version": "1.2.0",
     "model_name": "LayoutModel",
     "state": {
      "_model_module": "@jupyter-widgets/base",
      "_model_module_version": "1.2.0",
      "_model_name": "LayoutModel",
      "_view_count": null,
      "_view_module": "@jupyter-widgets/base",
      "_view_module_version": "1.2.0",
      "_view_name": "LayoutView",
      "align_content": null,
      "align_items": null,
      "align_self": null,
      "border": null,
      "bottom": null,
      "display": null,
      "flex": null,
      "flex_flow": null,
      "grid_area": null,
      "grid_auto_columns": null,
      "grid_auto_flow": null,
      "grid_auto_rows": null,
      "grid_column": null,
      "grid_gap": null,
      "grid_row": null,
      "grid_template_areas": null,
      "grid_template_columns": null,
      "grid_template_rows": null,
      "height": null,
      "justify_content": null,
      "justify_items": null,
      "left": null,
      "margin": null,
      "max_height": null,
      "max_width": null,
      "min_height": null,
      "min_width": null,
      "object_fit": null,
      "object_position": null,
      "order": null,
      "overflow": null,
      "overflow_x": null,
      "overflow_y": null,
      "padding": null,
      "right": null,
      "top": null,
      "visibility": null,
      "width": null
     }
    },
    "25337f549b5247cda2e4867c62f628aa": {
     "model_module": "@jupyter-widgets/controls",
     "model_module_version": "1.5.0",
     "model_name": "FloatProgressModel",
     "state": {
      "_dom_classes": [],
      "_model_module": "@jupyter-widgets/controls",
      "_model_module_version": "1.5.0",
      "_model_name": "FloatProgressModel",
      "_view_count": null,
      "_view_module": "@jupyter-widgets/controls",
      "_view_module_version": "1.5.0",
      "_view_name": "ProgressView",
      "bar_style": "success",
      "description": "",
      "description_tooltip": null,
      "layout": "IPY_MODEL_52917b1b1fd14437bbba85a4a52e42c0",
      "max": 1042301,
      "min": 0,
      "orientation": "horizontal",
      "style": "IPY_MODEL_85f6d2f4d749492fbc724e7515d78a6f",
      "value": 1042301
     }
    },
    "278e38801f2e429c9b725744ed43bc63": {
     "model_module": "@jupyter-widgets/controls",
     "model_module_version": "1.5.0",
     "model_name": "HBoxModel",
     "state": {
      "_dom_classes": [],
      "_model_module": "@jupyter-widgets/controls",
      "_model_module_version": "1.5.0",
      "_model_name": "HBoxModel",
      "_view_count": null,
      "_view_module": "@jupyter-widgets/controls",
      "_view_module_version": "1.5.0",
      "_view_name": "HBoxView",
      "box_style": "",
      "children": [
       "IPY_MODEL_b9174646e0f643979871fd93ec00fb35",
       "IPY_MODEL_5170c12cd13543d395aeb654e0dff2eb",
       "IPY_MODEL_4e41547b2dd344b1bc8d18356a70cf73"
      ],
      "layout": "IPY_MODEL_38652a198fa549ee9f0a3fe7d141b994"
     }
    },
    "365400da51874685ae576ea7cab1a9fb": {
     "model_module": "@jupyter-widgets/base",
     "model_module_version": "1.2.0",
     "model_name": "LayoutModel",
     "state": {
      "_model_module": "@jupyter-widgets/base",
      "_model_module_version": "1.2.0",
      "_model_name": "LayoutModel",
      "_view_count": null,
      "_view_module": "@jupyter-widgets/base",
      "_view_module_version": "1.2.0",
      "_view_name": "LayoutView",
      "align_content": null,
      "align_items": null,
      "align_self": null,
      "border": null,
      "bottom": null,
      "display": null,
      "flex": null,
      "flex_flow": null,
      "grid_area": null,
      "grid_auto_columns": null,
      "grid_auto_flow": null,
      "grid_auto_rows": null,
      "grid_column": null,
      "grid_gap": null,
      "grid_row": null,
      "grid_template_areas": null,
      "grid_template_columns": null,
      "grid_template_rows": null,
      "height": null,
      "justify_content": null,
      "justify_items": null,
      "left": null,
      "margin": null,
      "max_height": null,
      "max_width": null,
      "min_height": null,
      "min_width": null,
      "object_fit": null,
      "object_position": null,
      "order": null,
      "overflow": null,
      "overflow_x": null,
      "overflow_y": null,
      "padding": null,
      "right": null,
      "top": null,
      "visibility": null,
      "width": null
     }
    },
    "38652a198fa549ee9f0a3fe7d141b994": {
     "model_module": "@jupyter-widgets/base",
     "model_module_version": "1.2.0",
     "model_name": "LayoutModel",
     "state": {
      "_model_module": "@jupyter-widgets/base",
      "_model_module_version": "1.2.0",
      "_model_name": "LayoutModel",
      "_view_count": null,
      "_view_module": "@jupyter-widgets/base",
      "_view_module_version": "1.2.0",
      "_view_name": "LayoutView",
      "align_content": null,
      "align_items": null,
      "align_self": null,
      "border": null,
      "bottom": null,
      "display": null,
      "flex": null,
      "flex_flow": null,
      "grid_area": null,
      "grid_auto_columns": null,
      "grid_auto_flow": null,
      "grid_auto_rows": null,
      "grid_column": null,
      "grid_gap": null,
      "grid_row": null,
      "grid_template_areas": null,
      "grid_template_columns": null,
      "grid_template_rows": null,
      "height": null,
      "justify_content": null,
      "justify_items": null,
      "left": null,
      "margin": null,
      "max_height": null,
      "max_width": null,
      "min_height": null,
      "min_width": null,
      "object_fit": null,
      "object_position": null,
      "order": null,
      "overflow": null,
      "overflow_x": null,
      "overflow_y": null,
      "padding": null,
      "right": null,
      "top": null,
      "visibility": null,
      "width": null
     }
    },
    "4bbdabbb1b2c433d8f32e2e7c7bdc75d": {
     "model_module": "@jupyter-widgets/controls",
     "model_module_version": "1.5.0",
     "model_name": "HTMLModel",
     "state": {
      "_dom_classes": [],
      "_model_module": "@jupyter-widgets/controls",
      "_model_module_version": "1.5.0",
      "_model_name": "HTMLModel",
      "_view_count": null,
      "_view_module": "@jupyter-widgets/controls",
      "_view_module_version": "1.5.0",
      "_view_name": "HTMLView",
      "description": "",
      "description_tooltip": null,
      "layout": "IPY_MODEL_d2a9af4979ad4b8fbc5bc05ddd12fd55",
      "placeholder": "​",
      "style": "IPY_MODEL_0edb4b60511a44ec941229d9d3297911",
      "value": "Downloading: 100%"
     }
    },
    "4e41547b2dd344b1bc8d18356a70cf73": {
     "model_module": "@jupyter-widgets/controls",
     "model_module_version": "1.5.0",
     "model_name": "HTMLModel",
     "state": {
      "_dom_classes": [],
      "_model_module": "@jupyter-widgets/controls",
      "_model_module_version": "1.5.0",
      "_model_name": "HTMLModel",
      "_view_count": null,
      "_view_module": "@jupyter-widgets/controls",
      "_view_module_version": "1.5.0",
      "_view_name": "HTMLView",
      "description": "",
      "description_tooltip": null,
      "layout": "IPY_MODEL_c23f125666ae45a7b20179971fc1b26f",
      "placeholder": "​",
      "style": "IPY_MODEL_a7132c25b46e4a43861b526bca6fdf4b",
      "value": " 665/665 [00:00&lt;00:00, 29.1kB/s]"
     }
    },
    "5170c12cd13543d395aeb654e0dff2eb": {
     "model_module": "@jupyter-widgets/controls",
     "model_module_version": "1.5.0",
     "model_name": "FloatProgressModel",
     "state": {
      "_dom_classes": [],
      "_model_module": "@jupyter-widgets/controls",
      "_model_module_version": "1.5.0",
      "_model_name": "FloatProgressModel",
      "_view_count": null,
      "_view_module": "@jupyter-widgets/controls",
      "_view_module_version": "1.5.0",
      "_view_name": "ProgressView",
      "bar_style": "success",
      "description": "",
      "description_tooltip": null,
      "layout": "IPY_MODEL_365400da51874685ae576ea7cab1a9fb",
      "max": 665,
      "min": 0,
      "orientation": "horizontal",
      "style": "IPY_MODEL_c54197024b0147d29ca3c7a83b789714",
      "value": 665
     }
    },
    "52917b1b1fd14437bbba85a4a52e42c0": {
     "model_module": "@jupyter-widgets/base",
     "model_module_version": "1.2.0",
     "model_name": "LayoutModel",
     "state": {
      "_model_module": "@jupyter-widgets/base",
      "_model_module_version": "1.2.0",
      "_model_name": "LayoutModel",
      "_view_count": null,
      "_view_module": "@jupyter-widgets/base",
      "_view_module_version": "1.2.0",
      "_view_name": "LayoutView",
      "align_content": null,
      "align_items": null,
      "align_self": null,
      "border": null,
      "bottom": null,
      "display": null,
      "flex": null,
      "flex_flow": null,
      "grid_area": null,
      "grid_auto_columns": null,
      "grid_auto_flow": null,
      "grid_auto_rows": null,
      "grid_column": null,
      "grid_gap": null,
      "grid_row": null,
      "grid_template_areas": null,
      "grid_template_columns": null,
      "grid_template_rows": null,
      "height": null,
      "justify_content": null,
      "justify_items": null,
      "left": null,
      "margin": null,
      "max_height": null,
      "max_width": null,
      "min_height": null,
      "min_width": null,
      "object_fit": null,
      "object_position": null,
      "order": null,
      "overflow": null,
      "overflow_x": null,
      "overflow_y": null,
      "padding": null,
      "right": null,
      "top": null,
      "visibility": null,
      "width": null
     }
    },
    "54800e6686264be6bba8071fd304d456": {
     "model_module": "@jupyter-widgets/base",
     "model_module_version": "1.2.0",
     "model_name": "LayoutModel",
     "state": {
      "_model_module": "@jupyter-widgets/base",
      "_model_module_version": "1.2.0",
      "_model_name": "LayoutModel",
      "_view_count": null,
      "_view_module": "@jupyter-widgets/base",
      "_view_module_version": "1.2.0",
      "_view_name": "LayoutView",
      "align_content": null,
      "align_items": null,
      "align_self": null,
      "border": null,
      "bottom": null,
      "display": null,
      "flex": null,
      "flex_flow": null,
      "grid_area": null,
      "grid_auto_columns": null,
      "grid_auto_flow": null,
      "grid_auto_rows": null,
      "grid_column": null,
      "grid_gap": null,
      "grid_row": null,
      "grid_template_areas": null,
      "grid_template_columns": null,
      "grid_template_rows": null,
      "height": null,
      "justify_content": null,
      "justify_items": null,
      "left": null,
      "margin": null,
      "max_height": null,
      "max_width": null,
      "min_height": null,
      "min_width": null,
      "object_fit": null,
      "object_position": null,
      "order": null,
      "overflow": null,
      "overflow_x": null,
      "overflow_y": null,
      "padding": null,
      "right": null,
      "top": null,
      "visibility": null,
      "width": null
     }
    },
    "5e22b1f83f5944d3b5b56f9e8e7f40c7": {
     "model_module": "@jupyter-widgets/controls",
     "model_module_version": "1.5.0",
     "model_name": "FloatProgressModel",
     "state": {
      "_dom_classes": [],
      "_model_module": "@jupyter-widgets/controls",
      "_model_module_version": "1.5.0",
      "_model_name": "FloatProgressModel",
      "_view_count": null,
      "_view_module": "@jupyter-widgets/controls",
      "_view_module_version": "1.5.0",
      "_view_name": "ProgressView",
      "bar_style": "success",
      "description": "",
      "description_tooltip": null,
      "layout": "IPY_MODEL_54800e6686264be6bba8071fd304d456",
      "max": 456318,
      "min": 0,
      "orientation": "horizontal",
      "style": "IPY_MODEL_999792296761407480dff4a005a711f7",
      "value": 456318
     }
    },
    "5e33f46b2f884faab77119f386b1cb90": {
     "model_module": "@jupyter-widgets/controls",
     "model_module_version": "1.5.0",
     "model_name": "DescriptionStyleModel",
     "state": {
      "_model_module": "@jupyter-widgets/controls",
      "_model_module_version": "1.5.0",
      "_model_name": "DescriptionStyleModel",
      "_view_count": null,
      "_view_module": "@jupyter-widgets/base",
      "_view_module_version": "1.2.0",
      "_view_name": "StyleView",
      "description_width": ""
     }
    },
    "5f34290ca0c64f4f9d64638db8c17110": {
     "model_module": "@jupyter-widgets/controls",
     "model_module_version": "1.5.0",
     "model_name": "DescriptionStyleModel",
     "state": {
      "_model_module": "@jupyter-widgets/controls",
      "_model_module_version": "1.5.0",
      "_model_name": "DescriptionStyleModel",
      "_view_count": null,
      "_view_module": "@jupyter-widgets/base",
      "_view_module_version": "1.2.0",
      "_view_name": "StyleView",
      "description_width": ""
     }
    },
    "67e2d46198f34d2d92e66a2eaaa10ab8": {
     "model_module": "@jupyter-widgets/controls",
     "model_module_version": "1.5.0",
     "model_name": "DescriptionStyleModel",
     "state": {
      "_model_module": "@jupyter-widgets/controls",
      "_model_module_version": "1.5.0",
      "_model_name": "DescriptionStyleModel",
      "_view_count": null,
      "_view_module": "@jupyter-widgets/base",
      "_view_module_version": "1.2.0",
      "_view_name": "StyleView",
      "description_width": ""
     }
    },
    "6bac0d78e9d646fd84e1f80b476b1204": {
     "model_module": "@jupyter-widgets/controls",
     "model_module_version": "1.5.0",
     "model_name": "DescriptionStyleModel",
     "state": {
      "_model_module": "@jupyter-widgets/controls",
      "_model_module_version": "1.5.0",
      "_model_name": "DescriptionStyleModel",
      "_view_count": null,
      "_view_module": "@jupyter-widgets/base",
      "_view_module_version": "1.2.0",
      "_view_name": "StyleView",
      "description_width": ""
     }
    },
    "6c2399f5655b4a1883aa79cb7b402fe5": {
     "model_module": "@jupyter-widgets/controls",
     "model_module_version": "1.5.0",
     "model_name": "HBoxModel",
     "state": {
      "_dom_classes": [],
      "_model_module": "@jupyter-widgets/controls",
      "_model_module_version": "1.5.0",
      "_model_name": "HBoxModel",
      "_view_count": null,
      "_view_module": "@jupyter-widgets/controls",
      "_view_module_version": "1.5.0",
      "_view_name": "HBoxView",
      "box_style": "",
      "children": [
       "IPY_MODEL_dbe20833a0ca41c9808dd90cff198982",
       "IPY_MODEL_25337f549b5247cda2e4867c62f628aa",
       "IPY_MODEL_8e6b4643609e46cfbd8f266c461e1f2e"
      ],
      "layout": "IPY_MODEL_7e58a2cad02743d0a7c8d10545014fbe"
     }
    },
    "72e3d0e5d2444035aa26c1bdd0321067": {
     "model_module": "@jupyter-widgets/controls",
     "model_module_version": "1.5.0",
     "model_name": "DescriptionStyleModel",
     "state": {
      "_model_module": "@jupyter-widgets/controls",
      "_model_module_version": "1.5.0",
      "_model_name": "DescriptionStyleModel",
      "_view_count": null,
      "_view_module": "@jupyter-widgets/base",
      "_view_module_version": "1.2.0",
      "_view_name": "StyleView",
      "description_width": ""
     }
    },
    "74dde453bd8a4accb4a5f115f4cd7c12": {
     "model_module": "@jupyter-widgets/controls",
     "model_module_version": "1.5.0",
     "model_name": "HTMLModel",
     "state": {
      "_dom_classes": [],
      "_model_module": "@jupyter-widgets/controls",
      "_model_module_version": "1.5.0",
      "_model_name": "HTMLModel",
      "_view_count": null,
      "_view_module": "@jupyter-widgets/controls",
      "_view_module_version": "1.5.0",
      "_view_name": "HTMLView",
      "description": "",
      "description_tooltip": null,
      "layout": "IPY_MODEL_c82d35b9a6714126a07f2f7889d32f4f",
      "placeholder": "​",
      "style": "IPY_MODEL_72e3d0e5d2444035aa26c1bdd0321067",
      "value": "Downloading: 100%"
     }
    },
    "76fd166a20f54cd5a4dddf2a8e87979e": {
     "model_module": "@jupyter-widgets/base",
     "model_module_version": "1.2.0",
     "model_name": "LayoutModel",
     "state": {
      "_model_module": "@jupyter-widgets/base",
      "_model_module_version": "1.2.0",
      "_model_name": "LayoutModel",
      "_view_count": null,
      "_view_module": "@jupyter-widgets/base",
      "_view_module_version": "1.2.0",
      "_view_name": "LayoutView",
      "align_content": null,
      "align_items": null,
      "align_self": null,
      "border": null,
      "bottom": null,
      "display": null,
      "flex": null,
      "flex_flow": null,
      "grid_area": null,
      "grid_auto_columns": null,
      "grid_auto_flow": null,
      "grid_auto_rows": null,
      "grid_column": null,
      "grid_gap": null,
      "grid_row": null,
      "grid_template_areas": null,
      "grid_template_columns": null,
      "grid_template_rows": null,
      "height": null,
      "justify_content": null,
      "justify_items": null,
      "left": null,
      "margin": null,
      "max_height": null,
      "max_width": null,
      "min_height": null,
      "min_width": null,
      "object_fit": null,
      "object_position": null,
      "order": null,
      "overflow": null,
      "overflow_x": null,
      "overflow_y": null,
      "padding": null,
      "right": null,
      "top": null,
      "visibility": null,
      "width": null
     }
    },
    "783cdefaba1f409680349ffdba07ccf5": {
     "model_module": "@jupyter-widgets/controls",
     "model_module_version": "1.5.0",
     "model_name": "HTMLModel",
     "state": {
      "_dom_classes": [],
      "_model_module": "@jupyter-widgets/controls",
      "_model_module_version": "1.5.0",
      "_model_name": "HTMLModel",
      "_view_count": null,
      "_view_module": "@jupyter-widgets/controls",
      "_view_module_version": "1.5.0",
      "_view_name": "HTMLView",
      "description": "",
      "description_tooltip": null,
      "layout": "IPY_MODEL_7a6e2969b7924fab90152ddb9da74a45",
      "placeholder": "​",
      "style": "IPY_MODEL_6bac0d78e9d646fd84e1f80b476b1204",
      "value": " 446k/446k [00:00&lt;00:00, 14.8MB/s]"
     }
    },
    "7a6e2969b7924fab90152ddb9da74a45": {
     "model_module": "@jupyter-widgets/base",
     "model_module_version": "1.2.0",
     "model_name": "LayoutModel",
     "state": {
      "_model_module": "@jupyter-widgets/base",
      "_model_module_version": "1.2.0",
      "_model_name": "LayoutModel",
      "_view_count": null,
      "_view_module": "@jupyter-widgets/base",
      "_view_module_version": "1.2.0",
      "_view_name": "LayoutView",
      "align_content": null,
      "align_items": null,
      "align_self": null,
      "border": null,
      "bottom": null,
      "display": null,
      "flex": null,
      "flex_flow": null,
      "grid_area": null,
      "grid_auto_columns": null,
      "grid_auto_flow": null,
      "grid_auto_rows": null,
      "grid_column": null,
      "grid_gap": null,
      "grid_row": null,
      "grid_template_areas": null,
      "grid_template_columns": null,
      "grid_template_rows": null,
      "height": null,
      "justify_content": null,
      "justify_items": null,
      "left": null,
      "margin": null,
      "max_height": null,
      "max_width": null,
      "min_height": null,
      "min_width": null,
      "object_fit": null,
      "object_position": null,
      "order": null,
      "overflow": null,
      "overflow_x": null,
      "overflow_y": null,
      "padding": null,
      "right": null,
      "top": null,
      "visibility": null,
      "width": null
     }
    },
    "7e58a2cad02743d0a7c8d10545014fbe": {
     "model_module": "@jupyter-widgets/base",
     "model_module_version": "1.2.0",
     "model_name": "LayoutModel",
     "state": {
      "_model_module": "@jupyter-widgets/base",
      "_model_module_version": "1.2.0",
      "_model_name": "LayoutModel",
      "_view_count": null,
      "_view_module": "@jupyter-widgets/base",
      "_view_module_version": "1.2.0",
      "_view_name": "LayoutView",
      "align_content": null,
      "align_items": null,
      "align_self": null,
      "border": null,
      "bottom": null,
      "display": null,
      "flex": null,
      "flex_flow": null,
      "grid_area": null,
      "grid_auto_columns": null,
      "grid_auto_flow": null,
      "grid_auto_rows": null,
      "grid_column": null,
      "grid_gap": null,
      "grid_row": null,
      "grid_template_areas": null,
      "grid_template_columns": null,
      "grid_template_rows": null,
      "height": null,
      "justify_content": null,
      "justify_items": null,
      "left": null,
      "margin": null,
      "max_height": null,
      "max_width": null,
      "min_height": null,
      "min_width": null,
      "object_fit": null,
      "object_position": null,
      "order": null,
      "overflow": null,
      "overflow_x": null,
      "overflow_y": null,
      "padding": null,
      "right": null,
      "top": null,
      "visibility": null,
      "width": null
     }
    },
    "81adc01e64c748e080617837f615f292": {
     "model_module": "@jupyter-widgets/base",
     "model_module_version": "1.2.0",
     "model_name": "LayoutModel",
     "state": {
      "_model_module": "@jupyter-widgets/base",
      "_model_module_version": "1.2.0",
      "_model_name": "LayoutModel",
      "_view_count": null,
      "_view_module": "@jupyter-widgets/base",
      "_view_module_version": "1.2.0",
      "_view_name": "LayoutView",
      "align_content": null,
      "align_items": null,
      "align_self": null,
      "border": null,
      "bottom": null,
      "display": null,
      "flex": null,
      "flex_flow": null,
      "grid_area": null,
      "grid_auto_columns": null,
      "grid_auto_flow": null,
      "grid_auto_rows": null,
      "grid_column": null,
      "grid_gap": null,
      "grid_row": null,
      "grid_template_areas": null,
      "grid_template_columns": null,
      "grid_template_rows": null,
      "height": null,
      "justify_content": null,
      "justify_items": null,
      "left": null,
      "margin": null,
      "max_height": null,
      "max_width": null,
      "min_height": null,
      "min_width": null,
      "object_fit": null,
      "object_position": null,
      "order": null,
      "overflow": null,
      "overflow_x": null,
      "overflow_y": null,
      "padding": null,
      "right": null,
      "top": null,
      "visibility": null,
      "width": null
     }
    },
    "85f6d2f4d749492fbc724e7515d78a6f": {
     "model_module": "@jupyter-widgets/controls",
     "model_module_version": "1.5.0",
     "model_name": "ProgressStyleModel",
     "state": {
      "_model_module": "@jupyter-widgets/controls",
      "_model_module_version": "1.5.0",
      "_model_name": "ProgressStyleModel",
      "_view_count": null,
      "_view_module": "@jupyter-widgets/base",
      "_view_module_version": "1.2.0",
      "_view_name": "StyleView",
      "bar_color": null,
      "description_width": ""
     }
    },
    "8e6b4643609e46cfbd8f266c461e1f2e": {
     "model_module": "@jupyter-widgets/controls",
     "model_module_version": "1.5.0",
     "model_name": "HTMLModel",
     "state": {
      "_dom_classes": [],
      "_model_module": "@jupyter-widgets/controls",
      "_model_module_version": "1.5.0",
      "_model_name": "HTMLModel",
      "_view_count": null,
      "_view_module": "@jupyter-widgets/controls",
      "_view_module_version": "1.5.0",
      "_view_name": "HTMLView",
      "description": "",
      "description_tooltip": null,
      "layout": "IPY_MODEL_dfccede9ad234e528d6e5bb1929ef010",
      "placeholder": "​",
      "style": "IPY_MODEL_981bdab1ee9b4011909966db287aedc2",
      "value": " 0.99M/0.99M [00:00&lt;00:00, 1.81MB/s]"
     }
    },
    "9794e4a7245f417e82f82d2ea9fbcf24": {
     "model_module": "@jupyter-widgets/controls",
     "model_module_version": "1.5.0",
     "model_name": "ProgressStyleModel",
     "state": {
      "_model_module": "@jupyter-widgets/controls",
      "_model_module_version": "1.5.0",
      "_model_name": "ProgressStyleModel",
      "_view_count": null,
      "_view_module": "@jupyter-widgets/base",
      "_view_module_version": "1.2.0",
      "_view_name": "StyleView",
      "bar_color": null,
      "description_width": ""
     }
    },
    "981bdab1ee9b4011909966db287aedc2": {
     "model_module": "@jupyter-widgets/controls",
     "model_module_version": "1.5.0",
     "model_name": "DescriptionStyleModel",
     "state": {
      "_model_module": "@jupyter-widgets/controls",
      "_model_module_version": "1.5.0",
      "_model_name": "DescriptionStyleModel",
      "_view_count": null,
      "_view_module": "@jupyter-widgets/base",
      "_view_module_version": "1.2.0",
      "_view_name": "StyleView",
      "description_width": ""
     }
    },
    "999792296761407480dff4a005a711f7": {
     "model_module": "@jupyter-widgets/controls",
     "model_module_version": "1.5.0",
     "model_name": "ProgressStyleModel",
     "state": {
      "_model_module": "@jupyter-widgets/controls",
      "_model_module_version": "1.5.0",
      "_model_name": "ProgressStyleModel",
      "_view_count": null,
      "_view_module": "@jupyter-widgets/base",
      "_view_module_version": "1.2.0",
      "_view_name": "StyleView",
      "bar_color": null,
      "description_width": ""
     }
    },
    "a7132c25b46e4a43861b526bca6fdf4b": {
     "model_module": "@jupyter-widgets/controls",
     "model_module_version": "1.5.0",
     "model_name": "DescriptionStyleModel",
     "state": {
      "_model_module": "@jupyter-widgets/controls",
      "_model_module_version": "1.5.0",
      "_model_name": "DescriptionStyleModel",
      "_view_count": null,
      "_view_module": "@jupyter-widgets/base",
      "_view_module_version": "1.2.0",
      "_view_name": "StyleView",
      "description_width": ""
     }
    },
    "a7bee72925c64202a0180c2cce25f001": {
     "model_module": "@jupyter-widgets/controls",
     "model_module_version": "1.5.0",
     "model_name": "FloatProgressModel",
     "state": {
      "_dom_classes": [],
      "_model_module": "@jupyter-widgets/controls",
      "_model_module_version": "1.5.0",
      "_model_name": "FloatProgressModel",
      "_view_count": null,
      "_view_module": "@jupyter-widgets/controls",
      "_view_module_version": "1.5.0",
      "_view_name": "ProgressView",
      "bar_style": "success",
      "description": "",
      "description_tooltip": null,
      "layout": "IPY_MODEL_cc34e4bdc9474d5187a5edd04a57f3e4",
      "max": 548118077,
      "min": 0,
      "orientation": "horizontal",
      "style": "IPY_MODEL_9794e4a7245f417e82f82d2ea9fbcf24",
      "value": 548118077
     }
    },
    "aa93dc9842844ded8d533480de8b9b50": {
     "model_module": "@jupyter-widgets/controls",
     "model_module_version": "1.5.0",
     "model_name": "HBoxModel",
     "state": {
      "_dom_classes": [],
      "_model_module": "@jupyter-widgets/controls",
      "_model_module_version": "1.5.0",
      "_model_name": "HBoxModel",
      "_view_count": null,
      "_view_module": "@jupyter-widgets/controls",
      "_view_module_version": "1.5.0",
      "_view_name": "HBoxView",
      "box_style": "",
      "children": [
       "IPY_MODEL_d4b1a752893f4817a5f8bba68407718a",
       "IPY_MODEL_a7bee72925c64202a0180c2cce25f001",
       "IPY_MODEL_183dddadfefc4d6389fcc9b1384749d4"
      ],
      "layout": "IPY_MODEL_76fd166a20f54cd5a4dddf2a8e87979e"
     }
    },
    "b56d1525748549cfaa1d9c3ccad08ce5": {
     "model_module": "@jupyter-widgets/controls",
     "model_module_version": "1.5.0",
     "model_name": "ProgressStyleModel",
     "state": {
      "_model_module": "@jupyter-widgets/controls",
      "_model_module_version": "1.5.0",
      "_model_name": "ProgressStyleModel",
      "_view_count": null,
      "_view_module": "@jupyter-widgets/base",
      "_view_module_version": "1.2.0",
      "_view_name": "StyleView",
      "bar_color": null,
      "description_width": ""
     }
    },
    "b9174646e0f643979871fd93ec00fb35": {
     "model_module": "@jupyter-widgets/controls",
     "model_module_version": "1.5.0",
     "model_name": "HTMLModel",
     "state": {
      "_dom_classes": [],
      "_model_module": "@jupyter-widgets/controls",
      "_model_module_version": "1.5.0",
      "_model_name": "HTMLModel",
      "_view_count": null,
      "_view_module": "@jupyter-widgets/controls",
      "_view_module_version": "1.5.0",
      "_view_name": "HTMLView",
      "description": "",
      "description_tooltip": null,
      "layout": "IPY_MODEL_cf5ee2e8f9f143cc904dee7fed00f6b6",
      "placeholder": "​",
      "style": "IPY_MODEL_0997e67f75ea450e840a91624e42a8bc",
      "value": "Downloading: 100%"
     }
    },
    "c23f125666ae45a7b20179971fc1b26f": {
     "model_module": "@jupyter-widgets/base",
     "model_module_version": "1.2.0",
     "model_name": "LayoutModel",
     "state": {
      "_model_module": "@jupyter-widgets/base",
      "_model_module_version": "1.2.0",
      "_model_name": "LayoutModel",
      "_view_count": null,
      "_view_module": "@jupyter-widgets/base",
      "_view_module_version": "1.2.0",
      "_view_name": "LayoutView",
      "align_content": null,
      "align_items": null,
      "align_self": null,
      "border": null,
      "bottom": null,
      "display": null,
      "flex": null,
      "flex_flow": null,
      "grid_area": null,
      "grid_auto_columns": null,
      "grid_auto_flow": null,
      "grid_auto_rows": null,
      "grid_column": null,
      "grid_gap": null,
      "grid_row": null,
      "grid_template_areas": null,
      "grid_template_columns": null,
      "grid_template_rows": null,
      "height": null,
      "justify_content": null,
      "justify_items": null,
      "left": null,
      "margin": null,
      "max_height": null,
      "max_width": null,
      "min_height": null,
      "min_width": null,
      "object_fit": null,
      "object_position": null,
      "order": null,
      "overflow": null,
      "overflow_x": null,
      "overflow_y": null,
      "padding": null,
      "right": null,
      "top": null,
      "visibility": null,
      "width": null
     }
    },
    "c54197024b0147d29ca3c7a83b789714": {
     "model_module": "@jupyter-widgets/controls",
     "model_module_version": "1.5.0",
     "model_name": "ProgressStyleModel",
     "state": {
      "_model_module": "@jupyter-widgets/controls",
      "_model_module_version": "1.5.0",
      "_model_name": "ProgressStyleModel",
      "_view_count": null,
      "_view_module": "@jupyter-widgets/base",
      "_view_module_version": "1.2.0",
      "_view_name": "StyleView",
      "bar_color": null,
      "description_width": ""
     }
    },
    "c82d35b9a6714126a07f2f7889d32f4f": {
     "model_module": "@jupyter-widgets/base",
     "model_module_version": "1.2.0",
     "model_name": "LayoutModel",
     "state": {
      "_model_module": "@jupyter-widgets/base",
      "_model_module_version": "1.2.0",
      "_model_name": "LayoutModel",
      "_view_count": null,
      "_view_module": "@jupyter-widgets/base",
      "_view_module_version": "1.2.0",
      "_view_name": "LayoutView",
      "align_content": null,
      "align_items": null,
      "align_self": null,
      "border": null,
      "bottom": null,
      "display": null,
      "flex": null,
      "flex_flow": null,
      "grid_area": null,
      "grid_auto_columns": null,
      "grid_auto_flow": null,
      "grid_auto_rows": null,
      "grid_column": null,
      "grid_gap": null,
      "grid_row": null,
      "grid_template_areas": null,
      "grid_template_columns": null,
      "grid_template_rows": null,
      "height": null,
      "justify_content": null,
      "justify_items": null,
      "left": null,
      "margin": null,
      "max_height": null,
      "max_width": null,
      "min_height": null,
      "min_width": null,
      "object_fit": null,
      "object_position": null,
      "order": null,
      "overflow": null,
      "overflow_x": null,
      "overflow_y": null,
      "padding": null,
      "right": null,
      "top": null,
      "visibility": null,
      "width": null
     }
    },
    "c99d236562454afd9f4b343b4d68f11f": {
     "model_module": "@jupyter-widgets/base",
     "model_module_version": "1.2.0",
     "model_name": "LayoutModel",
     "state": {
      "_model_module": "@jupyter-widgets/base",
      "_model_module_version": "1.2.0",
      "_model_name": "LayoutModel",
      "_view_count": null,
      "_view_module": "@jupyter-widgets/base",
      "_view_module_version": "1.2.0",
      "_view_name": "LayoutView",
      "align_content": null,
      "align_items": null,
      "align_self": null,
      "border": null,
      "bottom": null,
      "display": null,
      "flex": null,
      "flex_flow": null,
      "grid_area": null,
      "grid_auto_columns": null,
      "grid_auto_flow": null,
      "grid_auto_rows": null,
      "grid_column": null,
      "grid_gap": null,
      "grid_row": null,
      "grid_template_areas": null,
      "grid_template_columns": null,
      "grid_template_rows": null,
      "height": null,
      "justify_content": null,
      "justify_items": null,
      "left": null,
      "margin": null,
      "max_height": null,
      "max_width": null,
      "min_height": null,
      "min_width": null,
      "object_fit": null,
      "object_position": null,
      "order": null,
      "overflow": null,
      "overflow_x": null,
      "overflow_y": null,
      "padding": null,
      "right": null,
      "top": null,
      "visibility": null,
      "width": null
     }
    },
    "cc34e4bdc9474d5187a5edd04a57f3e4": {
     "model_module": "@jupyter-widgets/base",
     "model_module_version": "1.2.0",
     "model_name": "LayoutModel",
     "state": {
      "_model_module": "@jupyter-widgets/base",
      "_model_module_version": "1.2.0",
      "_model_name": "LayoutModel",
      "_view_count": null,
      "_view_module": "@jupyter-widgets/base",
      "_view_module_version": "1.2.0",
      "_view_name": "LayoutView",
      "align_content": null,
      "align_items": null,
      "align_self": null,
      "border": null,
      "bottom": null,
      "display": null,
      "flex": null,
      "flex_flow": null,
      "grid_area": null,
      "grid_auto_columns": null,
      "grid_auto_flow": null,
      "grid_auto_rows": null,
      "grid_column": null,
      "grid_gap": null,
      "grid_row": null,
      "grid_template_areas": null,
      "grid_template_columns": null,
      "grid_template_rows": null,
      "height": null,
      "justify_content": null,
      "justify_items": null,
      "left": null,
      "margin": null,
      "max_height": null,
      "max_width": null,
      "min_height": null,
      "min_width": null,
      "object_fit": null,
      "object_position": null,
      "order": null,
      "overflow": null,
      "overflow_x": null,
      "overflow_y": null,
      "padding": null,
      "right": null,
      "top": null,
      "visibility": null,
      "width": null
     }
    },
    "cf5ee2e8f9f143cc904dee7fed00f6b6": {
     "model_module": "@jupyter-widgets/base",
     "model_module_version": "1.2.0",
     "model_name": "LayoutModel",
     "state": {
      "_model_module": "@jupyter-widgets/base",
      "_model_module_version": "1.2.0",
      "_model_name": "LayoutModel",
      "_view_count": null,
      "_view_module": "@jupyter-widgets/base",
      "_view_module_version": "1.2.0",
      "_view_name": "LayoutView",
      "align_content": null,
      "align_items": null,
      "align_self": null,
      "border": null,
      "bottom": null,
      "display": null,
      "flex": null,
      "flex_flow": null,
      "grid_area": null,
      "grid_auto_columns": null,
      "grid_auto_flow": null,
      "grid_auto_rows": null,
      "grid_column": null,
      "grid_gap": null,
      "grid_row": null,
      "grid_template_areas": null,
      "grid_template_columns": null,
      "grid_template_rows": null,
      "height": null,
      "justify_content": null,
      "justify_items": null,
      "left": null,
      "margin": null,
      "max_height": null,
      "max_width": null,
      "min_height": null,
      "min_width": null,
      "object_fit": null,
      "object_position": null,
      "order": null,
      "overflow": null,
      "overflow_x": null,
      "overflow_y": null,
      "padding": null,
      "right": null,
      "top": null,
      "visibility": null,
      "width": null
     }
    },
    "d2a9af4979ad4b8fbc5bc05ddd12fd55": {
     "model_module": "@jupyter-widgets/base",
     "model_module_version": "1.2.0",
     "model_name": "LayoutModel",
     "state": {
      "_model_module": "@jupyter-widgets/base",
      "_model_module_version": "1.2.0",
      "_model_name": "LayoutModel",
      "_view_count": null,
      "_view_module": "@jupyter-widgets/base",
      "_view_module_version": "1.2.0",
      "_view_name": "LayoutView",
      "align_content": null,
      "align_items": null,
      "align_self": null,
      "border": null,
      "bottom": null,
      "display": null,
      "flex": null,
      "flex_flow": null,
      "grid_area": null,
      "grid_auto_columns": null,
      "grid_auto_flow": null,
      "grid_auto_rows": null,
      "grid_column": null,
      "grid_gap": null,
      "grid_row": null,
      "grid_template_areas": null,
      "grid_template_columns": null,
      "grid_template_rows": null,
      "height": null,
      "justify_content": null,
      "justify_items": null,
      "left": null,
      "margin": null,
      "max_height": null,
      "max_width": null,
      "min_height": null,
      "min_width": null,
      "object_fit": null,
      "object_position": null,
      "order": null,
      "overflow": null,
      "overflow_x": null,
      "overflow_y": null,
      "padding": null,
      "right": null,
      "top": null,
      "visibility": null,
      "width": null
     }
    },
    "d4a22a25a39c4fe590c2a430dae5ebe5": {
     "model_module": "@jupyter-widgets/base",
     "model_module_version": "1.2.0",
     "model_name": "LayoutModel",
     "state": {
      "_model_module": "@jupyter-widgets/base",
      "_model_module_version": "1.2.0",
      "_model_name": "LayoutModel",
      "_view_count": null,
      "_view_module": "@jupyter-widgets/base",
      "_view_module_version": "1.2.0",
      "_view_name": "LayoutView",
      "align_content": null,
      "align_items": null,
      "align_self": null,
      "border": null,
      "bottom": null,
      "display": null,
      "flex": null,
      "flex_flow": null,
      "grid_area": null,
      "grid_auto_columns": null,
      "grid_auto_flow": null,
      "grid_auto_rows": null,
      "grid_column": null,
      "grid_gap": null,
      "grid_row": null,
      "grid_template_areas": null,
      "grid_template_columns": null,
      "grid_template_rows": null,
      "height": null,
      "justify_content": null,
      "justify_items": null,
      "left": null,
      "margin": null,
      "max_height": null,
      "max_width": null,
      "min_height": null,
      "min_width": null,
      "object_fit": null,
      "object_position": null,
      "order": null,
      "overflow": null,
      "overflow_x": null,
      "overflow_y": null,
      "padding": null,
      "right": null,
      "top": null,
      "visibility": null,
      "width": null
     }
    },
    "d4b1a752893f4817a5f8bba68407718a": {
     "model_module": "@jupyter-widgets/controls",
     "model_module_version": "1.5.0",
     "model_name": "HTMLModel",
     "state": {
      "_dom_classes": [],
      "_model_module": "@jupyter-widgets/controls",
      "_model_module_version": "1.5.0",
      "_model_name": "HTMLModel",
      "_view_count": null,
      "_view_module": "@jupyter-widgets/controls",
      "_view_module_version": "1.5.0",
      "_view_name": "HTMLView",
      "description": "",
      "description_tooltip": null,
      "layout": "IPY_MODEL_ee275512fbe6492084ac1168addc0789",
      "placeholder": "​",
      "style": "IPY_MODEL_5e33f46b2f884faab77119f386b1cb90",
      "value": "Downloading: 100%"
     }
    },
    "dbe20833a0ca41c9808dd90cff198982": {
     "model_module": "@jupyter-widgets/controls",
     "model_module_version": "1.5.0",
     "model_name": "HTMLModel",
     "state": {
      "_dom_classes": [],
      "_model_module": "@jupyter-widgets/controls",
      "_model_module_version": "1.5.0",
      "_model_name": "HTMLModel",
      "_view_count": null,
      "_view_module": "@jupyter-widgets/controls",
      "_view_module_version": "1.5.0",
      "_view_name": "HTMLView",
      "description": "",
      "description_tooltip": null,
      "layout": "IPY_MODEL_f66098d207954797884d7bfdac421fed",
      "placeholder": "​",
      "style": "IPY_MODEL_67e2d46198f34d2d92e66a2eaaa10ab8",
      "value": "Downloading: 100%"
     }
    },
    "dfccede9ad234e528d6e5bb1929ef010": {
     "model_module": "@jupyter-widgets/base",
     "model_module_version": "1.2.0",
     "model_name": "LayoutModel",
     "state": {
      "_model_module": "@jupyter-widgets/base",
      "_model_module_version": "1.2.0",
      "_model_name": "LayoutModel",
      "_view_count": null,
      "_view_module": "@jupyter-widgets/base",
      "_view_module_version": "1.2.0",
      "_view_name": "LayoutView",
      "align_content": null,
      "align_items": null,
      "align_self": null,
      "border": null,
      "bottom": null,
      "display": null,
      "flex": null,
      "flex_flow": null,
      "grid_area": null,
      "grid_auto_columns": null,
      "grid_auto_flow": null,
      "grid_auto_rows": null,
      "grid_column": null,
      "grid_gap": null,
      "grid_row": null,
      "grid_template_areas": null,
      "grid_template_columns": null,
      "grid_template_rows": null,
      "height": null,
      "justify_content": null,
      "justify_items": null,
      "left": null,
      "margin": null,
      "max_height": null,
      "max_width": null,
      "min_height": null,
      "min_width": null,
      "object_fit": null,
      "object_position": null,
      "order": null,
      "overflow": null,
      "overflow_x": null,
      "overflow_y": null,
      "padding": null,
      "right": null,
      "top": null,
      "visibility": null,
      "width": null
     }
    },
    "e592242d55e442298f4a58aa6d6e60b0": {
     "model_module": "@jupyter-widgets/controls",
     "model_module_version": "1.5.0",
     "model_name": "HBoxModel",
     "state": {
      "_dom_classes": [],
      "_model_module": "@jupyter-widgets/controls",
      "_model_module_version": "1.5.0",
      "_model_name": "HBoxModel",
      "_view_count": null,
      "_view_module": "@jupyter-widgets/controls",
      "_view_module_version": "1.5.0",
      "_view_name": "HBoxView",
      "box_style": "",
      "children": [
       "IPY_MODEL_4bbdabbb1b2c433d8f32e2e7c7bdc75d",
       "IPY_MODEL_5e22b1f83f5944d3b5b56f9e8e7f40c7",
       "IPY_MODEL_783cdefaba1f409680349ffdba07ccf5"
      ],
      "layout": "IPY_MODEL_81adc01e64c748e080617837f615f292"
     }
    },
    "e8034997ed2a460da7ad159995d1a362": {
     "model_module": "@jupyter-widgets/base",
     "model_module_version": "1.2.0",
     "model_name": "LayoutModel",
     "state": {
      "_model_module": "@jupyter-widgets/base",
      "_model_module_version": "1.2.0",
      "_model_name": "LayoutModel",
      "_view_count": null,
      "_view_module": "@jupyter-widgets/base",
      "_view_module_version": "1.2.0",
      "_view_name": "LayoutView",
      "align_content": null,
      "align_items": null,
      "align_self": null,
      "border": null,
      "bottom": null,
      "display": null,
      "flex": null,
      "flex_flow": null,
      "grid_area": null,
      "grid_auto_columns": null,
      "grid_auto_flow": null,
      "grid_auto_rows": null,
      "grid_column": null,
      "grid_gap": null,
      "grid_row": null,
      "grid_template_areas": null,
      "grid_template_columns": null,
      "grid_template_rows": null,
      "height": null,
      "justify_content": null,
      "justify_items": null,
      "left": null,
      "margin": null,
      "max_height": null,
      "max_width": null,
      "min_height": null,
      "min_width": null,
      "object_fit": null,
      "object_position": null,
      "order": null,
      "overflow": null,
      "overflow_x": null,
      "overflow_y": null,
      "padding": null,
      "right": null,
      "top": null,
      "visibility": null,
      "width": null
     }
    },
    "ee275512fbe6492084ac1168addc0789": {
     "model_module": "@jupyter-widgets/base",
     "model_module_version": "1.2.0",
     "model_name": "LayoutModel",
     "state": {
      "_model_module": "@jupyter-widgets/base",
      "_model_module_version": "1.2.0",
      "_model_name": "LayoutModel",
      "_view_count": null,
      "_view_module": "@jupyter-widgets/base",
      "_view_module_version": "1.2.0",
      "_view_name": "LayoutView",
      "align_content": null,
      "align_items": null,
      "align_self": null,
      "border": null,
      "bottom": null,
      "display": null,
      "flex": null,
      "flex_flow": null,
      "grid_area": null,
      "grid_auto_columns": null,
      "grid_auto_flow": null,
      "grid_auto_rows": null,
      "grid_column": null,
      "grid_gap": null,
      "grid_row": null,
      "grid_template_areas": null,
      "grid_template_columns": null,
      "grid_template_rows": null,
      "height": null,
      "justify_content": null,
      "justify_items": null,
      "left": null,
      "margin": null,
      "max_height": null,
      "max_width": null,
      "min_height": null,
      "min_width": null,
      "object_fit": null,
      "object_position": null,
      "order": null,
      "overflow": null,
      "overflow_x": null,
      "overflow_y": null,
      "padding": null,
      "right": null,
      "top": null,
      "visibility": null,
      "width": null
     }
    },
    "f66098d207954797884d7bfdac421fed": {
     "model_module": "@jupyter-widgets/base",
     "model_module_version": "1.2.0",
     "model_name": "LayoutModel",
     "state": {
      "_model_module": "@jupyter-widgets/base",
      "_model_module_version": "1.2.0",
      "_model_name": "LayoutModel",
      "_view_count": null,
      "_view_module": "@jupyter-widgets/base",
      "_view_module_version": "1.2.0",
      "_view_name": "LayoutView",
      "align_content": null,
      "align_items": null,
      "align_self": null,
      "border": null,
      "bottom": null,
      "display": null,
      "flex": null,
      "flex_flow": null,
      "grid_area": null,
      "grid_auto_columns": null,
      "grid_auto_flow": null,
      "grid_auto_rows": null,
      "grid_column": null,
      "grid_gap": null,
      "grid_row": null,
      "grid_template_areas": null,
      "grid_template_columns": null,
      "grid_template_rows": null,
      "height": null,
      "justify_content": null,
      "justify_items": null,
      "left": null,
      "margin": null,
      "max_height": null,
      "max_width": null,
      "min_height": null,
      "min_width": null,
      "object_fit": null,
      "object_position": null,
      "order": null,
      "overflow": null,
      "overflow_x": null,
      "overflow_y": null,
      "padding": null,
      "right": null,
      "top": null,
      "visibility": null,
      "width": null
     }
    }
   }
  }
 },
 "nbformat": 4,
 "nbformat_minor": 4
}
