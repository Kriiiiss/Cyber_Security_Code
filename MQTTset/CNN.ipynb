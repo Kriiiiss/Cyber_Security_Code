{
 "cells": [
  {
   "cell_type": "code",
   "execution_count": 1,
   "metadata": {},
   "outputs": [],
   "source": [
    "# !pip install pandas\n",
    "# !pip install numpy\n",
    "# !pip install seaborn\n",
    "# !pip install tensorflow\n"
   ]
  },
  {
   "cell_type": "code",
   "execution_count": 2,
   "metadata": {
    "scrolled": true
   },
   "outputs": [],
   "source": [
    "# pip install tensorflow\n",
    "# !pip install keras==2.12.0\n",
    "# !pip install --upgrade keras tensorflow\n",
    "# !pip install scikeras"
   ]
  },
  {
   "cell_type": "code",
   "execution_count": 3,
   "metadata": {
    "id": "gHqVTFNhw6jM"
   },
   "outputs": [
    {
     "name": "stderr",
     "output_type": "stream",
     "text": [
      "/tmp/ipykernel_565/3026721098.py:1: DeprecationWarning: \n",
      "Pyarrow will become a required dependency of pandas in the next major release of pandas (pandas 3.0),\n",
      "(to allow more performant data types, such as the Arrow string type, and better interoperability with other libraries)\n",
      "but was not found to be installed on your system.\n",
      "If this would cause problems for you,\n",
      "please provide us feedback at https://github.com/pandas-dev/pandas/issues/54466\n",
      "        \n",
      "  import pandas as pd\n",
      "2024-02-12 04:15:37.572421: I external/local_tsl/tsl/cuda/cudart_stub.cc:31] Could not find cuda drivers on your machine, GPU will not be used.\n",
      "2024-02-12 04:15:37.611247: E external/local_xla/xla/stream_executor/cuda/cuda_dnn.cc:9261] Unable to register cuDNN factory: Attempting to register factory for plugin cuDNN when one has already been registered\n",
      "2024-02-12 04:15:37.611314: E external/local_xla/xla/stream_executor/cuda/cuda_fft.cc:607] Unable to register cuFFT factory: Attempting to register factory for plugin cuFFT when one has already been registered\n",
      "2024-02-12 04:15:37.612173: E external/local_xla/xla/stream_executor/cuda/cuda_blas.cc:1515] Unable to register cuBLAS factory: Attempting to register factory for plugin cuBLAS when one has already been registered\n",
      "2024-02-12 04:15:37.617971: I external/local_tsl/tsl/cuda/cudart_stub.cc:31] Could not find cuda drivers on your machine, GPU will not be used.\n",
      "2024-02-12 04:15:37.618624: I tensorflow/core/platform/cpu_feature_guard.cc:182] This TensorFlow binary is optimized to use available CPU instructions in performance-critical operations.\n",
      "To enable the following instructions: AVX2 FMA, in other operations, rebuild TensorFlow with the appropriate compiler flags.\n",
      "2024-02-12 04:15:38.508338: W tensorflow/compiler/tf2tensorrt/utils/py_utils.cc:38] TF-TRT Warning: Could not find TensorRT\n"
     ]
    }
   ],
   "source": [
    "import pandas as pd\n",
    "import numpy as np\n",
    "import seaborn as sns\n",
    "from sklearn.preprocessing import LabelEncoder\n",
    "from sklearn import preprocessing\n",
    "from sklearn.model_selection import train_test_split\n",
    "from time import time\n",
    "import random\n",
    "import warnings\n",
    "warnings.filterwarnings(\"ignore\")\n",
    "from sklearn.metrics import f1_score as f1_score_rep\n",
    "from sklearn.metrics import accuracy_score\n",
    "\n",
    "import numpy as np\n",
    "import tensorflow as tf\n",
    "from tensorflow.keras.models import Sequential\n",
    "from tensorflow.keras.layers import Conv1D, MaxPooling1D, Flatten, Dense\n",
    "from tensorflow.keras.optimizers import SGD\n",
    "from tensorflow.keras.callbacks import EarlyStopping"
   ]
  },
  {
   "cell_type": "code",
   "execution_count": 4,
   "metadata": {
    "id": "MUnOy66Zxa8g"
   },
   "outputs": [],
   "source": [
    "x_test = np.load('/home/jovyan/MQTTset/x_test.npy')\n",
    "x_train = np.load('/home/jovyan/MQTTset/x_train.npy')\n",
    "x_val = np.load('/home/jovyan/MQTTset/x_val.npy')\n",
    "y_test = np.load('/home/jovyan/MQTTset/y_test.npy')\n",
    "y_train = np.load('/home/jovyan/MQTTset/y_train.npy')\n",
    "y_val = np.load('/home/jovyan/MQTTset/y_val.npy')"
   ]
  },
  {
   "cell_type": "code",
   "execution_count": 5,
   "metadata": {},
   "outputs": [
    {
     "name": "stderr",
     "output_type": "stream",
     "text": [
      "2024-02-12 04:16:41.021904: W tensorflow/core/common_runtime/gpu/gpu_device.cc:2256] Cannot dlopen some GPU libraries. Please make sure the missing libraries mentioned above are installed properly if you would like to use GPU. Follow the guide at https://www.tensorflow.org/install/gpu for how to download and setup the required libraries for your platform.\n",
      "Skipping registering GPU devices...\n"
     ]
    },
    {
     "name": "stdout",
     "output_type": "stream",
     "text": [
      "56159/56159 [==============================] - 93s 2ms/step - loss: 0.0422 - accuracy: 0.9940 - val_loss: 0.0392 - val_accuracy: 0.9940\n",
      "113262/113262 [==============================] - 70s 620us/step - loss: 0.0393 - accuracy: 0.9940\n",
      "Test accuracy: 0.9939860105514526\n",
      "113262/113262 [==============================] - 63s 556us/step\n"
     ]
    }
   ],
   "source": [
    "x_train = x_train.reshape(x_train.shape[0], x_train.shape[1], 1)\n",
    "x_test = x_test.reshape(x_test.shape[0], x_test.shape[1], 1)\n",
    "x_val = x_val.reshape(x_val.shape[0], x_val.shape[1], 1)\n",
    "\n",
    "input_shape = x_train.shape[1:]\n",
    "\n",
    "num_classes = len(np.unique(y_train))\n",
    "\n",
    "cnn_model = Sequential()\n",
    "cnn_model.add(Conv1D(filters=20, kernel_size=4, strides=2, padding='valid', activation='relu', input_shape=input_shape))\n",
    "cnn_model.add(MaxPooling1D())\n",
    "cnn_model.add(Conv1D(filters=20, kernel_size=4, strides=2, padding='same', activation='relu'))\n",
    "cnn_model.add(Conv1D(filters=3, kernel_size=2, strides=1, padding='same', activation='relu'))\n",
    "cnn_model.add(Flatten())\n",
    "cnn_model.add(Dense(units=100, activation='relu'))\n",
    "cnn_model.add(Dense(units=num_classes, activation='softmax'))\n",
    "\n",
    "opt = SGD(learning_rate=0.01) \n",
    "\n",
    "cnn_model.compile(loss=\"sparse_categorical_crossentropy\", optimizer=opt, metrics=['accuracy'])\n",
    "\n",
    "early_stopping = EarlyStopping(monitor='val_loss', min_delta=0, patience=5)\n",
    "hist = cnn_model.fit(x_train, y_train, epochs=1, batch_size=128,\n",
    "                     validation_data=(x_val, y_val), \n",
    "                     callbacks=[early_stopping])\n",
    "\n",
    "test_loss, test_acc = cnn_model.evaluate(x_test, y_test)\n",
    "print('Test accuracy:', test_acc)\n",
    "\n",
    "y_hat = cnn_model.predict(x_test)\n",
    "y_hat = np.argmax(y_hat, axis=-1)"
   ]
  },
  {
   "cell_type": "code",
   "execution_count": 6,
   "metadata": {
    "scrolled": true
   },
   "outputs": [],
   "source": [
    "# from tensorflow.keras.models import Sequential\n",
    "# from tensorflow.keras.layers import Conv1D, MaxPooling1D, Flatten, Dense\n",
    "# from scikeras.wrappers import KerasClassifier\n",
    "# from tensorflow.keras.optimizers import SGD\n",
    "# from sklearn.experimental import enable_halving_search_cv\n",
    "# from sklearn.model_selection import HalvingGridSearchCV\n",
    "# import numpy as np\n",
    "\n",
    "# # 定义模型创建函数\n",
    "# def create_model(filters=20, kernel_size=4):\n",
    "#     model = Sequential()\n",
    "#     model.add(Conv1D(filters=filters, kernel_size=kernel_size, strides=2, padding='valid', activation='relu', input_shape=input_shape))\n",
    "#     model.add(MaxPooling1D())\n",
    "#     model.add(Conv1D(filters=filters, kernel_size=kernel_size, strides=2, padding='same', activation='relu'))\n",
    "#     model.add(Conv1D(filters=3, kernel_size=2, strides=1, padding='same', activation='relu'))\n",
    "#     model.add(Flatten())\n",
    "#     model.add(Dense(units=100, activation='relu'))\n",
    "#     model.add(Dense(units=num_classes, activation='softmax'))\n",
    "#     model.compile(loss=\"categorical_crossentropy\", optimizer=SGD(lr=0.01), metrics=['accuracy'])\n",
    "\n",
    "#     return model\n",
    "\n",
    "# # 确保输入数据已经准备好\n",
    "# # x_train, y_train, x_val, y_val, x_test, y_test\n",
    "\n",
    "# input_shape = x_train.shape[1:]\n",
    "# num_classes = len(np.unique(y_train))\n",
    "\n",
    "# # 使用KerasClassifier包装模型\n",
    "# model = KerasClassifier(build_fn=create_model, filters= [20, 40], kernel_size= [3, 5], epochs=10, batch_size=64, verbose=1)\n",
    "\n",
    "# # 定义参数网格\n",
    "# param_grid = {\n",
    "#     'filters': [20, 40],\n",
    "#     'kernel_size': [3, 5]\n",
    "# }\n",
    "\n",
    "# # 创建 HalvingGridSearchCV 实例\n",
    "# halving_grid = HalvingGridSearchCV(estimator=model, param_grid=param_grid, cv=3, verbose=1)\n",
    "\n",
    "# # 执行搜索\n",
    "# halving_grid.fit(x_train, y_train, validation_data=(x_val, y_val))\n",
    "\n",
    "# # 输出最佳参数和相应的准确率\n",
    "# print(\"Best parameters:\", halving_grid.best_params_)\n",
    "# print(\"Best accuracy:\", halving_grid.best_score_)\n",
    "\n",
    "# # 评估测试集上的性能\n",
    "# best_model = halving_grid.best_estimator_.model\n",
    "# test_loss, test_acc = best_model.evaluate(x_test, y_test)\n",
    "# print('Test accuracy:', test_acc)"
   ]
  },
  {
   "cell_type": "code",
   "execution_count": 7,
   "metadata": {
    "id": "4YBRvKV1yDG0"
   },
   "outputs": [
    {
     "name": "stdout",
     "output_type": "stream",
     "text": [
      "113262/113262 [==============================] - 63s 555us/step\n",
      "FPR: [0.         0.         0.         0.43900425 0.         0.        ]\n",
      "TPR: [0.         0.71279781 0.         1.         0.         0.        ]\n",
      "FNR: [1.         0.28720219 1.         0.         1.         1.        ]\n",
      "TNR: [1.         1.         1.         0.56099575 1.         1.        ]\n",
      "Precision: 0.33232323428922245\n",
      "Accuracy: 0.9939859826518624\n",
      "F1-score: 0.992276770316092\n",
      "AUC: 0.7974766402586339\n",
      "FPR: 0.07316737494377422\n",
      "tpr: 0.28546630157552183\n",
      "fnr: 0.7145336984244782\n",
      "tnr: 0.9268326250562259\n"
     ]
    },
    {
     "data": {
      "image/png": "[encoded data removed]",
      "text/plain": [
       "<Figure size 640x480 with 2 Axes>"
      ]
     },
     "metadata": {},
     "output_type": "display_data"
    }
   ],
   "source": [
    "from sklearn.metrics import confusion_matrix, precision_score, accuracy_score, f1_score, roc_auc_score\n",
    "\n",
    "\n",
    "\n",
    "conf_matrix = confusion_matrix(y_test, y_hat)\n",
    "# tn, fp, fn, tp = conf_matrix.ravel()\n",
    "cm = conf_matrix\n",
    "fp = cm.sum(axis=0) - np.diag(cm)\n",
    "fn = cm.sum(axis=1) - np.diag(cm)\n",
    "tp = np.diag(cm)\n",
    "tn = cm.sum() - (fp + fn + tp)\n",
    "\n",
    "\n",
    "fpr = fp / (fp + tn)\n",
    "tpr = tp / (tp + fn)\n",
    "fnr = fn / (fn + tp)\n",
    "tnr = tn / (tn + fp)\n",
    "precision = precision_score(y_test, y_hat, average='macro')\n",
    "accuracy = accuracy_score(y_test, y_hat)\n",
    "f1 = f1_score(y_test, y_hat, average='weighted')\n",
    "auc = roc_auc_score(y_test, cnn_model.predict(x_test), multi_class='ovr')\n",
    "\n",
    "print(f\"FPR: {fpr}\")\n",
    "print(f\"TPR: {tpr}\")\n",
    "print(f\"FNR: {fnr}\")\n",
    "print(f\"TNR: {tnr}\")\n",
    "print(f\"Precision: {precision}\")\n",
    "print(f\"Accuracy: {accuracy}\")\n",
    "print(f\"F1-score: {f1}\")\n",
    "print(f\"AUC: {auc}\")\n",
    "\n",
    "print(f\"FPR: {np.mean(fpr)}\")\n",
    "print(f\"tpr: {np.mean(tpr)}\")\n",
    "print(f\"fnr: {np.mean(fnr)}\")\n",
    "print(f\"tnr: {np.mean(tnr)}\")\n",
    "\n",
    "import matplotlib.pyplot as plt\n",
    "from sklearn.metrics import confusion_matrix, ConfusionMatrixDisplay\n",
    "disp = ConfusionMatrixDisplay(confusion_matrix=conf_matrix)\n",
    "disp.plot()\n",
    "plt.show()\n",
    "\n",
    "import pandas as pd\n",
    "metrics = {\n",
    "    \"model\" : \"cnn\",\n",
    "    \"Accuracy\": accuracy,\n",
    "    \"Precision\": precision,\n",
    "    \"F1-score\": f1,\n",
    "    \"FPR\": np.mean(fpr),\n",
    "    \"TPR\": np.mean(tpr),\n",
    "    \"FNR\": np.mean(fnr),\n",
    "    \"TNR\": np.mean(tnr),\n",
    "    \"AUC\": auc\n",
    "}\n",
    "metrics_df = pd.DataFrame([metrics])\n",
    "metrics_df.to_csv(\"/home/jovyan/MQTTset/model.csv\", mode='a', index=False)"
   ]
  },
  {
   "cell_type": "code",
   "execution_count": null,
   "metadata": {},
   "outputs": [],
   "source": []
  }
 ],
 "metadata": {
  "colab": {
   "provenance": []
  },
  "kernelspec": {
   "display_name": "Python 3 (ipykernel)",
   "language": "python",
   "name": "python3"
  },
  "language_info": {
   "codemirror_mode": {
    "name": "ipython",
    "version": 3
   },
   "file_extension": ".py",
   "mimetype": "text/x-python",
   "name": "python",
   "nbconvert_exporter": "python",
   "pygments_lexer": "ipython3",
   "version": "3.11.5"
  }
 },
 "nbformat": 4,
 "nbformat_minor": 4
}
