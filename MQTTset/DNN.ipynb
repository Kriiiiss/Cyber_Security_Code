{
 "cells": [
  {
   "cell_type": "code",
   "execution_count": 1,
   "metadata": {
    "id": "gx_S9x8b8H97"
   },
   "outputs": [
    {
     "name": "stderr",
     "output_type": "stream",
     "text": [
      "2024-02-27 21:02:14.643590: I external/local_tsl/tsl/cuda/cudart_stub.cc:31] Could not find cuda drivers on your machine, GPU will not be used.\n",
      "2024-02-27 21:02:14.684773: E external/local_xla/xla/stream_executor/cuda/cuda_dnn.cc:9261] Unable to register cuDNN factory: Attempting to register factory for plugin cuDNN when one has already been registered\n",
      "2024-02-27 21:02:14.684841: E external/local_xla/xla/stream_executor/cuda/cuda_fft.cc:607] Unable to register cuFFT factory: Attempting to register factory for plugin cuFFT when one has already been registered\n",
      "2024-02-27 21:02:14.686133: E external/local_xla/xla/stream_executor/cuda/cuda_blas.cc:1515] Unable to register cuBLAS factory: Attempting to register factory for plugin cuBLAS when one has already been registered\n",
      "2024-02-27 21:02:14.692494: I external/local_tsl/tsl/cuda/cudart_stub.cc:31] Could not find cuda drivers on your machine, GPU will not be used.\n",
      "2024-02-27 21:02:14.692947: I tensorflow/core/platform/cpu_feature_guard.cc:182] This TensorFlow binary is optimized to use available CPU instructions in performance-critical operations.\n",
      "To enable the following instructions: AVX2 FMA, in other operations, rebuild TensorFlow with the appropriate compiler flags.\n",
      "2024-02-27 21:02:15.423340: W tensorflow/compiler/tf2tensorrt/utils/py_utils.cc:38] TF-TRT Warning: Could not find TensorRT\n"
     ]
    }
   ],
   "source": [
    "import numpy as np\n",
    "import tensorflow as tf\n",
    "from tensorflow.keras.models import Sequential\n",
    "from tensorflow.keras.layers import Dense, Input\n",
    "from tensorflow.keras.optimizers import SGD\n",
    "from tensorflow.keras.callbacks import EarlyStopping\n",
    "\n",
    "x_test = np.load('/home/jovyan/MQTTset/x_test.npy')\n",
    "x_train = np.load('/home/jovyan/MQTTset/x_train.npy')\n",
    "x_val = np.load('/home/jovyan/MQTTset/x_val.npy')\n",
    "y_test = np.load('/home/jovyan/MQTTset/y_test.npy')\n",
    "y_train = np.load('/home/jovyan/MQTTset/y_train.npy')\n",
    "y_val = np.load('/home/jovyan/MQTTset/y_val.npy')"
   ]
  },
  {
   "cell_type": "code",
   "execution_count": 2,
   "metadata": {},
   "outputs": [],
   "source": [
    "import tensorflow as tf\n",
    "from tensorflow.keras import Model\n",
    "from tensorflow.keras.models import Sequential\n",
    "from tensorflow.keras.layers import Input, Dense, Conv1D, MaxPooling1D\n",
    "from tensorflow.keras.optimizers import SGD"
   ]
  },
  {
   "cell_type": "code",
   "execution_count": 3,
   "metadata": {
    "id": "cncKTHBU7-L1"
   },
   "outputs": [
    {
     "name": "stdout",
     "output_type": "stream",
     "text": [
      "Epoch 1/20\n"
     ]
    },
    {
     "name": "stderr",
     "output_type": "stream",
     "text": [
      "2024-02-27 21:02:16.491919: E external/local_xla/xla/stream_executor/cuda/cuda_driver.cc:274] failed call to cuInit: CUDA_ERROR_NO_DEVICE: no CUDA-capable device is detected\n"
     ]
    },
    {
     "name": "stdout",
     "output_type": "stream",
     "text": [
      "197/197 - 1s - loss: 2.0733 - accuracy: 0.7475 - val_loss: 0.6741 - val_accuracy: 0.8055 - 1s/epoch - 6ms/step\n",
      "Epoch 2/20\n",
      "197/197 - 0s - loss: 0.5635 - accuracy: 0.8193 - val_loss: 0.5139 - val_accuracy: 0.8218 - 383ms/epoch - 2ms/step\n",
      "Epoch 3/20\n",
      "197/197 - 0s - loss: 0.4871 - accuracy: 0.8259 - val_loss: 0.4490 - val_accuracy: 0.8540 - 390ms/epoch - 2ms/step\n",
      "Epoch 4/20\n",
      "197/197 - 0s - loss: 0.4356 - accuracy: 0.8597 - val_loss: 0.4236 - val_accuracy: 0.8602 - 375ms/epoch - 2ms/step\n",
      "Epoch 5/20\n",
      "197/197 - 0s - loss: 0.4022 - accuracy: 0.8677 - val_loss: 0.3815 - val_accuracy: 0.8721 - 383ms/epoch - 2ms/step\n",
      "Epoch 6/20\n",
      "197/197 - 0s - loss: 0.3685 - accuracy: 0.8787 - val_loss: 0.3517 - val_accuracy: 0.8852 - 410ms/epoch - 2ms/step\n",
      "Epoch 7/20\n",
      "197/197 - 0s - loss: 0.3502 - accuracy: 0.8849 - val_loss: 0.3350 - val_accuracy: 0.8912 - 468ms/epoch - 2ms/step\n",
      "Epoch 8/20\n",
      "197/197 - 0s - loss: 0.3365 - accuracy: 0.8885 - val_loss: 0.3678 - val_accuracy: 0.8899 - 430ms/epoch - 2ms/step\n",
      "Epoch 9/20\n",
      "197/197 - 0s - loss: 0.3222 - accuracy: 0.8912 - val_loss: 0.3033 - val_accuracy: 0.8971 - 468ms/epoch - 2ms/step\n",
      "Epoch 10/20\n",
      "197/197 - 0s - loss: 0.3001 - accuracy: 0.8974 - val_loss: 0.2858 - val_accuracy: 0.8990 - 457ms/epoch - 2ms/step\n",
      "Epoch 11/20\n",
      "197/197 - 0s - loss: 0.2915 - accuracy: 0.8998 - val_loss: 0.2816 - val_accuracy: 0.8973 - 459ms/epoch - 2ms/step\n",
      "Epoch 12/20\n",
      "197/197 - 0s - loss: 0.2969 - accuracy: 0.8989 - val_loss: 0.2927 - val_accuracy: 0.9016 - 456ms/epoch - 2ms/step\n",
      "Epoch 13/20\n",
      "197/197 - 0s - loss: 0.2810 - accuracy: 0.9030 - val_loss: 0.2788 - val_accuracy: 0.9065 - 452ms/epoch - 2ms/step\n",
      "Epoch 14/20\n",
      "197/197 - 0s - loss: 0.2705 - accuracy: 0.9067 - val_loss: 0.2614 - val_accuracy: 0.9072 - 426ms/epoch - 2ms/step\n",
      "Epoch 15/20\n",
      "197/197 - 0s - loss: 0.2683 - accuracy: 0.9079 - val_loss: 0.2933 - val_accuracy: 0.9030 - 433ms/epoch - 2ms/step\n",
      "Epoch 16/20\n",
      "197/197 - 0s - loss: 0.2689 - accuracy: 0.9086 - val_loss: 0.2554 - val_accuracy: 0.9120 - 422ms/epoch - 2ms/step\n",
      "Epoch 17/20\n",
      "197/197 - 0s - loss: 0.2642 - accuracy: 0.9095 - val_loss: 0.2679 - val_accuracy: 0.9091 - 438ms/epoch - 2ms/step\n",
      "Epoch 18/20\n",
      "197/197 - 0s - loss: 0.2621 - accuracy: 0.9108 - val_loss: 0.2573 - val_accuracy: 0.9115 - 449ms/epoch - 2ms/step\n",
      "Epoch 19/20\n",
      "197/197 - 0s - loss: 0.2577 - accuracy: 0.9120 - val_loss: 0.2374 - val_accuracy: 0.9144 - 434ms/epoch - 2ms/step\n",
      "Epoch 20/20\n",
      "197/197 - 0s - loss: 0.2413 - accuracy: 0.9159 - val_loss: 0.2409 - val_accuracy: 0.9146 - 485ms/epoch - 2ms/step\n",
      "3103/3103 [==============================] - 3s 806us/step - loss: 0.3821 - accuracy: 0.8856\n",
      "Test accuracy: 0.8855977654457092\n",
      "3103/3103 [==============================] - 2s 593us/step\n"
     ]
    }
   ],
   "source": [
    "input_shape = x_train.shape[1:]\n",
    "num_classes = len(np.unique(y_train))\n",
    "\n",
    "\n",
    "# dnn_model = Sequential()\n",
    "# dnn_model.add(Input(shape=input_shape))\n",
    "# dnn_model.add(Dense(units=50, activation='relu'))\n",
    "# dnn_model.add(Dense(units=30, activation='relu'))\n",
    "# dnn_model.add(Dense(units=20, activation='relu'))\n",
    "# dnn_model.add(Dense(units=num_classes, activation='softmax'))\n",
    "\n",
    "# opt = SGD(learning_rate=0.01)\n",
    "\n",
    "# dnn_model.compile(loss=\"sparse_categorical_crossentropy\", optimizer=opt, metrics=['accuracy'])\n",
    "# early_stopping = EarlyStopping(monitor='val_loss', min_delta=0, patience=5)\n",
    "# hist = dnn_model.fit(x_train, y_train, epochs=20, batch_size=1000,\n",
    "#                      validation_data=(x_val, y_val),\n",
    "#                      callbacks=[early_stopping])\n",
    "\n",
    "dnn_model = Sequential()\n",
    "dnn_model.add(Dense(50, input_dim=x_train.shape[1], kernel_initializer='normal', activation='relu'))\n",
    "dnn_model.add(Dense(30, input_dim=x_train.shape[1], kernel_initializer='normal', activation='relu'))\n",
    "dnn_model.add(Dense(20, kernel_initializer='normal'))\n",
    "dnn_model.add(Dense(6,activation='softmax'))\n",
    "dnn_model.compile(loss='sparse_categorical_crossentropy', optimizer='adam', metrics=['accuracy'])\n",
    "monitor = EarlyStopping(monitor='val_loss', min_delta=1e-3, patience=5, verbose=1, mode='auto')\n",
    "history = dnn_model.fit(x_train,y_train,validation_data=(x_val,y_val),callbacks=[monitor],verbose=2,epochs=20,batch_size=1000) \n",
    "\n",
    "\n",
    "\n",
    "test_loss, test_acc = dnn_model.evaluate(x_test, y_test)\n",
    "print('Test accuracy:', test_acc)\n",
    "\n",
    "y_hat = dnn_model.predict(x_test)\n",
    "y_hat = np.argmax(y_hat, axis=-1)"
   ]
  },
  {
   "cell_type": "code",
   "execution_count": 4,
   "metadata": {
    "id": "szJtL6DD8PZa"
   },
   "outputs": [
    {
     "name": "stdout",
     "output_type": "stream",
     "text": [
      "FPR: [0.03022994 0.05877468 0.00017153 0.09534551 0.00089572 0.00117063]\n",
      "TPR: [0.86187083 0.89060061 0.48369565 0.94405608 0.39200732 0.41398044]\n",
      "FNR: [0.13812917 0.10939939 0.51630435 0.05594392 0.60799268 0.58601956]\n",
      "TNR: [0.96977006 0.94122532 0.99982847 0.90465449 0.99910428 0.99882937]\n",
      "Accuracy: 0.8855977439822742\n",
      "Precision(micro,macro,weighted): 0.8855977439822742,0.8448895387670808,0.893934723869573\n",
      "F1(micro,macro,weighted: 0.8855977439822742,0.7073626182203685,0.8818578019551215\n",
      "FPR: 0.031098003255713783\n",
      "tpr: 0.6643684906430715\n",
      "fnr: 0.3356315093569286\n",
      "tnr: 0.9689019967442861\n"
     ]
    },
    {
     "data": {
      "image/png": "[encoded data removed]",
      "text/plain": [
       "<Figure size 640x480 with 2 Axes>"
      ]
     },
     "metadata": {},
     "output_type": "display_data"
    }
   ],
   "source": [
    "from sklearn.metrics import confusion_matrix, precision_score, accuracy_score, f1_score, roc_auc_score\n",
    "\n",
    "# y_test_arg = np.argmax(y_test, axis=1)\n",
    "y_test_arg = y_test\n",
    "conf_matrix = confusion_matrix(y_test_arg, y_hat)\n",
    "# tn, fp, fn, tp = conf_matrix.ravel()\n",
    "cm = conf_matrix\n",
    "fp = cm.sum(axis=0) - np.diag(cm)\n",
    "fn = cm.sum(axis=1) - np.diag(cm)\n",
    "tp = np.diag(cm)\n",
    "tn = cm.sum() - (fp + fn + tp)\n",
    "\n",
    "fpr = fp / (fp + tn)\n",
    "tpr = tp / (tp + fn)\n",
    "fnr = fn / (fn + tp)\n",
    "tnr = tn / (tn + fp)\n",
    "accuracy = accuracy_score(y_test_arg, y_hat)\n",
    "precision_macro = precision_score(y_test_arg, y_hat, average='macro')\n",
    "precision_micro = precision_score(y_test_arg, y_hat, average='micro')\n",
    "precision_weighted = precision_score(y_test_arg, y_hat, average='weighted')\n",
    "f1_weighted = f1_score(y_test_arg, y_hat, average='weighted')\n",
    "f1_macro = f1_score(y_test_arg, y_hat, average='macro')\n",
    "f1_micro = f1_score(y_test_arg, y_hat, average='micro')\n",
    "# auc = roc_auc_score(y_test_arg, y_hat, multi_class='ovr')\n",
    "print(f\"FPR: {fpr}\")\n",
    "print(f\"TPR: {tpr}\")\n",
    "print(f\"FNR: {fnr}\")\n",
    "print(f\"TNR: {tnr}\")\n",
    "print(f\"Accuracy: {accuracy}\")\n",
    "print(f\"Precision(micro,macro,weighted): {precision_micro},{precision_macro},{precision_weighted}\")\n",
    "print(f\"F1(micro,macro,weighted: {f1_micro},{f1_macro},{f1_weighted}\")\n",
    "# print(f\"AUC: {auc}\")\n",
    "\n",
    "print(f\"FPR: {np.mean(fpr)}\")\n",
    "print(f\"tpr: {np.mean(tpr)}\")\n",
    "print(f\"fnr: {np.mean(fnr)}\")\n",
    "print(f\"tnr: {np.mean(tnr)}\")\n",
    "\n",
    "import matplotlib.pyplot as plt\n",
    "from sklearn.metrics import confusion_matrix, ConfusionMatrixDisplay\n",
    "disp = ConfusionMatrixDisplay(confusion_matrix=conf_matrix)\n",
    "disp.plot()\n",
    "plt.show()\n",
    "\n",
    "import pandas as pd\n",
    "metrics = {\n",
    "    \"model\" : \"dnn\",\n",
    "    \"Accuracy\": accuracy,\n",
    "    \"Precision-micro\": precision_micro,\n",
    "    \"Precision-macro\": precision_macro,\n",
    "    \"Precision-weighted\": precision_weighted,\n",
    "    \"F1-micro\": f1_micro,\n",
    "    \"F1-macro\": f1_macro,\n",
    "    \"F1-weighted\": f1_weighted,\n",
    "    \"FPR\": np.mean(fpr),\n",
    "    \"TPR\": np.mean(tpr),\n",
    "    \"FNR\": np.mean(fnr),\n",
    "    \"TNR\": np.mean(tnr),\n",
    "    # \"AUC\": auc\n",
    "}\n",
    "metrics_df = pd.DataFrame([metrics])\n",
    "metrics_df.to_csv(\"/home/jovyan/MQTTset/modeldnn.csv\", mode='a', index=False)"
   ]
  },
  {
   "cell_type": "code",
   "execution_count": 5,
   "metadata": {},
   "outputs": [],
   "source": [
    "# import keras_tuner\n",
    "\n",
    "# # x_train, x_val, y_train, y_val = train_test_split(x_train, y_train, random_state = 100)\n",
    "\n",
    "# def dnnmodel(hp):\n",
    "#     model = Sequential([\n",
    "#         Dense(units=hp.Int(\"units1\", min_value=6, max_value=18, step=6),\n",
    "#               activation=hp.Choice(\"activation1\", [\"sigmoid\", \"relu\", \"tanh\"]),\n",
    "#               input_dim=x_train.shape[1]),\n",
    "#         Dense(units=hp.Int(\"units2\", min_value=6, max_value=18, step=6),\n",
    "#               activation=hp.Choice(\"activation2\", [\"sigmoid\", \"relu\", \"tanh\"])),\n",
    "#         Dense(units=hp.Int(\"units3\", min_value=6, max_value=18, step=6),\n",
    "#               activation=hp.Choice(\"activation3\", [\"sigmoid\", \"relu\", \"tanh\"])),\n",
    "#         Dense(units=hp.Int(\"units4\", min_value=6, max_value=18, step=6),\n",
    "#               activation=hp.Choice(\"activation4\", [\"sigmoid\", \"relu\", \"tanh\"])),\n",
    "#         Dense(y_train.shape[1], activation=hp.Choice(\"activation5\", [\"sigmoid\", \"relu\", \"tanh\"]))\n",
    "#     ])\n",
    "#     learning_rate = hp.Float(\"lr\", min_value=0.01, max_value=0.3, step=0.1)\n",
    "#     model.compile(optimizer=SGD(learning_rate=learning_rate), loss='categorical_crossentropy', metrics=['accuracy'])\n",
    "#     return(model)\n",
    "\n",
    "# hp = keras_tuner.HyperParameters()\n",
    "\n",
    "# tuner = keras_tuner.GridSearch(\n",
    "#     hypermodel=dnnmodel,\n",
    "#     objective=\"val_accuracy\",\n",
    "#     max_trials=10,\n",
    "#     seed=15,\n",
    "#     executions_per_trial=5,\n",
    "#     #hyperparameters=None,\n",
    "#     tune_new_entries=True,\n",
    "#     allow_new_entries=True,\n",
    "#     #max_retries_per_trial=0,\n",
    "#     max_consecutive_failed_trials=3\n",
    "# )\n",
    "\n",
    "# tuner.search(x_train, y_train, epochs=100, validation_data=(x_val, y_val))\n",
    "\n",
    "# tuner.search_space_summary()\n",
    "\n",
    "# tuner.results_summary()\n",
    "\n",
    "# models = tuner.get_best_models(num_models=1)\n",
    "# print(models[0].summary())"
   ]
  }
 ],
 "metadata": {
  "colab": {
   "provenance": []
  },
  "kernelspec": {
   "display_name": "Python 3 (ipykernel)",
   "language": "python",
   "name": "python3"
  },
  "language_info": {
   "codemirror_mode": {
    "name": "ipython",
    "version": 3
   },
   "file_extension": ".py",
   "mimetype": "text/x-python",
   "name": "python",
   "nbconvert_exporter": "python",
   "pygments_lexer": "ipython3",
   "version": "3.11.5"
  }
 },
 "nbformat": 4,
 "nbformat_minor": 4
}
