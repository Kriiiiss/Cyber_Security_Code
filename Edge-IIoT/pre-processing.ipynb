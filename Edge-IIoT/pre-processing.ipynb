{
 "cells": [
  {
   "cell_type": "code",
   "execution_count": 1,
   "metadata": {
    "id": "yBcwWIT3xfs1"
   },
   "outputs": [],
   "source": [
    "import pandas as pd\n",
    "import numpy as np\n",
    "import seaborn as sns\n",
    "from sklearn.preprocessing import LabelEncoder, scale\n",
    "from sklearn import preprocessing\n",
    "from sklearn.model_selection import train_test_split\n",
    "from sklearn.manifold import TSNE\n",
    "from time import time\n",
    "import random\n",
    "import warnings\n",
    "warnings.filterwarnings(\"ignore\")"
   ]
  },
  {
   "cell_type": "code",
   "execution_count": 2,
   "metadata": {
    "colab": {
     "base_uri": "https://localhost:8080/"
    },
    "executionInfo": {
     "elapsed": 7763,
     "status": "ok",
     "timestamp": 1705034125677,
     "user": {
      "displayName": "Kris Chen",
      "userId": "14019901183015848448"
     },
     "user_tz": 480
    },
    "id": "z_ZjfFjFwIBR",
    "outputId": "565e9db2-4284-42f7-d120-d10ceff2ce39"
   },
   "outputs": [
    {
     "name": "stdout",
     "output_type": "stream",
     "text": [
      "Attack_type\n",
      "Ransomware        10925\n",
      "Uploading          9981\n",
      "MITM               1214\n",
      "Fingerprinting     1001\n",
      "Name: count, dtype: int64\n",
      "Attack_type\n",
      "Uploading         9928\n",
      "Ransomware        9689\n",
      "Fingerprinting     853\n",
      "MITM               358\n",
      "Name: count, dtype: int64\n"
     ]
    }
   ],
   "source": [
    "import pandas as pd\n",
    "\n",
    "import numpy as np\n",
    "\n",
    "df = pd.read_csv('Edge-IIoT/ML-EdgeIIoT-dataset.csv', low_memory=False)\n",
    "df.head(5)\n",
    "\n",
    "print(df['Attack_type'].value_counts())\n",
    "\n",
    "from sklearn.utils import shuffle\n",
    "\n",
    "drop_columns = [\"frame.time\", \"ip.src_host\", \"ip.dst_host\", \"arp.src.proto_ipv4\",\"arp.dst.proto_ipv4\",\n",
    "\n",
    "         \"http.file_data\",\"http.request.full_uri\",\"icmp.transmit_timestamp\",\n",
    "\n",
    "         \"http.request.uri.query\", \"tcp.options\",\"tcp.payload\",\"tcp.srcport\",\n",
    "\n",
    "         \"tcp.dstport\", \"udp.port\", \"mqtt.msg\"]\n",
    "\n",
    "df.drop(drop_columns, axis=1, inplace=True)\n",
    "\n",
    "df.dropna(axis=0, how='any', inplace=True)\n",
    "\n",
    "df.drop_duplicates(subset=None, keep=\"first\", inplace=True)\n",
    "\n",
    "df = shuffle(df)\n",
    "\n",
    "df.isna().sum()\n",
    "\n",
    "print(df['Attack_type'].value_counts())\n",
    "\n",
    "import numpy as np\n",
    "\n",
    "from sklearn.model_selection import train_test_split\n",
    "\n",
    "from sklearn.preprocessing import StandardScaler\n",
    "\n",
    "from sklearn import preprocessing\n",
    "\n",
    "def encode_text_dummy(df, name):\n",
    "\n",
    "    dummies = pd.get_dummies(df[name])\n",
    "\n",
    "    for x in dummies.columns:\n",
    "\n",
    "        dummy_name = f\"{name}-{x}\"\n",
    "\n",
    "        df[dummy_name] = dummies[x]\n",
    "\n",
    "    df.drop(name, axis=1, inplace=True)\n",
    "\n",
    "encode_text_dummy(df,'http.request.method')\n",
    "\n",
    "encode_text_dummy(df,'http.referer')\n",
    "\n",
    "encode_text_dummy(df,\"http.request.version\")\n",
    "\n",
    "encode_text_dummy(df,\"dns.qry.name.len\")\n",
    "\n",
    "encode_text_dummy(df,\"mqtt.conack.flags\")\n",
    "\n",
    "encode_text_dummy(df,\"mqtt.protoname\")\n",
    "\n",
    "encode_text_dummy(df,\"mqtt.topic\")"
   ]
  },
  {
   "cell_type": "code",
   "execution_count": 3,
   "metadata": {
    "executionInfo": {
     "elapsed": 2097,
     "status": "ok",
     "timestamp": 1705034129838,
     "user": {
      "displayName": "Kris Chen",
      "userId": "14019901183015848448"
     },
     "user_tz": 480
    },
    "id": "FkEjK12Fw812"
   },
   "outputs": [],
   "source": [
    "\n",
    "\n",
    "# #read file\n",
    "# df = pd.read_csv('/content/drive/MyDrive/Cybersecurity/Dataset2/Train_Test_Network.csv', low_memory=False)\n",
    "\n",
    "# #label non-integer data\n",
    "# label_encoders = {}\n",
    "# non_numeric_columns = df.select_dtypes(include=['object']).columns\n",
    "# for column in non_numeric_columns:\n",
    "#     le = LabelEncoder()\n",
    "#     df[column] = le.fit_transform(df[column].astype(str))\n",
    "#     label_encoders[column] = le\n",
    "\n",
    "y = df['Attack_type']\n",
    "X = df.drop(columns=['Attack_type'])\n",
    "x_train, x_temp, y_train, y_temp = train_test_split(X, y, test_size=0.4, random_state=42, stratify=y)\n",
    "x_val, x_test, y_val, y_test = train_test_split(x_temp, y_temp, test_size=0.5, random_state=42, stratify=y_temp)\n",
    "\n",
    "# preprocessing\n",
    "x_train_scaled = preprocessing.scale(x_train)\n",
    "x_test_scaled = preprocessing.scale(x_test)\n",
    "x_val_scaled = preprocessing.scale(x_val)\n",
    "\n",
    "x_train = np.copy(x_train_scaled)\n",
    "x_test = np.copy(x_test_scaled)\n",
    "x_val = np.copy(x_val_scaled)\n",
    "\n",
    "label_encoder = LabelEncoder()\n",
    "y_train = label_encoder.fit_transform(y_train)\n",
    "y_test = label_encoder.transform(y_test)\n",
    "y_val = label_encoder.transform(y_val)\n",
    "\n",
    "\n",
    "np.save('Edge-IIoT/x_train.npy', x_train)\n",
    "np.save('Edge-IIoT/y_train.npy', y_train)\n",
    "np.save('Edge-IIoT/x_val.npy', x_val)\n",
    "np.save('Edge-IIoT/y_val.npy', y_val)\n",
    "np.save('Edge-IIoT/x_test.npy', x_test)\n",
    "np.save('Edge-IIoT/y_test.npy', y_test)"
   ]
  },
  {
   "cell_type": "code",
   "execution_count": 4,
   "metadata": {},
   "outputs": [
    {
     "name": "stdout",
     "output_type": "stream",
     "text": [
      "done\n"
     ]
    }
   ],
   "source": [
    "print(\"done\")"
   ]
  }
 ],
 "metadata": {
  "colab": {
   "authorship_tag": "ABX9TyNNv8T4vA6/2+/ypCce0gGR",
   "mount_file_id": "1fpPzLxt4vkgz2Q8y97GQC034tGPU6BAG",
   "provenance": []
  },
  "kernelspec": {
   "display_name": "Python 3 (ipykernel)",
   "language": "python",
   "name": "python3"
  },
  "language_info": {
   "codemirror_mode": {
    "name": "ipython",
    "version": 3
   },
   "file_extension": ".py",
   "mimetype": "text/x-python",
   "name": "python",
   "nbconvert_exporter": "python",
   "pygments_lexer": "ipython3",
   "version": "3.11.5"
  }
 },
 "nbformat": 4,
 "nbformat_minor": 4
}
