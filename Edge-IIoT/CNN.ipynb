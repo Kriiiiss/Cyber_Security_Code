{
 "cells": [
  {
   "cell_type": "code",
   "execution_count": 1,
   "metadata": {
    "id": "gHqVTFNhw6jM"
   },
   "outputs": [
    {
     "name": "stderr",
     "output_type": "stream",
     "text": [
      "2024-03-05 23:27:52.558775: I external/local_tsl/tsl/cuda/cudart_stub.cc:31] Could not find cuda drivers on your machine, GPU will not be used.\n",
      "2024-03-05 23:27:52.589049: E external/local_xla/xla/stream_executor/cuda/cuda_dnn.cc:9261] Unable to register cuDNN factory: Attempting to register factory for plugin cuDNN when one has already been registered\n",
      "2024-03-05 23:27:52.589087: E external/local_xla/xla/stream_executor/cuda/cuda_fft.cc:607] Unable to register cuFFT factory: Attempting to register factory for plugin cuFFT when one has already been registered\n",
      "2024-03-05 23:27:52.589782: E external/local_xla/xla/stream_executor/cuda/cuda_blas.cc:1515] Unable to register cuBLAS factory: Attempting to register factory for plugin cuBLAS when one has already been registered\n",
      "2024-03-05 23:27:52.594350: I external/local_tsl/tsl/cuda/cudart_stub.cc:31] Could not find cuda drivers on your machine, GPU will not be used.\n",
      "2024-03-05 23:27:52.595067: I tensorflow/core/platform/cpu_feature_guard.cc:182] This TensorFlow binary is optimized to use available CPU instructions in performance-critical operations.\n",
      "To enable the following instructions: AVX2 FMA, in other operations, rebuild TensorFlow with the appropriate compiler flags.\n",
      "2024-03-05 23:27:53.373712: W tensorflow/compiler/tf2tensorrt/utils/py_utils.cc:38] TF-TRT Warning: Could not find TensorRT\n"
     ]
    }
   ],
   "source": [
    "import pandas as pd\n",
    "import numpy as np\n",
    "import seaborn as sns\n",
    "from sklearn.preprocessing import LabelEncoder\n",
    "from sklearn import preprocessing\n",
    "from sklearn.model_selection import train_test_split\n",
    "from time import time\n",
    "import random\n",
    "import warnings\n",
    "warnings.filterwarnings(\"ignore\")\n",
    "from sklearn.metrics import f1_score as f1_score_rep\n",
    "from sklearn.metrics import accuracy_score\n",
    "\n",
    "import numpy as np\n",
    "import tensorflow as tf\n",
    "from tensorflow.keras.models import Sequential\n",
    "from tensorflow.keras.layers import Conv1D, MaxPooling1D, Flatten, Dense\n",
    "from tensorflow.keras.optimizers import SGD\n",
    "from tensorflow.keras.callbacks import EarlyStopping"
   ]
  },
  {
   "cell_type": "code",
   "execution_count": 2,
   "metadata": {
    "id": "MUnOy66Zxa8g"
   },
   "outputs": [],
   "source": [
    "x_test = np.load('/home/jovyan/Edge-IIoT/x_test.npy')\n",
    "x_train = np.load('/home/jovyan/Edge-IIoT/x_train.npy')\n",
    "x_val = np.load('/home/jovyan/Edge-IIoT/x_val.npy')\n",
    "y_test = np.load('/home/jovyan/Edge-IIoT/y_test.npy')\n",
    "y_train = np.load('/home/jovyan/Edge-IIoT/y_train.npy')\n",
    "y_val = np.load('/home/jovyan/Edge-IIoT/y_val.npy')"
   ]
  },
  {
   "cell_type": "code",
   "execution_count": 3,
   "metadata": {},
   "outputs": [
    {
     "name": "stderr",
     "output_type": "stream",
     "text": [
      "2024-03-05 23:27:54.036012: W tensorflow/core/common_runtime/gpu/gpu_device.cc:2256] Cannot dlopen some GPU libraries. Please make sure the missing libraries mentioned above are installed properly if you would like to use GPU. Follow the guide at https://www.tensorflow.org/install/gpu for how to download and setup the required libraries for your platform.\n",
      "Skipping registering GPU devices...\n",
      "WARNING:absl:`lr` is deprecated in Keras optimizer, please use `learning_rate` or use the legacy optimizer, e.g.,tf.keras.optimizers.legacy.SGD.\n"
     ]
    },
    {
     "name": "stdout",
     "output_type": "stream",
     "text": [
      "Epoch 1/50\n",
      "196/196 [==============================] - 1s 2ms/step - loss: 1.1318 - accuracy: 0.5428 - val_loss: 0.8951 - val_accuracy: 0.7422\n",
      "Epoch 2/50\n",
      "196/196 [==============================] - 0s 2ms/step - loss: 0.6063 - accuracy: 0.9263 - val_loss: 0.3315 - val_accuracy: 0.9419\n",
      "Epoch 3/50\n",
      "196/196 [==============================] - 0s 2ms/step - loss: 0.2385 - accuracy: 0.9427 - val_loss: 0.1780 - val_accuracy: 0.9484\n",
      "Epoch 4/50\n",
      "196/196 [==============================] - 0s 2ms/step - loss: 0.1395 - accuracy: 0.9560 - val_loss: 0.1132 - val_accuracy: 0.9630\n",
      "Epoch 5/50\n",
      "196/196 [==============================] - 0s 2ms/step - loss: 0.0894 - accuracy: 0.9750 - val_loss: 0.0791 - val_accuracy: 0.9789\n",
      "Epoch 6/50\n",
      "196/196 [==============================] - 0s 2ms/step - loss: 0.0664 - accuracy: 0.9818 - val_loss: 0.0643 - val_accuracy: 0.9798\n",
      "Epoch 7/50\n",
      "196/196 [==============================] - 0s 2ms/step - loss: 0.0563 - accuracy: 0.9844 - val_loss: 0.0568 - val_accuracy: 0.9815\n",
      "Epoch 8/50\n",
      "196/196 [==============================] - 0s 2ms/step - loss: 0.0512 - accuracy: 0.9848 - val_loss: 0.0526 - val_accuracy: 0.9818\n",
      "Epoch 9/50\n",
      "196/196 [==============================] - 0s 2ms/step - loss: 0.0482 - accuracy: 0.9848 - val_loss: 0.0493 - val_accuracy: 0.9818\n",
      "Epoch 10/50\n",
      "196/196 [==============================] - 0s 2ms/step - loss: 0.0461 - accuracy: 0.9848 - val_loss: 0.0466 - val_accuracy: 0.9818\n",
      "Epoch 11/50\n",
      "196/196 [==============================] - 0s 2ms/step - loss: 0.0443 - accuracy: 0.9848 - val_loss: 0.0445 - val_accuracy: 0.9818\n",
      "Epoch 12/50\n",
      "196/196 [==============================] - 0s 2ms/step - loss: 0.0429 - accuracy: 0.9848 - val_loss: 0.0430 - val_accuracy: 0.9818\n",
      "Epoch 13/50\n",
      "196/196 [==============================] - 0s 2ms/step - loss: 0.0418 - accuracy: 0.9848 - val_loss: 0.0418 - val_accuracy: 0.9818\n",
      "Epoch 14/50\n",
      "196/196 [==============================] - 0s 2ms/step - loss: 0.0407 - accuracy: 0.9848 - val_loss: 0.0413 - val_accuracy: 0.9839\n",
      "Epoch 15/50\n",
      "196/196 [==============================] - 0s 2ms/step - loss: 0.0398 - accuracy: 0.9854 - val_loss: 0.0400 - val_accuracy: 0.9839\n",
      "Epoch 16/50\n",
      "196/196 [==============================] - 0s 2ms/step - loss: 0.0391 - accuracy: 0.9860 - val_loss: 0.0395 - val_accuracy: 0.9839\n",
      "Epoch 17/50\n",
      "196/196 [==============================] - 0s 2ms/step - loss: 0.0384 - accuracy: 0.9862 - val_loss: 0.0394 - val_accuracy: 0.9858\n",
      "Epoch 18/50\n",
      "196/196 [==============================] - 0s 2ms/step - loss: 0.0377 - accuracy: 0.9870 - val_loss: 0.0385 - val_accuracy: 0.9858\n",
      "Epoch 19/50\n",
      "196/196 [==============================] - 0s 2ms/step - loss: 0.0374 - accuracy: 0.9873 - val_loss: 0.0372 - val_accuracy: 0.9858\n",
      "Epoch 20/50\n",
      "196/196 [==============================] - 0s 2ms/step - loss: 0.0369 - accuracy: 0.9874 - val_loss: 0.0358 - val_accuracy: 0.9858\n",
      "Epoch 21/50\n",
      "196/196 [==============================] - 0s 2ms/step - loss: 0.0361 - accuracy: 0.9874 - val_loss: 0.0377 - val_accuracy: 0.9858\n",
      "Epoch 22/50\n",
      "196/196 [==============================] - 0s 2ms/step - loss: 0.0359 - accuracy: 0.9874 - val_loss: 0.0357 - val_accuracy: 0.9858\n",
      "Epoch 23/50\n",
      "196/196 [==============================] - 0s 2ms/step - loss: 0.0353 - accuracy: 0.9874 - val_loss: 0.0354 - val_accuracy: 0.9858\n",
      "Epoch 24/50\n",
      "196/196 [==============================] - 0s 2ms/step - loss: 0.0352 - accuracy: 0.9874 - val_loss: 0.0345 - val_accuracy: 0.9858\n",
      "Epoch 25/50\n",
      "196/196 [==============================] - 0s 2ms/step - loss: 0.0347 - accuracy: 0.9874 - val_loss: 0.0354 - val_accuracy: 0.9858\n",
      "Epoch 26/50\n",
      "196/196 [==============================] - 0s 2ms/step - loss: 0.0346 - accuracy: 0.9875 - val_loss: 0.0345 - val_accuracy: 0.9858\n",
      "Epoch 27/50\n",
      "196/196 [==============================] - 0s 2ms/step - loss: 0.0343 - accuracy: 0.9874 - val_loss: 0.0339 - val_accuracy: 0.9858\n",
      "Epoch 28/50\n",
      "196/196 [==============================] - 0s 2ms/step - loss: 0.0341 - accuracy: 0.9874 - val_loss: 0.0336 - val_accuracy: 0.9858\n",
      "Epoch 29/50\n",
      "196/196 [==============================] - 0s 2ms/step - loss: 0.0339 - accuracy: 0.9874 - val_loss: 0.0337 - val_accuracy: 0.9858\n",
      "Epoch 30/50\n",
      "196/196 [==============================] - 0s 2ms/step - loss: 0.0334 - accuracy: 0.9874 - val_loss: 0.0347 - val_accuracy: 0.9858\n",
      "Epoch 31/50\n",
      "196/196 [==============================] - 0s 2ms/step - loss: 0.0333 - accuracy: 0.9873 - val_loss: 0.0323 - val_accuracy: 0.9861\n",
      "Epoch 32/50\n",
      "196/196 [==============================] - 0s 2ms/step - loss: 0.0333 - accuracy: 0.9874 - val_loss: 0.0337 - val_accuracy: 0.9858\n",
      "Epoch 33/50\n",
      "196/196 [==============================] - 0s 2ms/step - loss: 0.0331 - accuracy: 0.9874 - val_loss: 0.0339 - val_accuracy: 0.9858\n",
      "Epoch 34/50\n",
      "196/196 [==============================] - 0s 2ms/step - loss: 0.0330 - accuracy: 0.9874 - val_loss: 0.0326 - val_accuracy: 0.9861\n",
      "Epoch 35/50\n",
      "196/196 [==============================] - 0s 2ms/step - loss: 0.0328 - accuracy: 0.9873 - val_loss: 0.0323 - val_accuracy: 0.9858\n",
      "Epoch 36/50\n",
      "196/196 [==============================] - 0s 2ms/step - loss: 0.0328 - accuracy: 0.9874 - val_loss: 0.0325 - val_accuracy: 0.9858\n",
      "Epoch 37/50\n",
      "196/196 [==============================] - 0s 2ms/step - loss: 0.0328 - accuracy: 0.9874 - val_loss: 0.0346 - val_accuracy: 0.9858\n",
      "Epoch 38/50\n",
      "196/196 [==============================] - 0s 2ms/step - loss: 0.0326 - accuracy: 0.9871 - val_loss: 0.0317 - val_accuracy: 0.9858\n",
      "Epoch 39/50\n",
      "196/196 [==============================] - 0s 2ms/step - loss: 0.0324 - accuracy: 0.9874 - val_loss: 0.0329 - val_accuracy: 0.9863\n",
      "Epoch 40/50\n",
      "196/196 [==============================] - 0s 2ms/step - loss: 0.0321 - accuracy: 0.9875 - val_loss: 0.0327 - val_accuracy: 0.9866\n",
      "Epoch 41/50\n",
      "196/196 [==============================] - 0s 2ms/step - loss: 0.0325 - accuracy: 0.9875 - val_loss: 0.0318 - val_accuracy: 0.9858\n",
      "Epoch 42/50\n",
      "196/196 [==============================] - 0s 2ms/step - loss: 0.0321 - accuracy: 0.9873 - val_loss: 0.0324 - val_accuracy: 0.9858\n",
      "Epoch 43/50\n",
      "196/196 [==============================] - 0s 2ms/step - loss: 0.0320 - accuracy: 0.9874 - val_loss: 0.0322 - val_accuracy: 0.9858\n"
     ]
    },
    {
     "data": {
      "text/plain": [
       "['/home/jovyan/Edge-IIoT/pre_train/CNN.joblib']"
      ]
     },
     "execution_count": 3,
     "metadata": {},
     "output_type": "execute_result"
    }
   ],
   "source": [
    "x_train = x_train.reshape(x_train.shape[0], x_train.shape[1], 1)\n",
    "x_test = x_test.reshape(x_test.shape[0], x_test.shape[1], 1)\n",
    "x_val = x_val.reshape(x_val.shape[0], x_val.shape[1], 1)\n",
    "\n",
    "input_shape = x_train.shape[1:]\n",
    "\n",
    "num_classes = len(np.unique(y_train))\n",
    "\n",
    "cnn_model = Sequential()\n",
    "cnn_model.add(Conv1D(filters=20, kernel_size=4, strides=2, padding='valid', activation='relu', input_shape=input_shape))\n",
    "cnn_model.add(MaxPooling1D())\n",
    "cnn_model.add(Conv1D(filters=20, kernel_size=4, strides=2, padding='same', activation='relu'))\n",
    "cnn_model.add(Conv1D(filters=3, kernel_size=2, strides=1, padding='same', activation='relu'))\n",
    "cnn_model.add(Flatten())\n",
    "cnn_model.add(Dense(units=100, activation='relu'))\n",
    "cnn_model.add(Dense(units=num_classes, activation='softmax'))\n",
    "\n",
    "opt = SGD(lr=0.001) \n",
    "\n",
    "cnn_model.compile(loss=\"sparse_categorical_crossentropy\", optimizer=opt, metrics=['accuracy'])\n",
    "\n",
    "early_stopping = EarlyStopping(monitor='val_loss', min_delta=0, patience=5)\n",
    "hist = cnn_model.fit(x_train, y_train, epochs=50, batch_size=64,\n",
    "                     validation_data=(x_val, y_val), \n",
    "                     callbacks=[early_stopping])\n",
    "\n",
    "from joblib import dump, load\n",
    "dump(hist, \"/home/jovyan/Edge-IIoT/pre_train/CNN.joblib\")\n"
   ]
  },
  {
   "cell_type": "code",
   "execution_count": null,
   "metadata": {},
   "outputs": [],
   "source": [
    "test_loss, test_acc = cnn_model.evaluate(x_test, y_test)\n",
    "print('Test accuracy:', test_acc)\n",
    "\n",
    "y_hat = cnn_model.predict(x_test)\n",
    "y_hat = np.argmax(y_hat, axis=-1)"
   ]
  },
  {
   "cell_type": "code",
   "execution_count": 4,
   "metadata": {
    "id": "4YBRvKV1yDG0"
   },
   "outputs": [
    {
     "name": "stdout",
     "output_type": "stream",
     "text": [
      "131/131 [==============================] - 0s 2ms/step\n",
      "FPR: [0.00125156 0.         0.02423698 0.        ]\n",
      "TPR: [0.68421053 1.         0.99742002 1.        ]\n",
      "FNR: [0.31578947 0.         0.00257998 0.        ]\n",
      "TNR: [0.99874844 1.         0.97576302 1.        ]\n",
      "Precision: 0.9829599363073089\n",
      "Accuracy: 0.985837734037446\n",
      "F1-score: 0.9459007412882329\n",
      "AUC: 0.9980713759106765\n",
      "FPR: 0.006372137074395058\n",
      "tpr: 0.920407636738906\n",
      "fnr: 0.07959236326109391\n",
      "tnr: 0.9936278629256049\n"
     ]
    },
    {
     "data": {
      "image/png": "[encoded data removed]",
      "text/plain": [
       "<Figure size 640x480 with 2 Axes>"
      ]
     },
     "metadata": {},
     "output_type": "display_data"
    }
   ],
   "source": [
    "from sklearn.metrics import confusion_matrix, precision_score, accuracy_score, f1_score, roc_auc_score\n",
    "\n",
    "\n",
    "\n",
    "conf_matrix = confusion_matrix(y_test, y_hat)\n",
    "# tn, fp, fn, tp = conf_matrix.ravel()\n",
    "cm = conf_matrix\n",
    "fp = cm.sum(axis=0) - np.diag(cm)\n",
    "fn = cm.sum(axis=1) - np.diag(cm)\n",
    "tp = np.diag(cm)\n",
    "tn = cm.sum() - (fp + fn + tp)\n",
    "\n",
    "\n",
    "fpr = fp / (fp + tn)\n",
    "tpr = tp / (tp + fn)\n",
    "fnr = fn / (fn + tp)\n",
    "tnr = tn / (tn + fp)\n",
    "precision = precision_score(y_test, y_hat, average='macro')\n",
    "accuracy = accuracy_score(y_test, y_hat)\n",
    "f1 = f1_score(y_test, y_hat, average='macro')\n",
    "auc = roc_auc_score(y_test, cnn_model.predict(x_test), multi_class='ovr')\n",
    "\n",
    "print(f\"FPR: {fpr}\")\n",
    "print(f\"TPR: {tpr}\")\n",
    "print(f\"FNR: {fnr}\")\n",
    "print(f\"TNR: {tnr}\")\n",
    "print(f\"Precision: {precision}\")\n",
    "print(f\"Accuracy: {accuracy}\")\n",
    "print(f\"F1-score: {f1}\")\n",
    "print(f\"AUC: {auc}\")\n",
    "\n",
    "print(f\"FPR: {np.mean(fpr)}\")\n",
    "print(f\"tpr: {np.mean(tpr)}\")\n",
    "print(f\"fnr: {np.mean(fnr)}\")\n",
    "print(f\"tnr: {np.mean(tnr)}\")\n",
    "\n",
    "import matplotlib.pyplot as plt\n",
    "from sklearn.metrics import confusion_matrix, ConfusionMatrixDisplay\n",
    "disp = ConfusionMatrixDisplay(confusion_matrix=conf_matrix)\n",
    "disp.plot()\n",
    "plt.show()"
   ]
  },
  {
   "cell_type": "code",
   "execution_count": null,
   "metadata": {},
   "outputs": [],
   "source": []
  }
 ],
 "metadata": {
  "colab": {
   "provenance": []
  },
  "kernelspec": {
   "display_name": "Python 3 (ipykernel)",
   "language": "python",
   "name": "python3"
  },
  "language_info": {
   "codemirror_mode": {
    "name": "ipython",
    "version": 3
   },
   "file_extension": ".py",
   "mimetype": "text/x-python",
   "name": "python",
   "nbconvert_exporter": "python",
   "pygments_lexer": "ipython3",
   "version": "3.11.5"
  }
 },
 "nbformat": 4,
 "nbformat_minor": 4
}
