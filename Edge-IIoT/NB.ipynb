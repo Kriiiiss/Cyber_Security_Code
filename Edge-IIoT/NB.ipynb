{
 "cells": [
  {
   "cell_type": "code",
   "execution_count": 1,
   "metadata": {
    "id": "kovNc6QKUnhA"
   },
   "outputs": [],
   "source": [
    "from sklearn.naive_bayes import GaussianNB, MultinomialNB, ComplementNB, BernoulliNB, CategoricalNB\n",
    "from sklearn.experimental import enable_halving_search_cv\n",
    "from sklearn.model_selection import HalvingGridSearchCV\n",
    "from sklearn.metrics import accuracy_score, f1_score as f1_score_rep\n",
    "import numpy as np\n",
    "import pandas as pd\n",
    "from time import time\n",
    "from pathlib import Path\n",
    "import warnings\n",
    "warnings.filterwarnings(\"ignore\")"
   ]
  },
  {
   "cell_type": "code",
   "execution_count": 2,
   "metadata": {
    "id": "5PsFJEEMKye7"
   },
   "outputs": [],
   "source": [
    "import numpy as np\n",
    "\n",
    "x_test = np.load('/home/jovyan/Edge-IIoT/x_test.npy')\n",
    "x_train = np.load('/home/jovyan/Edge-IIoT/x_train.npy')\n",
    "x_val = np.load('/home/jovyan/Edge-IIoT/x_val.npy')\n",
    "y_test = np.load('/home/jovyan/Edge-IIoT/y_test.npy')\n",
    "y_train = np.load('/home/jovyan/Edge-IIoT/y_train.npy')\n",
    "y_val = np.load('/home/jovyan/Edge-IIoT/y_val.npy')"
   ]
  },
  {
   "cell_type": "code",
   "execution_count": 3,
   "metadata": {
    "colab": {
     "base_uri": "https://localhost:8080/"
    },
    "executionInfo": {
     "elapsed": 3158,
     "status": "ok",
     "timestamp": 1699939145167,
     "user": {
      "displayName": "Jing Chen",
      "userId": "06187300512739488624"
     },
     "user_tz": 480
    },
    "id": "AVyxZTDvQJ0b",
    "outputId": "9c3bc04f-8d32-4168-df06-0eb30f8ee00d"
   },
   "outputs": [],
   "source": [
    "# gnb_org = GaussianNB()\n",
    "# gnb_org.fit(x_train, y_train)\n",
    "# y_pred_org = gnb_org.predict(x_test)\n",
    "\n",
    "# accuracy_gnb = accuracy_score(y_test, y_pred_org)\n",
    "# micro_f1_gnb = f1_score_rep(y_test, y_pred_org, average=\"micro\")\n",
    "# macro_f1_gnb = f1_score_rep(y_test, y_pred_org, average=\"macro\")\n",
    "\n",
    "# print(f'Gaussian Naive Bayes Test Accuracy: {accuracy_gnb * 100:.2f}%')\n",
    "# print(f'Gaussian Naive Bayes Micro F1 Score: {micro_f1_gnb}')\n",
    "# print(f'Gaussian Naive Bayes Macro F1 Score: {macro_f1_gnb}')"
   ]
  },
  {
   "cell_type": "code",
   "execution_count": 4,
   "metadata": {
    "colab": {
     "base_uri": "https://localhost:8080/"
    },
    "executionInfo": {
     "elapsed": 93802,
     "status": "ok",
     "timestamp": 1699939845509,
     "user": {
      "displayName": "Jing Chen",
      "userId": "06187300512739488624"
     },
     "user_tz": 480
    },
    "id": "bDjekCArNUHq",
    "outputId": "3dfa43b4-d1cd-4ac1-ad53-69d184dd5757"
   },
   "outputs": [],
   "source": [
    "\n",
    "\n",
    "\n",
    "# # 定义参数\n",
    "# gnb_params = {\n",
    "#     'var_smoothing': np.logspace(0, -9, num=100)\n",
    "# }\n",
    "\n",
    "# # 确保结果目录存在\n",
    "# # result_dir = Path('/content/drive/MyDrive/Data/results')\n",
    "# # if not result_dir.exists():\n",
    "# #     result_dir.mkdir()\n",
    "\n",
    "# def tune_with_halving_grid_search_gnb(x_train, y_train, param_grid):\n",
    "#     gnb = GaussianNB()\n",
    "\n",
    "#     start = time()\n",
    "#     halving_gnb_results = HalvingGridSearchCV(\n",
    "#         gnb,\n",
    "#         param_grid,\n",
    "#         cv=5,\n",
    "#         factor=2,\n",
    "#         min_resources='exhaust',\n",
    "#         scoring='accuracy'\n",
    "#     ).fit(x_train, y_train)\n",
    "\n",
    "#     duration = time() - start\n",
    "\n",
    "#     results = pd.DataFrame(halving_gnb_results.cv_results_)\n",
    "#     # results.to_csv(result_dir / 'halving_gnb_results.csv')\n",
    "\n",
    "#     # 格式化和排序结果\n",
    "#     results = results.loc[:, ('iter', 'rank_test_score', 'mean_test_score', 'params')]\n",
    "#     results.sort_values(by=['iter', 'rank_test_score'], ascending=[False, True], inplace=True)\n",
    "\n",
    "#     return results, duration\n",
    "\n",
    "# # 使用验证数据集进行参数调整\n",
    "# halving_results, halving_duration = tune_with_halving_grid_search_gnb(x_val, y_val, gnb_params)\n",
    "\n",
    "# print(halving_results.head())\n",
    "\n",
    "# # 获取最佳参数和分数\n",
    "# best_score = halving_results['mean_test_score'].iloc[0]\n",
    "# best_params = halving_results['params'].iloc[0]\n",
    "\n",
    "# # 使用最佳参数训练 GNB 模型\n",
    "# best_gnb = GaussianNB(**best_params)\n",
    "# best_gnb.fit(x_train, y_train)\n",
    "\n",
    "# # # 在测试集上评估\n",
    "# # accuracy = accuracy_score(y_test, best_gnb.predict(x_test))\n",
    "# # micro_f1 = f1_score_rep(y_test, best_gnb.predict(x_test), average=\"micro\")\n",
    "# # macro_f1 = f1_score_rep(y_test, best_gnb.predict(x_test), average=\"macro\")\n",
    "\n",
    "# # # 打印结果\n",
    "# # print(f'Best score for HalvingGridSearchCV is {best_score:.3f}, took {halving_duration:.2f} seconds')\n",
    "# # print(f'Params: {best_params}')\n",
    "# # print(f'Corresponding test accuracy: {accuracy * 100:.2f}%')\n",
    "# # print(\"Micro F1 Score: \", micro_f1)\n",
    "# # print(\"Macro F1 Score: \", macro_f1)\n"
   ]
  },
  {
   "cell_type": "code",
   "execution_count": 5,
   "metadata": {
    "colab": {
     "base_uri": "https://localhost:8080/"
    },
    "executionInfo": {
     "elapsed": 5284,
     "status": "ok",
     "timestamp": 1705027669000,
     "user": {
      "displayName": "Kris Chen",
      "userId": "14019901183015848448"
     },
     "user_tz": 480
    },
    "id": "_m1JOXE3kJHT",
    "outputId": "cd95e1b5-aa9c-4293-b781-13c1484c2ee4"
   },
   "outputs": [
    {
     "name": "stdout",
     "output_type": "stream",
     "text": [
      "FPR: [0.03003755 0.         0.01436266 0.        ]\n",
      "TPR: [0.8128655 1.        0.9380805 1.       ]\n",
      "FNR: [0.1871345 0.        0.0619195 0.       ]\n",
      "TNR: [0.96996245 1.         0.98563734 1.        ]\n",
      "Precision: 0.8798455598455599\n",
      "Accuracy: 0.9635141622659625\n",
      "F1-score: 0.9015962279904718\n",
      "AUC: 0.9971228823240196\n",
      "FPR: 0.011100051006307256\n",
      "tpr: 0.9377364981080152\n",
      "fnr: 0.06226350189198486\n",
      "tnr: 0.9888999489936927\n"
     ]
    },
    {
     "data": {
      "image/png": "[encoded data removed]",
      "text/plain": [
       "<Figure size 640x480 with 2 Axes>"
      ]
     },
     "metadata": {},
     "output_type": "display_data"
    }
   ],
   "source": [
    "from sklearn.metrics import confusion_matrix, accuracy_score, precision_score, recall_score, f1_score, roc_auc_score\n",
    "from sklearn.datasets import load_digits\n",
    "\n",
    "best_gnb = GaussianNB(var_smoothing = 0.012328467394420659)\n",
    "best_gnb.fit(x_train, y_train)\n",
    "\n",
    "y_pred = best_gnb.predict(x_test)\n",
    "\n",
    "conf_matrix = confusion_matrix(y_test, y_pred)\n",
    "# tn, fp, fn, tp = conf_matrix.ravel()\n",
    "cm = conf_matrix\n",
    "fp = cm.sum(axis=0) - np.diag(cm)\n",
    "fn = cm.sum(axis=1) - np.diag(cm)\n",
    "tp = np.diag(cm)\n",
    "tn = cm.sum() - (fp + fn + tp)\n",
    "\n",
    "\n",
    "fpr = fp / (fp + tn)\n",
    "tpr = tp / (tp + fn)\n",
    "fnr = fn / (fn + tp)\n",
    "tnr = tn / (tn + fp)\n",
    "precision = precision_score(y_test, y_pred, average='macro')\n",
    "accuracy = accuracy_score(y_test, y_pred)\n",
    "f1 = f1_score(y_test, y_pred, average='macro')\n",
    "auc = roc_auc_score(y_test, best_gnb.predict_proba(x_test), multi_class='ovr')\n",
    "\n",
    "print(f\"FPR: {fpr}\")\n",
    "print(f\"TPR: {tpr}\")\n",
    "print(f\"FNR: {fnr}\")\n",
    "print(f\"TNR: {tnr}\")\n",
    "print(f\"Precision: {precision}\")\n",
    "print(f\"Accuracy: {accuracy}\")\n",
    "print(f\"F1-score: {f1}\")\n",
    "print(f\"AUC: {auc}\")\n",
    "\n",
    "print(f\"FPR: {np.mean(fpr)}\")\n",
    "print(f\"tpr: {np.mean(tpr)}\")\n",
    "print(f\"fnr: {np.mean(fnr)}\")\n",
    "print(f\"tnr: {np.mean(tnr)}\")\n",
    "\n",
    "import matplotlib.pyplot as plt\n",
    "from sklearn.metrics import confusion_matrix, ConfusionMatrixDisplay\n",
    "disp = ConfusionMatrixDisplay(confusion_matrix=conf_matrix,display_labels=best_gnb.classes_)\n",
    "disp.plot()\n",
    "plt.show()"
   ]
  },
  {
   "cell_type": "code",
   "execution_count": 6,
   "metadata": {
    "colab": {
     "base_uri": "https://localhost:8080/"
    },
    "executionInfo": {
     "elapsed": 624,
     "status": "ok",
     "timestamp": 1699940246558,
     "user": {
      "displayName": "Jing Chen",
      "userId": "06187300512739488624"
     },
     "user_tz": 480
    },
    "id": "DhPPR01PUwNB",
    "outputId": "1780d023-9538-4f4d-f7f2-b066eae5fd5f",
    "scrolled": true
   },
   "outputs": [],
   "source": [
    "# mnb_org = MultinomialNB()\n",
    "# mnb_org.fit(x_train, y_train)\n",
    "# y_pred_mnb = mnb_org.predict(x_test)\n",
    "\n",
    "# accuracy_mnb = accuracy_score(y_test, y_pred_mnb)\n",
    "# micro_f1_mnb = f1_score_rep(y_test, y_pred_mnb, average=\"micro\")\n",
    "# macro_f1_mnb = f1_score_rep(y_test, y_pred_mnb, average=\"macro\")\n",
    "\n",
    "# print(f'Multinomial Naive Bayes Test Accuracy: {accuracy_mnb * 100:.2f}%')\n",
    "# print(f'Multinomial Naive Bayes Micro F1 Score: {micro_f1_mnb}')\n",
    "# print(f'Multinomial Naive Bayes Macro F1 Score: {macro_f1_mnb}')"
   ]
  },
  {
   "cell_type": "code",
   "execution_count": 7,
   "metadata": {
    "colab": {
     "base_uri": "https://localhost:8080/"
    },
    "executionInfo": {
     "elapsed": 32304,
     "status": "ok",
     "timestamp": 1699940344797,
     "user": {
      "displayName": "Jing Chen",
      "userId": "06187300512739488624"
     },
     "user_tz": 480
    },
    "id": "dL0QXB_2TlNB",
    "outputId": "b11aa645-b630-49b3-92f4-72f8466732b2",
    "scrolled": true
   },
   "outputs": [],
   "source": [
    "# from sklearn.naive_bayes import MultinomialNB\n",
    "# from sklearn.model_selection import HalvingGridSearchCV\n",
    "# from sklearn.metrics import accuracy_score, f1_score as f1_score_rep\n",
    "# import numpy as np\n",
    "# import pandas as pd\n",
    "# from time import time\n",
    "# from pathlib import Path\n",
    "\n",
    "# # 请确保已经加载了 x_train, y_train, x_test, y_test, x_val, y_val\n",
    "\n",
    "# # 定义参数\n",
    "# mnb_params = {\n",
    "#     'alpha': np.linspace(0.0, 1.0, num=100)  # alpha 值从 0 到 1\n",
    "# }\n",
    "\n",
    "# # # 确保结果目录存在\n",
    "# # result_dir = Path('/content/drive/MyDrive/Data/results')\n",
    "# # if not result_dir.exists():\n",
    "# #     result_dir.mkdir()\n",
    "\n",
    "# def tune_with_halving_grid_search_mnb(x_train, y_train, param_grid):\n",
    "#     mnb = MultinomialNB()\n",
    "\n",
    "#     start = time()\n",
    "#     halving_mnb_results = HalvingGridSearchCV(\n",
    "#         mnb,\n",
    "#         param_grid,\n",
    "#         cv=5,\n",
    "#         factor=2,\n",
    "#         min_resources='exhaust',\n",
    "#         scoring='accuracy'\n",
    "#     ).fit(x_train, y_train)\n",
    "\n",
    "#     duration = time() - start\n",
    "\n",
    "#     results = pd.DataFrame(halving_mnb_results.cv_results_)\n",
    "#     # results.to_csv(result_dir / 'halving_mnb_results.csv')\n",
    "\n",
    "#     # 格式化和排序结果\n",
    "#     results = results.loc[:, ('iter', 'rank_test_score', 'mean_test_score', 'params')]\n",
    "#     results.sort_values(by=['iter', 'rank_test_score'], ascending=[False, True], inplace=True)\n",
    "\n",
    "#     return results, duration\n",
    "\n",
    "# # 使用验证数据集进行参数调整\n",
    "# halving_results, halving_duration = tune_with_halving_grid_search_mnb(x_val, y_val, mnb_params)\n",
    "\n",
    "# print(halving_results.head())\n",
    "\n",
    "# # 获取最佳参数和分数\n",
    "# best_score = halving_results['mean_test_score'].iloc[0]\n",
    "# best_params = halving_results['params'].iloc[0]\n",
    "\n",
    "# # 使用最佳参数训练 MNB 模型\n",
    "# best_mnb = MultinomialNB(**best_params)\n",
    "# best_mnb.fit(x_train, y_train)\n",
    "\n",
    "# # # 在测试集上评估\n",
    "# # accuracy = accuracy_score(y_test, best_mnb.predict(x_test))\n",
    "# # micro_f1 = f1_score_rep(y_test, best_mnb.predict(x_test), average=\"micro\")\n",
    "# # macro_f1 = f1_score_rep(y_test, best_mnb.predict(x_test), average=\"macro\")\n",
    "\n",
    "# # # 打印结果\n",
    "# # print(f'Best score for HalvingGridSearchCV is {best_score:.3f}, took {halving_duration:.2f} seconds')\n",
    "# # print(f'Params: {best_params}')\n",
    "# # print(f'Corresponding test accuracy: {accuracy * 100:.2f}%')\n",
    "# # print(\"Micro F1 Score: \", micro_f1)\n",
    "# # print(\"Macro F1 Score: \", macro_f1)\n"
   ]
  },
  {
   "cell_type": "code",
   "execution_count": 8,
   "metadata": {
    "colab": {
     "base_uri": "https://localhost:8080/"
    },
    "executionInfo": {
     "elapsed": 2029,
     "status": "ok",
     "timestamp": 1705027773299,
     "user": {
      "displayName": "Kris Chen",
      "userId": "14019901183015848448"
     },
     "user_tz": 480
    },
    "id": "NmQwDWu4kixK",
    "outputId": "cf7e34ea-c1f0-482b-8583-ef5dc49f3fb6"
   },
   "outputs": [],
   "source": [
    "# from sklearn.metrics import confusion_matrix, accuracy_score, precision_score, recall_score, f1_score, roc_auc_score\n",
    "# from sklearn.datasets import load_digits\n",
    "\n",
    "# # best_mnb = MultinomialNB(alpha= 0.0)\n",
    "# # best_mnb.fit(x_train, y_train)\n",
    "\n",
    "# y_pred = best_mnb.predict(x_test)\n",
    "\n",
    "# conf_matrix = confusion_matrix(y_test, y_pred)\n",
    "# # tn, fp, fn, tp = conf_matrix.ravel()\n",
    "# cm = conf_matrix\n",
    "# fp = cm.sum(axis=0) - np.diag(cm)\n",
    "# fn = cm.sum(axis=1) - np.diag(cm)\n",
    "# tp = np.diag(cm)\n",
    "# tn = cm.sum() - (fp + fn + tp)\n",
    "\n",
    "\n",
    "# fpr = fp / (fp + tn)\n",
    "# tpr = tp / (tp + fn)\n",
    "# fnr = fn / (fn + tp)\n",
    "# tnr = tn / (tn + fp)\n",
    "# precision = precision_score(y_test, y_pred, average='macro')\n",
    "# accuracy = accuracy_score(y_test, y_pred)\n",
    "# f1 = f1_score(y_test, y_pred, average='macro')\n",
    "# auc = roc_auc_score(y_test, best_mnb.predict_proba(x_test), multi_class='ovr')\n",
    "\n",
    "# print(f\"FPR: {fpr}\")\n",
    "# print(f\"TPR: {tpr}\")\n",
    "# print(f\"FNR: {fnr}\")\n",
    "# print(f\"TNR: {tnr}\")\n",
    "# print(f\"Precision: {precision}\")\n",
    "# print(f\"Accuracy: {accuracy}\")\n",
    "# print(f\"F1-score: {f1}\")\n",
    "# print(f\"AUC: {auc}\")"
   ]
  },
  {
   "cell_type": "code",
   "execution_count": 9,
   "metadata": {
    "colab": {
     "base_uri": "https://localhost:8080/"
    },
    "executionInfo": {
     "elapsed": 899,
     "status": "ok",
     "timestamp": 1699943833380,
     "user": {
      "displayName": "Jing Chen",
      "userId": "06187300512739488624"
     },
     "user_tz": 480
    },
    "id": "Qf1HuemhWgSe",
    "outputId": "8cc9dae5-79af-451b-e8c8-2e56dd3db875",
    "scrolled": true
   },
   "outputs": [],
   "source": [
    "# cnb_org = ComplementNB()\n",
    "# cnb_org.fit(x_train, y_train)\n",
    "# y_pred_cnb = cnb_org.predict(x_test)\n",
    "\n",
    "# accuracy_cnb = accuracy_score(y_test, y_pred_cnb)\n",
    "# micro_f1_cnb = f1_score_rep(y_test, y_pred_cnb, average=\"micro\")\n",
    "# macro_f1_cnb = f1_score_rep(y_test, y_pred_cnb, average=\"macro\")\n",
    "\n",
    "# print(f'Complement Naive Bayes Test Accuracy: {accuracy_cnb * 100:.2f}%')\n",
    "# print(f'Complement Naive Bayes Micro F1 Score: {micro_f1_cnb}')\n",
    "# print(f'Complement Naive Bayes Macro F1 Score: {macro_f1_cnb}')"
   ]
  },
  {
   "cell_type": "code",
   "execution_count": 10,
   "metadata": {
    "colab": {
     "base_uri": "https://localhost:8080/"
    },
    "executionInfo": {
     "elapsed": 32564,
     "status": "ok",
     "timestamp": 1699940700803,
     "user": {
      "displayName": "Jing Chen",
      "userId": "06187300512739488624"
     },
     "user_tz": 480
    },
    "id": "GVC_JKdUW0yG",
    "outputId": "b9a4dcee-dc4d-4005-e6dd-c650b5d2945f",
    "scrolled": true
   },
   "outputs": [],
   "source": [
    "# from sklearn.naive_bayes import ComplementNB\n",
    "# from sklearn.model_selection import HalvingGridSearchCV\n",
    "# from sklearn.metrics import accuracy_score, f1_score as f1_score_rep\n",
    "# import numpy as np\n",
    "# import pandas as pd\n",
    "# from time import time\n",
    "# from pathlib import Path\n",
    "\n",
    "# # 请确保已经加载了 x_train, y_train, x_test, y_test, x_val, y_val\n",
    "\n",
    "# # 定义参数\n",
    "# cnb_params = {\n",
    "#     'alpha': np.linspace(0.0, 1.0, num=100)  # alpha 值从 0 到 1\n",
    "# }\n",
    "\n",
    "# # # 确保结果目录存在\n",
    "# # result_dir = Path('/content/drive/MyDrive/Data/results')\n",
    "# # if not result_dir.exists():\n",
    "# #     result_dir.mkdir()\n",
    "\n",
    "# def tune_with_halving_grid_search_cnb(x_train, y_train, param_grid):\n",
    "#     cnb = ComplementNB()\n",
    "\n",
    "#     start = time()\n",
    "#     halving_cnb_results = HalvingGridSearchCV(\n",
    "#         cnb,\n",
    "#         param_grid,\n",
    "#         cv=5,\n",
    "#         factor=2,\n",
    "#         min_resources='exhaust',\n",
    "#         scoring='accuracy'\n",
    "#     ).fit(x_train, y_train)\n",
    "\n",
    "#     duration = time() - start\n",
    "\n",
    "#     results = pd.DataFrame(halving_cnb_results.cv_results_)\n",
    "#     # results.to_csv(result_dir / 'halving_cnb_results.csv')\n",
    "\n",
    "#     # 格式化和排序结果\n",
    "#     results = results.loc[:, ('iter', 'rank_test_score', 'mean_test_score', 'params')]\n",
    "#     results.sort_values(by=['iter', 'rank_test_score'], ascending=[False, True], inplace=True)\n",
    "\n",
    "#     return results, duration\n",
    "\n",
    "# # 使用验证数据集进行参数调整\n",
    "# halving_results, halving_duration = tune_with_halving_grid_search_cnb(x_val, y_val, cnb_params)\n",
    "\n",
    "# print(halving_results.head())\n",
    "\n",
    "# # 获取最佳参数和分数\n",
    "# best_score = halving_results['mean_test_score'].iloc[0]\n",
    "# best_params = halving_results['params'].iloc[0]\n",
    "\n",
    "# # 使用最佳参数训练 CNB 模型\n",
    "# best_cnb = ComplementNB(**best_params)\n",
    "# best_cnb.fit(x_train, y_train)\n",
    "\n",
    "# # # 在测试集上评估\n",
    "# # accuracy = accuracy_score(y_test, best_cnb.predict(x_test))\n",
    "# # micro_f1 = f1_score_rep(y_test, best_cnb.predict(x_test), average=\"micro\")\n",
    "# # macro_f1 = f1_score_rep(y_test, best_cnb.predict(x_test), average=\"macro\")\n",
    "\n",
    "# # # 打印结果\n",
    "# # print(f'Best score for HalvingGridSearchCV is {best_score:.3f}, took {halving_duration:.2f} seconds')\n",
    "# # print(f'Params: {best_params}')\n",
    "# # print(f'Corresponding test accuracy: {accuracy * 100:.2f}%')\n",
    "# # print(\"Micro F1 Score: \", micro_f1)\n",
    "# # print(\"Macro F1 Score: \", macro_f1)"
   ]
  },
  {
   "cell_type": "code",
   "execution_count": 11,
   "metadata": {
    "colab": {
     "base_uri": "https://localhost:8080/"
    },
    "executionInfo": {
     "elapsed": 2037,
     "status": "ok",
     "timestamp": 1705027902079,
     "user": {
      "displayName": "Kris Chen",
      "userId": "14019901183015848448"
     },
     "user_tz": 480
    },
    "id": "y9Wgy-apk83N",
    "outputId": "b80aada3-ac09-461d-d58e-fe7623752c2e"
   },
   "outputs": [],
   "source": [
    "# from sklearn.metrics import confusion_matrix, accuracy_score, precision_score, recall_score, f1_score, roc_auc_score\n",
    "# from sklearn.datasets import load_digits\n",
    "\n",
    "# # best_cnb = ComplementNB(alpha= 0.010101010101010102)\n",
    "# # best_cnb.fit(x_train, y_train)\n",
    "\n",
    "# y_pred = best_cnb.predict(x_test)\n",
    "\n",
    "# conf_matrix = confusion_matrix(y_test, y_pred)\n",
    "# # tn, fp, fn, tp = conf_matrix.ravel()\n",
    "# cm = conf_matrix\n",
    "# fp = cm.sum(axis=0) - np.diag(cm)\n",
    "# fn = cm.sum(axis=1) - np.diag(cm)\n",
    "# tp = np.diag(cm)\n",
    "# tn = cm.sum() - (fp + fn + tp)\n",
    "\n",
    "\n",
    "# fpr = fp / (fp + tn)\n",
    "# tpr = tp / (tp + fn)\n",
    "# fnr = fn / (fn + tp)\n",
    "# tnr = tn / (tn + fp)\n",
    "# precision = precision_score(y_test, y_pred, average='macro')\n",
    "# accuracy = accuracy_score(y_test, y_pred)\n",
    "# f1 = f1_score(y_test, y_pred, average='macro')\n",
    "# auc = roc_auc_score(y_test, best_cnb.predict_proba(x_test), multi_class='ovr')\n",
    "\n",
    "# print(f\"FPR: {fpr}\")\n",
    "# print(f\"TPR: {tpr}\")\n",
    "# print(f\"FNR: {fnr}\")\n",
    "# print(f\"TNR: {tnr}\")\n",
    "# print(f\"Precision: {precision}\")\n",
    "# print(f\"Accuracy: {accuracy}\")\n",
    "# print(f\"F1-score: {f1}\")\n",
    "# print(f\"AUC: {auc}\")"
   ]
  },
  {
   "cell_type": "code",
   "execution_count": 12,
   "metadata": {
    "colab": {
     "base_uri": "https://localhost:8080/"
    },
    "executionInfo": {
     "elapsed": 2267,
     "status": "ok",
     "timestamp": 1699941870825,
     "user": {
      "displayName": "Jing Chen",
      "userId": "06187300512739488624"
     },
     "user_tz": 480
    },
    "id": "yfDI12rFbNzJ",
    "outputId": "690ea777-3f1e-4cea-ec0c-9356e141ceeb"
   },
   "outputs": [],
   "source": [
    "# bnb_org = BernoulliNB()\n",
    "# bnb_org.fit(x_train, y_train)\n",
    "# y_pred_bnb = bnb_org.predict(x_test)\n",
    "\n",
    "# accuracy_bnb = accuracy_score(y_test, y_pred_bnb)\n",
    "# micro_f1_bnb = f1_score_rep(y_test, y_pred_bnb, average=\"micro\")\n",
    "# macro_f1_bnb = f1_score_rep(y_test, y_pred_bnb, average=\"macro\")\n",
    "\n",
    "# print(f'Bernoulli Naive Bayes Test Accuracy: {accuracy_bnb * 100:.2f}%')\n",
    "# print(f'Bernoulli Naive Bayes Micro F1 Score: {micro_f1_bnb}')\n",
    "# print(f'Bernoulli Naive Bayes Macro F1 Score: {macro_f1_bnb}')"
   ]
  },
  {
   "cell_type": "code",
   "execution_count": 13,
   "metadata": {
    "colab": {
     "base_uri": "https://localhost:8080/"
    },
    "executionInfo": {
     "elapsed": 189562,
     "status": "ok",
     "timestamp": 1699942149385,
     "user": {
      "displayName": "Jing Chen",
      "userId": "06187300512739488624"
     },
     "user_tz": 480
    },
    "id": "3TSZfyQVbtn3",
    "outputId": "4802bc00-c79b-48e7-abdd-585c5ea91c63",
    "scrolled": true
   },
   "outputs": [],
   "source": [
    "# from sklearn.naive_bayes import BernoulliNB\n",
    "# from sklearn.model_selection import HalvingGridSearchCV\n",
    "# from sklearn.metrics import accuracy_score, f1_score as f1_score_rep\n",
    "# import numpy as np\n",
    "# import pandas as pd\n",
    "# from time import time\n",
    "# from pathlib import Path\n",
    "\n",
    "# # 请确保已经加载了 x_train, y_train, x_test, y_test, x_val, y_val\n",
    "\n",
    "# # 定义参数\n",
    "# bnb_params = {\n",
    "#     'alpha': np.linspace(0.0, 1.0, num=100),  # alpha 值从 0 到 1\n",
    "#     'binarize': np.linspace(0.0, 1.0, num=20)  # binarize 阈值\n",
    "# }\n",
    "\n",
    "# # 确保结果目录存在\n",
    "# # result_dir = Path('/content/drive/MyDrive/Data/results')\n",
    "# # if not result_dir.exists():\n",
    "# #     result_dir.mkdir()\n",
    "\n",
    "# def tune_with_halving_grid_search_bnb(x_train, y_train, param_grid):\n",
    "#     bnb = BernoulliNB()\n",
    "\n",
    "#     start = time()\n",
    "#     halving_bnb_results = HalvingGridSearchCV(\n",
    "#         bnb,\n",
    "#         param_grid,\n",
    "#         cv=5,\n",
    "#         factor=2,\n",
    "#         min_resources='exhaust',\n",
    "#         scoring='accuracy'\n",
    "#     ).fit(x_train, y_train)\n",
    "\n",
    "#     duration = time() - start\n",
    "\n",
    "#     results = pd.DataFrame(halving_bnb_results.cv_results_)\n",
    "#     # results.to_csv(result_dir / 'halving_bnb_results.csv')\n",
    "\n",
    "#     # 格式化和排序结果\n",
    "#     results = results.loc[:, ('iter', 'rank_test_score', 'mean_test_score', 'params')]\n",
    "#     results.sort_values(by=['iter', 'rank_test_score'], ascending=[False, True], inplace=True)\n",
    "\n",
    "#     return results, duration\n",
    "\n",
    "# # 使用验证数据集进行参数调整\n",
    "# halving_results, halving_duration = tune_with_halving_grid_search_bnb(x_val, y_val, bnb_params)\n",
    "\n",
    "# print(halving_results.head())\n",
    "\n",
    "# # 获取最佳参数和分数\n",
    "# best_score = halving_results['mean_test_score'].iloc[0]\n",
    "# best_params = halving_results['params'].iloc[0]\n",
    "\n",
    "# # 使用最佳参数训练 BNB 模型\n",
    "# best_bnb = BernoulliNB(**best_params)\n",
    "# best_bnb.fit(x_train, y_train)\n",
    "\n",
    "# # # 在测试集上评估\n",
    "# # accuracy = accuracy_score(y_test, best_bnb.predict(x_test))\n",
    "# # micro_f1 = f1_score_rep(y_test, best_bnb.predict(x_test), average=\"micro\")\n",
    "# # macro_f1 = f1_score_rep(y_test, best_bnb.predict(x_test), average=\"macro\")\n",
    "\n",
    "# # # 打印结果\n",
    "# # print(f'Best score for HalvingGridSearchCV is {best_score:.3f}, took {halving_duration:.2f} seconds')\n",
    "# # print(f'Params: {best_params}')\n",
    "# # print(f'Corresponding test accuracy: {accuracy * 100:.2f}%')\n",
    "# # print(\"Micro F1 Score: \", micro_f1)\n",
    "# # print(\"Macro F1 Score: \", macro_f1)\n"
   ]
  },
  {
   "cell_type": "code",
   "execution_count": 14,
   "metadata": {
    "colab": {
     "base_uri": "https://localhost:8080/"
    },
    "executionInfo": {
     "elapsed": 2301,
     "status": "ok",
     "timestamp": 1705027973048,
     "user": {
      "displayName": "Kris Chen",
      "userId": "14019901183015848448"
     },
     "user_tz": 480
    },
    "id": "59VqotGqlYEI",
    "outputId": "4e4156e9-1cc8-46c7-c129-494bcdd5ff61"
   },
   "outputs": [
    {
     "name": "stdout",
     "output_type": "stream",
     "text": [
      "FPR: [0.         0.         0.02827648 0.        ]\n",
      "TPR: [0.63157895 1.         1.         1.        ]\n",
      "FNR: [0.36842105 0.         0.         0.        ]\n",
      "TNR: [1.         1.         0.97172352 1.        ]\n",
      "Precision: 0.9921289355322339\n",
      "Accuracy: 0.9848775804128661\n",
      "F1-score: 0.9395499103260202\n",
      "AUC: 0.9967971508959125\n",
      "FPR: 0.007069120287253142\n",
      "tpr: 0.9078947368421053\n",
      "fnr: 0.09210526315789473\n",
      "tnr: 0.9929308797127468\n"
     ]
    },
    {
     "data": {
      "image/png": "[encoded data removed]",
      "text/plain": [
       "<Figure size 640x480 with 2 Axes>"
      ]
     },
     "metadata": {},
     "output_type": "display_data"
    }
   ],
   "source": [
    "from sklearn.metrics import confusion_matrix, accuracy_score, precision_score, recall_score, f1_score, roc_auc_score\n",
    "from sklearn.datasets import load_digits\n",
    "\n",
    "best_bnb = BernoulliNB(alpha=0.43434343434343436, binarize=0.5789473684210527)\n",
    "best_bnb.fit(x_train, y_train)\n",
    "\n",
    "y_pred = best_bnb.predict(x_test)\n",
    "\n",
    "conf_matrix = confusion_matrix(y_test, y_pred)\n",
    "# tn, fp, fn, tp = conf_matrix.ravel()\n",
    "cm = conf_matrix\n",
    "fp = cm.sum(axis=0) - np.diag(cm)\n",
    "fn = cm.sum(axis=1) - np.diag(cm)\n",
    "tp = np.diag(cm)\n",
    "tn = cm.sum() - (fp + fn + tp)\n",
    "\n",
    "\n",
    "fpr = fp / (fp + tn)\n",
    "tpr = tp / (tp + fn)\n",
    "fnr = fn / (fn + tp)\n",
    "tnr = tn / (tn + fp)\n",
    "precision = precision_score(y_test, y_pred, average='macro')\n",
    "accuracy = accuracy_score(y_test, y_pred)\n",
    "f1 = f1_score(y_test, y_pred, average='macro')\n",
    "auc = roc_auc_score(y_test, best_bnb.predict_proba(x_test), multi_class='ovr')\n",
    "\n",
    "print(f\"FPR: {fpr}\")\n",
    "print(f\"TPR: {tpr}\")\n",
    "print(f\"FNR: {fnr}\")\n",
    "print(f\"TNR: {tnr}\")\n",
    "print(f\"Precision: {precision}\")\n",
    "print(f\"Accuracy: {accuracy}\")\n",
    "print(f\"F1-score: {f1}\")\n",
    "print(f\"AUC: {auc}\")\n",
    "\n",
    "print(f\"FPR: {np.mean(fpr)}\")\n",
    "print(f\"tpr: {np.mean(tpr)}\")\n",
    "print(f\"fnr: {np.mean(fnr)}\")\n",
    "print(f\"tnr: {np.mean(tnr)}\")\n",
    "\n",
    "import matplotlib.pyplot as plt\n",
    "from sklearn.metrics import confusion_matrix, ConfusionMatrixDisplay\n",
    "disp = ConfusionMatrixDisplay(confusion_matrix=conf_matrix,display_labels=best_bnb.classes_)\n",
    "disp.plot()\n",
    "plt.show()"
   ]
  },
  {
   "cell_type": "code",
   "execution_count": 15,
   "metadata": {
    "colab": {
     "base_uri": "https://localhost:8080/"
    },
    "executionInfo": {
     "elapsed": 1565,
     "status": "ok",
     "timestamp": 1699943129594,
     "user": {
      "displayName": "Jing Chen",
      "userId": "06187300512739488624"
     },
     "user_tz": 480
    },
    "id": "j6vSQFyJgEju",
    "outputId": "cbe7b926-c1b4-476e-cdb2-9b56e0a14de3"
   },
   "outputs": [],
   "source": [
    "# ctnb_org = CategoricalNB()\n",
    "# ctnb_org.fit(x_train, y_train)\n",
    "# y_pred_ctnb = ctnb_org.predict(x_test)\n",
    "\n",
    "# accuracy_ctnb = accuracy_score(y_test, y_pred_ctnb)\n",
    "# micro_f1_ctnb = f1_score_rep(y_test, y_pred_ctnb, average=\"micro\")\n",
    "# macro_f1_ctnb = f1_score_rep(y_test, y_pred_ctnb, average=\"macro\")\n",
    "\n",
    "# print(f'Categorical Naive Bayes Test Accuracy: {accuracy_ctnb * 100:.2f}%')\n",
    "# print(f'Categorical Naive Bayes Micro F1 Score: {micro_f1_ctnb}')\n",
    "# print(f'Categorical Naive Bayes Macro F1 Score: {macro_f1_ctnb}')"
   ]
  },
  {
   "cell_type": "code",
   "execution_count": 16,
   "metadata": {
    "colab": {
     "base_uri": "https://localhost:8080/",
     "height": 1000
    },
    "executionInfo": {
     "elapsed": 109734,
     "status": "error",
     "timestamp": 1699943369623,
     "user": {
      "displayName": "Jing Chen",
      "userId": "06187300512739488624"
     },
     "user_tz": 480
    },
    "id": "EbBMTwxSgdp9",
    "outputId": "77d43fcb-4769-4e79-cc88-333645677bac",
    "scrolled": true
   },
   "outputs": [],
   "source": [
    "# from sklearn.naive_bayes import CategoricalNB\n",
    "# from sklearn.model_selection import HalvingGridSearchCV\n",
    "# from sklearn.metrics import accuracy_score, f1_score as f1_score_rep\n",
    "# import numpy as np\n",
    "# import pandas as pd\n",
    "# from time import time\n",
    "# from pathlib import Path\n",
    "\n",
    "# # 请确保已经加载了 x_train, y_train, x_test, y_test, x_val, y_val\n",
    "\n",
    "# # 定义参数\n",
    "# ctnb_params = {\n",
    "#     'alpha': np.linspace(0.0, 1.0, num=100)  # alpha 值从 0 到 1\n",
    "# }\n",
    "\n",
    "# # 确保结果目录存在\n",
    "# # result_dir = Path('/content/drive/MyDrive/Data/results')\n",
    "# # if not result_dir.exists():\n",
    "# #     result_dir.mkdir()\n",
    "\n",
    "# def tune_with_halving_grid_search_ctnb(x_train, y_train, param_grid):\n",
    "#     ctnb = CategoricalNB()\n",
    "\n",
    "#     start = time()\n",
    "#     halving_ctnb_results = HalvingGridSearchCV(\n",
    "#         ctnb,\n",
    "#         param_grid,\n",
    "#         cv=5,\n",
    "#         factor=2,\n",
    "#         min_resources='exhaust',\n",
    "#         scoring='accuracy'\n",
    "#     ).fit(x_train, y_train)\n",
    "\n",
    "#     duration = time() - start\n",
    "\n",
    "#     results = pd.DataFrame(halving_ctnb_results.cv_results_)\n",
    "#     # results.to_csv(result_dir / 'halving_ctnb_results.csv')\n",
    "\n",
    "#     # 格式化和排序结果\n",
    "#     results = results.loc[:, ('iter', 'rank_test_score', 'mean_test_score', 'params')]\n",
    "#     results.sort_values(by=['iter', 'rank_test_score'], ascending=[False, True], inplace=True)\n",
    "\n",
    "#     return results, duration\n",
    "\n",
    "# # 使用验证数据集进行参数调整\n",
    "# halving_results, halving_duration = tune_with_halving_grid_search_ctnb(x_val, y_val, ctnb_params)\n",
    "\n",
    "# print(halving_results.head())\n",
    "\n",
    "# # 获取最佳参数和分数\n",
    "# best_score = halving_results['mean_test_score'].iloc[0]\n",
    "# best_params = halving_results['params'].iloc[0]\n",
    "\n",
    "# # 使用最佳参数训练 CTNB 模型\n",
    "# best_ctnb = CategoricalNB(**best_params)\n",
    "# best_ctnb.fit(x_train, y_train)\n",
    "\n",
    "# # # 在测试集上评估\n",
    "# # accuracy = accuracy_score(y_test, best_ctnb.predict(x_test))\n",
    "# # micro_f1 = f1_score_rep(y_test, best_ctnb.predict(x_test), average=\"micro\")\n",
    "# # macro_f1 = f1_score_rep(y_test, best_ctnb.predict(x_test), average=\"macro\")\n",
    "\n",
    "# # # 打印结果\n",
    "# # print(f'Best score for HalvingGridSearchCV is {best_score:.3f}, took {halving_duration:.2f} seconds')\n",
    "# # print(f'Params: {best_params}')\n",
    "# # print(f'Corresponding test accuracy: {accuracy * 100:.2f}%')\n",
    "# # print(\"Micro F1 Score: \", micro_f1)\n",
    "# # print(\"Macro F1 Score: \", macro_f1)\n"
   ]
  },
  {
   "cell_type": "code",
   "execution_count": 17,
   "metadata": {
    "colab": {
     "base_uri": "https://localhost:8080/",
     "height": 402
    },
    "executionInfo": {
     "elapsed": 9127,
     "status": "error",
     "timestamp": 1705028131915,
     "user": {
      "displayName": "Kris Chen",
      "userId": "14019901183015848448"
     },
     "user_tz": 480
    },
    "id": "5wi6FbEIjuO9",
    "outputId": "7d90431e-9cd4-45c8-8e70-70a637f3e85a"
   },
   "outputs": [],
   "source": [
    "# from sklearn.metrics import confusion_matrix, accuracy_score, precision_score, recall_score, f1_score, roc_auc_score\n",
    "# from sklearn.datasets import load_digits\n",
    "\n",
    "# best_ctnb = CategoricalNB()\n",
    "# best_ctnb.fit(x_train, y_train)\n",
    "\n",
    "# y_pred = best_ctnb.predict(x_test)\n",
    "\n",
    "# conf_matrix = confusion_matrix(y_test, y_pred)\n",
    "# # tn, fp, fn, tp = conf_matrix.ravel()\n",
    "# cm = conf_matrix\n",
    "# fp = cm.sum(axis=0) - np.diag(cm)\n",
    "# fn = cm.sum(axis=1) - np.diag(cm)\n",
    "# tp = np.diag(cm)\n",
    "# tn = cm.sum() - (fp + fn + tp)\n",
    "\n",
    "\n",
    "# fpr = fp / (fp + tn)\n",
    "# tpr = tp / (tp + fn)\n",
    "# fnr = fn / (fn + tp)\n",
    "# tnr = tn / (tn + fp)\n",
    "# precision = precision_score(y_test, y_pred, average='macro')\n",
    "# accuracy = accuracy_score(y_test, y_pred)\n",
    "# f1 = f1_score(y_test, y_pred, average='macro')\n",
    "# auc = roc_auc_score(y_test, best_ctnb.predict_proba(x_test), multi_class='ovr')\n",
    "\n",
    "# print(f\"FPR: {fpr}\")\n",
    "# print(f\"TPR: {tpr}\")\n",
    "# print(f\"FNR: {fnr}\")\n",
    "# print(f\"TNR: {tnr}\")\n",
    "# print(f\"Precision: {precision}\")\n",
    "# print(f\"Accuracy: {accuracy}\")\n",
    "# print(f\"F1-score: {f1}\")\n",
    "# print(f\"AUC: {auc}\")"
   ]
  },
  {
   "cell_type": "code",
   "execution_count": 3,
   "metadata": {},
   "outputs": [
    {
     "data": {
      "text/plain": [
       "['/home/jovyan/Edge-IIoT/pre_train/BNB.joblib']"
      ]
     },
     "execution_count": 3,
     "metadata": {},
     "output_type": "execute_result"
    }
   ],
   "source": [
    "import numpy as np\n",
    "x_test = np.load('/home/jovyan/Edge-IIoT/x_test.npy')\n",
    "x_train = np.load('/home/jovyan/Edge-IIoT/x_train.npy')\n",
    "x_val = np.load('/home/jovyan/Edge-IIoT/x_val.npy')\n",
    "y_test = np.load('/home/jovyan/Edge-IIoT/y_test.npy')\n",
    "y_train = np.load('/home/jovyan/Edge-IIoT/y_train.npy')\n",
    "y_val = np.load('/home/jovyan/Edge-IIoT/y_val.npy')\n",
    "\n",
    "from joblib import dump, load\n",
    "from sklearn.naive_bayes import GaussianNB, MultinomialNB, ComplementNB, BernoulliNB, CategoricalNB\n",
    "\n",
    "best_gnb = GaussianNB(var_smoothing = 0.012328467394420659)\n",
    "best_gnb.fit(x_train, y_train)\n",
    "dump(best_gnb, \"/home/jovyan/Edge-IIoT/pre_train/GNB.joblib\")\n",
    "\n",
    "# best_mnb = MultinomialNB(alpha= 0.0)\n",
    "# best_mnb.fit(x_train, y_train)\n",
    "# dump(best_mnb, \"/home/jovyan/Edge-IIoT/pre_train/MNB.joblib\")\n",
    "\n",
    "# best_cnb = ComplementNB(alpha= 0.010101010101010102)\n",
    "# best_cnb.fit(x_train, y_train)\n",
    "# dump(best_cnb, \"/home/jovyan/Edge-IIoT/pre_train/CNB.joblib\")\n",
    "\n",
    "best_bnb = BernoulliNB(alpha=0.43434343434343436, binarize=0.5789473684210527)\n",
    "best_bnb.fit(x_train, y_train)\n",
    "dump(best_bnb, \"/home/jovyan/Edge-IIoT/pre_train/BNB.joblib\")\n",
    "\n"
   ]
  },
  {
   "cell_type": "code",
   "execution_count": null,
   "metadata": {},
   "outputs": [],
   "source": []
  }
 ],
 "metadata": {
  "colab": {
   "provenance": [
    {
     "file_id": "1EqGt6bOxfGsN2GJomIapm43H-P0QHl9l",
     "timestamp": 1699944289739
    }
   ]
  },
  "kernelspec": {
   "display_name": "Python 3 (ipykernel)",
   "language": "python",
   "name": "python3"
  },
  "language_info": {
   "codemirror_mode": {
    "name": "ipython",
    "version": 3
   },
   "file_extension": ".py",
   "mimetype": "text/x-python",
   "name": "python",
   "nbconvert_exporter": "python",
   "pygments_lexer": "ipython3",
   "version": "3.11.5"
  }
 },
 "nbformat": 4,
 "nbformat_minor": 4
}
