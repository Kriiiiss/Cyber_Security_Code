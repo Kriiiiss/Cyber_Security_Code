{
 "cells": [
  {
   "cell_type": "code",
   "execution_count": 1,
   "metadata": {
    "executionInfo": {
     "elapsed": 253,
     "status": "ok",
     "timestamp": 1705029113546,
     "user": {
      "displayName": "Kris Chen",
      "userId": "14019901183015848448"
     },
     "user_tz": 480
    },
    "id": "f_tlUaN-posw"
   },
   "outputs": [],
   "source": [
    "import xgboost as xgb\n",
    "from xgboost import XGBClassifier\n",
    "from sklearn.experimental import enable_halving_search_cv\n",
    "from sklearn.model_selection import HalvingGridSearchCV\n",
    "from sklearn.metrics import accuracy_score, f1_score as f1_score_rep\n",
    "import numpy as np\n",
    "import pandas as pd\n",
    "from time import time\n",
    "from pathlib import Path"
   ]
  },
  {
   "cell_type": "code",
   "execution_count": 2,
   "metadata": {
    "executionInfo": {
     "elapsed": 10188,
     "status": "ok",
     "timestamp": 1705029087483,
     "user": {
      "displayName": "Kris Chen",
      "userId": "14019901183015848448"
     },
     "user_tz": 480
    },
    "id": "_YmyyqEe3tgm"
   },
   "outputs": [],
   "source": [
    "import numpy as np\n",
    "x_test = np.load('/home/jovyan/Edge-IIoT/x_test.npy')\n",
    "x_train = np.load('/home/jovyan/Edge-IIoT/x_train.npy')\n",
    "x_val = np.load('/home/jovyan/Edge-IIoT/x_val.npy')\n",
    "y_test = np.load('/home/jovyan/Edge-IIoT/y_test.npy')\n",
    "y_train = np.load('/home/jovyan/Edge-IIoT/y_train.npy')\n",
    "y_val = np.load('/home/jovyan/Edge-IIoT/y_val.npy')"
   ]
  },
  {
   "cell_type": "code",
   "execution_count": 3,
   "metadata": {
    "colab": {
     "base_uri": "https://localhost:8080/"
    },
    "executionInfo": {
     "elapsed": 213373,
     "status": "ok",
     "timestamp": 1699950315491,
     "user": {
      "displayName": "Kris Chen",
      "userId": "14019901183015848448"
     },
     "user_tz": 480
    },
    "id": "yfm77-t05E1o",
    "outputId": "ee92f2ac-c815-48f1-c588-8b7ea231df0c"
   },
   "outputs": [],
   "source": [
    "# from xgboost import XGBClassifier\n",
    "# xgb = XGBClassifier()\n",
    "# xgb = xgb.fit(x_train, y_train)\n",
    "# xgb_pred = xgb.predict(x_test)\n",
    "\n",
    "# print(\"Accuracy: \", accuracy_score(y_test, xgb_pred))\n",
    "# print(\"Micro F1 Score: \", f1_score_rep(y_test, xgb_pred, average=\"micro\"))\n",
    "# print(\"Macro F1 Score: \", f1_score_rep(y_test, xgb_pred, average=\"macro\"))"
   ]
  },
  {
   "cell_type": "code",
   "execution_count": 4,
   "metadata": {
    "id": "wVYenAEYpaf8"
   },
   "outputs": [
    {
     "name": "stdout",
     "output_type": "stream",
     "text": [
      "FPR: [0.05206508 0.0009768  0.002693   0.        ]\n",
      "TPR: [0.95906433 1.         0.89112487 1.        ]\n",
      "FNR: [0.04093567 0.         0.10887513 0.        ]\n",
      "TNR: [0.94793492 0.9990232  0.997307   1.        ]\n",
      "Precision: 0.8460161693625945\n",
      "Accuracy: 0.9476716274603937\n",
      "F1-score: 0.8793855866272928\n",
      "AUC: 0.9971618183737367\n",
      "FPR: 0.013933720133289614\n",
      "tpr: 0.962547299621603\n",
      "fnr: 0.03745270037839697\n",
      "tnr: 0.9860662798667104\n"
     ]
    },
    {
     "data": {
      "image/png": "[encoded data removed]",
      "text/plain": [
       "<Figure size 640x480 with 2 Axes>"
      ]
     },
     "metadata": {},
     "output_type": "display_data"
    }
   ],
   "source": [
    "from sklearn.metrics import confusion_matrix, accuracy_score, precision_score, recall_score, f1_score, roc_auc_score\n",
    "from sklearn.datasets import load_digits\n",
    "\n",
    "xgb = XGBClassifier()\n",
    "xgb = xgb.fit(x_train, y_train)\n",
    "\n",
    "y_pred = xgb.predict(x_test)\n",
    "\n",
    "conf_matrix = confusion_matrix(y_test, y_pred)\n",
    "# tn, fp, fn, tp = conf_matrix.ravel()\n",
    "cm = conf_matrix\n",
    "fp = cm.sum(axis=0) - np.diag(cm)\n",
    "fn = cm.sum(axis=1) - np.diag(cm)\n",
    "tp = np.diag(cm)\n",
    "tn = cm.sum() - (fp + fn + tp)\n",
    "\n",
    "\n",
    "fpr = fp / (fp + tn)\n",
    "tpr = tp / (tp + fn)\n",
    "fnr = fn / (fn + tp)\n",
    "tnr = tn / (tn + fp)\n",
    "precision = precision_score(y_test, y_pred, average='macro')\n",
    "accuracy = accuracy_score(y_test, y_pred)\n",
    "f1 = f1_score(y_test, y_pred, average='macro')\n",
    "auc = roc_auc_score(y_test, xgb.predict_proba(x_test), multi_class='ovr')\n",
    "\n",
    "print(f\"FPR: {fpr}\")\n",
    "print(f\"TPR: {tpr}\")\n",
    "print(f\"FNR: {fnr}\")\n",
    "print(f\"TNR: {tnr}\")\n",
    "print(f\"Precision: {precision}\")\n",
    "print(f\"Accuracy: {accuracy}\")\n",
    "print(f\"F1-score: {f1}\")\n",
    "print(f\"AUC: {auc}\")\n",
    "\n",
    "print(f\"FPR: {np.mean(fpr)}\")\n",
    "print(f\"tpr: {np.mean(tpr)}\")\n",
    "print(f\"fnr: {np.mean(fnr)}\")\n",
    "print(f\"tnr: {np.mean(tnr)}\")\n",
    "\n",
    "import matplotlib.pyplot as plt\n",
    "from sklearn.metrics import confusion_matrix, ConfusionMatrixDisplay\n",
    "disp = ConfusionMatrixDisplay(confusion_matrix=conf_matrix,display_labels=xgb.classes_)\n",
    "disp.plot()\n",
    "plt.show()"
   ]
  },
  {
   "cell_type": "code",
   "execution_count": 5,
   "metadata": {},
   "outputs": [
    {
     "name": "stdout",
     "output_type": "stream",
     "text": [
      "done\n"
     ]
    }
   ],
   "source": [
    "print(\"done\")"
   ]
  },
  {
   "cell_type": "code",
   "execution_count": 6,
   "metadata": {
    "colab": {
     "base_uri": "https://localhost:8080/",
     "height": 1000
    },
    "executionInfo": {
     "elapsed": 34424,
     "status": "error",
     "timestamp": 1699949561108,
     "user": {
      "displayName": "Kris Chen",
      "userId": "14019901183015848448"
     },
     "user_tz": 480
    },
    "id": "DxHNxOLg30ee",
    "outputId": "722d96c6-3d90-41bb-ee95-1e5a21d30510"
   },
   "outputs": [],
   "source": [
    "# import xgboost as xgb\n",
    "# from sklearn.experimental import enable_halving_search_cv\n",
    "# from sklearn.model_selection import HalvingGridSearchCV\n",
    "# from sklearn.metrics import accuracy_score, f1_score as f1_score_rep\n",
    "# import numpy as np\n",
    "# import pandas as pd\n",
    "# from time import time\n",
    "# from pathlib import Path\n",
    "\n",
    "\n",
    "# # 定义参数\n",
    "# xgb_params = {\n",
    "#     'learning_rate': [0.01, 0.1, 0.2, 0.3],  # 学习率\n",
    "#     'n_estimators': [50, 100, 200],  # 树的数量\n",
    "#     'max_depth': [3, 6, 9, 12],  # 树的最大深度\n",
    "#     'min_child_weight': [1, 2, 3],  # 决定最小叶子节点样本权重和\n",
    "#     'gamma': [0, 0.1, 0.2],  # 用于控制是否后剪枝的参数\n",
    "#     'subsample': [0.7, 0.8, 0.9],  # 子样本占整个样本集合的比例\n",
    "#     'colsample_bytree': [0.7, 0.8, 0.9]  # 在建立树时对特征采样的比例\n",
    "# }\n",
    "\n",
    "# # 确保结果目录存在\n",
    "# result_dir = Path('/content/drive/MyDrive/Cybersecurity/Datasets/results')\n",
    "# if not result_dir.exists():\n",
    "#     result_dir.mkdir()\n",
    "\n",
    "# def tune_with_halving_grid_search_xgb(x_train, y_train, param_grid):\n",
    "#     xgbc = xgb.XGBClassifier(use_label_encoder=False, eval_metric='logloss')\n",
    "\n",
    "#     start = time()\n",
    "#     halving_xgb_results = HalvingGridSearchCV(\n",
    "#         xgbc,\n",
    "#         param_grid,\n",
    "#         cv=5,\n",
    "#         factor=2,\n",
    "#         min_resources='exhaust',\n",
    "#         scoring='accuracy'\n",
    "#     ).fit(x_train, y_train)\n",
    "\n",
    "#     duration = time() - start\n",
    "\n",
    "#     results = pd.DataFrame(halving_xgb_results.cv_results_)\n",
    "#     results.to_csv(result_dir / 'halving_xgb_results.csv')\n",
    "\n",
    "#     # 格式化和排序结果\n",
    "#     results = results.loc[:, ('iter', 'rank_test_score', 'mean_test_score', 'params')]\n",
    "#     results.sort_values(by=['iter', 'rank_test_score'], ascending=[False, True], inplace=True)\n",
    "\n",
    "#     return results, duration\n",
    "\n",
    "# # 使用验证数据集进行参数调整\n",
    "# halving_results, halving_duration = tune_with_halving_grid_search_xgb(x_val, y_val, xgb_params)\n",
    "\n",
    "# print(halving_results.head())\n",
    "\n",
    "# # 获取最佳参数和分数\n",
    "# best_score = halving_results['mean_test_score'].iloc[0]\n",
    "# best_params = halving_results['params'].iloc[0]\n",
    "\n",
    "# # 使用最佳参数训练 XGBoost 模型\n",
    "# best_xgb = xgb.XGBClassifier(**best_params, use_label_encoder=False, eval_metric='logloss')\n",
    "# best_xgb.fit(x_train, y_train)\n",
    "\n",
    "# # 在测试集上评估\n",
    "# accuracy = accuracy_score(y_test, best_xgb.predict(x_test))\n",
    "# micro_f1 = f1_score_rep(y_test, best_xgb.predict(x_test), average=\"micro\")\n",
    "# macro_f1 = f1_score_rep(y_test, best_xgb.predict(x_test), average=\"macro\")\n",
    "\n",
    "# # 打印结果\n",
    "# print(f'Best score for HalvingGridSearchCV is {best_score:.3f}, took {halving_duration:.2f} seconds')\n",
    "# print(f'Params: {best_params}')\n",
    "# print(f'Corresponding test accuracy: {accuracy * 100:.2f}%')\n",
    "# print(\"Micro F1 Score: \", micro_f1)\n",
    "# print(\"Macro F1 Score: \", macro_f1)\n"
   ]
  },
  {
   "cell_type": "code",
   "execution_count": 1,
   "metadata": {},
   "outputs": [
    {
     "data": {
      "text/plain": [
       "['/home/jovyan/Edge-IIoT/pre_train/XGB.joblib']"
      ]
     },
     "execution_count": 1,
     "metadata": {},
     "output_type": "execute_result"
    }
   ],
   "source": [
    "import numpy as np\n",
    "x_test = np.load('/home/jovyan/Edge-IIoT/x_test.npy')\n",
    "x_train = np.load('/home/jovyan/Edge-IIoT/x_train.npy')\n",
    "x_val = np.load('/home/jovyan/Edge-IIoT/x_val.npy')\n",
    "y_test = np.load('/home/jovyan/Edge-IIoT/y_test.npy')\n",
    "y_train = np.load('/home/jovyan/Edge-IIoT/y_train.npy')\n",
    "y_val = np.load('/home/jovyan/Edge-IIoT/y_val.npy')\n",
    "\n",
    "from joblib import dump, load\n",
    "import xgboost as xgb\n",
    "from xgboost import XGBClassifier\n",
    "\n",
    "xgb = XGBClassifier()\n",
    "xgb = xgb.fit(x_train, y_train)\n",
    "\n",
    "dump(xgb, \"/home/jovyan/Edge-IIoT/pre_train/XGB.joblib\")\n"
   ]
  },
  {
   "cell_type": "code",
   "execution_count": null,
   "metadata": {},
   "outputs": [],
   "source": []
  }
 ],
 "metadata": {
  "colab": {
   "authorship_tag": "ABX9TyNvQMMWWWtir5OnmFV5eEv3",
   "mount_file_id": "1riinrtJ3uoNvh0rf6LrtL3pgF4FVZoir",
   "provenance": []
  },
  "kernelspec": {
   "display_name": "Python 3 (ipykernel)",
   "language": "python",
   "name": "python3"
  },
  "language_info": {
   "codemirror_mode": {
    "name": "ipython",
    "version": 3
   },
   "file_extension": ".py",
   "mimetype": "text/x-python",
   "name": "python",
   "nbconvert_exporter": "python",
   "pygments_lexer": "ipython3",
   "version": "3.11.5"
  }
 },
 "nbformat": 4,
 "nbformat_minor": 4
}
