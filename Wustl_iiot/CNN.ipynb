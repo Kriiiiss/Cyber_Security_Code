{
 "cells": [
  {
   "cell_type": "code",
   "execution_count": 1,
   "metadata": {
    "id": "gHqVTFNhw6jM"
   },
   "outputs": [
    {
     "name": "stderr",
     "output_type": "stream",
     "text": [
      "2024-01-15 07:00:39.489575: I external/local_tsl/tsl/cuda/cudart_stub.cc:31] Could not find cuda drivers on your machine, GPU will not be used.\n",
      "2024-01-15 07:00:39.543978: E external/local_xla/xla/stream_executor/cuda/cuda_dnn.cc:9261] Unable to register cuDNN factory: Attempting to register factory for plugin cuDNN when one has already been registered\n",
      "2024-01-15 07:00:39.544051: E external/local_xla/xla/stream_executor/cuda/cuda_fft.cc:607] Unable to register cuFFT factory: Attempting to register factory for plugin cuFFT when one has already been registered\n",
      "2024-01-15 07:00:39.545386: E external/local_xla/xla/stream_executor/cuda/cuda_blas.cc:1515] Unable to register cuBLAS factory: Attempting to register factory for plugin cuBLAS when one has already been registered\n",
      "2024-01-15 07:00:39.553929: I external/local_tsl/tsl/cuda/cudart_stub.cc:31] Could not find cuda drivers on your machine, GPU will not be used.\n",
      "2024-01-15 07:00:39.554569: I tensorflow/core/platform/cpu_feature_guard.cc:182] This TensorFlow binary is optimized to use available CPU instructions in performance-critical operations.\n",
      "To enable the following instructions: AVX2 FMA, in other operations, rebuild TensorFlow with the appropriate compiler flags.\n",
      "2024-01-15 07:00:40.609589: W tensorflow/compiler/tf2tensorrt/utils/py_utils.cc:38] TF-TRT Warning: Could not find TensorRT\n"
     ]
    }
   ],
   "source": [
    "import pandas as pd\n",
    "import numpy as np\n",
    "import seaborn as sns\n",
    "from sklearn.preprocessing import LabelEncoder\n",
    "from sklearn import preprocessing\n",
    "from sklearn.model_selection import train_test_split\n",
    "from time import time\n",
    "import random\n",
    "import warnings\n",
    "warnings.filterwarnings(\"ignore\")\n",
    "from sklearn.metrics import f1_score as f1_score_rep\n",
    "from sklearn.metrics import accuracy_score\n",
    "\n",
    "import numpy as np\n",
    "import tensorflow as tf\n",
    "from tensorflow.keras.models import Sequential\n",
    "from tensorflow.keras.layers import Conv1D, MaxPooling1D, Flatten, Dense\n",
    "from tensorflow.keras.optimizers import SGD\n",
    "from tensorflow.keras.callbacks import EarlyStopping"
   ]
  },
  {
   "cell_type": "code",
   "execution_count": 2,
   "metadata": {
    "id": "MUnOy66Zxa8g"
   },
   "outputs": [],
   "source": [
    "x_test = np.load('/home/jovyan/Wustl_iiot/x_test.npy')\n",
    "x_train = np.load('/home/jovyan/Wustl_iiot/x_train.npy')\n",
    "x_val = np.load('/home/jovyan/Wustl_iiot/x_val.npy')\n",
    "y_test = np.load('/home/jovyan/Wustl_iiot/y_test.npy')\n",
    "y_train = np.load('/home/jovyan/Wustl_iiot/y_train.npy')\n",
    "y_val = np.load('/home/jovyan/Wustl_iiot/y_val.npy')"
   ]
  },
  {
   "cell_type": "code",
   "execution_count": 3,
   "metadata": {},
   "outputs": [
    {
     "name": "stderr",
     "output_type": "stream",
     "text": [
      "2024-01-15 07:01:05.821304: W tensorflow/core/common_runtime/gpu/gpu_device.cc:2256] Cannot dlopen some GPU libraries. Please make sure the missing libraries mentioned above are installed properly if you would like to use GPU. Follow the guide at https://www.tensorflow.org/install/gpu for how to download and setup the required libraries for your platform.\n",
      "Skipping registering GPU devices...\n",
      "WARNING:absl:`lr` is deprecated in Keras optimizer, please use `learning_rate` or use the legacy optimizer, e.g.,tf.keras.optimizers.legacy.SGD.\n"
     ]
    },
    {
     "name": "stdout",
     "output_type": "stream",
     "text": [
      "Epoch 1/50\n",
      "11192/11192 [==============================] - 23s 2ms/step - loss: 0.0293 - accuracy: 0.9940 - val_loss: 0.0053 - val_accuracy: 0.9993\n",
      "Epoch 2/50\n",
      "11192/11192 [==============================] - 22s 2ms/step - loss: 0.0025 - accuracy: 0.9994 - val_loss: 0.0027 - val_accuracy: 0.9995\n",
      "Epoch 3/50\n",
      "11192/11192 [==============================] - 22s 2ms/step - loss: 0.0015 - accuracy: 0.9997 - val_loss: 0.0016 - val_accuracy: 0.9996\n",
      "Epoch 4/50\n",
      "11192/11192 [==============================] - 22s 2ms/step - loss: 0.0011 - accuracy: 0.9998 - val_loss: 0.0012 - val_accuracy: 0.9998\n",
      "Epoch 5/50\n",
      "11192/11192 [==============================] - 22s 2ms/step - loss: 8.4459e-04 - accuracy: 0.9998 - val_loss: 9.2376e-04 - val_accuracy: 0.9998\n",
      "Epoch 6/50\n",
      "11192/11192 [==============================] - 21s 2ms/step - loss: 6.9209e-04 - accuracy: 0.9998 - val_loss: 7.4442e-04 - val_accuracy: 0.9998\n",
      "Epoch 7/50\n",
      "11192/11192 [==============================] - 22s 2ms/step - loss: 5.8890e-04 - accuracy: 0.9999 - val_loss: 6.6726e-04 - val_accuracy: 0.9999\n",
      "Epoch 8/50\n",
      "11192/11192 [==============================] - 22s 2ms/step - loss: 5.2341e-04 - accuracy: 0.9999 - val_loss: 5.2325e-04 - val_accuracy: 0.9999\n",
      "Epoch 9/50\n",
      "11192/11192 [==============================] - 21s 2ms/step - loss: 4.6294e-04 - accuracy: 0.9999 - val_loss: 4.5509e-04 - val_accuracy: 0.9999\n",
      "Epoch 10/50\n",
      "11192/11192 [==============================] - 22s 2ms/step - loss: 4.2465e-04 - accuracy: 0.9999 - val_loss: 4.1887e-04 - val_accuracy: 0.9999\n",
      "Epoch 11/50\n",
      "11192/11192 [==============================] - 22s 2ms/step - loss: 3.9530e-04 - accuracy: 0.9999 - val_loss: 3.9296e-04 - val_accuracy: 0.9999\n",
      "Epoch 12/50\n",
      "11192/11192 [==============================] - 22s 2ms/step - loss: 3.6973e-04 - accuracy: 0.9999 - val_loss: 3.8419e-04 - val_accuracy: 0.9999\n",
      "Epoch 13/50\n",
      "11192/11192 [==============================] - 22s 2ms/step - loss: 3.5023e-04 - accuracy: 0.9999 - val_loss: 3.7148e-04 - val_accuracy: 0.9999\n",
      "Epoch 14/50\n",
      "11192/11192 [==============================] - 21s 2ms/step - loss: 3.3211e-04 - accuracy: 0.9999 - val_loss: 3.6017e-04 - val_accuracy: 0.9999\n",
      "Epoch 15/50\n",
      "11192/11192 [==============================] - 22s 2ms/step - loss: 3.2153e-04 - accuracy: 0.9999 - val_loss: 3.5328e-04 - val_accuracy: 0.9999\n",
      "Epoch 16/50\n",
      "11192/11192 [==============================] - 22s 2ms/step - loss: 3.1008e-04 - accuracy: 0.9999 - val_loss: 3.1852e-04 - val_accuracy: 0.9999\n",
      "Epoch 17/50\n",
      "11192/11192 [==============================] - 22s 2ms/step - loss: 2.9591e-04 - accuracy: 0.9999 - val_loss: 3.1000e-04 - val_accuracy: 0.9999\n",
      "Epoch 18/50\n",
      "11192/11192 [==============================] - 22s 2ms/step - loss: 2.8328e-04 - accuracy: 0.9999 - val_loss: 3.2904e-04 - val_accuracy: 0.9999\n",
      "Epoch 19/50\n",
      "11192/11192 [==============================] - 22s 2ms/step - loss: 2.7486e-04 - accuracy: 0.9999 - val_loss: 2.9624e-04 - val_accuracy: 0.9999\n",
      "Epoch 20/50\n",
      "11192/11192 [==============================] - 22s 2ms/step - loss: 2.6564e-04 - accuracy: 0.9999 - val_loss: 2.8355e-04 - val_accuracy: 0.9999\n",
      "Epoch 21/50\n",
      "11192/11192 [==============================] - 22s 2ms/step - loss: 2.5761e-04 - accuracy: 0.9999 - val_loss: 2.9028e-04 - val_accuracy: 0.9999\n",
      "Epoch 22/50\n",
      "11192/11192 [==============================] - 22s 2ms/step - loss: 2.5129e-04 - accuracy: 0.9999 - val_loss: 2.8509e-04 - val_accuracy: 0.9999\n",
      "Epoch 23/50\n",
      "11192/11192 [==============================] - 22s 2ms/step - loss: 2.4432e-04 - accuracy: 0.9999 - val_loss: 2.9078e-04 - val_accuracy: 0.9999\n",
      "Epoch 24/50\n",
      "11192/11192 [==============================] - 22s 2ms/step - loss: 2.3825e-04 - accuracy: 0.9999 - val_loss: 2.7734e-04 - val_accuracy: 0.9999\n",
      "Epoch 25/50\n",
      "11192/11192 [==============================] - 22s 2ms/step - loss: 2.3147e-04 - accuracy: 0.9999 - val_loss: 2.8594e-04 - val_accuracy: 0.9999\n",
      "Epoch 26/50\n",
      "11192/11192 [==============================] - 22s 2ms/step - loss: 2.2478e-04 - accuracy: 0.9999 - val_loss: 2.7343e-04 - val_accuracy: 0.9999\n",
      "Epoch 27/50\n",
      "11192/11192 [==============================] - 22s 2ms/step - loss: 2.2201e-04 - accuracy: 0.9999 - val_loss: 2.5962e-04 - val_accuracy: 0.9999\n",
      "Epoch 28/50\n",
      "11192/11192 [==============================] - 22s 2ms/step - loss: 2.1732e-04 - accuracy: 0.9999 - val_loss: 2.4900e-04 - val_accuracy: 0.9999\n",
      "Epoch 29/50\n",
      "11192/11192 [==============================] - 22s 2ms/step - loss: 2.1107e-04 - accuracy: 0.9999 - val_loss: 2.4643e-04 - val_accuracy: 0.9999\n",
      "Epoch 30/50\n",
      "11192/11192 [==============================] - 22s 2ms/step - loss: 2.0596e-04 - accuracy: 1.0000 - val_loss: 2.3965e-04 - val_accuracy: 0.9999\n",
      "Epoch 31/50\n",
      "11192/11192 [==============================] - 22s 2ms/step - loss: 2.0149e-04 - accuracy: 0.9999 - val_loss: 2.3409e-04 - val_accuracy: 0.9999\n",
      "Epoch 32/50\n",
      "11192/11192 [==============================] - 22s 2ms/step - loss: 1.9802e-04 - accuracy: 0.9999 - val_loss: 2.3623e-04 - val_accuracy: 0.9999\n",
      "Epoch 33/50\n",
      "11192/11192 [==============================] - 22s 2ms/step - loss: 1.9278e-04 - accuracy: 0.9999 - val_loss: 2.3195e-04 - val_accuracy: 0.9999\n",
      "Epoch 34/50\n",
      "11192/11192 [==============================] - 22s 2ms/step - loss: 1.8932e-04 - accuracy: 1.0000 - val_loss: 2.2350e-04 - val_accuracy: 0.9999\n",
      "Epoch 35/50\n",
      "11192/11192 [==============================] - 22s 2ms/step - loss: 1.8639e-04 - accuracy: 0.9999 - val_loss: 2.2320e-04 - val_accuracy: 0.9999\n",
      "Epoch 36/50\n",
      "11192/11192 [==============================] - 22s 2ms/step - loss: 1.8324e-04 - accuracy: 0.9999 - val_loss: 2.2448e-04 - val_accuracy: 0.9999\n",
      "Epoch 37/50\n",
      "11192/11192 [==============================] - 22s 2ms/step - loss: 1.7846e-04 - accuracy: 1.0000 - val_loss: 2.1159e-04 - val_accuracy: 0.9999\n",
      "Epoch 38/50\n",
      "11192/11192 [==============================] - 22s 2ms/step - loss: 1.7707e-04 - accuracy: 1.0000 - val_loss: 2.1663e-04 - val_accuracy: 0.9999\n",
      "Epoch 39/50\n",
      "11192/11192 [==============================] - 22s 2ms/step - loss: 1.7293e-04 - accuracy: 0.9999 - val_loss: 2.0726e-04 - val_accuracy: 0.9999\n",
      "Epoch 40/50\n",
      "11192/11192 [==============================] - 22s 2ms/step - loss: 1.6853e-04 - accuracy: 1.0000 - val_loss: 2.0973e-04 - val_accuracy: 0.9999\n",
      "Epoch 41/50\n",
      "11192/11192 [==============================] - 22s 2ms/step - loss: 1.7190e-04 - accuracy: 0.9999 - val_loss: 1.9955e-04 - val_accuracy: 0.9999\n",
      "Epoch 42/50\n",
      "11192/11192 [==============================] - 22s 2ms/step - loss: 1.6581e-04 - accuracy: 0.9999 - val_loss: 2.0631e-04 - val_accuracy: 0.9999\n",
      "Epoch 43/50\n",
      "11192/11192 [==============================] - 22s 2ms/step - loss: 1.6274e-04 - accuracy: 0.9999 - val_loss: 1.9449e-04 - val_accuracy: 0.9999\n",
      "Epoch 44/50\n",
      "11192/11192 [==============================] - 22s 2ms/step - loss: 1.5938e-04 - accuracy: 0.9999 - val_loss: 2.0859e-04 - val_accuracy: 0.9999\n",
      "Epoch 45/50\n",
      "11192/11192 [==============================] - 22s 2ms/step - loss: 1.5935e-04 - accuracy: 0.9999 - val_loss: 1.9253e-04 - val_accuracy: 0.9999\n",
      "Epoch 46/50\n",
      "11192/11192 [==============================] - 22s 2ms/step - loss: 1.5575e-04 - accuracy: 0.9999 - val_loss: 1.9267e-04 - val_accuracy: 0.9999\n",
      "Epoch 47/50\n",
      "11192/11192 [==============================] - 22s 2ms/step - loss: 1.5321e-04 - accuracy: 1.0000 - val_loss: 1.9107e-04 - val_accuracy: 0.9999\n",
      "Epoch 48/50\n",
      "11192/11192 [==============================] - 22s 2ms/step - loss: 1.5073e-04 - accuracy: 1.0000 - val_loss: 1.9391e-04 - val_accuracy: 0.9999\n",
      "Epoch 49/50\n",
      "11192/11192 [==============================] - 21s 2ms/step - loss: 1.4732e-04 - accuracy: 1.0000 - val_loss: 1.9897e-04 - val_accuracy: 0.9999\n",
      "Epoch 50/50\n",
      "11192/11192 [==============================] - 22s 2ms/step - loss: 1.4704e-04 - accuracy: 0.9999 - val_loss: 1.8438e-04 - val_accuracy: 0.9999\n",
      "7462/7462 [==============================] - 7s 930us/step - loss: 1.6373e-04 - accuracy: 0.9999\n",
      "Test accuracy: 0.9999497532844543\n",
      "7462/7462 [==============================] - 6s 851us/step\n"
     ]
    }
   ],
   "source": [
    "x_train = x_train.reshape(x_train.shape[0], x_train.shape[1], 1)\n",
    "x_test = x_test.reshape(x_test.shape[0], x_test.shape[1], 1)\n",
    "x_val = x_val.reshape(x_val.shape[0], x_val.shape[1], 1)\n",
    "\n",
    "input_shape = x_train.shape[1:]\n",
    "\n",
    "num_classes = len(np.unique(y_train))\n",
    "\n",
    "cnn_model = Sequential()\n",
    "cnn_model.add(Conv1D(filters=20, kernel_size=4, strides=2, padding='valid', activation='relu', input_shape=input_shape))\n",
    "cnn_model.add(MaxPooling1D())\n",
    "cnn_model.add(Conv1D(filters=20, kernel_size=4, strides=2, padding='same', activation='relu'))\n",
    "cnn_model.add(Conv1D(filters=3, kernel_size=2, strides=1, padding='same', activation='relu'))\n",
    "cnn_model.add(Flatten())\n",
    "cnn_model.add(Dense(units=100, activation='relu'))\n",
    "cnn_model.add(Dense(units=num_classes, activation='softmax'))\n",
    "\n",
    "opt = SGD(lr=0.01) \n",
    "\n",
    "cnn_model.compile(loss=\"sparse_categorical_crossentropy\", optimizer=opt, metrics=['accuracy'])\n",
    "\n",
    "early_stopping = EarlyStopping(monitor='val_loss', min_delta=0, patience=5)\n",
    "hist = cnn_model.fit(x_train, y_train, epochs=50, batch_size=64,\n",
    "                     validation_data=(x_val, y_val), \n",
    "                     callbacks=[early_stopping])\n",
    "\n",
    "test_loss, test_acc = cnn_model.evaluate(x_test, y_test)\n",
    "print('Test accuracy:', test_acc)\n",
    "\n",
    "y_hat = cnn_model.predict(x_test)\n",
    "y_hat = np.argmax(y_hat, axis=-1)"
   ]
  },
  {
   "cell_type": "code",
   "execution_count": 6,
   "metadata": {
    "id": "4YBRvKV1yDG0"
   },
   "outputs": [
    {
     "name": "stdout",
     "output_type": "stream",
     "text": [
      "7462/7462 [==============================] - 8s 1ms/step\n",
      "FPR: [4.18916598e-06 1.67573659e-05 0.00000000e+00 2.95227853e-05\n",
      " 0.00000000e+00]\n",
      "TPR: [0.9047619  0.88461538 0.99987229 1.         1.        ]\n",
      "FNR: [0.0952381  0.11538462 0.00012771 0.         0.        ]\n",
      "TNR: [0.99999581 0.99998324 1.         0.99997048 1.        ]\n",
      "Precision: 0.9780258734216438\n",
      "Accuracy: 0.999949738851449\n",
      "F1-score: 0.9676098493587112\n",
      "AUC: 0.9999986248976732\n",
      "FPR: 1.0093863430502106e-05\n",
      "tpr: 0.9578499167222748\n",
      "fnr: 0.042150083277725195\n",
      "tnr: 0.9999899061365696\n"
     ]
    },
    {
     "data": {
      "image/png": "[encoded data removed]",
      "text/plain": [
       "<Figure size 640x480 with 2 Axes>"
      ]
     },
     "metadata": {},
     "output_type": "display_data"
    }
   ],
   "source": [
    "from sklearn.metrics import confusion_matrix, precision_score, accuracy_score, f1_score, roc_auc_score\n",
    "\n",
    "\n",
    "\n",
    "conf_matrix = confusion_matrix(y_test, y_hat)\n",
    "# tn, fp, fn, tp = conf_matrix.ravel()\n",
    "cm = conf_matrix\n",
    "fp = cm.sum(axis=0) - np.diag(cm)\n",
    "fn = cm.sum(axis=1) - np.diag(cm)\n",
    "tp = np.diag(cm)\n",
    "tn = cm.sum() - (fp + fn + tp)\n",
    "\n",
    "\n",
    "fpr = fp / (fp + tn)\n",
    "tpr = tp / (tp + fn)\n",
    "fnr = fn / (fn + tp)\n",
    "tnr = tn / (tn + fp)\n",
    "precision = precision_score(y_test, y_hat, average='macro')\n",
    "accuracy = accuracy_score(y_test, y_hat)\n",
    "f1 = f1_score(y_test, y_hat, average='macro')\n",
    "auc = roc_auc_score(y_test, cnn_model.predict(x_test), multi_class='ovr')\n",
    "\n",
    "print(f\"FPR: {fpr}\")\n",
    "print(f\"TPR: {tpr}\")\n",
    "print(f\"FNR: {fnr}\")\n",
    "print(f\"TNR: {tnr}\")\n",
    "print(f\"Precision: {precision}\")\n",
    "print(f\"Accuracy: {accuracy}\")\n",
    "print(f\"F1-score: {f1}\")\n",
    "print(f\"AUC: {auc}\")\n",
    "\n",
    "print(f\"FPR: {np.mean(fpr)}\")\n",
    "print(f\"tpr: {np.mean(tpr)}\")\n",
    "print(f\"fnr: {np.mean(fnr)}\")\n",
    "print(f\"tnr: {np.mean(tnr)}\")\n",
    "\n",
    "import matplotlib.pyplot as plt\n",
    "from sklearn.metrics import confusion_matrix, ConfusionMatrixDisplay\n",
    "disp = ConfusionMatrixDisplay(confusion_matrix=conf_matrix)\n",
    "disp.plot()\n",
    "plt.show()"
   ]
  },
  {
   "cell_type": "code",
   "execution_count": null,
   "metadata": {},
   "outputs": [],
   "source": []
  }
 ],
 "metadata": {
  "colab": {
   "provenance": []
  },
  "kernelspec": {
   "display_name": "Python 3 (ipykernel)",
   "language": "python",
   "name": "python3"
  },
  "language_info": {
   "codemirror_mode": {
    "name": "ipython",
    "version": 3
   },
   "file_extension": ".py",
   "mimetype": "text/x-python",
   "name": "python",
   "nbconvert_exporter": "python",
   "pygments_lexer": "ipython3",
   "version": "3.11.5"
  }
 },
 "nbformat": 4,
 "nbformat_minor": 4
}
