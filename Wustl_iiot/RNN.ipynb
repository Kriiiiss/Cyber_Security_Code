{
 "cells": [
  {
   "cell_type": "code",
   "execution_count": 1,
   "metadata": {
    "id": "gHqVTFNhw6jM"
   },
   "outputs": [
    {
     "name": "stderr",
     "output_type": "stream",
     "text": [
      "2024-01-15 07:48:24.188988: I external/local_tsl/tsl/cuda/cudart_stub.cc:31] Could not find cuda drivers on your machine, GPU will not be used.\n",
      "2024-01-15 07:48:24.245874: E external/local_xla/xla/stream_executor/cuda/cuda_dnn.cc:9261] Unable to register cuDNN factory: Attempting to register factory for plugin cuDNN when one has already been registered\n",
      "2024-01-15 07:48:24.245949: E external/local_xla/xla/stream_executor/cuda/cuda_fft.cc:607] Unable to register cuFFT factory: Attempting to register factory for plugin cuFFT when one has already been registered\n",
      "2024-01-15 07:48:24.246981: E external/local_xla/xla/stream_executor/cuda/cuda_blas.cc:1515] Unable to register cuBLAS factory: Attempting to register factory for plugin cuBLAS when one has already been registered\n",
      "2024-01-15 07:48:24.255011: I external/local_tsl/tsl/cuda/cudart_stub.cc:31] Could not find cuda drivers on your machine, GPU will not be used.\n",
      "2024-01-15 07:48:24.256273: I tensorflow/core/platform/cpu_feature_guard.cc:182] This TensorFlow binary is optimized to use available CPU instructions in performance-critical operations.\n",
      "To enable the following instructions: AVX2 FMA, in other operations, rebuild TensorFlow with the appropriate compiler flags.\n",
      "2024-01-15 07:48:25.446587: W tensorflow/compiler/tf2tensorrt/utils/py_utils.cc:38] TF-TRT Warning: Could not find TensorRT\n"
     ]
    }
   ],
   "source": [
    "import pandas as pd\n",
    "import numpy as np\n",
    "import seaborn as sns\n",
    "from sklearn.preprocessing import LabelEncoder\n",
    "from sklearn import preprocessing\n",
    "from sklearn.model_selection import train_test_split\n",
    "from time import time\n",
    "import random\n",
    "import warnings\n",
    "warnings.filterwarnings(\"ignore\")\n",
    "from sklearn.metrics import f1_score as f1_score_rep\n",
    "from sklearn.metrics import accuracy_score\n",
    "\n",
    "import numpy as np\n",
    "import tensorflow as tf\n",
    "from tensorflow.keras.models import Sequential\n",
    "from tensorflow.keras.layers import Conv1D, MaxPooling1D, Flatten, Dense\n",
    "from tensorflow.keras.layers import SimpleRNN\n",
    "from tensorflow.keras.optimizers import SGD\n",
    "from tensorflow.keras.callbacks import EarlyStopping"
   ]
  },
  {
   "cell_type": "code",
   "execution_count": 2,
   "metadata": {
    "id": "MUnOy66Zxa8g"
   },
   "outputs": [],
   "source": [
    "x_test = np.load('/home/jovyan/Wustl_iiot/x_test.npy')\n",
    "x_train = np.load('/home/jovyan/Wustl_iiot/x_train.npy')\n",
    "x_val = np.load('/home/jovyan/Wustl_iiot/x_val.npy')\n",
    "y_test = np.load('/home/jovyan/Wustl_iiot/y_test.npy')\n",
    "y_train = np.load('/home/jovyan/Wustl_iiot/y_train.npy')\n",
    "y_val = np.load('/home/jovyan/Wustl_iiot/y_val.npy')"
   ]
  },
  {
   "cell_type": "code",
   "execution_count": 3,
   "metadata": {
    "id": "iBtiPGFRyBrP"
   },
   "outputs": [
    {
     "name": "stderr",
     "output_type": "stream",
     "text": [
      "2024-01-15 07:48:26.811433: W tensorflow/core/common_runtime/gpu/gpu_device.cc:2256] Cannot dlopen some GPU libraries. Please make sure the missing libraries mentioned above are installed properly if you would like to use GPU. Follow the guide at https://www.tensorflow.org/install/gpu for how to download and setup the required libraries for your platform.\n",
      "Skipping registering GPU devices...\n",
      "WARNING:absl:`lr` is deprecated in Keras optimizer, please use `learning_rate` or use the legacy optimizer, e.g.,tf.keras.optimizers.legacy.SGD.\n"
     ]
    },
    {
     "name": "stdout",
     "output_type": "stream",
     "text": [
      "Epoch 1/50\n",
      "11192/11192 [==============================] - 25s 2ms/step - loss: 0.0189 - accuracy: 0.9967 - val_loss: 0.0035 - val_accuracy: 0.9995\n",
      "Epoch 2/50\n",
      "11192/11192 [==============================] - 21s 2ms/step - loss: 0.0021 - accuracy: 0.9995 - val_loss: 0.0026 - val_accuracy: 0.9995\n",
      "Epoch 3/50\n",
      "11192/11192 [==============================] - 21s 2ms/step - loss: 0.0015 - accuracy: 0.9996 - val_loss: 0.0023 - val_accuracy: 0.9996\n",
      "Epoch 4/50\n",
      "11192/11192 [==============================] - 21s 2ms/step - loss: 0.0013 - accuracy: 0.9997 - val_loss: 0.0021 - val_accuracy: 0.9996\n",
      "Epoch 5/50\n",
      "11192/11192 [==============================] - 21s 2ms/step - loss: 0.0011 - accuracy: 0.9997 - val_loss: 0.0019 - val_accuracy: 0.9996\n",
      "Epoch 6/50\n",
      "11192/11192 [==============================] - 20s 2ms/step - loss: 9.4358e-04 - accuracy: 0.9997 - val_loss: 0.0018 - val_accuracy: 0.9996\n",
      "Epoch 7/50\n",
      "11192/11192 [==============================] - 20s 2ms/step - loss: 8.2427e-04 - accuracy: 0.9998 - val_loss: 0.0016 - val_accuracy: 0.9996\n",
      "Epoch 8/50\n",
      "11192/11192 [==============================] - 21s 2ms/step - loss: 7.3327e-04 - accuracy: 0.9998 - val_loss: 0.0015 - val_accuracy: 0.9996\n",
      "Epoch 9/50\n",
      "11192/11192 [==============================] - 21s 2ms/step - loss: 6.6196e-04 - accuracy: 0.9999 - val_loss: 0.0014 - val_accuracy: 0.9996\n",
      "Epoch 10/50\n",
      "11192/11192 [==============================] - 21s 2ms/step - loss: 6.0618e-04 - accuracy: 0.9999 - val_loss: 0.0013 - val_accuracy: 0.9996\n",
      "Epoch 11/50\n",
      "11192/11192 [==============================] - 20s 2ms/step - loss: 5.6285e-04 - accuracy: 0.9999 - val_loss: 0.0013 - val_accuracy: 0.9997\n",
      "Epoch 12/50\n",
      "11192/11192 [==============================] - 21s 2ms/step - loss: 5.2759e-04 - accuracy: 0.9999 - val_loss: 0.0012 - val_accuracy: 0.9997\n",
      "Epoch 13/50\n",
      "11192/11192 [==============================] - 21s 2ms/step - loss: 4.9695e-04 - accuracy: 0.9999 - val_loss: 0.0012 - val_accuracy: 0.9997\n",
      "Epoch 14/50\n",
      "11192/11192 [==============================] - 21s 2ms/step - loss: 4.7492e-04 - accuracy: 0.9999 - val_loss: 0.0011 - val_accuracy: 0.9997\n",
      "Epoch 15/50\n",
      "11192/11192 [==============================] - 22s 2ms/step - loss: 4.4858e-04 - accuracy: 0.9999 - val_loss: 0.0011 - val_accuracy: 0.9997\n",
      "Epoch 16/50\n",
      "11192/11192 [==============================] - 22s 2ms/step - loss: 4.2618e-04 - accuracy: 0.9999 - val_loss: 0.0010 - val_accuracy: 0.9997\n",
      "Epoch 17/50\n",
      "11192/11192 [==============================] - 21s 2ms/step - loss: 4.0947e-04 - accuracy: 0.9999 - val_loss: 0.0010 - val_accuracy: 0.9996\n",
      "Epoch 18/50\n",
      "11192/11192 [==============================] - 21s 2ms/step - loss: 3.9533e-04 - accuracy: 0.9999 - val_loss: 9.7813e-04 - val_accuracy: 0.9996\n",
      "Epoch 19/50\n",
      "11192/11192 [==============================] - 21s 2ms/step - loss: 3.8094e-04 - accuracy: 0.9999 - val_loss: 9.5361e-04 - val_accuracy: 0.9996\n",
      "Epoch 20/50\n",
      "11192/11192 [==============================] - 20s 2ms/step - loss: 3.6763e-04 - accuracy: 0.9999 - val_loss: 9.3005e-04 - val_accuracy: 0.9997\n",
      "Epoch 21/50\n",
      "11192/11192 [==============================] - 21s 2ms/step - loss: 3.5696e-04 - accuracy: 0.9999 - val_loss: 9.1151e-04 - val_accuracy: 0.9996\n",
      "Epoch 22/50\n",
      "11192/11192 [==============================] - 21s 2ms/step - loss: 3.4747e-04 - accuracy: 0.9999 - val_loss: 8.9275e-04 - val_accuracy: 0.9996\n",
      "Epoch 23/50\n",
      "11192/11192 [==============================] - 21s 2ms/step - loss: 3.3688e-04 - accuracy: 0.9999 - val_loss: 8.7831e-04 - val_accuracy: 0.9996\n",
      "Epoch 24/50\n",
      "11192/11192 [==============================] - 21s 2ms/step - loss: 3.3048e-04 - accuracy: 0.9999 - val_loss: 8.5606e-04 - val_accuracy: 0.9996\n",
      "Epoch 25/50\n",
      "11192/11192 [==============================] - 21s 2ms/step - loss: 3.2172e-04 - accuracy: 0.9999 - val_loss: 8.3500e-04 - val_accuracy: 0.9996\n",
      "Epoch 26/50\n",
      "11192/11192 [==============================] - 21s 2ms/step - loss: 3.1323e-04 - accuracy: 0.9999 - val_loss: 8.1591e-04 - val_accuracy: 0.9996\n",
      "Epoch 27/50\n",
      "11192/11192 [==============================] - 20s 2ms/step - loss: 3.0616e-04 - accuracy: 0.9999 - val_loss: 7.9861e-04 - val_accuracy: 0.9997\n",
      "Epoch 28/50\n",
      "11192/11192 [==============================] - 21s 2ms/step - loss: 3.0160e-04 - accuracy: 0.9999 - val_loss: 7.8585e-04 - val_accuracy: 0.9997\n",
      "Epoch 29/50\n",
      "11192/11192 [==============================] - 21s 2ms/step - loss: 2.9408e-04 - accuracy: 0.9999 - val_loss: 7.7836e-04 - val_accuracy: 0.9997\n",
      "Epoch 30/50\n",
      "11192/11192 [==============================] - 21s 2ms/step - loss: 2.9122e-04 - accuracy: 0.9999 - val_loss: 7.6522e-04 - val_accuracy: 0.9997\n",
      "Epoch 31/50\n",
      "11192/11192 [==============================] - 21s 2ms/step - loss: 2.8830e-04 - accuracy: 0.9999 - val_loss: 7.5408e-04 - val_accuracy: 0.9997\n",
      "Epoch 32/50\n",
      "11192/11192 [==============================] - 21s 2ms/step - loss: 2.8178e-04 - accuracy: 0.9999 - val_loss: 7.4005e-04 - val_accuracy: 0.9997\n",
      "Epoch 33/50\n",
      "11192/11192 [==============================] - 19s 2ms/step - loss: 2.7873e-04 - accuracy: 0.9999 - val_loss: 7.2178e-04 - val_accuracy: 0.9997\n",
      "Epoch 34/50\n",
      "11192/11192 [==============================] - 20s 2ms/step - loss: 2.6929e-04 - accuracy: 0.9999 - val_loss: 7.1733e-04 - val_accuracy: 0.9997\n",
      "Epoch 35/50\n",
      "11192/11192 [==============================] - 20s 2ms/step - loss: 2.6662e-04 - accuracy: 0.9999 - val_loss: 7.0934e-04 - val_accuracy: 0.9997\n",
      "Epoch 36/50\n",
      "11192/11192 [==============================] - 20s 2ms/step - loss: 2.6334e-04 - accuracy: 0.9999 - val_loss: 6.9765e-04 - val_accuracy: 0.9997\n",
      "Epoch 37/50\n",
      "11192/11192 [==============================] - 20s 2ms/step - loss: 2.5633e-04 - accuracy: 0.9999 - val_loss: 6.8849e-04 - val_accuracy: 0.9997\n",
      "Epoch 38/50\n",
      "11192/11192 [==============================] - 20s 2ms/step - loss: 2.5463e-04 - accuracy: 0.9999 - val_loss: 6.7606e-04 - val_accuracy: 0.9997\n",
      "Epoch 39/50\n",
      "11192/11192 [==============================] - 20s 2ms/step - loss: 2.5046e-04 - accuracy: 0.9999 - val_loss: 6.6709e-04 - val_accuracy: 0.9997\n",
      "Epoch 40/50\n",
      "11192/11192 [==============================] - 20s 2ms/step - loss: 2.4646e-04 - accuracy: 0.9999 - val_loss: 6.5798e-04 - val_accuracy: 0.9997\n",
      "Epoch 41/50\n",
      "11192/11192 [==============================] - 21s 2ms/step - loss: 2.4275e-04 - accuracy: 0.9999 - val_loss: 6.4880e-04 - val_accuracy: 0.9997\n",
      "Epoch 42/50\n",
      "11192/11192 [==============================] - 21s 2ms/step - loss: 2.3851e-04 - accuracy: 0.9999 - val_loss: 6.4071e-04 - val_accuracy: 0.9997\n",
      "Epoch 43/50\n",
      "11192/11192 [==============================] - 20s 2ms/step - loss: 2.3421e-04 - accuracy: 0.9999 - val_loss: 6.3488e-04 - val_accuracy: 0.9997\n",
      "Epoch 44/50\n",
      "11192/11192 [==============================] - 21s 2ms/step - loss: 2.3129e-04 - accuracy: 0.9999 - val_loss: 6.2342e-04 - val_accuracy: 0.9997\n",
      "Epoch 45/50\n",
      "11192/11192 [==============================] - 21s 2ms/step - loss: 2.2826e-04 - accuracy: 0.9999 - val_loss: 6.1480e-04 - val_accuracy: 0.9997\n",
      "Epoch 46/50\n",
      "11192/11192 [==============================] - 20s 2ms/step - loss: 2.2520e-04 - accuracy: 0.9999 - val_loss: 6.0622e-04 - val_accuracy: 0.9997\n",
      "Epoch 47/50\n",
      "11192/11192 [==============================] - 20s 2ms/step - loss: 2.2191e-04 - accuracy: 0.9999 - val_loss: 6.0479e-04 - val_accuracy: 0.9997\n",
      "Epoch 48/50\n",
      "11192/11192 [==============================] - 20s 2ms/step - loss: 2.2279e-04 - accuracy: 0.9999 - val_loss: 5.8851e-04 - val_accuracy: 0.9997\n",
      "Epoch 49/50\n",
      "11192/11192 [==============================] - 20s 2ms/step - loss: 2.1616e-04 - accuracy: 0.9999 - val_loss: 5.8915e-04 - val_accuracy: 0.9998\n",
      "Epoch 50/50\n",
      "11192/11192 [==============================] - 21s 2ms/step - loss: 2.1768e-04 - accuracy: 0.9999 - val_loss: 5.7361e-04 - val_accuracy: 0.9998\n",
      "7462/7462 [==============================] - 7s 998us/step - loss: 5.8920e-04 - accuracy: 0.9998\n",
      "Test accuracy: 0.9997528791427612\n",
      "7462/7462 [==============================] - 7s 924us/step\n"
     ]
    }
   ],
   "source": [
    "timesteps = 1 # Number of timesteps; adjust based on your data\n",
    "features_per_timestep = x_train.shape[1] # Features per timestep\n",
    "x_train = x_train.reshape(-1, timesteps, features_per_timestep)\n",
    "x_val = x_val.reshape(-1, timesteps, features_per_timestep)\n",
    "x_test = x_test.reshape(-1, timesteps, features_per_timestep)\n",
    "\n",
    "input_shape = x_train.shape[1:]\n",
    "num_classes = len(np.unique(y_train))\n",
    "\n",
    "\n",
    "rnn_model = Sequential()\n",
    "rnn_model.add(SimpleRNN(50, return_sequences=True, input_shape=input_shape))\n",
    "rnn_model.add(SimpleRNN(50))\n",
    "rnn_model.add(Dense(units=30, activation='relu'))\n",
    "rnn_model.add(Dense(units=num_classes, activation='softmax'))\n",
    "\n",
    "\n",
    "\n",
    "opt = SGD(lr=0.01)\n",
    "\n",
    "rnn_model.compile(loss=\"sparse_categorical_crossentropy\", optimizer=opt, metrics=['accuracy'])\n",
    "\n",
    "early_stopping = EarlyStopping(monitor='val_loss', min_delta=0, patience=5)\n",
    "hist = rnn_model.fit(x_train, y_train, epochs=50, batch_size=64,\n",
    "                     validation_data=(x_val, y_val), # 使用 x_val 和 y_val 作为验证数据\n",
    "                     callbacks=[early_stopping])\n",
    "\n",
    "test_loss, test_acc = rnn_model.evaluate(x_test, y_test)\n",
    "print('Test accuracy:', test_acc)\n",
    "\n",
    "y_hat = rnn_model.predict(x_test)\n",
    "y_hat = np.argmax(y_hat, axis=-1)"
   ]
  },
  {
   "cell_type": "code",
   "execution_count": 6,
   "metadata": {
    "id": "4YBRvKV1yDG0"
   },
   "outputs": [
    {
     "name": "stdout",
     "output_type": "stream",
     "text": [
      "7462/7462 [==============================] - 10s 1ms/step\n",
      "FPR: [4.18916598e-06 1.67573659e-05 0.00000000e+00 2.95227853e-05\n",
      " 2.70068379e-03]\n",
      "TPR: [0.83333333 0.03846154 0.99987229 1.         1.        ]\n",
      "FNR: [1.66666667e-01 9.61538462e-01 1.27705766e-04 0.00000000e+00\n",
      " 0.00000000e+00]\n",
      "TNR: [0.99999581 0.99998324 1.         0.99997048 0.99729932]\n",
      "Precision: 0.8602227319944153\n",
      "Accuracy: 0.9997528826862908\n",
      "F1-score: 0.7928224233569388\n",
      "AUC: 0.9999855122690764\n",
      "FPR: 0.0005502306214607268\n",
      "tpr: 0.7743334332057913\n",
      "fnr: 0.22566656679420868\n",
      "tnr: 0.9994497693785392\n"
     ]
    },
    {
     "data": {
      "image/png": "[encoded data removed]",
      "text/plain": [
       "<Figure size 640x480 with 2 Axes>"
      ]
     },
     "metadata": {},
     "output_type": "display_data"
    }
   ],
   "source": [
    "from sklearn.metrics import confusion_matrix, precision_score, accuracy_score, f1_score, roc_auc_score\n",
    "\n",
    "\n",
    "\n",
    "conf_matrix = confusion_matrix(y_test, y_hat)\n",
    "# tn, fp, fn, tp = conf_matrix.ravel()\n",
    "cm = conf_matrix\n",
    "fp = cm.sum(axis=0) - np.diag(cm)\n",
    "fn = cm.sum(axis=1) - np.diag(cm)\n",
    "tp = np.diag(cm)\n",
    "tn = cm.sum() - (fp + fn + tp)\n",
    "\n",
    "\n",
    "fpr = fp / (fp + tn)\n",
    "tpr = tp / (tp + fn)\n",
    "fnr = fn / (fn + tp)\n",
    "tnr = tn / (tn + fp)\n",
    "precision = precision_score(y_test, y_hat, average='macro')\n",
    "accuracy = accuracy_score(y_test, y_hat)\n",
    "f1 = f1_score(y_test, y_hat, average='macro')\n",
    "auc = roc_auc_score(y_test, rnn_model.predict(x_test), multi_class='ovr')\n",
    "\n",
    "print(f\"FPR: {fpr}\")\n",
    "print(f\"TPR: {tpr}\")\n",
    "print(f\"FNR: {fnr}\")\n",
    "print(f\"TNR: {tnr}\")\n",
    "print(f\"Precision: {precision}\")\n",
    "print(f\"Accuracy: {accuracy}\")\n",
    "print(f\"F1-score: {f1}\")\n",
    "print(f\"AUC: {auc}\")\n",
    "\n",
    "print(f\"FPR: {np.mean(fpr)}\")\n",
    "print(f\"tpr: {np.mean(tpr)}\")\n",
    "print(f\"fnr: {np.mean(fnr)}\")\n",
    "print(f\"tnr: {np.mean(tnr)}\")\n",
    "\n",
    "import matplotlib.pyplot as plt\n",
    "from sklearn.metrics import confusion_matrix, ConfusionMatrixDisplay\n",
    "disp = ConfusionMatrixDisplay(confusion_matrix=conf_matrix)\n",
    "disp.plot()\n",
    "plt.show()"
   ]
  },
  {
   "cell_type": "code",
   "execution_count": null,
   "metadata": {},
   "outputs": [],
   "source": []
  }
 ],
 "metadata": {
  "colab": {
   "provenance": []
  },
  "kernelspec": {
   "display_name": "Python 3 (ipykernel)",
   "language": "python",
   "name": "python3"
  },
  "language_info": {
   "codemirror_mode": {
    "name": "ipython",
    "version": 3
   },
   "file_extension": ".py",
   "mimetype": "text/x-python",
   "name": "python",
   "nbconvert_exporter": "python",
   "pygments_lexer": "ipython3",
   "version": "3.11.5"
  }
 },
 "nbformat": 4,
 "nbformat_minor": 4
}
