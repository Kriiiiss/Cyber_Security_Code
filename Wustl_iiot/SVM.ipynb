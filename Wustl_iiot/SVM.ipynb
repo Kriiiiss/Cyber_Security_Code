{
 "cells": [
  {
   "cell_type": "code",
   "execution_count": null,
   "metadata": {
    "executionInfo": {
     "elapsed": 3595,
     "status": "ok",
     "timestamp": 1705027232836,
     "user": {
      "displayName": "Kris Chen",
      "userId": "14019901183015848448"
     },
     "user_tz": 480
    },
    "id": "8P_EEQb-kU_k"
   },
   "outputs": [],
   "source": [
    "from sklearn import svm\n",
    "from time import time\n",
    "from pandas import DataFrame\n",
    "from pathlib import Path\n",
    "import numpy as np\n",
    "from sklearn.metrics import f1_score as f1_score_rep\n",
    "from sklearn.metrics import accuracy_score\n",
    "\n",
    "from sklearn.experimental import enable_halving_search_cv\n",
    "from sklearn.model_selection import HalvingGridSearchCV"
   ]
  },
  {
   "cell_type": "code",
   "execution_count": null,
   "metadata": {},
   "outputs": [],
   "source": [
    "print(\"done\")"
   ]
  },
  {
   "cell_type": "code",
   "execution_count": null,
   "metadata": {
    "executionInfo": {
     "elapsed": 5076,
     "status": "ok",
     "timestamp": 1705027239562,
     "user": {
      "displayName": "Kris Chen",
      "userId": "14019901183015848448"
     },
     "user_tz": 480
    },
    "id": "ZSDAkkmAbcim"
   },
   "outputs": [],
   "source": [
    "x_test = np.load('/home/jovyan/Wustl_iiot/x_test.npy')\n",
    "x_train = np.load('/home/jovyan/Wustl_iiot/x_train.npy')\n",
    "x_val = np.load('/home/jovyan/Wustl_iiot/x_val.npy')\n",
    "y_test = np.load('/home/jovyan/Wustl_iiot/y_test.npy')\n",
    "y_train = np.load('/home/jovyan/Wustl_iiot/y_train.npy')\n",
    "y_val = np.load('/home/jovyan/Wustl_iiot/y_val.npy')"
   ]
  },
  {
   "cell_type": "code",
   "execution_count": null,
   "metadata": {
    "id": "wmVrHqWlsj9i"
   },
   "outputs": [],
   "source": [
    "# from sklearn import svm\n",
    "# from time import time\n",
    "# from pandas import DataFrame\n",
    "# from pathlib import Path\n",
    "# import numpy as np\n",
    "# from sklearn.metrics import f1_score as f1_score_rep\n",
    "# from sklearn.metrics import accuracy_score\n",
    "\n",
    "# from sklearn.experimental import enable_halving_search_cv\n",
    "# from sklearn.model_selection import HalvingGridSearchCV\n",
    "\n",
    "# # make sure that result directory exists before running any of the functions\n",
    "# # result_dir = Path.cwd() / '/content/drive/MyDrive/Cybersecurity/Datasets/results'\n",
    "# # if not result_dir.exists():\n",
    "# #     result_dir.mkdir()\n",
    "\n",
    "\n",
    "# def tune_with_halving_grid_search(x_train, y_train, param_grid):\n",
    "#     svc = svm.SVC()\n",
    "\n",
    "#     start = time()\n",
    "#     halving_gs_results = HalvingGridSearchCV(\n",
    "#         svc,\n",
    "#         param_grid,\n",
    "#         cv=5,\n",
    "#         factor=3,\n",
    "#         min_resources='exhaust',\n",
    "#         scoring='f1_weighted'\n",
    "#     ).fit(x_train, y_train)\n",
    "\n",
    "#     duration = time() - start\n",
    "\n",
    "#     results = DataFrame(halving_gs_results.cv_results_)\n",
    "#     results.loc[:, 'mean_test_score'] *= 100\n",
    "#     # results.to_csv(result_dir / 'halving_svc_results.csv')\n",
    "\n",
    "#     # take the most relevant columns and sort (for readability). Remember to sort on the iter columns first, so we see\n",
    "#     # the models with the most training data behind them first.\n",
    "#     results = results.loc[:, ('iter', 'rank_test_score', 'mean_test_score', 'params')]\n",
    "#     results.sort_values(by=['iter', 'rank_test_score'], ascending=[False, True], inplace=True)\n",
    "\n",
    "#     return results, duration"
   ]
  },
  {
   "cell_type": "code",
   "execution_count": null,
   "metadata": {
    "colab": {
     "base_uri": "https://localhost:8080/"
    },
    "executionInfo": {
     "elapsed": 13178287,
     "status": "ok",
     "timestamp": 1699942865079,
     "user": {
      "displayName": "Kris Chen",
      "userId": "14019901183015848448"
     },
     "user_tz": 480
    },
    "id": "mcJMsD9nsk5V",
    "outputId": "4b786a2f-b63f-4db3-fa7f-f8d0bffc01bc"
   },
   "outputs": [],
   "source": [
    "# from sklearn import svm\n",
    "# from sklearn.model_selection import train_test_split\n",
    "# from sklearn.datasets import make_classification\n",
    "# from sklearn.metrics import accuracy_score\n",
    "\n",
    "# # from hyperparam_tuning import tune_with_grid_search, tune_with_halving_grid_search\n",
    "\n",
    "# # RANDOM_STATE = 35090\n",
    "\n",
    "\n",
    "\n",
    "# # use fixed random state for repeatable data set\n",
    "# # X, Y = make_classification(n_samples=3000, random_state=RANDOM_STATE)\n",
    "# # x_train, x_test, y_train, y_test = train_test_split(X, Y, random_state=RANDOM_STATE)\n",
    "\n",
    "# svc_params = {\n",
    "#     'C': [0.1, 0.5, 1,5,10],\n",
    "#     'kernel': ['linear', 'rbf', 'sigmoid', 'poly'],\n",
    "#     'tol': [1e-3, 1e-2]\n",
    "# }\n",
    "\n",
    "# # gs_results, gs_duration = tune_with_grid_search(x_train, y_train, svc_params)\n",
    "# halving_results, halving_duration = tune_with_halving_grid_search(x_val, y_val, svc_params)\n",
    "\n",
    "# # print(gs_results.head())\n",
    "# print(halving_results.head())\n",
    "\n",
    "# # score1 = gs_results['mean_test_score'].iloc[0]\n",
    "# # params1 = gs_results['params'].iloc[0]\n",
    "# score2 = halving_results['mean_test_score'].iloc[0]\n",
    "# params2 = halving_results['params'].iloc[0]\n",
    "\n",
    "# # svc1 = svm.SVC(**params1)\n",
    "# # svc1.fit(x_train, y_train)\n",
    "# # accuracy1 = accuracy_score(y_test, svc1.predict(x_test))\n",
    "\n",
    "# best_svm = svm.SVC(**params2)\n",
    "# best_svm.fit(x_train, y_train)\n",
    "# # accuracy2 = accuracy_score(y_test, svc2.predict(x_test))\n",
    "\n",
    "# # # print(f'Best score for GridSearchCv is {score1:.3f}, took {gs_duration:.2f} seconds')\n",
    "# # # print(f'Params: {params1}')\n",
    "# # # print(f'Corresponding test accuracy: {accuracy1 * 100:.2f}%\\n')\n",
    "\n",
    "# print(f'Best score for HalvingGridSearchCv is {score2:.3f}, took {halving_duration:.2f} seconds')\n",
    "print(f'Params: {params2}')\n",
    "# # print(f'Corresponding test accuracy: {accuracy2 * 100:.2f}%')\n",
    "# print(\"Micro F1 Score: \", f1_score_rep(y_test, best_svm.predict(x_test), average=\"micro\"))\n",
    "# print(\"Macro F1 Score: \", f1_score_rep(y_test, best_svm.predict(x_test), average=\"macro\"))\n"
   ]
  },
  {
   "cell_type": "code",
   "execution_count": null,
   "metadata": {
    "id": "mnsqPBdwiwhh"
   },
   "outputs": [],
   "source": [
    "from sklearn.metrics import confusion_matrix, accuracy_score, precision_score, recall_score, f1_score, roc_auc_score\n",
    "from sklearn.datasets import load_digits\n",
    "\n",
    "best_svm = svm.SVC(C=10, kernel='poly', tol=0.01)\n",
    "best_svm.fit(x_train, y_train)\n",
    "\n",
    "y_pred = best_svm.predict(x_test)\n",
    "\n",
    "conf_matrix = confusion_matrix(y_test, y_pred)\n",
    "# tn, fp, fn, tp = conf_matrix.ravel()\n",
    "cm = conf_matrix\n",
    "fp = cm.sum(axis=0) - np.diag(cm)\n",
    "fn = cm.sum(axis=1) - np.diag(cm)\n",
    "tp = np.diag(cm)\n",
    "tn = cm.sum() - (fp + fn + tp)\n",
    "\n",
    "\n",
    "fpr = fp / (fp + tn)\n",
    "tpr = tp / (tp + fn)\n",
    "fnr = fn / (fn + tp)\n",
    "tnr = tn / (tn + fp)\n",
    "precision = precision_score(y_test, y_pred, average='macro')\n",
    "accuracy = accuracy_score(y_test, y_pred)\n",
    "f1 = f1_score(y_test, y_pred, average='macro')\n",
    "# auc = roc_auc_score(y_test, best_svm.predict_proba(x_test), multi_class='ovr')\n",
    "\n",
    "print(f\"FPR: {fpr}\")\n",
    "print(f\"TPR: {tpr}\")\n",
    "print(f\"FNR: {fnr}\")\n",
    "print(f\"TNR: {tnr}\")\n",
    "print(f\"Precision: {precision}\")\n",
    "print(f\"Accuracy: {accuracy}\")\n",
    "print(f\"F1-score: {f1}\")\n",
    "# print(f\"AUC: {auc}\")\n",
    "\n",
    "print(f\"FPR: {np.mean(fpr)}\")\n",
    "print(f\"tpr: {np.mean(tpr)}\")\n",
    "print(f\"fnr: {np.mean(fnr)}\")\n",
    "print(f\"tnr: {np.mean(tnr)}\")\n",
    "\n",
    "import matplotlib.pyplot as plt\n",
    "from sklearn.metrics import confusion_matrix, ConfusionMatrixDisplay\n",
    "disp = ConfusionMatrixDisplay(confusion_matrix=conf_matrix,display_labels=best_svm.classes_)\n",
    "disp.plot()\n",
    "plt.show()"
   ]
  },
  {
   "cell_type": "code",
   "execution_count": null,
   "metadata": {},
   "outputs": [],
   "source": [
    "# print(f\"FPR: {fpr}\")\n",
    "# print(f\"TPR: {tpr}\")\n",
    "# print(f\"FNR: {fnr}\")\n",
    "# print(f\"TNR: {tnr}\")\n",
    "# print(f\"Precision: {precision}\")\n",
    "# print(f\"Accuracy: {accuracy}\")\n",
    "# print(f\"F1-score: {f1}\")"
   ]
  },
  {
   "cell_type": "code",
   "execution_count": null,
   "metadata": {},
   "outputs": [],
   "source": [
    "# from sklearn.metrics import confusion_matrix, accuracy_score, precision_score, recall_score, f1_score, roc_auc_score\n",
    "\n",
    "# auc = roc_auc_score(y_test, best_svm.predict(x_test), multi_class='ovr')\n",
    "# print(f\"AUC: {auc}\")"
   ]
  },
  {
   "cell_type": "code",
   "execution_count": 12,
   "metadata": {},
   "outputs": [
    {
     "name": "stdout",
     "output_type": "stream",
     "text": [
      "FPR: 8.406812030013516e-06\n",
      "tpr: 0.9635403429765219\n",
      "fnr: 0.036459657023477976\n",
      "tnr: 0.9999915931879698\n"
     ]
    },
    {
     "data": {
      "image/png": "[encoded data removed]",
      "text/plain": [
       "<Figure size 640x480 with 2 Axes>"
      ]
     },
     "metadata": {},
     "output_type": "display_data"
    }
   ],
   "source": [
    "print(f\"FPR: {np.mean(fpr)}\")\n",
    "print(f\"tpr: {np.mean(tpr)}\")\n",
    "print(f\"fnr: {np.mean(fnr)}\")\n",
    "print(f\"tnr: {np.mean(tnr)}\")\n",
    "\n",
    "import matplotlib.pyplot as plt\n",
    "from sklearn.metrics import confusion_matrix, ConfusionMatrixDisplay\n",
    "disp = ConfusionMatrixDisplay(confusion_matrix=conf_matrix,display_labels=best_svm.classes_)\n",
    "disp.plot()\n",
    "plt.show()"
   ]
  },
  {
   "cell_type": "code",
   "execution_count": null,
   "metadata": {},
   "outputs": [],
   "source": []
  }
 ],
 "metadata": {
  "colab": {
   "authorship_tag": "ABX9TyP7iAv4hZmOVEiQoVjpLlFR",
   "mount_file_id": "1c2AEU4T44MzhfdlIz6uxquoVZuyLaAiy",
   "provenance": []
  },
  "kernelspec": {
   "display_name": "Python 3 (ipykernel)",
   "language": "python",
   "name": "python3"
  },
  "language_info": {
   "codemirror_mode": {
    "name": "ipython",
    "version": 3
   },
   "file_extension": ".py",
   "mimetype": "text/x-python",
   "name": "python",
   "nbconvert_exporter": "python",
   "pygments_lexer": "ipython3",
   "version": "3.11.5"
  }
 },
 "nbformat": 4,
 "nbformat_minor": 4
}
