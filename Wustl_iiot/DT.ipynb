{
 "cells": [
  {
   "cell_type": "code",
   "execution_count": 1,
   "metadata": {
    "colab": {
     "base_uri": "https://localhost:8080/"
    },
    "executionInfo": {
     "elapsed": 17426,
     "status": "ok",
     "timestamp": 1699946568652,
     "user": {
      "displayName": "Kris Chen",
      "userId": "14019901183015848448"
     },
     "user_tz": 480
    },
    "id": "ksA9niDetb85",
    "outputId": "080373a7-5459-4023-d441-8490f402032c"
   },
   "outputs": [],
   "source": [
    "from sklearn.tree import DecisionTreeClassifier\n",
    "from sklearn.experimental import enable_halving_search_cv\n",
    "from sklearn.model_selection import HalvingGridSearchCV\n",
    "from sklearn.metrics import accuracy_score, f1_score as f1_score_rep\n",
    "import numpy as np\n",
    "import pandas as pd\n",
    "from time import time\n",
    "from pathlib import Path"
   ]
  },
  {
   "cell_type": "code",
   "execution_count": 2,
   "metadata": {
    "id": "JleqxXkNtlTU"
   },
   "outputs": [],
   "source": [
    "import numpy as np\n",
    "x_test = np.load('/home/jovyan/Wustl_iiot/x_test.npy')\n",
    "x_train = np.load('/home/jovyan/Wustl_iiot/x_train.npy')\n",
    "x_val = np.load('/home/jovyan/Wustl_iiot/x_val.npy')\n",
    "y_test = np.load('/home/jovyan/Wustl_iiot/y_test.npy')\n",
    "y_train = np.load('/home/jovyan/Wustl_iiot/y_train.npy')\n",
    "y_val = np.load('/home/jovyan/Wustl_iiot/y_val.npy')"
   ]
  },
  {
   "cell_type": "code",
   "execution_count": 3,
   "metadata": {
    "colab": {
     "base_uri": "https://localhost:8080/"
    },
    "executionInfo": {
     "elapsed": 2459226,
     "status": "ok",
     "timestamp": 1699949152648,
     "user": {
      "displayName": "Kris Chen",
      "userId": "14019901183015848448"
     },
     "user_tz": 480
    },
    "id": "fHYGTMn8tYqU",
    "outputId": "0a6c4fa3-c9dd-44a9-db04-e37338cb0b23"
   },
   "outputs": [],
   "source": [
    "\n",
    "\n",
    "\n",
    "# # 定义参数\n",
    "# dt_params = {\n",
    "#     'max_depth': [None] + list(range(1, 21)),  # 树的最大深度\n",
    "#     'min_samples_split': range(2, 21),  # 分割所需的最小样本数\n",
    "#     'min_samples_leaf': range(1, 21)  # 叶节点的最小样本数\n",
    "# }\n",
    "\n",
    "# # 确保结果目录存在\n",
    "# # result_dir = Path('/content/drive/MyDrive/Cybersecurity/Datasets/results')\n",
    "# # if not result_dir.exists():\n",
    "# #     result_dir.mkdir()\n",
    "\n",
    "# def tune_with_halving_grid_search_dt(x_train, y_train, param_grid):\n",
    "#     dt = DecisionTreeClassifier()\n",
    "\n",
    "#     start = time()\n",
    "#     halving_dt_results = HalvingGridSearchCV(\n",
    "#         dt,\n",
    "#         param_grid,\n",
    "#         cv=5,\n",
    "#         factor=2,\n",
    "#         min_resources='exhaust',\n",
    "#         scoring='accuracy'\n",
    "#     ).fit(x_train, y_train)\n",
    "\n",
    "#     duration = time() - start\n",
    "\n",
    "#     results = pd.DataFrame(halving_dt_results.cv_results_)\n",
    "#     # results.to_csv(result_dir / 'halving_dt_results.csv')\n",
    "\n",
    "#     # 格式化和排序结果\n",
    "#     results = results.loc[:, ('iter', 'rank_test_score', 'mean_test_score', 'params')]\n",
    "#     results.sort_values(by=['iter', 'rank_test_score'], ascending=[False, True], inplace=True)\n",
    "\n",
    "#     return results, duration\n",
    "\n",
    "# # 使用验证数据集进行参数调整\n",
    "# halving_results, halving_duration = tune_with_halving_grid_search_dt(x_val, y_val, dt_params)\n",
    "\n",
    "# print(halving_results.head())\n",
    "\n",
    "# # 获取最佳参数和分数\n",
    "# best_score = halving_results['mean_test_score'].iloc[0]\n",
    "# best_params = halving_results['params'].iloc[0]\n",
    "\n",
    "# # 使用最佳参数训练决策树模型\n",
    "# best_dt = DecisionTreeClassifier(**best_params)\n",
    "# best_dt.fit(x_train, y_train)\n",
    "\n",
    "# # # 在测试集上评估\n",
    "# # accuracy = accuracy_score(y_test, best_dt.predict(x_test))\n",
    "# # micro_f1 = f1_score_rep(y_test, best_dt.predict(x_test), average=\"micro\")\n",
    "# # macro_f1 = f1_score_rep(y_test, best_dt.predict(x_test), average=\"macro\")\n",
    "\n",
    "# # # 打印结果\n",
    "# # print(f'Best score for HalvingGridSearchCV is {best_score:.3f}, took {halving_duration:.2f} seconds')\n",
    "# # print(f'Params: {best_params}')\n",
    "# # print(f'Corresponding test accuracy: {accuracy * 100:.2f}%')\n",
    "# # print(\"Micro F1 Score: \", micro_f1)\n",
    "# # print(\"Macro F1 Score: \", macro_f1)\n"
   ]
  },
  {
   "cell_type": "code",
   "execution_count": 4,
   "metadata": {
    "colab": {
     "base_uri": "https://localhost:8080/"
    },
    "executionInfo": {
     "elapsed": 27027,
     "status": "ok",
     "timestamp": 1704963838762,
     "user": {
      "displayName": "Kris Chen",
      "userId": "14019901183015848448"
     },
     "user_tz": 480
    },
    "id": "qchRPhySp2cY",
    "outputId": "a425ad70-a182-42b5-a760-237b62cb0d08"
   },
   "outputs": [],
   "source": [
    "from sklearn.tree import DecisionTreeClassifier\n",
    "from sklearn.experimental import enable_halving_search_cv\n",
    "from sklearn.model_selection import HalvingGridSearchCV\n",
    "from sklearn.metrics import accuracy_score, f1_score as f1_score_rep\n",
    "import numpy as np\n",
    "import pandas as pd\n",
    "from time import time\n",
    "from pathlib import Path\n",
    "from sklearn.metrics import confusion_matrix, accuracy_score, precision_score, recall_score, f1_score, roc_auc_score\n",
    "from sklearn.datasets import load_digits\n",
    "\n",
    "\n"
   ]
  },
  {
   "cell_type": "code",
   "execution_count": 5,
   "metadata": {
    "colab": {
     "base_uri": "https://localhost:8080/"
    },
    "executionInfo": {
     "elapsed": 2345,
     "status": "ok",
     "timestamp": 1704964391101,
     "user": {
      "displayName": "Kris Chen",
      "userId": "14019901183015848448"
     },
     "user_tz": 480
    },
    "id": "MMxRRtGzurWr",
    "outputId": "94ee59f7-05ab-414d-8c7f-d2404baa784a"
   },
   "outputs": [
    {
     "name": "stderr",
     "output_type": "stream",
     "text": [
      "/opt/conda/lib/python3.11/site-packages/sklearn/metrics/_classification.py:1469: UndefinedMetricWarning: Precision is ill-defined and being set to 0.0 in labels with no predicted samples. Use `zero_division` parameter to control this behavior.\n",
      "  _warn_prf(average, modifier, msg_start, len(result))\n"
     ]
    },
    {
     "name": "stdout",
     "output_type": "stream",
     "text": [
      "FPR: [0.00021784 0.         0.00738709 0.         0.        ]\n",
      "TPR: [1. 0. 1. 0. 1.]\n",
      "FNR: [0. 1. 0. 1. 0.]\n",
      "TNR: [0.99978216 1.         0.99261291 1.         1.        ]\n",
      "Precision: 0.4703195853098191\n",
      "Accuracy: 0.9928796706219398\n",
      "F1-score: 0.5135324448250638\n",
      "AUC: 0.7992395076427384\n",
      "FPR: 0.00152098471452306\n",
      "tpr: 0.6\n",
      "fnr: 0.4\n",
      "tnr: 0.9984790152854769\n"
     ]
    },
    {
     "ename": "NameError",
     "evalue": "name 'best_knn' is not defined",
     "output_type": "error",
     "traceback": [
      "\u001b[0;31m---------------------------------------------------------------------------\u001b[0m",
      "\u001b[0;31mNameError\u001b[0m                                 Traceback (most recent call last)",
      "Cell \u001b[0;32mIn[5], line 40\u001b[0m\n\u001b[1;32m     38\u001b[0m \u001b[38;5;28;01mimport\u001b[39;00m \u001b[38;5;21;01mmatplotlib\u001b[39;00m\u001b[38;5;21;01m.\u001b[39;00m\u001b[38;5;21;01mpyplot\u001b[39;00m \u001b[38;5;28;01mas\u001b[39;00m \u001b[38;5;21;01mplt\u001b[39;00m\n\u001b[1;32m     39\u001b[0m \u001b[38;5;28;01mfrom\u001b[39;00m \u001b[38;5;21;01msklearn\u001b[39;00m\u001b[38;5;21;01m.\u001b[39;00m\u001b[38;5;21;01mmetrics\u001b[39;00m \u001b[38;5;28;01mimport\u001b[39;00m confusion_matrix, ConfusionMatrixDisplay\n\u001b[0;32m---> 40\u001b[0m disp \u001b[38;5;241m=\u001b[39m ConfusionMatrixDisplay(confusion_matrix\u001b[38;5;241m=\u001b[39mconf_matrix,display_labels\u001b[38;5;241m=\u001b[39m\u001b[43mbest_knn\u001b[49m\u001b[38;5;241m.\u001b[39mclasses_)\n\u001b[1;32m     41\u001b[0m disp\u001b[38;5;241m.\u001b[39mplot()\n\u001b[1;32m     42\u001b[0m plt\u001b[38;5;241m.\u001b[39mshow()\n",
      "\u001b[0;31mNameError\u001b[0m: name 'best_knn' is not defined"
     ]
    }
   ],
   "source": [
    "best_dt = DecisionTreeClassifier(max_depth= 7, min_samples_leaf=1, min_samples_split=5)\n",
    "best_dt.fit(x_train, y_train)\n",
    "\n",
    "y_pred = best_dt.predict(x_test)\n",
    "\n",
    "conf_matrix = confusion_matrix(y_test, y_pred)\n",
    "# tn, fp, fn, tp = conf_matrix.ravel()\n",
    "cm = conf_matrix\n",
    "fp = cm.sum(axis=0) - np.diag(cm)\n",
    "fn = cm.sum(axis=1) - np.diag(cm)\n",
    "tp = np.diag(cm)\n",
    "tn = cm.sum() - (fp + fn + tp)\n",
    "\n",
    "\n",
    "fpr = fp / (fp + tn)\n",
    "tpr = tp / (tp + fn)\n",
    "fnr = fn / (fn + tp)\n",
    "tnr = tn / (tn + fp)\n",
    "precision = precision_score(y_test, y_pred, average='macro')\n",
    "accuracy = accuracy_score(y_test, y_pred)\n",
    "f1 = f1_score(y_test, y_pred, average='macro')\n",
    "auc = roc_auc_score(y_test, best_dt.predict_proba(x_test), multi_class='ovr')\n",
    "\n",
    "print(f\"FPR: {fpr}\")\n",
    "print(f\"TPR: {tpr}\")\n",
    "print(f\"FNR: {fnr}\")\n",
    "print(f\"TNR: {tnr}\")\n",
    "print(f\"Precision: {precision}\")\n",
    "print(f\"Accuracy: {accuracy}\")\n",
    "print(f\"F1-score: {f1}\")\n",
    "print(f\"AUC: {auc}\")\n",
    "\n",
    "print(f\"FPR: {np.mean(fpr)}\")\n",
    "print(f\"tpr: {np.mean(tpr)}\")\n",
    "print(f\"fnr: {np.mean(fnr)}\")\n",
    "print(f\"tnr: {np.mean(tnr)}\")\n",
    "\n",
    "import matplotlib.pyplot as plt\n",
    "from sklearn.metrics import confusion_matrix, ConfusionMatrixDisplay\n",
    "disp = ConfusionMatrixDisplay(confusion_matrix=conf_matrix,display_labels=best_dt.classes_)\n",
    "disp.plot()\n",
    "plt.show()"
   ]
  },
  {
   "cell_type": "code",
   "execution_count": 6,
   "metadata": {},
   "outputs": [
    {
     "data": {
      "image/png": "[encoded data removed]",
      "text/plain": [
       "<Figure size 640x480 with 2 Axes>"
      ]
     },
     "metadata": {},
     "output_type": "display_data"
    }
   ],
   "source": [
    "import matplotlib.pyplot as plt\n",
    "from sklearn.metrics import confusion_matrix, ConfusionMatrixDisplay\n",
    "disp = ConfusionMatrixDisplay(confusion_matrix=conf_matrix,display_labels=best_dt.classes_)\n",
    "disp.plot()\n",
    "plt.show()"
   ]
  },
  {
   "cell_type": "code",
   "execution_count": null,
   "metadata": {},
   "outputs": [],
   "source": []
  }
 ],
 "metadata": {
  "colab": {
   "authorship_tag": "ABX9TyOy9jdber6tBhQmh/mpTr1R",
   "mount_file_id": "1DdZl9V8HN6OguSmhlHAYuaRfJ7cWbGB_",
   "provenance": []
  },
  "kernelspec": {
   "display_name": "Python 3 (ipykernel)",
   "language": "python",
   "name": "python3"
  },
  "language_info": {
   "codemirror_mode": {
    "name": "ipython",
    "version": 3
   },
   "file_extension": ".py",
   "mimetype": "text/x-python",
   "name": "python",
   "nbconvert_exporter": "python",
   "pygments_lexer": "ipython3",
   "version": "3.11.5"
  }
 },
 "nbformat": 4,
 "nbformat_minor": 4
}
