{
 "cells": [
  {
   "cell_type": "code",
   "execution_count": 13,
   "metadata": {
    "executionInfo": {
     "elapsed": 840,
     "status": "ok",
     "timestamp": 1705026795683,
     "user": {
      "displayName": "Kris Chen",
      "userId": "14019901183015848448"
     },
     "user_tz": 480
    },
    "id": "z5tPKkxEptaA"
   },
   "outputs": [],
   "source": [
    "from sklearn.neighbors import KNeighborsClassifier\n",
    "from sklearn.experimental import enable_halving_search_cv\n",
    "from sklearn.model_selection import HalvingGridSearchCV\n",
    "from sklearn.metrics import accuracy_score, f1_score as f1_score_rep\n",
    "import numpy as np\n",
    "import pandas as pd\n",
    "from time import time\n",
    "from pathlib import Path"
   ]
  },
  {
   "cell_type": "code",
   "execution_count": 14,
   "metadata": {
    "executionInfo": {
     "elapsed": 519,
     "status": "ok",
     "timestamp": 1705026792922,
     "user": {
      "displayName": "Kris Chen",
      "userId": "14019901183015848448"
     },
     "user_tz": 480
    },
    "id": "6pn_TnF4o_rN"
   },
   "outputs": [],
   "source": [
    "import numpy as np\n",
    "x_test = np.load('/home/jovyan/Wustl_iiot/x_test.npy')\n",
    "x_train = np.load('/home/jovyan/Wustl_iiot/x_train.npy')\n",
    "x_val = np.load('/home/jovyan/Wustl_iiot/x_val.npy')\n",
    "y_test = np.load('/home/jovyan/Wustl_iiot/y_test.npy')\n",
    "y_train = np.load('/home/jovyan/Wustl_iiot/y_train.npy')\n",
    "y_val = np.load('/home/jovyan/Wustl_iiot/y_val.npy')"
   ]
  },
  {
   "cell_type": "code",
   "execution_count": 15,
   "metadata": {
    "id": "dg4KCUbgpXX-"
   },
   "outputs": [],
   "source": [
    "# knn_org = KNeighborsClassifier()\n",
    "# knn_org.fit(x_train, y_train)\n",
    "# y_pred_knn = knn_org.predict(x_test)\n",
    "\n",
    "# accuracy_knn = accuracy_score(y_test, y_pred_knn)\n",
    "# micro_f1_knn = f1_score_rep(y_test, y_pred_knn, average=\"micro\")\n",
    "# macro_f1_knn = f1_score_rep(y_test, y_pred_knn, average=\"macro\")\n",
    "\n",
    "# print(f'Gaussian Naive Bayes Test Accuracy: {accuracy_knn * 100:.2f}%')\n",
    "# print(f'Gaussian Naive Bayes Micro F1 Score: {micro_f1_knn}')\n",
    "# print(f'Gaussian Naive Bayes Macro F1 Score: {macro_f1_knn}')"
   ]
  },
  {
   "cell_type": "code",
   "execution_count": 16,
   "metadata": {
    "colab": {
     "base_uri": "https://localhost:8080/"
    },
    "id": "xkOSKJlYpK_9",
    "outputId": "371d66ed-4f5c-4edb-9b2c-8a12809a951f"
   },
   "outputs": [],
   "source": [
    "# # 定义参数\n",
    "# knn_params = {\n",
    "#     'n_neighbors': range(1, 31),  # 邻居的数量\n",
    "#     'metric': ['euclidean', 'manhattan', 'minkowski'],  # 距离度量\n",
    "#     'p': [1, 2]  # 用于 minkowski 距离的幂参数\n",
    "# }\n",
    "\n",
    "# # 确保结果目录存在\n",
    "# # result_dir = Path('/content/drive/MyDrive/Cybersecurity/Datasets/results')\n",
    "# # if not result_dir.exists():\n",
    "# #     result_dir.mkdir()\n",
    "\n",
    "# def tune_with_halving_grid_search(x_train, y_train, param_grid):\n",
    "#     knn = KNeighborsClassifier()\n",
    "\n",
    "#     start = time()\n",
    "#     halving_knn_results = HalvingGridSearchCV(\n",
    "#         knn,\n",
    "#         param_grid,\n",
    "#         cv=5,\n",
    "#         factor=2,\n",
    "#         min_resources='exhaust',\n",
    "#         scoring='accuracy'\n",
    "#     ).fit(x_train, y_train)\n",
    "\n",
    "#     duration = time() - start\n",
    "\n",
    "#     results = pd.DataFrame(halving_knn_results.cv_results_)\n",
    "#     # results.to_csv(result_dir / 'halving_knn_results.csv')\n",
    "\n",
    "#     # 格式化和排序结果\n",
    "#     results = results.loc[:, ('iter', 'rank_test_score', 'mean_test_score', 'params')]\n",
    "#     results.sort_values(by=['iter', 'rank_test_score'], ascending=[False, True], inplace=True)\n",
    "\n",
    "#     return results, duration\n",
    "\n",
    "# # 使用验证数据集进行参数调整\n",
    "# halving_results, halving_duration = tune_with_halving_grid_search(x_val, y_val, knn_params)\n",
    "\n",
    "# print(halving_results.head())\n",
    "\n",
    "# # 获取最佳参数和分数\n",
    "# best_score = halving_results['mean_test_score'].iloc[0]\n",
    "# best_params = halving_results['params'].iloc[0]\n",
    "\n",
    "# # 使用最佳参数训练 KNN 模型\n",
    "# best_knn = KNeighborsClassifier(**best_params)\n",
    "# best_knn.fit(x_train, y_train)\n",
    "\n",
    "# # 在测试集上评估\n",
    "# accuracy = accuracy_score(y_test, best_knn.predict(x_test))\n",
    "# micro_f1 = f1_score_rep(y_test, best_knn.predict(x_test), average=\"micro\")\n",
    "# macro_f1 = f1_score_rep(y_test, best_knn.predict(x_test), average=\"macro\")\n",
    "\n",
    "# # 打印结果\n",
    "# print(f'Best score for HalvingGridSearchCV is {best_score:.3f}, took {halving_duration:.2f} seconds')\n",
    "# print(f'Params: {best_params}')\n",
    "# print(f'Corresponding test accuracy: {accuracy * 100:.2f}%')\n",
    "# print(\"Micro F1 Score: \", micro_f1)\n",
    "# print(\"Macro F1 Score: \", macro_f1)"
   ]
  },
  {
   "cell_type": "code",
   "execution_count": 17,
   "metadata": {
    "colab": {
     "base_uri": "https://localhost:8080/",
     "height": 74
    },
    "executionInfo": {
     "elapsed": 351,
     "status": "ok",
     "timestamp": 1705026803997,
     "user": {
      "displayName": "Kris Chen",
      "userId": "14019901183015848448"
     },
     "user_tz": 480
    },
    "id": "-0k0Kyg10pru",
    "outputId": "0c7a9669-8e65-4450-fc67-969195697bbf"
   },
   "outputs": [],
   "source": [
    "from sklearn.metrics import confusion_matrix, accuracy_score, precision_score, recall_score, f1_score, roc_auc_score\n",
    "from sklearn.datasets import load_digits\n",
    "\n",
    "# best_knn = KNeighborsClassifier(metric='minkowski', n_neighbors=3, p=1)\n",
    "# best_knn.fit(x_train, y_train)\n",
    "# bestpredict = best_knn.predict(x_test)\n",
    "\n",
    "# # 在测试集上评估\n",
    "# accuracy = accuracy_score(y_test, best_knn.predict(x_test))\n",
    "# micro_f1 = f1_score_rep(y_test, bestpredict, average=\"micro\")\n",
    "# macro_f1 = f1_score_rep(y_test, bestpredict, average=\"macro\")\n",
    "\n",
    "# # 打印结果\n",
    "# # print(f'Best score for HalvingGridSearchCV is {best_score:.3f}, took {halving_duration:.2f} seconds')\n",
    "# # print(f'Params: {best_params}')\n",
    "# print(f'Corresponding test accuracy: {accuracy * 100:.2f}%')\n",
    "# print(\"Micro F1 Score: \", micro_f1)\n",
    "# print(\"Macro F1 Score: \", macro_f1)"
   ]
  },
  {
   "cell_type": "code",
   "execution_count": 18,
   "metadata": {
    "id": "1K4kZaXJftcj"
   },
   "outputs": [
    {
     "name": "stdout",
     "output_type": "stream",
     "text": [
      "FPR: [0.00000000e+00 8.37868295e-06 0.00000000e+00 1.26526223e-05\n",
      " 5.74613572e-05]\n",
      "TPR: [0.92857143 0.98076923 0.99993615 1.         0.99999548]\n",
      "FNR: [7.14285714e-02 1.92307692e-02 6.38528830e-05 0.00000000e+00\n",
      " 4.51773210e-06]\n",
      "TNR: [1.         0.99999162 1.         0.99998735 0.99994254]\n",
      "Precision: 0.9920885105308119\n",
      "Accuracy: 0.9999748694257244\n",
      "F1-score: 0.9866891445447875\n",
      "AUC: 0.9909193796063155\n",
      "FPR: 1.5698532489609363e-05\n",
      "tpr: 0.9818544577451206\n",
      "fnr: 0.01814554225487936\n",
      "tnr: 0.9999843014675104\n"
     ]
    },
    {
     "data": {
      "image/png": "[encoded data removed]",
      "text/plain": [
       "<Figure size 640x480 with 2 Axes>"
      ]
     },
     "metadata": {},
     "output_type": "display_data"
    }
   ],
   "source": [
    "best_knn = KNeighborsClassifier(metric='manhattan', n_neighbors=1, p=1)\n",
    "best_knn.fit(x_train, y_train)\n",
    "y_pred = best_knn.predict(x_test)\n",
    "\n",
    "conf_matrix = confusion_matrix(y_test, y_pred)\n",
    "# tn, fp, fn, tp = conf_matrix.ravel()\n",
    "cm = conf_matrix\n",
    "fp = cm.sum(axis=0) - np.diag(cm)\n",
    "fn = cm.sum(axis=1) - np.diag(cm)\n",
    "tp = np.diag(cm)\n",
    "tn = cm.sum() - (fp + fn + tp)\n",
    "\n",
    "\n",
    "fpr = fp / (fp + tn)\n",
    "tpr = tp / (tp + fn)\n",
    "fnr = fn / (fn + tp)\n",
    "tnr = tn / (tn + fp)\n",
    "precision = precision_score(y_test, y_pred, average='macro')\n",
    "accuracy = accuracy_score(y_test, y_pred)\n",
    "f1 = f1_score(y_test, y_pred, average='macro')\n",
    "auc = roc_auc_score(y_test, best_knn.predict_proba(x_test), multi_class='ovr')\n",
    "\n",
    "print(f\"FPR: {fpr}\")\n",
    "print(f\"TPR: {tpr}\")\n",
    "print(f\"FNR: {fnr}\")\n",
    "print(f\"TNR: {tnr}\")\n",
    "print(f\"Precision: {precision}\")\n",
    "print(f\"Accuracy: {accuracy}\")\n",
    "print(f\"F1-score: {f1}\")\n",
    "print(f\"AUC: {auc}\")\n",
    "\n",
    "print(f\"FPR: {np.mean(fpr)}\")\n",
    "print(f\"tpr: {np.mean(tpr)}\")\n",
    "print(f\"fnr: {np.mean(fnr)}\")\n",
    "print(f\"tnr: {np.mean(tnr)}\")\n",
    "\n",
    "import matplotlib.pyplot as plt\n",
    "from sklearn.metrics import confusion_matrix, ConfusionMatrixDisplay\n",
    "disp = ConfusionMatrixDisplay(confusion_matrix=conf_matrix,display_labels=best_knn.classes_)\n",
    "disp.plot()\n",
    "plt.show()"
   ]
  }
 ],
 "metadata": {
  "colab": {
   "authorship_tag": "ABX9TyMLNjjFcK8j8GnzxwUoN2Lh",
   "mount_file_id": "1ou1kxUQJRh4MiYP_chg8zFn7DOx7eWwj",
   "provenance": []
  },
  "kernelspec": {
   "display_name": "Python 3 (ipykernel)",
   "language": "python",
   "name": "python3"
  },
  "language_info": {
   "codemirror_mode": {
    "name": "ipython",
    "version": 3
   },
   "file_extension": ".py",
   "mimetype": "text/x-python",
   "name": "python",
   "nbconvert_exporter": "python",
   "pygments_lexer": "ipython3",
   "version": "3.11.5"
  }
 },
 "nbformat": 4,
 "nbformat_minor": 4
}
